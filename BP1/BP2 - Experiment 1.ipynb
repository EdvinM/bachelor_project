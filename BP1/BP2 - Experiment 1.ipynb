{
 "cells": [
  {
   "cell_type": "markdown",
   "metadata": {},
   "source": [
    "# BP1 - Interpreting random forest using decision rules"
   ]
  },
  {
   "cell_type": "markdown",
   "metadata": {},
   "source": [
    "-------\n",
    "# Experiment 1"
   ]
  },
  {
   "cell_type": "code",
   "execution_count": 1,
   "metadata": {},
   "outputs": [],
   "source": [
    "%matplotlib inline\n",
    "import pandas as pd\n",
    "import numpy as np\n",
    "import matplotlib.pyplot as plt\n",
    "import seaborn as sns\n",
    "from sklearn import preprocessing"
   ]
  },
  {
   "cell_type": "code",
   "execution_count": 2,
   "metadata": {},
   "outputs": [],
   "source": [
    "from sklearn.exceptions import UndefinedMetricWarning\n",
    "import warnings\n",
    "\n",
    "warnings.filterwarnings(action='ignore', category=UndefinedMetricWarning)"
   ]
  },
  {
   "cell_type": "code",
   "execution_count": 3,
   "metadata": {},
   "outputs": [
    {
     "data": {
      "text/html": [
       "<div>\n",
       "<style scoped>\n",
       "    .dataframe tbody tr th:only-of-type {\n",
       "        vertical-align: middle;\n",
       "    }\n",
       "\n",
       "    .dataframe tbody tr th {\n",
       "        vertical-align: top;\n",
       "    }\n",
       "\n",
       "    .dataframe thead th {\n",
       "        text-align: right;\n",
       "    }\n",
       "</style>\n",
       "<table border=\"1\" class=\"dataframe\">\n",
       "  <thead>\n",
       "    <tr style=\"text-align: right;\">\n",
       "      <th></th>\n",
       "      <th>sepal_length_cm</th>\n",
       "      <th>sepal_width_cm</th>\n",
       "      <th>petal_length_cm</th>\n",
       "      <th>petal_width_cm</th>\n",
       "      <th>class</th>\n",
       "    </tr>\n",
       "  </thead>\n",
       "  <tbody>\n",
       "    <tr>\n",
       "      <th>0</th>\n",
       "      <td>5.1</td>\n",
       "      <td>3.5</td>\n",
       "      <td>1.4</td>\n",
       "      <td>0.2</td>\n",
       "      <td>Iris-setosa</td>\n",
       "    </tr>\n",
       "    <tr>\n",
       "      <th>1</th>\n",
       "      <td>4.9</td>\n",
       "      <td>3.0</td>\n",
       "      <td>1.4</td>\n",
       "      <td>0.2</td>\n",
       "      <td>Iris-setosa</td>\n",
       "    </tr>\n",
       "    <tr>\n",
       "      <th>2</th>\n",
       "      <td>4.7</td>\n",
       "      <td>3.2</td>\n",
       "      <td>1.3</td>\n",
       "      <td>0.2</td>\n",
       "      <td>Iris-setosa</td>\n",
       "    </tr>\n",
       "    <tr>\n",
       "      <th>3</th>\n",
       "      <td>4.6</td>\n",
       "      <td>3.1</td>\n",
       "      <td>1.5</td>\n",
       "      <td>0.2</td>\n",
       "      <td>Iris-setosa</td>\n",
       "    </tr>\n",
       "    <tr>\n",
       "      <th>4</th>\n",
       "      <td>5.0</td>\n",
       "      <td>3.6</td>\n",
       "      <td>1.4</td>\n",
       "      <td>0.2</td>\n",
       "      <td>Iris-setosa</td>\n",
       "    </tr>\n",
       "  </tbody>\n",
       "</table>\n",
       "</div>"
      ],
      "text/plain": [
       "   sepal_length_cm  sepal_width_cm  petal_length_cm  petal_width_cm  \\\n",
       "0              5.1             3.5              1.4             0.2   \n",
       "1              4.9             3.0              1.4             0.2   \n",
       "2              4.7             3.2              1.3             0.2   \n",
       "3              4.6             3.1              1.5             0.2   \n",
       "4              5.0             3.6              1.4             0.2   \n",
       "\n",
       "         class  \n",
       "0  Iris-setosa  \n",
       "1  Iris-setosa  \n",
       "2  Iris-setosa  \n",
       "3  Iris-setosa  \n",
       "4  Iris-setosa  "
      ]
     },
     "execution_count": 3,
     "metadata": {},
     "output_type": "execute_result"
    }
   ],
   "source": [
    "data = pd.read_csv('datasets/iris-data.csv')\n",
    "data.head()"
   ]
  },
  {
   "cell_type": "code",
   "execution_count": 4,
   "metadata": {},
   "outputs": [
    {
     "name": "stdout",
     "output_type": "stream",
     "text": [
      "<class 'pandas.core.frame.DataFrame'>\n",
      "RangeIndex: 150 entries, 0 to 149\n",
      "Data columns (total 5 columns):\n",
      "sepal_length_cm    150 non-null float64\n",
      "sepal_width_cm     150 non-null float64\n",
      "petal_length_cm    150 non-null float64\n",
      "petal_width_cm     145 non-null float64\n",
      "class              150 non-null object\n",
      "dtypes: float64(4), object(1)\n",
      "memory usage: 5.9+ KB\n"
     ]
    }
   ],
   "source": [
    "data.info()"
   ]
  },
  {
   "cell_type": "code",
   "execution_count": 5,
   "metadata": {},
   "outputs": [
    {
     "data": {
      "text/plain": [
       "Iris-virginica     50\n",
       "Iris-setosa        49\n",
       "Iris-versicolor    45\n",
       "versicolor          5\n",
       "Iris-setossa        1\n",
       "Name: class, dtype: int64"
      ]
     },
     "execution_count": 5,
     "metadata": {},
     "output_type": "execute_result"
    }
   ],
   "source": [
    "data['class'].value_counts()"
   ]
  },
  {
   "cell_type": "code",
   "execution_count": 6,
   "metadata": {},
   "outputs": [],
   "source": [
    "data.loc[data['class'] == 'Iris-setossa', 'class'] = 'Iris-setosa'\n",
    "data.loc[data['class'] == 'versicolor', 'class'] = 'Iris-versicolor'"
   ]
  },
  {
   "cell_type": "code",
   "execution_count": 7,
   "metadata": {},
   "outputs": [
    {
     "data": {
      "text/html": [
       "<div>\n",
       "<style scoped>\n",
       "    .dataframe tbody tr th:only-of-type {\n",
       "        vertical-align: middle;\n",
       "    }\n",
       "\n",
       "    .dataframe tbody tr th {\n",
       "        vertical-align: top;\n",
       "    }\n",
       "\n",
       "    .dataframe thead th {\n",
       "        text-align: right;\n",
       "    }\n",
       "</style>\n",
       "<table border=\"1\" class=\"dataframe\">\n",
       "  <thead>\n",
       "    <tr style=\"text-align: right;\">\n",
       "      <th></th>\n",
       "      <th>sepal_length_cm</th>\n",
       "      <th>sepal_width_cm</th>\n",
       "      <th>petal_length_cm</th>\n",
       "      <th>petal_width_cm</th>\n",
       "      <th>class</th>\n",
       "    </tr>\n",
       "  </thead>\n",
       "  <tbody>\n",
       "    <tr>\n",
       "      <th>0</th>\n",
       "      <td>5.1</td>\n",
       "      <td>3.5</td>\n",
       "      <td>1.4</td>\n",
       "      <td>0.2</td>\n",
       "      <td>Iris-setosa</td>\n",
       "    </tr>\n",
       "    <tr>\n",
       "      <th>1</th>\n",
       "      <td>4.9</td>\n",
       "      <td>3.0</td>\n",
       "      <td>1.4</td>\n",
       "      <td>0.2</td>\n",
       "      <td>Iris-setosa</td>\n",
       "    </tr>\n",
       "    <tr>\n",
       "      <th>2</th>\n",
       "      <td>4.7</td>\n",
       "      <td>3.2</td>\n",
       "      <td>1.3</td>\n",
       "      <td>0.2</td>\n",
       "      <td>Iris-setosa</td>\n",
       "    </tr>\n",
       "    <tr>\n",
       "      <th>3</th>\n",
       "      <td>4.6</td>\n",
       "      <td>3.1</td>\n",
       "      <td>1.5</td>\n",
       "      <td>0.2</td>\n",
       "      <td>Iris-setosa</td>\n",
       "    </tr>\n",
       "    <tr>\n",
       "      <th>4</th>\n",
       "      <td>5.0</td>\n",
       "      <td>3.6</td>\n",
       "      <td>1.4</td>\n",
       "      <td>0.2</td>\n",
       "      <td>Iris-setosa</td>\n",
       "    </tr>\n",
       "  </tbody>\n",
       "</table>\n",
       "</div>"
      ],
      "text/plain": [
       "   sepal_length_cm  sepal_width_cm  petal_length_cm  petal_width_cm  \\\n",
       "0              5.1             3.5              1.4             0.2   \n",
       "1              4.9             3.0              1.4             0.2   \n",
       "2              4.7             3.2              1.3             0.2   \n",
       "3              4.6             3.1              1.5             0.2   \n",
       "4              5.0             3.6              1.4             0.2   \n",
       "\n",
       "         class  \n",
       "0  Iris-setosa  \n",
       "1  Iris-setosa  \n",
       "2  Iris-setosa  \n",
       "3  Iris-setosa  \n",
       "4  Iris-setosa  "
      ]
     },
     "execution_count": 7,
     "metadata": {},
     "output_type": "execute_result"
    }
   ],
   "source": [
    "data.head()"
   ]
  },
  {
   "cell_type": "code",
   "execution_count": 8,
   "metadata": {},
   "outputs": [
    {
     "data": {
      "text/plain": [
       "array(['Iris-setosa', 'Iris-versicolor', 'Iris-virginica'], dtype=object)"
      ]
     },
     "execution_count": 8,
     "metadata": {},
     "output_type": "execute_result"
    }
   ],
   "source": [
    "data['class'].unique()"
   ]
  },
  {
   "cell_type": "code",
   "execution_count": 9,
   "metadata": {},
   "outputs": [
    {
     "name": "stderr",
     "output_type": "stream",
     "text": [
      "/Users/edvin/anaconda3/lib/python3.7/site-packages/statsmodels/nonparametric/kde.py:448: RuntimeWarning: invalid value encountered in greater\n",
      "  X = X[np.logical_and(X > clip[0], X < clip[1])] # won't work for two columns.\n",
      "/Users/edvin/anaconda3/lib/python3.7/site-packages/statsmodels/nonparametric/kde.py:448: RuntimeWarning: invalid value encountered in less\n",
      "  X = X[np.logical_and(X > clip[0], X < clip[1])] # won't work for two columns.\n",
      "/Users/edvin/anaconda3/lib/python3.7/site-packages/scipy/stats/stats.py:1713: FutureWarning: Using a non-tuple sequence for multidimensional indexing is deprecated; use `arr[tuple(seq)]` instead of `arr[seq]`. In the future this will be interpreted as an array index, `arr[np.array(seq)]`, which will result either in an error or a different result.\n",
      "  return np.add.reduce(sorted[indexer] * weights, axis=axis) / sumval\n"
     ]
    },
    {
     "data": {
      "text/plain": [
       "<matplotlib.axes._subplots.AxesSubplot at 0x1a1be2d048>"
      ]
     },
     "execution_count": 9,
     "metadata": {},
     "output_type": "execute_result"
    },
    {
     "data": {
      "image/png": "[encoded data removed]",
      "text/plain": [
       "<Figure size 432x288 with 1 Axes>"
      ]
     },
     "metadata": {
      "needs_background": "light"
     },
     "output_type": "display_data"
    }
   ],
   "source": [
    "sns.kdeplot(data.loc[data['class'] == 'Iris-setosa', 'petal_width_cm'], shade=True, label='setosa')\n",
    "sns.kdeplot(data.loc[data['class'] == 'Iris-versicolor', 'petal_width_cm'], shade=True, label='versicolor')\n",
    "sns.kdeplot(data.loc[data['class'] == 'Iris-virginica', 'petal_width_cm'], shade=True, label='virginica')"
   ]
  },
  {
   "cell_type": "code",
   "execution_count": 10,
   "metadata": {},
   "outputs": [
    {
     "data": {
      "text/html": [
       "<div>\n",
       "<style scoped>\n",
       "    .dataframe tbody tr th:only-of-type {\n",
       "        vertical-align: middle;\n",
       "    }\n",
       "\n",
       "    .dataframe tbody tr th {\n",
       "        vertical-align: top;\n",
       "    }\n",
       "\n",
       "    .dataframe thead th {\n",
       "        text-align: right;\n",
       "    }\n",
       "</style>\n",
       "<table border=\"1\" class=\"dataframe\">\n",
       "  <thead>\n",
       "    <tr style=\"text-align: right;\">\n",
       "      <th></th>\n",
       "      <th>sepal_length_cm</th>\n",
       "      <th>sepal_width_cm</th>\n",
       "      <th>petal_length_cm</th>\n",
       "      <th>petal_width_cm</th>\n",
       "      <th>class</th>\n",
       "    </tr>\n",
       "  </thead>\n",
       "  <tbody>\n",
       "    <tr>\n",
       "      <th>7</th>\n",
       "      <td>5.0</td>\n",
       "      <td>3.4</td>\n",
       "      <td>1.5</td>\n",
       "      <td>NaN</td>\n",
       "      <td>Iris-setosa</td>\n",
       "    </tr>\n",
       "    <tr>\n",
       "      <th>8</th>\n",
       "      <td>4.4</td>\n",
       "      <td>2.9</td>\n",
       "      <td>1.4</td>\n",
       "      <td>NaN</td>\n",
       "      <td>Iris-setosa</td>\n",
       "    </tr>\n",
       "    <tr>\n",
       "      <th>9</th>\n",
       "      <td>4.9</td>\n",
       "      <td>3.1</td>\n",
       "      <td>1.5</td>\n",
       "      <td>NaN</td>\n",
       "      <td>Iris-setosa</td>\n",
       "    </tr>\n",
       "    <tr>\n",
       "      <th>10</th>\n",
       "      <td>5.4</td>\n",
       "      <td>3.7</td>\n",
       "      <td>1.5</td>\n",
       "      <td>NaN</td>\n",
       "      <td>Iris-setosa</td>\n",
       "    </tr>\n",
       "    <tr>\n",
       "      <th>11</th>\n",
       "      <td>4.8</td>\n",
       "      <td>3.4</td>\n",
       "      <td>1.6</td>\n",
       "      <td>NaN</td>\n",
       "      <td>Iris-setosa</td>\n",
       "    </tr>\n",
       "  </tbody>\n",
       "</table>\n",
       "</div>"
      ],
      "text/plain": [
       "    sepal_length_cm  sepal_width_cm  petal_length_cm  petal_width_cm  \\\n",
       "7               5.0             3.4              1.5             NaN   \n",
       "8               4.4             2.9              1.4             NaN   \n",
       "9               4.9             3.1              1.5             NaN   \n",
       "10              5.4             3.7              1.5             NaN   \n",
       "11              4.8             3.4              1.6             NaN   \n",
       "\n",
       "          class  \n",
       "7   Iris-setosa  \n",
       "8   Iris-setosa  \n",
       "9   Iris-setosa  \n",
       "10  Iris-setosa  \n",
       "11  Iris-setosa  "
      ]
     },
     "execution_count": 10,
     "metadata": {},
     "output_type": "execute_result"
    }
   ],
   "source": [
    "data[data.isnull().any(axis=1)]"
   ]
  },
  {
   "cell_type": "code",
   "execution_count": 11,
   "metadata": {},
   "outputs": [],
   "source": [
    "setosa_petal_width_mean = data.loc[data['class'] == 'Iris-setosa', 'petal_width_cm'].mean()"
   ]
  },
  {
   "cell_type": "code",
   "execution_count": 12,
   "metadata": {},
   "outputs": [],
   "source": [
    "data.loc[(data['class'] == 'Iris-setosa') & data['petal_width_cm'].isnull(), 'petal_width_cm'] = setosa_petal_width_mean"
   ]
  },
  {
   "cell_type": "code",
   "execution_count": 13,
   "metadata": {},
   "outputs": [
    {
     "data": {
      "image/png": "[encoded data removed]",
      "text/plain": [
       "<Figure size 432x288 with 4 Axes>"
      ]
     },
     "metadata": {
      "needs_background": "light"
     },
     "output_type": "display_data"
    }
   ],
   "source": [
    "data.plot(kind='box', subplots=True, layout=(2,2), sharex=False, sharey=False)\n",
    "plt.show()"
   ]
  },
  {
   "cell_type": "code",
   "execution_count": 14,
   "metadata": {},
   "outputs": [
    {
     "data": {
      "text/plain": [
       "<seaborn.axisgrid.PairGrid at 0x1a1c2dd7f0>"
      ]
     },
     "execution_count": 14,
     "metadata": {},
     "output_type": "execute_result"
    },
    {
     "data": {
      "image/png": "[encoded data removed]",
      "text/plain": [
       "<Figure size 823.5x720 with 20 Axes>"
      ]
     },
     "metadata": {
      "needs_background": "light"
     },
     "output_type": "display_data"
    }
   ],
   "source": [
    "sns.pairplot(data, hue=\"class\")"
   ]
  },
  {
   "cell_type": "code",
   "execution_count": 15,
   "metadata": {},
   "outputs": [
    {
     "data": {
      "text/html": [
       "<div>\n",
       "<style scoped>\n",
       "    .dataframe tbody tr th:only-of-type {\n",
       "        vertical-align: middle;\n",
       "    }\n",
       "\n",
       "    .dataframe tbody tr th {\n",
       "        vertical-align: top;\n",
       "    }\n",
       "\n",
       "    .dataframe thead th {\n",
       "        text-align: right;\n",
       "    }\n",
       "</style>\n",
       "<table border=\"1\" class=\"dataframe\">\n",
       "  <thead>\n",
       "    <tr style=\"text-align: right;\">\n",
       "      <th></th>\n",
       "      <th>sepal_length_cm</th>\n",
       "      <th>sepal_width_cm</th>\n",
       "      <th>petal_length_cm</th>\n",
       "      <th>petal_width_cm</th>\n",
       "    </tr>\n",
       "  </thead>\n",
       "  <tbody>\n",
       "    <tr>\n",
       "      <th>sepal_length_cm</th>\n",
       "      <td>1.000000</td>\n",
       "      <td>0.066091</td>\n",
       "      <td>0.489083</td>\n",
       "      <td>0.478409</td>\n",
       "    </tr>\n",
       "    <tr>\n",
       "      <th>sepal_width_cm</th>\n",
       "      <td>0.066091</td>\n",
       "      <td>1.000000</td>\n",
       "      <td>-0.419796</td>\n",
       "      <td>-0.359236</td>\n",
       "    </tr>\n",
       "    <tr>\n",
       "      <th>petal_length_cm</th>\n",
       "      <td>0.489083</td>\n",
       "      <td>-0.419796</td>\n",
       "      <td>1.000000</td>\n",
       "      <td>0.961173</td>\n",
       "    </tr>\n",
       "    <tr>\n",
       "      <th>petal_width_cm</th>\n",
       "      <td>0.478409</td>\n",
       "      <td>-0.359236</td>\n",
       "      <td>0.961173</td>\n",
       "      <td>1.000000</td>\n",
       "    </tr>\n",
       "  </tbody>\n",
       "</table>\n",
       "</div>"
      ],
      "text/plain": [
       "                 sepal_length_cm  sepal_width_cm  petal_length_cm  \\\n",
       "sepal_length_cm         1.000000        0.066091         0.489083   \n",
       "sepal_width_cm          0.066091        1.000000        -0.419796   \n",
       "petal_length_cm         0.489083       -0.419796         1.000000   \n",
       "petal_width_cm          0.478409       -0.359236         0.961173   \n",
       "\n",
       "                 petal_width_cm  \n",
       "sepal_length_cm        0.478409  \n",
       "sepal_width_cm        -0.359236  \n",
       "petal_length_cm        0.961173  \n",
       "petal_width_cm         1.000000  "
      ]
     },
     "execution_count": 15,
     "metadata": {},
     "output_type": "execute_result"
    }
   ],
   "source": [
    "data.corr()"
   ]
  },
  {
   "cell_type": "code",
   "execution_count": 16,
   "metadata": {},
   "outputs": [
    {
     "data": {
      "text/plain": [
       "<matplotlib.axes._subplots.AxesSubplot at 0x1087ae748>"
      ]
     },
     "execution_count": 16,
     "metadata": {},
     "output_type": "execute_result"
    },
    {
     "data": {
      "image/png": "[encoded data removed]",
      "text/plain": [
       "<Figure size 720x576 with 2 Axes>"
      ]
     },
     "metadata": {
      "needs_background": "light"
     },
     "output_type": "display_data"
    }
   ],
   "source": [
    "fig, ax = plt.subplots(figsize=(10,8))\n",
    "sns.heatmap(data.corr(), ax=ax, annot=True, fmt=\".3f\")"
   ]
  },
  {
   "cell_type": "markdown",
   "metadata": {},
   "source": [
    "-----\n",
    "-----\n",
    "-----\n",
    "-----\n",
    "## Split to train & test datasets"
   ]
  },
  {
   "cell_type": "code",
   "execution_count": 17,
   "metadata": {},
   "outputs": [],
   "source": [
    "from sklearn import model_selection"
   ]
  },
  {
   "cell_type": "code",
   "execution_count": 18,
   "metadata": {},
   "outputs": [],
   "source": [
    "array = data.values\n",
    "X = array[0:, 0:4]\n",
    "Y = array[:,4]\n",
    "validation_size = 0.20\n",
    "seed = 7\n",
    "X_train, X_validation, Y_train, Y_validation = model_selection.train_test_split(X, Y, test_size=validation_size, random_state=seed)"
   ]
  },
  {
   "cell_type": "code",
   "execution_count": 19,
   "metadata": {},
   "outputs": [],
   "source": [
    "from sklearn import preprocessing\n",
    "le = preprocessing.LabelEncoder()\n",
    "Y_train = le.fit_transform(Y_train)\n",
    "Y_validation = le.fit_transform(Y_validation)"
   ]
  },
  {
   "cell_type": "markdown",
   "metadata": {},
   "source": [
    "-----"
   ]
  },
  {
   "cell_type": "markdown",
   "metadata": {},
   "source": [
    "## Natrenovanie rozhodovacieho stromu"
   ]
  },
  {
   "cell_type": "code",
   "execution_count": 22,
   "metadata": {},
   "outputs": [],
   "source": [
    "from sklearn.metrics import classification_report\n",
    "from sklearn.metrics import confusion_matrix\n",
    "from sklearn.metrics import accuracy_score\n",
    "\n",
    "from sklearn.tree import DecisionTreeClassifier"
   ]
  },
  {
   "cell_type": "code",
   "execution_count": 23,
   "metadata": {},
   "outputs": [
    {
     "data": {
      "text/plain": [
       "DecisionTreeClassifier(class_weight=None, criterion='gini', max_depth=3,\n",
       "            max_features=None, max_leaf_nodes=None,\n",
       "            min_impurity_decrease=0.0, min_impurity_split=None,\n",
       "            min_samples_leaf=1, min_samples_split=2,\n",
       "            min_weight_fraction_leaf=0.0, presort=False, random_state=None,\n",
       "            splitter='best')"
      ]
     },
     "execution_count": 23,
     "metadata": {},
     "output_type": "execute_result"
    }
   ],
   "source": [
    "clf = DecisionTreeClassifier(max_depth=3)\n",
    "\n",
    "clf.fit(X_train, Y_train)"
   ]
  },
  {
   "cell_type": "code",
   "execution_count": 24,
   "metadata": {},
   "outputs": [],
   "source": [
    "pred = clf.predict(X_validation)"
   ]
  },
  {
   "cell_type": "code",
   "execution_count": 25,
   "metadata": {
    "scrolled": true
   },
   "outputs": [
    {
     "name": "stdout",
     "output_type": "stream",
     "text": [
      "0.9\n",
      "              precision    recall  f1-score   support\n",
      "\n",
      "           0       1.00      1.00      1.00         7\n",
      "           1       0.91      0.83      0.87        12\n",
      "           2       0.83      0.91      0.87        11\n",
      "\n",
      "   micro avg       0.90      0.90      0.90        30\n",
      "   macro avg       0.91      0.91      0.91        30\n",
      "weighted avg       0.90      0.90      0.90        30\n",
      "\n"
     ]
    }
   ],
   "source": [
    "print(accuracy_score(Y_validation, pred))\n",
    "print(classification_report(Y_validation, pred))"
   ]
  },
  {
   "cell_type": "code",
   "execution_count": 26,
   "metadata": {},
   "outputs": [],
   "source": [
    "feature_names_array = data.columns.values[:-1]"
   ]
  },
  {
   "cell_type": "code",
   "execution_count": 27,
   "metadata": {},
   "outputs": [
    {
     "data": {
      "image/svg+xml": [
       "<?xml version=\"1.0\" encoding=\"UTF-8\" standalone=\"no\"?>\n",
       "<!DOCTYPE svg PUBLIC \"-//W3C//DTD SVG 1.1//EN\"\n",
       " \"http://www.w3.org/Graphics/SVG/1.1/DTD/svg11.dtd\">\n",
       "<!-- Generated by graphviz version 2.40.1 (20161225.0304)\n",
       " -->\n",
       "<!-- Title: Tree Pages: 1 -->\n",
       "<svg width=\"402pt\" height=\"433pt\"\n",
       " viewBox=\"0.00 0.00 401.50 433.00\" xmlns=\"http://www.w3.org/2000/svg\" xmlns:xlink=\"http://www.w3.org/1999/xlink\">\n",
       "<g id=\"graph0\" class=\"graph\" transform=\"scale(1 1) rotate(0) translate(4 429)\">\n",
       "<title>Tree</title>\n",
       "<polygon fill=\"#ffffff\" stroke=\"transparent\" points=\"-4,4 -4,-429 397.5,-429 397.5,4 -4,4\"/>\n",
       "<!-- 0 -->\n",
       "<g id=\"node1\" class=\"node\">\n",
       "<title>0</title>\n",
       "<path fill=\"#e58139\" fill-opacity=\"0.050980\" stroke=\"#000000\" d=\"M231.5,-425C231.5,-425 84.5,-425 84.5,-425 78.5,-425 72.5,-419 72.5,-413 72.5,-413 72.5,-354 72.5,-354 72.5,-348 78.5,-342 84.5,-342 84.5,-342 231.5,-342 231.5,-342 237.5,-342 243.5,-348 243.5,-354 243.5,-354 243.5,-413 243.5,-413 243.5,-419 237.5,-425 231.5,-425\"/>\n",
       "<text text-anchor=\"middle\" x=\"158\" y=\"-409.8\" font-family=\"Helvetica,sans-Serif\" font-size=\"14.00\" fill=\"#000000\">petal_length_cm &lt;= 2.45</text>\n",
       "<text text-anchor=\"middle\" x=\"158\" y=\"-394.8\" font-family=\"Helvetica,sans-Serif\" font-size=\"14.00\" fill=\"#000000\">gini = 0.666</text>\n",
       "<text text-anchor=\"middle\" x=\"158\" y=\"-379.8\" font-family=\"Helvetica,sans-Serif\" font-size=\"14.00\" fill=\"#000000\">samples = 120</text>\n",
       "<text text-anchor=\"middle\" x=\"158\" y=\"-364.8\" font-family=\"Helvetica,sans-Serif\" font-size=\"14.00\" fill=\"#000000\">value = [43, 38, 39]</text>\n",
       "<text text-anchor=\"middle\" x=\"158\" y=\"-349.8\" font-family=\"Helvetica,sans-Serif\" font-size=\"14.00\" fill=\"#000000\">class = Iris&#45;setosa</text>\n",
       "</g>\n",
       "<!-- 1 -->\n",
       "<g id=\"node2\" class=\"node\">\n",
       "<title>1</title>\n",
       "<path fill=\"#e58139\" stroke=\"#000000\" d=\"M130.5,-298.5C130.5,-298.5 25.5,-298.5 25.5,-298.5 19.5,-298.5 13.5,-292.5 13.5,-286.5 13.5,-286.5 13.5,-242.5 13.5,-242.5 13.5,-236.5 19.5,-230.5 25.5,-230.5 25.5,-230.5 130.5,-230.5 130.5,-230.5 136.5,-230.5 142.5,-236.5 142.5,-242.5 142.5,-242.5 142.5,-286.5 142.5,-286.5 142.5,-292.5 136.5,-298.5 130.5,-298.5\"/>\n",
       "<text text-anchor=\"middle\" x=\"78\" y=\"-283.3\" font-family=\"Helvetica,sans-Serif\" font-size=\"14.00\" fill=\"#000000\">gini = 0.0</text>\n",
       "<text text-anchor=\"middle\" x=\"78\" y=\"-268.3\" font-family=\"Helvetica,sans-Serif\" font-size=\"14.00\" fill=\"#000000\">samples = 43</text>\n",
       "<text text-anchor=\"middle\" x=\"78\" y=\"-253.3\" font-family=\"Helvetica,sans-Serif\" font-size=\"14.00\" fill=\"#000000\">value = [43, 0, 0]</text>\n",
       "<text text-anchor=\"middle\" x=\"78\" y=\"-238.3\" font-family=\"Helvetica,sans-Serif\" font-size=\"14.00\" fill=\"#000000\">class = Iris&#45;setosa</text>\n",
       "</g>\n",
       "<!-- 0&#45;&gt;1 -->\n",
       "<g id=\"edge1\" class=\"edge\">\n",
       "<title>0&#45;&gt;1</title>\n",
       "<path fill=\"none\" stroke=\"#000000\" d=\"M130.0199,-341.8796C122.4797,-330.6636 114.3113,-318.5131 106.7309,-307.2372\"/>\n",
       "<polygon fill=\"#000000\" stroke=\"#000000\" points=\"109.5527,-305.1612 101.0689,-298.8149 103.7434,-309.0667 109.5527,-305.1612\"/>\n",
       "<text text-anchor=\"middle\" x=\"96.2608\" y=\"-319.6482\" font-family=\"Helvetica,sans-Serif\" font-size=\"14.00\" fill=\"#000000\">True</text>\n",
       "</g>\n",
       "<!-- 2 -->\n",
       "<g id=\"node3\" class=\"node\">\n",
       "<title>2</title>\n",
       "<path fill=\"#8139e5\" fill-opacity=\"0.027451\" stroke=\"#000000\" d=\"M305.5,-306C305.5,-306 172.5,-306 172.5,-306 166.5,-306 160.5,-300 160.5,-294 160.5,-294 160.5,-235 160.5,-235 160.5,-229 166.5,-223 172.5,-223 172.5,-223 305.5,-223 305.5,-223 311.5,-223 317.5,-229 317.5,-235 317.5,-235 317.5,-294 317.5,-294 317.5,-300 311.5,-306 305.5,-306\"/>\n",
       "<text text-anchor=\"middle\" x=\"239\" y=\"-290.8\" font-family=\"Helvetica,sans-Serif\" font-size=\"14.00\" fill=\"#000000\">petal_width_cm &lt;= 1.7</text>\n",
       "<text text-anchor=\"middle\" x=\"239\" y=\"-275.8\" font-family=\"Helvetica,sans-Serif\" font-size=\"14.00\" fill=\"#000000\">gini = 0.5</text>\n",
       "<text text-anchor=\"middle\" x=\"239\" y=\"-260.8\" font-family=\"Helvetica,sans-Serif\" font-size=\"14.00\" fill=\"#000000\">samples = 77</text>\n",
       "<text text-anchor=\"middle\" x=\"239\" y=\"-245.8\" font-family=\"Helvetica,sans-Serif\" font-size=\"14.00\" fill=\"#000000\">value = [0, 38, 39]</text>\n",
       "<text text-anchor=\"middle\" x=\"239\" y=\"-230.8\" font-family=\"Helvetica,sans-Serif\" font-size=\"14.00\" fill=\"#000000\">class = Iris&#45;virginica</text>\n",
       "</g>\n",
       "<!-- 0&#45;&gt;2 -->\n",
       "<g id=\"edge2\" class=\"edge\">\n",
       "<title>0&#45;&gt;2</title>\n",
       "<path fill=\"none\" stroke=\"#000000\" d=\"M186.3299,-341.8796C192.2763,-333.1434 198.6086,-323.8404 204.745,-314.8253\"/>\n",
       "<polygon fill=\"#000000\" stroke=\"#000000\" points=\"207.8156,-316.5342 210.5492,-306.2981 202.0289,-312.5953 207.8156,-316.5342\"/>\n",
       "<text text-anchor=\"middle\" x=\"215.2157\" y=\"-327.1587\" font-family=\"Helvetica,sans-Serif\" font-size=\"14.00\" fill=\"#000000\">False</text>\n",
       "</g>\n",
       "<!-- 3 -->\n",
       "<g id=\"node4\" class=\"node\">\n",
       "<title>3</title>\n",
       "<path fill=\"#39e581\" fill-opacity=\"0.949020\" stroke=\"#000000\" d=\"M224.5,-187C224.5,-187 85.5,-187 85.5,-187 79.5,-187 73.5,-181 73.5,-175 73.5,-175 73.5,-116 73.5,-116 73.5,-110 79.5,-104 85.5,-104 85.5,-104 224.5,-104 224.5,-104 230.5,-104 236.5,-110 236.5,-116 236.5,-116 236.5,-175 236.5,-175 236.5,-181 230.5,-187 224.5,-187\"/>\n",
       "<text text-anchor=\"middle\" x=\"155\" y=\"-171.8\" font-family=\"Helvetica,sans-Serif\" font-size=\"14.00\" fill=\"#000000\">petal_length_cm &lt;= 5.0</text>\n",
       "<text text-anchor=\"middle\" x=\"155\" y=\"-156.8\" font-family=\"Helvetica,sans-Serif\" font-size=\"14.00\" fill=\"#000000\">gini = 0.095</text>\n",
       "<text text-anchor=\"middle\" x=\"155\" y=\"-141.8\" font-family=\"Helvetica,sans-Serif\" font-size=\"14.00\" fill=\"#000000\">samples = 40</text>\n",
       "<text text-anchor=\"middle\" x=\"155\" y=\"-126.8\" font-family=\"Helvetica,sans-Serif\" font-size=\"14.00\" fill=\"#000000\">value = [0, 38, 2]</text>\n",
       "<text text-anchor=\"middle\" x=\"155\" y=\"-111.8\" font-family=\"Helvetica,sans-Serif\" font-size=\"14.00\" fill=\"#000000\">class = Iris&#45;versicolor</text>\n",
       "</g>\n",
       "<!-- 2&#45;&gt;3 -->\n",
       "<g id=\"edge3\" class=\"edge\">\n",
       "<title>2&#45;&gt;3</title>\n",
       "<path fill=\"none\" stroke=\"#000000\" d=\"M209.6209,-222.8796C203.3906,-214.0534 196.7519,-204.6485 190.327,-195.5466\"/>\n",
       "<polygon fill=\"#000000\" stroke=\"#000000\" points=\"193.1308,-193.4494 184.5045,-187.2981 187.412,-197.4862 193.1308,-193.4494\"/>\n",
       "</g>\n",
       "<!-- 6 -->\n",
       "<g id=\"node7\" class=\"node\">\n",
       "<title>6</title>\n",
       "<path fill=\"#8139e5\" stroke=\"#000000\" d=\"M381.5,-179.5C381.5,-179.5 266.5,-179.5 266.5,-179.5 260.5,-179.5 254.5,-173.5 254.5,-167.5 254.5,-167.5 254.5,-123.5 254.5,-123.5 254.5,-117.5 260.5,-111.5 266.5,-111.5 266.5,-111.5 381.5,-111.5 381.5,-111.5 387.5,-111.5 393.5,-117.5 393.5,-123.5 393.5,-123.5 393.5,-167.5 393.5,-167.5 393.5,-173.5 387.5,-179.5 381.5,-179.5\"/>\n",
       "<text text-anchor=\"middle\" x=\"324\" y=\"-164.3\" font-family=\"Helvetica,sans-Serif\" font-size=\"14.00\" fill=\"#000000\">gini = 0.0</text>\n",
       "<text text-anchor=\"middle\" x=\"324\" y=\"-149.3\" font-family=\"Helvetica,sans-Serif\" font-size=\"14.00\" fill=\"#000000\">samples = 37</text>\n",
       "<text text-anchor=\"middle\" x=\"324\" y=\"-134.3\" font-family=\"Helvetica,sans-Serif\" font-size=\"14.00\" fill=\"#000000\">value = [0, 0, 37]</text>\n",
       "<text text-anchor=\"middle\" x=\"324\" y=\"-119.3\" font-family=\"Helvetica,sans-Serif\" font-size=\"14.00\" fill=\"#000000\">class = Iris&#45;virginica</text>\n",
       "</g>\n",
       "<!-- 2&#45;&gt;6 -->\n",
       "<g id=\"edge6\" class=\"edge\">\n",
       "<title>2&#45;&gt;6</title>\n",
       "<path fill=\"none\" stroke=\"#000000\" d=\"M268.7289,-222.8796C276.7403,-211.6636 285.4192,-199.5131 293.4734,-188.2372\"/>\n",
       "<polygon fill=\"#000000\" stroke=\"#000000\" points=\"296.525,-189.9866 299.4893,-179.8149 290.8288,-185.9179 296.525,-189.9866\"/>\n",
       "</g>\n",
       "<!-- 4 -->\n",
       "<g id=\"node5\" class=\"node\">\n",
       "<title>4</title>\n",
       "<path fill=\"#39e581\" stroke=\"#000000\" d=\"M136,-68C136,-68 12,-68 12,-68 6,-68 0,-62 0,-56 0,-56 0,-12 0,-12 0,-6 6,0 12,0 12,0 136,0 136,0 142,0 148,-6 148,-12 148,-12 148,-56 148,-56 148,-62 142,-68 136,-68\"/>\n",
       "<text text-anchor=\"middle\" x=\"74\" y=\"-52.8\" font-family=\"Helvetica,sans-Serif\" font-size=\"14.00\" fill=\"#000000\">gini = 0.0</text>\n",
       "<text text-anchor=\"middle\" x=\"74\" y=\"-37.8\" font-family=\"Helvetica,sans-Serif\" font-size=\"14.00\" fill=\"#000000\">samples = 37</text>\n",
       "<text text-anchor=\"middle\" x=\"74\" y=\"-22.8\" font-family=\"Helvetica,sans-Serif\" font-size=\"14.00\" fill=\"#000000\">value = [0, 37, 0]</text>\n",
       "<text text-anchor=\"middle\" x=\"74\" y=\"-7.8\" font-family=\"Helvetica,sans-Serif\" font-size=\"14.00\" fill=\"#000000\">class = Iris&#45;versicolor</text>\n",
       "</g>\n",
       "<!-- 3&#45;&gt;4 -->\n",
       "<g id=\"edge4\" class=\"edge\">\n",
       "<title>3&#45;&gt;4</title>\n",
       "<path fill=\"none\" stroke=\"#000000\" d=\"M124.8386,-103.9815C118.2955,-94.9747 111.3666,-85.4367 104.7992,-76.3965\"/>\n",
       "<polygon fill=\"#000000\" stroke=\"#000000\" points=\"107.6002,-74.2971 98.8911,-68.2637 101.9369,-78.4113 107.6002,-74.2971\"/>\n",
       "</g>\n",
       "<!-- 5 -->\n",
       "<g id=\"node6\" class=\"node\">\n",
       "<title>5</title>\n",
       "<path fill=\"#8139e5\" fill-opacity=\"0.498039\" stroke=\"#000000\" d=\"M293.5,-68C293.5,-68 178.5,-68 178.5,-68 172.5,-68 166.5,-62 166.5,-56 166.5,-56 166.5,-12 166.5,-12 166.5,-6 172.5,0 178.5,0 178.5,0 293.5,0 293.5,0 299.5,0 305.5,-6 305.5,-12 305.5,-12 305.5,-56 305.5,-56 305.5,-62 299.5,-68 293.5,-68\"/>\n",
       "<text text-anchor=\"middle\" x=\"236\" y=\"-52.8\" font-family=\"Helvetica,sans-Serif\" font-size=\"14.00\" fill=\"#000000\">gini = 0.444</text>\n",
       "<text text-anchor=\"middle\" x=\"236\" y=\"-37.8\" font-family=\"Helvetica,sans-Serif\" font-size=\"14.00\" fill=\"#000000\">samples = 3</text>\n",
       "<text text-anchor=\"middle\" x=\"236\" y=\"-22.8\" font-family=\"Helvetica,sans-Serif\" font-size=\"14.00\" fill=\"#000000\">value = [0, 1, 2]</text>\n",
       "<text text-anchor=\"middle\" x=\"236\" y=\"-7.8\" font-family=\"Helvetica,sans-Serif\" font-size=\"14.00\" fill=\"#000000\">class = Iris&#45;virginica</text>\n",
       "</g>\n",
       "<!-- 3&#45;&gt;5 -->\n",
       "<g id=\"edge5\" class=\"edge\">\n",
       "<title>3&#45;&gt;5</title>\n",
       "<path fill=\"none\" stroke=\"#000000\" d=\"M185.1614,-103.9815C191.7045,-94.9747 198.6334,-85.4367 205.2008,-76.3965\"/>\n",
       "<polygon fill=\"#000000\" stroke=\"#000000\" points=\"208.0631,-78.4113 211.1089,-68.2637 202.3998,-74.2971 208.0631,-78.4113\"/>\n",
       "</g>\n",
       "</g>\n",
       "</svg>\n"
      ],
      "text/plain": [
       "<graphviz.files.Source at 0x1a1e3d7e48>"
      ]
     },
     "execution_count": 27,
     "metadata": {},
     "output_type": "execute_result"
    }
   ],
   "source": [
    "viz_tree(clf, data['class'].unique(), feature_names_array)"
   ]
  },
  {
   "cell_type": "code",
   "execution_count": 28,
   "metadata": {},
   "outputs": [],
   "source": [
    "n_nodes = clf.tree_.node_count\n",
    "children_left = clf.tree_.children_left\n",
    "children_right = clf.tree_.children_right\n",
    "feature = clf.tree_.feature\n",
    "threshold = clf.tree_.threshold"
   ]
  },
  {
   "cell_type": "code",
   "execution_count": 29,
   "metadata": {},
   "outputs": [
    {
     "name": "stdout",
     "output_type": "stream",
     "text": [
      "[ 1 -1  3  4 -1 -1 -1]\n",
      "[ 2 -1  6  5 -1 -1 -1]\n"
     ]
    }
   ],
   "source": [
    "print(children_left)\n",
    "print(children_right)"
   ]
  },
  {
   "cell_type": "code",
   "execution_count": 30,
   "metadata": {},
   "outputs": [
    {
     "name": "stdout",
     "output_type": "stream",
     "text": [
      "[ 2 -2  3  2 -2 -2 -2]\n"
     ]
    }
   ],
   "source": [
    "print(feature)"
   ]
  },
  {
   "cell_type": "markdown",
   "metadata": {},
   "source": [
    "-------\n",
    "## Important classes for single tree interpretation"
   ]
  },
  {
   "cell_type": "code",
   "execution_count": 21,
   "metadata": {},
   "outputs": [],
   "source": [
    "from sympy.logic import simplify_logic\n",
    "from sympy.abc import x, y, z\n",
    "from sympy import *\n",
    "from sympy.logic.boolalg import *\n",
    "from sympy.logic.inference import satisfiable\n",
    "\n",
    "from pyeda.inter import *\n",
    "from itertools import product\n",
    "from pypred import OptimizedPredicateSet, PredicateSet, Predicate\n",
    "from collections import OrderedDict\n",
    "\n",
    "import uuid\n",
    "import operator\n",
    "\n",
    "import graphviz\n",
    "from sklearn import tree\n",
    "\n",
    "def viz_tree(clf, class_names, feature_names):\n",
    "    tree_ = tree.export_graphviz(clf, out_file = None, filled=True, rounded=True, class_names=class_names, feature_names=feature_names)\n",
    "    graph = graphviz.Source(tree_)\n",
    "    return graph\n",
    "\n",
    "\n",
    "def get_truth(inp, relate, cut):\n",
    "    ops = {'>': operator.gt,\n",
    "           '<': operator.lt,\n",
    "           '>=': operator.ge,\n",
    "           '<=': operator.le,\n",
    "           '=': operator.eq}\n",
    "    return ops[relate](inp, cut)\n",
    "\n",
    "\n",
    "def get_leaf_class_name(class_names, node_values):\n",
    "    max_value_index = 0\n",
    "    max_value = 0\n",
    "    for c, value in enumerate(node_values[0]):\n",
    "        if value != 0 and value > max_value:\n",
    "            max_value_index = c\n",
    "            max_value = value\n",
    "    \n",
    "    return class_names[max_value_index]\n",
    "\n",
    "        \n",
    "def get_node_value(node_values):\n",
    "    max_ = 0\n",
    "    for c, value in enumerate(node_values[0]):\n",
    "        if value > max_:\n",
    "            max_ = value\n",
    "            \n",
    "    return max_\n",
    "        \n",
    "        \n",
    "def get_paths_for(class_name, tree, cur_index, lst, paths, sign):\n",
    "    if cur_index >= len(tree.children_left):\n",
    "        return\n",
    "    \n",
    "    if len(lst) > 0 and cur_index != -1:\n",
    "        lst[len(lst) - 1] = (lst[len(lst) - 1][0], lst[len(lst) - 1][1], sign, lst[len(lst) - 1][3])\n",
    "        \n",
    "    lst.append((cur_index, tree.feature[cur_index], sign, round(tree.threshold[cur_index], 2)))\n",
    "    if cur_index != -1:\n",
    "        get_paths_for(class_name, tree, tree.children_left[cur_index], lst, paths, '<=')\n",
    "        get_paths_for(class_name, tree, tree.children_right[cur_index], lst, paths, '>')\n",
    "    else:\n",
    "        if get_leaf_class_name(data['class'].unique(), tree.value[list(lst[-2])[0]]) == class_name:\n",
    "            paths.add(tuple(lst[:-1]))\n",
    "        \n",
    "    lst.pop()\n",
    "    \n",
    "    \n",
    "def get_feature_value_pairs(tree, paths):\n",
    "    \n",
    "    pairs = []\n",
    "    for path in paths:\n",
    "        d = []\n",
    "        features = tree.feature\n",
    "        thresholds = tree.threshold\n",
    "\n",
    "        for i, p in enumerate(list(path[:-1])):\n",
    "            d.append((i, features[i], thresholds[i]))\n",
    "\n",
    "        pairs.append(d)\n",
    "        \n",
    "    return pairs\n",
    "\n",
    "\n",
    "def rule_predict(class_name, rule):\n",
    "    pred = []\n",
    "    \n",
    "    for row in X_validation:\n",
    "        \n",
    "        valid = True\n",
    "        for condition in rule[:-1]:\n",
    "            condition = list(condition)\n",
    "            \n",
    "            if not get_truth(row[condition[1]], condition[2], condition[3]):\n",
    "                valid = False\n",
    "            \n",
    "        if valid:\n",
    "            pred.append(class_name)\n",
    "        else:\n",
    "            pred.append(-1)\n",
    "            \n",
    "    return pred\n",
    "\n",
    "\n",
    "# Function which computes rule accuracy based. It makes a classification report and takes\n",
    "# the precision value and returns it\n",
    "def compute_rule_accuracy(class_name, rule):\n",
    "    pred = rule_predict(class_name, rule)\n",
    "    report = classification_report(pred, Y_validation, output_dict = True)\n",
    "    \n",
    "    return round(report[str(class_name)]['precision'], 2)\n",
    "\n",
    "\n",
    "def prune_rule(class_name, rule):\n",
    "    max_accuracy = 0\n",
    "    final_rule = rule\n",
    "    \n",
    "    for i in range(len(rule[:-1])):\n",
    "        accuracy = compute_rule_accuracy(class_name, rule[i:])\n",
    "        \n",
    "        if accuracy > max_accuracy:\n",
    "            final_rule = rule[i:]\n",
    "            max_accuracy = accuracy\n",
    "           \n",
    "    return (max_accuracy, tuple(final_rule))\n",
    "\n",
    "\n",
    "def combine_rules(class_name, rf_model):\n",
    "    rules = set()\n",
    "    \n",
    "    for estimator in rf_model.estimators_:\n",
    "        get_paths_for(class_name, estimator.tree_, 0, [], rules, '<=')\n",
    "        \n",
    "    return rules\n",
    "\n",
    "\n",
    "def get_class_index(class_name):\n",
    "    for c, cls in enumerate(data['class'].unique()):\n",
    "        if cls == class_name:\n",
    "            return c\n",
    "        \n",
    "        \n",
    "def get_rules_accuracy(class_name, rf_model, removeRedundancy = False):\n",
    "    rules = combine_rules(class_name, rf_model)\n",
    "    \n",
    "    if removeRedundancy:\n",
    "        rules = redundancy_condition_removal(rules)\n",
    "    \n",
    "    rules = list(rules)\n",
    "    \n",
    "    final_rules = set()\n",
    "    for rule in rules:\n",
    "        rule_ = [compute_rule_accuracy(get_class_index(class_name), rule), rule]\n",
    "        final_rules.add(tuple(rule_))\n",
    "        \n",
    "    return sorted(list(final_rules), reverse=True, key=lambda x: list(x)[0])\n",
    "    \n",
    "        \n",
    "def get_pruned_rules_accuracy(class_name, rf_model):\n",
    "    rules = list(combine_rules(class_name, rf_model))\n",
    "    \n",
    "    final_rules = set()\n",
    "    for rule in rules:\n",
    "        pruned = prune_rule(get_class_index(class_name), list(rule))\n",
    "        final_rules.add(tuple(pruned))\n",
    "    \n",
    "    return sorted(list(final_rules), reverse=True, key=lambda x: list(x)[0])\n",
    "\n",
    "\n",
    "def redundancy_condition_removal(rule_set):\n",
    "    output = set()\n",
    "    \n",
    "    for rule in list(rule_set):\n",
    "        \n",
    "        rule = list(rule)\n",
    "        for i, cond in enumerate(rule[:-1]):\n",
    "            cond = list(cond)\n",
    "            \n",
    "            for cond2 in rule[i + 1:-1]:\n",
    "                cond2 = list(cond2)\n",
    "                    \n",
    "                if cond[1] == cond2[1] and cond[2] == cond2[2]:\n",
    "                    if cond[2] == '>':\n",
    "                        cond[3] = (cond[3] if cond[3] > cond2[3] else cond2[3])\n",
    "                    else:\n",
    "                        cond[3] = (cond[3] if cond[3] < cond2[3] else cond2[3])\n",
    "                        \n",
    "                    # Assign changed rule to condition\n",
    "                    rule[i] = tuple(cond)\n",
    "                    \n",
    "                    # Remove redundant rule from list\n",
    "                    rule.remove(tuple(cond2))\n",
    "                \n",
    "        output.add(tuple(rule))\n",
    "        \n",
    "    return output\n",
    "\n",
    "\n",
    "def create_big_or_rule(rule_set):\n",
    "    output = \"\"\n",
    "    for i, rule in enumerate(list(rule_set)):\n",
    "        output += create_and_expression(rule)\n",
    "        \n",
    "        if len(rule_set) - 1 != i:\n",
    "            output += \" | \"\n",
    "            \n",
    "    return output\n",
    "\n",
    "\n",
    "def create_big_and_rule(rule_set):\n",
    "    output = \"\"\n",
    "    for i, rule in enumerate(list(rule_set)):\n",
    "        output += create_and_expression(rule)\n",
    "        \n",
    "        if len(rule_set) - 1 != i:\n",
    "            output += \" & \"\n",
    "            \n",
    "    return output\n",
    "\n",
    "\n",
    "def combine_rule_using_and(rule_set):\n",
    "    output = \"\"\n",
    "    for i, rule in enumerate(list(rule_set)):\n",
    "        output += \"(\" + rule + \")\"\n",
    "            \n",
    "        if len(rule_set) - 1 != i:\n",
    "            output += \" & \"\n",
    "            \n",
    "    return output\n",
    "\n",
    "\n",
    "def combine_forest_rules(rf_model, class_name, r_dict, v_dict):\n",
    "    final_rule = set()\n",
    "    simplified_final_rule = set()\n",
    "    for estimator in rf_model.estimators_:\n",
    "    \n",
    "        rules = set()\n",
    "        get_paths_for(class_name, estimator.tree_, 0, [], rules, '<=')\n",
    "        \n",
    "        rules = redundancy_condition_removal(rules)\n",
    "        tree_rule = sympify(create_big_or_rule(rules), evaluate=False)\n",
    "        print(tree_rule)\n",
    "        \n",
    "        final_rule.add(str(tree_rule))\n",
    "        simplified_final_rule.add(str(simplify_logic(tree_rule)))\n",
    "        \n",
    "        \n",
    "    return final_rule, simplified_final_rule\n",
    "\n",
    "\n",
    "def create_and_expression(rule):\n",
    "    output = \"\"\n",
    "    \n",
    "    for i, condition in enumerate(list(rule)[:-1]):\n",
    "        condition = list(condition)\n",
    "        key = str(condition[1]) + str(condition[3])\n",
    "        \n",
    "        var = \"A\" + uuid.uuid4().hex[:6].upper()\n",
    "        \n",
    "        if key in rule_dict:\n",
    "            if condition[2] != rule_dict[key][0]:\n",
    "                output += \"Not(\" + rule_dict[key][1] + \")\"\n",
    "            else:\n",
    "                output += rule_dict[key][1]\n",
    "        else:\n",
    "            expr = var + ' = ' + 'symbols(\\'' + (str(condition[1]) + condition[2] + str(condition[3])) + '\\')'\n",
    "            exec(expr)\n",
    "            \n",
    "            rule_dict[key] = [condition[2], var]\n",
    "            output += var\n",
    "        \n",
    "            # Also push to rule_dict where key is the variable name and value is the rule\n",
    "            var_dict[var] = condition\n",
    "        \n",
    "        if len(list(rule)[:-1]) - 1 != i:\n",
    "            output += \" & \"\n",
    "        \n",
    "    return \"(\" + output + \")\"\n",
    "\n",
    "\n",
    "def print_final_rule(simplified_rule):\n",
    "    simplified_rule = str(simplified_rule).split()\n",
    "    \n",
    "    final_rule = \"\"\n",
    "    for el in simplified_rule:\n",
    "        if el in ('&', '|'):\n",
    "            final_rule += \" \" + el + \" \"\n",
    "        else:\n",
    "            if \"~\" in el:\n",
    "                el = el.replace(\"~\", \"\")\n",
    "                el_ = el\n",
    "                \n",
    "                lb_count = el_.count('(')\n",
    "                if \"(\" in el_:\n",
    "                    el_ = el_.replace(\"(\", \"\")\n",
    "                \n",
    "                rb_count = el_.count(')')\n",
    "                if \")\" in el_:\n",
    "                    el_ = el_.replace(\")\", \"\")\n",
    "                \n",
    "                var = var_dict[str(el_)].copy()[1:]\n",
    "                if var[1] == '>':\n",
    "                    var[1] = '<='\n",
    "                else:\n",
    "                    var[1] = '>'\n",
    "                  \n",
    "                if lb_count == 0 and rb_count == 0:\n",
    "                    final_rule += str(tuple(var))\n",
    "                elif lb_count != 0 and rb_count == 0:\n",
    "                    final_rule += (\"(\" * lb_count) + str(tuple(var))\n",
    "                elif lb_count == 0 and rb_count != 0:\n",
    "                    final_rule += str(tuple(var)) + (\")\" * rb_count)\n",
    "            \n",
    "            elif \"(\" in el:\n",
    "                b_count = el.count('(')\n",
    "                \n",
    "                el = el.replace(\"(\", \"\")\n",
    "                final_rule += (\"(\" * b_count) + str(tuple(var_dict[str(el)][1:]))\n",
    "                \n",
    "            elif \")\" in el:\n",
    "                b_count = el.count(')')\n",
    "                \n",
    "                el = el.replace(\")\", \"\")\n",
    "                final_rule += str(tuple(var_dict[str(el)][1:])) + (\")\" * b_count)\n",
    "            \n",
    "            else:\n",
    "                final_rule += str(tuple(var_dict[str(el)][1:]))\n",
    "            \n",
    "    return final_rule\n",
    "\n",
    "\n",
    "def convert_to_function(sign, expr_):\n",
    "    rule = \"\"\n",
    "    for i, el in enumerate(expr_.xs):\n",
    "        if \"And\" in str(el):\n",
    "            rule += \"(\" + convert_to_function(\"&\", el) + \")\"\n",
    "        elif \"Or\" in str(el):\n",
    "            rule += \"(\" + convert_to_function(\"|\", el) + \")\"\n",
    "        else:\n",
    "            rule += str(el)\n",
    "            \n",
    "        if i != len(expr_.xs) - 1:\n",
    "            rule += \" \" + sign + \" \"\n",
    "            \n",
    "    return rule\n",
    "\n",
    "\n",
    "def get_valid_predicate(rule):\n",
    "    rule = rule.replace(\"&\", \"and\").replace(\"|\", \"or\").replace(\"0, '\", 'sepal_length_cm ').replace(\"1, '\", 'sepal_width_cm ')\n",
    "    rule = rule.replace(\"2, '\", 'petal_length_cm ').replace(\"3, '\", 'petal_width_cm ').replace(\"',\", \"\")\n",
    "    \n",
    "    return rule\n",
    "    \n",
    "    \n",
    "def predict_rule_class(rule_set):\n",
    "    X = X_train\n",
    "    Y = Y_train\n",
    "    \n",
    "    Z = predicate_rules_set_predict(rules_set, X_validation)\n",
    "    \n",
    "    print(accuracy_score(Y_validation, Z))\n",
    "    print(classification_report(Z, Y_validation))\n",
    "    \n",
    "    \n",
    "def compute_final_rule_accuracy(class_index, rule):\n",
    "    X = X_validation\n",
    "    Y = Y_validation\n",
    "    \n",
    "    # Classification report\n",
    "    Z = compute_rule_accuracy(class_index, rule, X)\n",
    "\n",
    "    report = classification_report(Z, Y, output_dict = True)\n",
    "    print(report[str(class_index)])\n",
    "    \n",
    "    \n",
    "def compute_rule_accuracy(class_name, rule, dataset):\n",
    "    \"\"\"This method allows you to evaluate the whole rule given by 'rule' parameter to 'class_name'\n",
    "    Returns an array of evaluated rule\n",
    "    \"\"\"\n",
    "    \n",
    "    pred = []\n",
    "    \n",
    "    # Store dataframe attribute names\n",
    "    df_columns = list(data.columns.values[:-1])\n",
    "    \n",
    "    # Create an ordered dictionary in order to keep the order when we take values for given columns\n",
    "    d_ = OrderedDict()\n",
    "    \n",
    "    # Create and optimize predicate given by the parameter\n",
    "    test = Predicate(rule)\n",
    "    s = OptimizedPredicateSet([test])\n",
    "    \n",
    "    for row in dataset:\n",
    "        \n",
    "        # Create dictionary consisting of attribute names and corresponding row values for them\n",
    "        for l, at in enumerate(df_columns):\n",
    "            d_[at] = row[l]\n",
    "        \n",
    "        # Evaluate rule with created dictionary\n",
    "        match = s.evaluate(dict(d_))\n",
    "            \n",
    "        # If the conditions from rule were met, append the class to final predictions array\n",
    "        if len(match):\n",
    "            pred.append(class_name)\n",
    "        else:\n",
    "            pred.append(-1)\n",
    "            \n",
    "    return pred\n",
    "\n",
    "\n",
    "def attribute_rule_predict(class_name, rule, attr1, attr2, dataset):\n",
    "    \"\"\"Method used to get prediction only for two attributes given by 'attr1' and 'attr2' parameters\n",
    "    This method is mainly used mainly for plotting purposes\n",
    "    \"\"\" \n",
    "    \n",
    "    # Create an empty predictions array\n",
    "    pred = []\n",
    "    \n",
    "    # Create and optimize predicate given by the parameter\n",
    "    test = Predicate(rule)\n",
    "    s = OptimizedPredicateSet([test])\n",
    "    \n",
    "    # Store dataframe attribute names\n",
    "    df_columns = list(data.columns.values[:-1])\n",
    "    \n",
    "    # Create dictionary in which we will create the predicate\n",
    "    d_ = dict()\n",
    "    \n",
    "    for row in dataset:\n",
    "        \n",
    "        # Get the attribute names by indexes from df_columns.\n",
    "        d_[df_columns[attr1]] = row[0]\n",
    "        d_[df_columns[attr2]] = row[1]\n",
    "    \n",
    "        # Evaluate rule with created dictionary\n",
    "        match = s.evaluate(d_)\n",
    "            \n",
    "        # If the conditions from rule were met, append the class to final predictions array\n",
    "        if len(match):\n",
    "            pred.append(class_name)\n",
    "        else:\n",
    "            pred.append(-1)\n",
    "            \n",
    "    return pred\n",
    "\n",
    "\n",
    "def visualize_decision_boundaries(rule, attr1, attr2):\n",
    "    \"\"\"\n",
    "    This function is used to draw decision boundaries for 2 attributes which will be used to predict the output\n",
    "    \"\"\"\n",
    "    \n",
    "    # Create a dataset from validation data having only columns specified by paramters\n",
    "    X = X_validation[:, [attr1, attr2]]\n",
    "    Y = Y_validation\n",
    "\n",
    "    # Plotting decision regions\n",
    "    x_min, x_max = X[:, 0].min() - 1, X[:, 0].max() + 1\n",
    "    y_min, y_max = X[:, 1].min() - 1, X[:, 1].max() + 1\n",
    "\n",
    "    xx, yy = np.meshgrid(np.arange(x_min, x_max, 0.1), np.arange(y_min, y_max, 0.1))\n",
    "\n",
    "    f, axarr = plt.subplots(figsize=(10, 8))\n",
    "\n",
    "    # Create prediction\n",
    "    ravel_ = np.c_[xx.ravel(), yy.ravel()]\n",
    "    Z = np.array(attribute_rule_predict(1, rule, attr1, attr2, ravel_))\n",
    "    Z = Z.reshape(xx.shape)\n",
    "    \n",
    "    # Plot predicted dots\n",
    "    axarr.contourf(xx, yy, Z, alpha=0.5)\n",
    "    axarr.scatter(X[:, 0], X[:, 1], c=Y, s=50, edgecolor='k')\n",
    "    axarr.set_title(\"When random forest is very sure\")\n",
    "\n",
    "    plt.show()\n",
    "    \n",
    "    \n",
    "def predicate_rules_set_predict(rules_set, dataset):\n",
    "    \n",
    "    pred = []\n",
    "    \n",
    "    df_columns = list(data.columns.values[:-1])\n",
    "    d_ = OrderedDict()\n",
    "    \n",
    "    w_set = set()\n",
    "    for r in rules_set:\n",
    "        r = (r[0], OptimizedPredicateSet([Predicate(r[1])]))\n",
    "        w_set.add(r)\n",
    "        \n",
    "    for i, row in enumerate(dataset):\n",
    "        \n",
    "        \n",
    "        for l, at in enumerate(df_columns):\n",
    "            d_[at] = row[l]\n",
    "            \n",
    "        \n",
    "        j = 0\n",
    "        for r in w_set:\n",
    "            class_i = r[0]\n",
    "            rule_p = r[1]\n",
    "\n",
    "            match = rule_p.evaluate(dict(d_))\n",
    "\n",
    "            if len(match):\n",
    "                pred.append(class_i)\n",
    "                break\n",
    "        \n",
    "            j += 1\n",
    "            \n",
    "        if j == len(w_set):\n",
    "            pred.append(-1)\n",
    "        \n",
    "    return pred\n",
    "\n",
    "\n",
    "def redundancy_condition_removal_(rule_set):\n",
    "    output = set()\n",
    "    \n",
    "    for rule in list(rule_set):\n",
    "        \n",
    "        rule = list(rule)\n",
    "        for i, cond in enumerate(rule):\n",
    "            cond = list(cond)\n",
    "            \n",
    "            for cond2 in rule[i + 1:]:\n",
    "                cond2 = list(cond2)\n",
    "                    \n",
    "                if cond[0] == cond2[0] and cond[1] == cond2[1]:\n",
    "                    if cond[1] == '>':\n",
    "                        cond[2] = (cond[2] if cond[2] > cond2[2] else cond2[2])\n",
    "                    else:\n",
    "                        cond[2] = (cond[2] if cond[2] < cond2[2] else cond2[2])\n",
    "                        \n",
    "                    # Assign changed rule to condition\n",
    "                    rule[i] = tuple(cond)\n",
    "                    \n",
    "                    # Remove redundant rule from list\n",
    "                    rule.remove(tuple(cond2))\n",
    "                \n",
    "        output.add(tuple(rule))\n",
    "        \n",
    "    return output\n",
    "\n",
    "\n",
    "def split_rules(rule_str):\n",
    "    redundant_rules_set = set()\n",
    "    composed_rules_set = set()\n",
    "    \n",
    "    rule = \"\"\n",
    "    stack = []\n",
    "    \n",
    "    for c in rule_str:\n",
    "        \n",
    "        if c in (' ', '&', '|') and len(stack) == 0:\n",
    "            continue\n",
    "            \n",
    "        rule += c\n",
    "        \n",
    "        if c == \"(\":\n",
    "            stack.append(c)\n",
    "        \n",
    "        if c == \")\" and len(stack) == 1:\n",
    "            stack.pop()\n",
    "            \n",
    "            if len(stack) == 0:\n",
    "                try:\n",
    "                    redundant_rules_set.add(eval(rule))\n",
    "                except:\n",
    "                    composed_rules_set.add(rule)\n",
    "            \n",
    "            rule = \"\"\n",
    "            \n",
    "        elif c == ')':\n",
    "            stack.pop()\n",
    "            \n",
    "    return redundant_rules_set, composed_rules_set\n",
    "\n",
    "\n",
    "def compose_final_rule(no_redundant_rules, composed_rules_set):\n",
    "    final_rule = \"\"\n",
    "    \n",
    "    for i, rule in enumerate(no_redundant_rules):\n",
    "        final_rule += str(rule) + \" & \"\n",
    "            \n",
    "    for i, rule in enumerate(composed_rules_set):\n",
    "        final_rule += rule\n",
    "        \n",
    "        if len(composed_rules_set) - 1 != i:\n",
    "            final_rule += \" & \"\n",
    "        \n",
    "    return final_rule"
   ]
  },
  {
   "cell_type": "code",
   "execution_count": 41,
   "metadata": {},
   "outputs": [
    {
     "data": {
      "text/plain": [
       "{((0, 2, '>', 2.45), (2, 3, '<=', 1.7), (3, 2, '>', 5.0), (5, -2, '>', -2.0)),\n",
       " ((0, 2, '>', 2.45), (2, 3, '>', 1.7), (6, -2, '>', -2.0))}"
      ]
     },
     "execution_count": 41,
     "metadata": {},
     "output_type": "execute_result"
    }
   ],
   "source": [
    "rules_set = set()\n",
    "get_paths_for(\"Iris-virginica\", clf.tree_, 0, [], rules_set, '<=')\n",
    "rules_set"
   ]
  },
  {
   "cell_type": "code",
   "execution_count": 42,
   "metadata": {},
   "outputs": [
    {
     "data": {
      "text/plain": [
       "{((0, 2, '>', 2.45), (2, 3, '>', 1.7), (6, -2, '>', -2.0)),\n",
       " ((0, 2, '>', 5.0), (2, 3, '<=', 1.7), (5, -2, '>', -2.0))}"
      ]
     },
     "execution_count": 42,
     "metadata": {},
     "output_type": "execute_result"
    }
   ],
   "source": [
    "rules_set = redundancy_condition_removal(rules_set)\n",
    "rules_set"
   ]
  },
  {
   "cell_type": "code",
   "execution_count": 43,
   "metadata": {},
   "outputs": [
    {
     "data": {
      "text/plain": [
       "array(['Iris-setosa', 'Iris-versicolor', 'Iris-virginica'], dtype=object)"
      ]
     },
     "execution_count": 43,
     "metadata": {},
     "output_type": "execute_result"
    }
   ],
   "source": [
    "data['class'].unique()"
   ]
  },
  {
   "cell_type": "code",
   "execution_count": 44,
   "metadata": {},
   "outputs": [],
   "source": [
    "#compute_rule_accuracy(2, [(0, 3, '>', 0.8), (5, -2, '>', -2.0)])"
   ]
  },
  {
   "cell_type": "code",
   "execution_count": 45,
   "metadata": {},
   "outputs": [
    {
     "ename": "TypeError",
     "evalue": "compute_rule_accuracy() missing 1 required positional argument: 'dataset'",
     "output_type": "error",
     "traceback": [
      "\u001b[0;31m---------------------------------------------------------------------------\u001b[0m",
      "\u001b[0;31mTypeError\u001b[0m                                 Traceback (most recent call last)",
      "\u001b[0;32m<ipython-input-45-8de1544c0b31>\u001b[0m in \u001b[0;36m<module>\u001b[0;34m\u001b[0m\n\u001b[0;32m----> 1\u001b[0;31m \u001b[0mprune_rule\u001b[0m\u001b[0;34m(\u001b[0m\u001b[0;36m2\u001b[0m\u001b[0;34m,\u001b[0m \u001b[0;34m[\u001b[0m\u001b[0;34m(\u001b[0m\u001b[0;36m0\u001b[0m\u001b[0;34m,\u001b[0m \u001b[0;36m3\u001b[0m\u001b[0;34m,\u001b[0m \u001b[0;34m'>'\u001b[0m\u001b[0;34m,\u001b[0m \u001b[0;36m0.8\u001b[0m\u001b[0;34m)\u001b[0m\u001b[0;34m,\u001b[0m \u001b[0;34m(\u001b[0m\u001b[0;36m2\u001b[0m\u001b[0;34m,\u001b[0m \u001b[0;36m3\u001b[0m\u001b[0;34m,\u001b[0m \u001b[0;34m'>'\u001b[0m\u001b[0;34m,\u001b[0m \u001b[0;36m1.7\u001b[0m\u001b[0;34m)\u001b[0m\u001b[0;34m,\u001b[0m \u001b[0;34m(\u001b[0m\u001b[0;36m6\u001b[0m\u001b[0;34m,\u001b[0m \u001b[0;34m-\u001b[0m\u001b[0;36m2\u001b[0m\u001b[0;34m,\u001b[0m \u001b[0;34m'>'\u001b[0m\u001b[0;34m,\u001b[0m \u001b[0;34m-\u001b[0m\u001b[0;36m2.0\u001b[0m\u001b[0;34m)\u001b[0m\u001b[0;34m]\u001b[0m\u001b[0;34m)\u001b[0m\u001b[0;34m\u001b[0m\u001b[0;34m\u001b[0m\u001b[0m\n\u001b[0m",
      "\u001b[0;32m<ipython-input-31-9ee91b100b9e>\u001b[0m in \u001b[0;36mprune_rule\u001b[0;34m(class_name, rule)\u001b[0m\n\u001b[1;32m    112\u001b[0m \u001b[0;34m\u001b[0m\u001b[0m\n\u001b[1;32m    113\u001b[0m     \u001b[0;32mfor\u001b[0m \u001b[0mi\u001b[0m \u001b[0;32min\u001b[0m \u001b[0mrange\u001b[0m\u001b[0;34m(\u001b[0m\u001b[0mlen\u001b[0m\u001b[0;34m(\u001b[0m\u001b[0mrule\u001b[0m\u001b[0;34m[\u001b[0m\u001b[0;34m:\u001b[0m\u001b[0;34m-\u001b[0m\u001b[0;36m1\u001b[0m\u001b[0;34m]\u001b[0m\u001b[0;34m)\u001b[0m\u001b[0;34m)\u001b[0m\u001b[0;34m:\u001b[0m\u001b[0;34m\u001b[0m\u001b[0;34m\u001b[0m\u001b[0m\n\u001b[0;32m--> 114\u001b[0;31m         \u001b[0maccuracy\u001b[0m \u001b[0;34m=\u001b[0m \u001b[0mcompute_rule_accuracy\u001b[0m\u001b[0;34m(\u001b[0m\u001b[0mclass_name\u001b[0m\u001b[0;34m,\u001b[0m \u001b[0mrule\u001b[0m\u001b[0;34m[\u001b[0m\u001b[0mi\u001b[0m\u001b[0;34m:\u001b[0m\u001b[0;34m]\u001b[0m\u001b[0;34m)\u001b[0m\u001b[0;34m\u001b[0m\u001b[0;34m\u001b[0m\u001b[0m\n\u001b[0m\u001b[1;32m    115\u001b[0m \u001b[0;34m\u001b[0m\u001b[0m\n\u001b[1;32m    116\u001b[0m         \u001b[0;32mif\u001b[0m \u001b[0maccuracy\u001b[0m \u001b[0;34m>\u001b[0m \u001b[0mmax_accuracy\u001b[0m\u001b[0;34m:\u001b[0m\u001b[0;34m\u001b[0m\u001b[0;34m\u001b[0m\u001b[0m\n",
      "\u001b[0;31mTypeError\u001b[0m: compute_rule_accuracy() missing 1 required positional argument: 'dataset'"
     ]
    }
   ],
   "source": [
    "prune_rule(2, [(0, 3, '>', 0.8), (2, 3, '>', 1.7), (6, -2, '>', -2.0)])"
   ]
  },
  {
   "cell_type": "code",
   "execution_count": 46,
   "metadata": {},
   "outputs": [
    {
     "ename": "TypeError",
     "evalue": "compute_rule_accuracy() missing 1 required positional argument: 'dataset'",
     "output_type": "error",
     "traceback": [
      "\u001b[0;31m---------------------------------------------------------------------------\u001b[0m",
      "\u001b[0;31mTypeError\u001b[0m                                 Traceback (most recent call last)",
      "\u001b[0;32m<ipython-input-46-8cb259550ff4>\u001b[0m in \u001b[0;36m<module>\u001b[0;34m\u001b[0m\n\u001b[0;32m----> 1\u001b[0;31m \u001b[0mcompute_rule_accuracy\u001b[0m\u001b[0;34m(\u001b[0m\u001b[0;36m2\u001b[0m\u001b[0;34m,\u001b[0m \u001b[0;34m[\u001b[0m\u001b[0;34m(\u001b[0m\u001b[0;36m0\u001b[0m\u001b[0;34m,\u001b[0m \u001b[0;36m2\u001b[0m\u001b[0;34m,\u001b[0m \u001b[0;34m'>'\u001b[0m\u001b[0;34m,\u001b[0m \u001b[0;36m2.45\u001b[0m\u001b[0;34m)\u001b[0m\u001b[0;34m,\u001b[0m \u001b[0;34m(\u001b[0m\u001b[0;36m2\u001b[0m\u001b[0;34m,\u001b[0m \u001b[0;36m3\u001b[0m\u001b[0;34m,\u001b[0m \u001b[0;34m'>'\u001b[0m\u001b[0;34m,\u001b[0m \u001b[0;36m1.7\u001b[0m\u001b[0;34m)\u001b[0m\u001b[0;34m,\u001b[0m \u001b[0;34m(\u001b[0m\u001b[0;36m6\u001b[0m\u001b[0;34m,\u001b[0m \u001b[0;34m-\u001b[0m\u001b[0;36m2\u001b[0m\u001b[0;34m,\u001b[0m \u001b[0;34m'>'\u001b[0m\u001b[0;34m,\u001b[0m \u001b[0;34m-\u001b[0m\u001b[0;36m2.0\u001b[0m\u001b[0;34m)\u001b[0m\u001b[0;34m]\u001b[0m\u001b[0;34m)\u001b[0m\u001b[0;34m\u001b[0m\u001b[0;34m\u001b[0m\u001b[0m\n\u001b[0m",
      "\u001b[0;31mTypeError\u001b[0m: compute_rule_accuracy() missing 1 required positional argument: 'dataset'"
     ]
    }
   ],
   "source": [
    "compute_rule_accuracy(2, [(0, 2, '>', 2.45), (2, 3, '>', 1.7), (6, -2, '>', -2.0)])"
   ]
  },
  {
   "cell_type": "code",
   "execution_count": null,
   "metadata": {},
   "outputs": [],
   "source": [
    "prune_rule(2, [(0, 2, '>', 2.45), (2, 3, '>', 1.7), (6, -2, '>', -2.0)])"
   ]
  },
  {
   "cell_type": "markdown",
   "metadata": {},
   "source": [
    "----"
   ]
  },
  {
   "cell_type": "markdown",
   "metadata": {},
   "source": [
    "-----\n",
    "## Natrenovanie random forestu"
   ]
  },
  {
   "cell_type": "code",
   "execution_count": 47,
   "metadata": {},
   "outputs": [],
   "source": [
    "from sklearn.ensemble import RandomForestClassifier\n",
    "\n",
    "rfclf = RandomForestClassifier(n_estimators=5, max_depth=4)\n",
    "rfclf.fit(X_train, Y_train)\n",
    "\n",
    "pred = rfclf.predict(X_validation)"
   ]
  },
  {
   "cell_type": "markdown",
   "metadata": {},
   "source": [
    "### Simplifikacia pravidiel jedneho stromu pouzijuc booleansku algebru"
   ]
  },
  {
   "cell_type": "code",
   "execution_count": 106,
   "metadata": {},
   "outputs": [
    {
     "name": "stdout",
     "output_type": "stream",
     "text": [
      "(A856EF6 & ACEB9E9 & AD5ED65) | (A9C8E0C & AD5ED65 & ~A856EF6)\n",
      "(AD5ED65 & ~A94F079) | (A306C98 & A676BF2 & A94F079)\n",
      "~A94F079 | (A2592C6 & A76C87C & A94F079 & AA0B165)\n",
      "(ACD33F3 & ~A94F079) | (A306C98 & A94F079 & A9C8E0C & ACD33F3)\n",
      "(A64B709 & A76C87C) | (A8DB128 & AD5ED65 & ~A64B709)\n"
     ]
    },
    {
     "data": {
      "text/plain": [
       "{'(A64B709 & A76C87C) | (A8DB128 & AD5ED65 & ~A64B709)',\n",
       " '(A856EF6 & ACEB9E9 & AD5ED65) | (A9C8E0C & AD5ED65 & ~A856EF6)',\n",
       " '(ACD33F3 & ~A94F079) | (A306C98 & A94F079 & A9C8E0C & ACD33F3)',\n",
       " '(AD5ED65 & ~A94F079) | (A306C98 & A676BF2 & A94F079)',\n",
       " '~A94F079 | (A2592C6 & A76C87C & A94F079 & AA0B165)'}"
      ]
     },
     "execution_count": 106,
     "metadata": {},
     "output_type": "execute_result"
    }
   ],
   "source": [
    "rule_dict = {}\n",
    "var_dict = {}\n",
    "\n",
    "rules, s_rules = combine_forest_rules(rfclf, \"Iris-virginica\", rule_dict, var_dict)\n",
    "rules"
   ]
  },
  {
   "cell_type": "code",
   "execution_count": 107,
   "metadata": {},
   "outputs": [
    {
     "data": {
      "text/plain": [
       "{'(A64B709 | A8DB128) & (A64B709 | AD5ED65) & (A76C87C | ~A64B709)',\n",
       " '(A94F079 | AD5ED65) & (A306C98 | ~A94F079) & (A676BF2 | ~A94F079)',\n",
       " 'ACD33F3 & (A306C98 | ~A94F079) & (A9C8E0C | ~A94F079)',\n",
       " 'AD5ED65 & (A856EF6 | A9C8E0C) & (ACEB9E9 | ~A856EF6)',\n",
       " '~A94F079 | (A2592C6 & A76C87C & AA0B165)'}"
      ]
     },
     "execution_count": 107,
     "metadata": {},
     "output_type": "execute_result"
    }
   ],
   "source": [
    "s_rules"
   ]
  },
  {
   "cell_type": "code",
   "execution_count": 108,
   "metadata": {},
   "outputs": [
    {
     "data": {
      "text/plain": [
       "'(AD5ED65 & (A856EF6 | A9C8E0C) & (ACEB9E9 | ~A856EF6)) & ((A64B709 | A8DB128) & (A64B709 | AD5ED65) & (A76C87C | ~A64B709)) & (~A94F079 | (A2592C6 & A76C87C & AA0B165)) & (ACD33F3 & (A306C98 | ~A94F079) & (A9C8E0C | ~A94F079)) & ((A94F079 | AD5ED65) & (A306C98 | ~A94F079) & (A676BF2 | ~A94F079))'"
      ]
     },
     "execution_count": 108,
     "metadata": {},
     "output_type": "execute_result"
    }
   ],
   "source": [
    "s = combine_rule_using_and(s_rules)\n",
    "s"
   ]
  },
  {
   "cell_type": "code",
   "execution_count": 109,
   "metadata": {},
   "outputs": [
    {
     "data": {
      "text/plain": [
       "And(AD5ED65, ACD33F3, Or(A76C87C, ~A94F079), Or(~A94F079, A2592C6), Or(~A94F079, AA0B165), Or(~A94F079, A306C98), Or(A9C8E0C, ~A94F079), Or(A64B709, A8DB128), Or(~A94F079, A676BF2), Or(A856EF6, A9C8E0C), Or(~A856EF6, ACEB9E9), Or(~A64B709, A76C87C))"
      ]
     },
     "execution_count": 109,
     "metadata": {},
     "output_type": "execute_result"
    }
   ],
   "source": [
    "s2 = expr(s).to_cnf()\n",
    "s2"
   ]
  },
  {
   "cell_type": "code",
   "execution_count": 110,
   "metadata": {},
   "outputs": [
    {
     "data": {
      "text/plain": [
       "'AD5ED65 & ACD33F3 & (A76C87C | ~A94F079) & (~A94F079 | A2592C6) & (~A94F079 | AA0B165) & (~A94F079 | A306C98) & (A9C8E0C | ~A94F079) & (A64B709 | A8DB128) & (~A94F079 | A676BF2) & (A856EF6 | A9C8E0C) & (~A856EF6 | ACEB9E9) & (~A64B709 | A76C87C)'"
      ]
     },
     "execution_count": 110,
     "metadata": {},
     "output_type": "execute_result"
    }
   ],
   "source": [
    "simplified_func = convert_to_function('&', s2)\n",
    "simplified_func"
   ]
  },
  {
   "cell_type": "code",
   "execution_count": 111,
   "metadata": {},
   "outputs": [
    {
     "data": {
      "text/plain": [
       "\"(2, '>', 4.75) & (0, '>', 5.55) & ((3, '>', 0.8) | (3, '>', 1.7)) & ((3, '>', 1.7) | (0, '>', 6.2)) & ((3, '>', 1.7) | (2, '>', 5.0)) & ((3, '>', 1.7) | (2, '>', 5.35)) & ((3, '>', 0.7) | (3, '>', 1.7)) & ((2, '>', 4.95) | (3, '>', 1.65)) & ((3, '>', 1.7) | (3, '>', 0.75)) & ((1, '<=', 2.55) | (3, '>', 0.7)) & ((1, '>', 2.55) | (3, '>', 1.9)) & ((2, '<=', 4.95) | (3, '>', 0.8))\""
      ]
     },
     "execution_count": 111,
     "metadata": {},
     "output_type": "execute_result"
    }
   ],
   "source": [
    "sys_readable_rule = print_final_rule(simplified_func)\n",
    "sys_readable_rule"
   ]
  },
  {
   "cell_type": "code",
   "execution_count": 112,
   "metadata": {},
   "outputs": [],
   "source": [
    "redundant_rules_set, composed_rules_set = split_rules(sys_readable_rule)"
   ]
  },
  {
   "cell_type": "code",
   "execution_count": 113,
   "metadata": {},
   "outputs": [
    {
     "data": {
      "text/plain": [
       "{(0, '>', 5.55), (2, '>', 4.75)}"
      ]
     },
     "execution_count": 113,
     "metadata": {},
     "output_type": "execute_result"
    }
   ],
   "source": [
    "redundant_rules_set"
   ]
  },
  {
   "cell_type": "code",
   "execution_count": 114,
   "metadata": {},
   "outputs": [
    {
     "data": {
      "text/plain": [
       "{\"((1, '<=', 2.55) | (3, '>', 0.7))\",\n",
       " \"((1, '>', 2.55) | (3, '>', 1.9))\",\n",
       " \"((2, '<=', 4.95) | (3, '>', 0.8))\",\n",
       " \"((2, '>', 4.95) | (3, '>', 1.65))\",\n",
       " \"((3, '>', 0.7) | (3, '>', 1.7))\",\n",
       " \"((3, '>', 0.8) | (3, '>', 1.7))\",\n",
       " \"((3, '>', 1.7) | (0, '>', 6.2))\",\n",
       " \"((3, '>', 1.7) | (2, '>', 5.0))\",\n",
       " \"((3, '>', 1.7) | (2, '>', 5.35))\",\n",
       " \"((3, '>', 1.7) | (3, '>', 0.75))\"}"
      ]
     },
     "execution_count": 114,
     "metadata": {},
     "output_type": "execute_result"
    }
   ],
   "source": [
    "composed_rules_set"
   ]
  },
  {
   "cell_type": "code",
   "execution_count": 115,
   "metadata": {},
   "outputs": [
    {
     "data": {
      "text/plain": [
       "{((0, '>', 5.55), (2, '>', 4.75))}"
      ]
     },
     "execution_count": 115,
     "metadata": {},
     "output_type": "execute_result"
    }
   ],
   "source": [
    "t = redundancy_condition_removal_({tuple(redundant_rules_set)})\n",
    "t"
   ]
  },
  {
   "cell_type": "code",
   "execution_count": 116,
   "metadata": {},
   "outputs": [
    {
     "data": {
      "text/plain": [
       "\"(0, '>', 5.55) & (2, '>', 4.75) & ((2, '>', 4.95) | (3, '>', 1.65)) & ((1, '<=', 2.55) | (3, '>', 0.7)) & ((2, '<=', 4.95) | (3, '>', 0.8)) & ((3, '>', 1.7) | (2, '>', 5.35)) & ((3, '>', 1.7) | (2, '>', 5.0)) & ((3, '>', 1.7) | (3, '>', 0.75)) & ((3, '>', 0.8) | (3, '>', 1.7)) & ((3, '>', 1.7) | (0, '>', 6.2)) & ((1, '>', 2.55) | (3, '>', 1.9)) & ((3, '>', 0.7) | (3, '>', 1.7))\""
      ]
     },
     "execution_count": 116,
     "metadata": {},
     "output_type": "execute_result"
    }
   ],
   "source": [
    "sys_readable_rule = compose_final_rule(list(list(t)[0]), composed_rules_set)\n",
    "sys_readable_rule"
   ]
  },
  {
   "cell_type": "code",
   "execution_count": 117,
   "metadata": {},
   "outputs": [
    {
     "data": {
      "text/plain": [
       "'(sepal_length_cm > 5.55) and (petal_length_cm > 4.75) and ((petal_length_cm > 4.95) or (petal_width_cm > 1.65)) and ((sepal_width_cm <= 2.55) or (petal_width_cm > 0.7)) and ((petal_length_cm <= 4.95) or (petal_width_cm > 0.8)) and ((petal_width_cm > 1.7) or (petal_length_cm > 5.35)) and ((petal_width_cm > 1.7) or (petal_length_cm > 5.0)) and ((petal_width_cm > 1.7) or (petal_width_cm > 0.75)) and ((petal_width_cm > 0.8) or (petal_width_cm > 1.7)) and ((petal_width_cm > 1.7) or (sepal_length_cm > 6.2)) and ((sepal_width_cm > 2.55) or (petal_width_cm > 1.9)) and ((petal_width_cm > 0.7) or (petal_width_cm > 1.7))'"
      ]
     },
     "execution_count": 117,
     "metadata": {},
     "output_type": "execute_result"
    }
   ],
   "source": [
    "hum_readable_rule = get_valid_predicate(sys_readable_rule)\n",
    "hum_readable_rule"
   ]
  },
  {
   "cell_type": "code",
   "execution_count": 122,
   "metadata": {},
   "outputs": [
    {
     "name": "stdout",
     "output_type": "stream",
     "text": [
      "{'precision': 0.7272727272727273, 'recall': 0.8888888888888888, 'f1-score': 0.7999999999999999, 'support': 9}\n"
     ]
    }
   ],
   "source": [
    "compute_final_rule_accuracy(2, hum_readable_rule)"
   ]
  },
  {
   "cell_type": "code",
   "execution_count": 124,
   "metadata": {},
   "outputs": [
    {
     "data": {
      "image/png": "[encoded data removed]",
      "text/plain": [
       "<Figure size 720x576 with 1 Axes>"
      ]
     },
     "metadata": {
      "needs_background": "light"
     },
     "output_type": "display_data"
    }
   ],
   "source": [
    "visualize_decision_boundaries(hum_readable_rule, 0, 3)"
   ]
  },
  {
   "cell_type": "code",
   "execution_count": 84,
   "metadata": {},
   "outputs": [
    {
     "name": "stdout",
     "output_type": "stream",
     "text": [
      "A3DFB7A\n",
      "A4BB84D\n",
      "A26C616\n",
      "(A3DFB7A & A4794FB) | (A4BB84D & ~A4794FB)\n",
      "A26C616\n"
     ]
    },
    {
     "data": {
      "text/plain": [
       "{'(A3DFB7A & A4794FB) | (A4BB84D & ~A4794FB)', 'A26C616', 'A3DFB7A', 'A4BB84D'}"
      ]
     },
     "execution_count": 84,
     "metadata": {},
     "output_type": "execute_result"
    }
   ],
   "source": [
    "rule_dict = {}\n",
    "var_dict = {}\n",
    "\n",
    "rules, s_rules = combine_forest_rules(rfclf, \"Iris-setosa\", rule_dict, var_dict)\n",
    "rules"
   ]
  },
  {
   "cell_type": "code",
   "execution_count": 85,
   "metadata": {},
   "outputs": [
    {
     "data": {
      "text/plain": [
       "{'(A3DFB7A & A4794FB) | (A4BB84D & ~A4794FB)', 'A26C616', 'A3DFB7A', 'A4BB84D'}"
      ]
     },
     "execution_count": 85,
     "metadata": {},
     "output_type": "execute_result"
    }
   ],
   "source": [
    "s_rules"
   ]
  },
  {
   "cell_type": "code",
   "execution_count": 86,
   "metadata": {},
   "outputs": [
    {
     "data": {
      "text/plain": [
       "'(A26C616) & (A3DFB7A) & ((A3DFB7A & A4794FB) | (A4BB84D & ~A4794FB)) & (A4BB84D)'"
      ]
     },
     "execution_count": 86,
     "metadata": {},
     "output_type": "execute_result"
    }
   ],
   "source": [
    "s = combine_rule_using_and(s_rules)\n",
    "s"
   ]
  },
  {
   "cell_type": "code",
   "execution_count": 87,
   "metadata": {},
   "outputs": [
    {
     "data": {
      "text/plain": [
       "Or(And(A26C616, A3DFB7A, A4794FB, A4BB84D), And(A26C616, A3DFB7A, ~A4794FB, A4BB84D))"
      ]
     },
     "execution_count": 87,
     "metadata": {},
     "output_type": "execute_result"
    }
   ],
   "source": [
    "expr(s).to_dnf()"
   ]
  },
  {
   "cell_type": "code",
   "execution_count": 88,
   "metadata": {},
   "outputs": [
    {
     "data": {
      "text/plain": [
       "And(A26C616, A3DFB7A, A4BB84D)"
      ]
     },
     "execution_count": 88,
     "metadata": {},
     "output_type": "execute_result"
    }
   ],
   "source": [
    "s = expr(s).to_cnf()\n",
    "s"
   ]
  },
  {
   "cell_type": "code",
   "execution_count": 89,
   "metadata": {},
   "outputs": [
    {
     "data": {
      "text/plain": [
       "'A26C616 & A3DFB7A & A4BB84D'"
      ]
     },
     "execution_count": 89,
     "metadata": {},
     "output_type": "execute_result"
    }
   ],
   "source": [
    "simplified_func = convert_to_function('&', s)\n",
    "simplified_func"
   ]
  },
  {
   "cell_type": "code",
   "execution_count": 90,
   "metadata": {},
   "outputs": [
    {
     "data": {
      "text/plain": [
       "\"(3, '<=', 0.8) & (3, '<=', 0.7) & (3, '<=', 0.75)\""
      ]
     },
     "execution_count": 90,
     "metadata": {},
     "output_type": "execute_result"
    }
   ],
   "source": [
    "sys_readable_rule = print_final_rule(simplified_func)\n",
    "sys_readable_rule"
   ]
  },
  {
   "cell_type": "code",
   "execution_count": 91,
   "metadata": {},
   "outputs": [
    {
     "data": {
      "text/plain": [
       "'(petal_width_cm <= 0.8) and (petal_width_cm <= 0.7) and (petal_width_cm <= 0.75)'"
      ]
     },
     "execution_count": 91,
     "metadata": {},
     "output_type": "execute_result"
    }
   ],
   "source": [
    "hum_readable_rule = get_valid_predicate(sys_readable_rule)\n",
    "hum_readable_rule"
   ]
  },
  {
   "cell_type": "code",
   "execution_count": 92,
   "metadata": {},
   "outputs": [
    {
     "name": "stdout",
     "output_type": "stream",
     "text": [
      "{'precision': 1.0, 'recall': 1.0, 'f1-score': 1.0, 'support': 7}\n"
     ]
    }
   ],
   "source": [
    "compute_final_rule_accuracy(0, hum_readable_rule)"
   ]
  },
  {
   "cell_type": "code",
   "execution_count": 94,
   "metadata": {
    "scrolled": false
   },
   "outputs": [
    {
     "data": {
      "image/png": "[encoded data removed]",
      "text/plain": [
       "<Figure size 720x576 with 1 Axes>"
      ]
     },
     "metadata": {
      "needs_background": "light"
     },
     "output_type": "display_data"
    }
   ],
   "source": [
    "visualize_decision_boundaries(hum_readable_rule, 2, 3)"
   ]
  },
  {
   "cell_type": "code",
   "execution_count": 95,
   "metadata": {},
   "outputs": [
    {
     "name": "stdout",
     "output_type": "stream",
     "text": [
      "(AB152CE & AF6D196) | (A6A4D95 & A975D11 & AF6D196 & ~AB152CE)\n",
      "(A8F00EB & AB152CE) | (A06E857 & A1C265A & A8F00EB & ~AB152CE)\n",
      "(A1C265A & A9BA801 & ~A7D406F) | (A1C265A & A7D406F & A9BA801 & A9C4782)\n",
      "(A8F00EB & ~AB33740) | (A06E857 & A1C265A & AB33740 & AF6D196)\n",
      "(A9BA801 & AB152CE) | (A3A054A & A9BA801 & AB7ACBB & ~AB152CE)\n"
     ]
    },
    {
     "data": {
      "text/plain": [
       "{'(A1C265A & A9BA801 & ~A7D406F) | (A1C265A & A7D406F & A9BA801 & A9C4782)',\n",
       " '(A8F00EB & AB152CE) | (A06E857 & A1C265A & A8F00EB & ~AB152CE)',\n",
       " '(A8F00EB & ~AB33740) | (A06E857 & A1C265A & AB33740 & AF6D196)',\n",
       " '(A9BA801 & AB152CE) | (A3A054A & A9BA801 & AB7ACBB & ~AB152CE)',\n",
       " '(AB152CE & AF6D196) | (A6A4D95 & A975D11 & AF6D196 & ~AB152CE)'}"
      ]
     },
     "execution_count": 95,
     "metadata": {},
     "output_type": "execute_result"
    }
   ],
   "source": [
    "rule_dict = {}\n",
    "var_dict = {}\n",
    "\n",
    "rules, s_rules = combine_forest_rules(rfclf, \"Iris-versicolor\", rule_dict, var_dict)\n",
    "rules"
   ]
  },
  {
   "cell_type": "code",
   "execution_count": 96,
   "metadata": {},
   "outputs": [
    {
     "data": {
      "text/plain": [
       "{'(A8F00EB | AB33740) & (A06E857 | ~AB33740) & (A1C265A | ~AB33740) & (AF6D196 | ~AB33740)',\n",
       " 'A1C265A & A9BA801 & (A9C4782 | ~A7D406F)',\n",
       " 'A8F00EB & (A06E857 | AB152CE) & (A1C265A | AB152CE)',\n",
       " 'A9BA801 & (A3A054A | AB152CE) & (AB152CE | AB7ACBB)',\n",
       " 'AF6D196 & (A6A4D95 | AB152CE) & (A975D11 | AB152CE)'}"
      ]
     },
     "execution_count": 96,
     "metadata": {},
     "output_type": "execute_result"
    }
   ],
   "source": [
    "s_rules"
   ]
  },
  {
   "cell_type": "code",
   "execution_count": 97,
   "metadata": {},
   "outputs": [
    {
     "data": {
      "text/plain": [
       "'(AF6D196 & (A6A4D95 | AB152CE) & (A975D11 | AB152CE)) & (A1C265A & A9BA801 & (A9C4782 | ~A7D406F)) & (A8F00EB & (A06E857 | AB152CE) & (A1C265A | AB152CE)) & (A9BA801 & (A3A054A | AB152CE) & (AB152CE | AB7ACBB)) & ((A8F00EB | AB33740) & (A06E857 | ~AB33740) & (A1C265A | ~AB33740) & (AF6D196 | ~AB33740))'"
      ]
     },
     "execution_count": 97,
     "metadata": {},
     "output_type": "execute_result"
    }
   ],
   "source": [
    "s = combine_rule_using_and(s_rules)\n",
    "s"
   ]
  },
  {
   "cell_type": "code",
   "execution_count": 98,
   "metadata": {},
   "outputs": [],
   "source": [
    "s = expr(s).to_cnf()\n",
    "s"
   ]
  },
  {
   "cell_type": "code",
   "execution_count": 100,
   "metadata": {},
   "outputs": [
    {
     "data": {
      "text/plain": [
       "'AF6D196 & A1C265A & A9BA801 & A8F00EB & (AB152CE | A3A054A) & (A6A4D95 | AB152CE) & (AB152CE | A975D11) & (AB152CE | AB7ACBB) & (A06E857 | ~AB33740) & (AB152CE | A06E857) & (A9C4782 | ~A7D406F)'"
      ]
     },
     "execution_count": 100,
     "metadata": {},
     "output_type": "execute_result"
    }
   ],
   "source": [
    "simplified_func = convert_to_function('&', s)\n",
    "simplified_func"
   ]
  },
  {
   "cell_type": "code",
   "execution_count": 101,
   "metadata": {},
   "outputs": [
    {
     "data": {
      "text/plain": [
       "\"(3, '>', 0.7) & (3, '<=', 1.7) & (3, '>', 0.8) & (3, '>', 0.75) & ((2, '<=', 4.75) | (3, '<=', 1.65)) & ((3, '<=', 1.9) | (2, '<=', 4.75)) & ((2, '<=', 4.75) | (1, '<=', 2.55)) & ((2, '<=', 4.75) | (2, '<=', 4.95)) & ((2, '<=', 5.35) | (0, '<=', 5.55)) & ((2, '<=', 4.75) | (2, '<=', 5.35)) & ((2, '<=', 5.0) | (0, '<=', 6.2))\""
      ]
     },
     "execution_count": 101,
     "metadata": {},
     "output_type": "execute_result"
    }
   ],
   "source": [
    "sys_readable_rule = print_final_rule(simplified_func)\n",
    "sys_readable_rule"
   ]
  },
  {
   "cell_type": "code",
   "execution_count": 102,
   "metadata": {},
   "outputs": [
    {
     "data": {
      "text/plain": [
       "'(petal_width_cm > 0.7) and (petal_width_cm <= 1.7) and (petal_width_cm > 0.8) and (petal_width_cm > 0.75) and ((petal_length_cm <= 4.75) or (petal_width_cm <= 1.65)) and ((petal_width_cm <= 1.9) or (petal_length_cm <= 4.75)) and ((petal_length_cm <= 4.75) or (sepal_width_cm <= 2.55)) and ((petal_length_cm <= 4.75) or (petal_length_cm <= 4.95)) and ((petal_length_cm <= 5.35) or (sepal_length_cm <= 5.55)) and ((petal_length_cm <= 4.75) or (petal_length_cm <= 5.35)) and ((petal_length_cm <= 5.0) or (sepal_length_cm <= 6.2))'"
      ]
     },
     "execution_count": 102,
     "metadata": {},
     "output_type": "execute_result"
    }
   ],
   "source": [
    "hum_readable_rule = get_valid_predicate(sys_readable_rule)\n",
    "hum_readable_rule"
   ]
  },
  {
   "cell_type": "code",
   "execution_count": 103,
   "metadata": {},
   "outputs": [
    {
     "name": "stdout",
     "output_type": "stream",
     "text": [
      "{'precision': 0.75, 'recall': 0.9, 'f1-score': 0.8181818181818182, 'support': 10}\n"
     ]
    }
   ],
   "source": [
    "compute_final_rule_accuracy(1, hum_readable_rule)"
   ]
  },
  {
   "cell_type": "code",
   "execution_count": 105,
   "metadata": {},
   "outputs": [
    {
     "data": {
      "image/png": "[encoded data removed]",
      "text/plain": [
       "<Figure size 720x576 with 1 Axes>"
      ]
     },
     "metadata": {
      "needs_background": "light"
     },
     "output_type": "display_data"
    }
   ],
   "source": [
    "visualize_decision_boundaries(hum_readable_rule, 2, 3)"
   ]
  },
  {
   "cell_type": "markdown",
   "metadata": {},
   "source": [
    "### Create & simplify big and rule"
   ]
  },
  {
   "cell_type": "code",
   "execution_count": null,
   "metadata": {},
   "outputs": [],
   "source": [
    "# Restart dictionaries\n",
    "rule_dict = {}\n",
    "var_dict = {}\n",
    "\n",
    "# First create one big expression from all rules\n",
    "simplified = sympify(create_big_and_rule(rules_set), evaluate=False)\n",
    "\n",
    "# Then, apply simplification function to it.\n",
    "l = simplify_logic(simplified)\n",
    "\n",
    "if l:\n",
    "    out = print_final_rule(l)\n",
    "else:\n",
    "    out = print_final_rule(simplified)\n",
    "    \n",
    "print(out)"
   ]
  },
  {
   "cell_type": "code",
   "execution_count": null,
   "metadata": {},
   "outputs": [],
   "source": [
    "rule_dict"
   ]
  },
  {
   "cell_type": "code",
   "execution_count": null,
   "metadata": {},
   "outputs": [],
   "source": [
    "var_dict"
   ]
  },
  {
   "cell_type": "code",
   "execution_count": null,
   "metadata": {},
   "outputs": [],
   "source": [
    "rules_set = {\n",
    "    ((0, 3, '>', 0.8), (2, 3, '<=', 1.7), (3, 2, '>', 5.0), (5, -2, '>', -2.0)),\n",
    " ((0, 3, '>', 0.8), (2, 3, '>', 1.7), (6, -2, '>', -2.0))\n",
    "}"
   ]
  },
  {
   "cell_type": "code",
   "execution_count": null,
   "metadata": {},
   "outputs": [],
   "source": [
    "rules_set"
   ]
  },
  {
   "cell_type": "markdown",
   "metadata": {},
   "source": [
    "### Create & simplify big OR rule"
   ]
  },
  {
   "cell_type": "code",
   "execution_count": null,
   "metadata": {},
   "outputs": [],
   "source": [
    "# Restart dictionaries\n",
    "rule_dict = {}\n",
    "var_dict = {}\n",
    "\n",
    "# First create one big expression from all rules\n",
    "simplified = sympify(create_big_or_rule(rules_set), evaluate=False)\n",
    "\n",
    "# Then, apply simplification function to it.\n",
    "l = simplify_logic(simplified)\n",
    "\n",
    "# The print the final big rule, to interpret the decision three\n",
    "print_final_rule(l)"
   ]
  },
  {
   "cell_type": "code",
   "execution_count": null,
   "metadata": {},
   "outputs": [],
   "source": [
    "out"
   ]
  },
  {
   "cell_type": "code",
   "execution_count": null,
   "metadata": {},
   "outputs": [],
   "source": [
    "feature_names_array"
   ]
  },
  {
   "cell_type": "code",
   "execution_count": null,
   "metadata": {},
   "outputs": [],
   "source": [
    "match = s.evaluate({'petal_width_cm': 2.0, 'petal_length_cm': 5.0})"
   ]
  },
  {
   "cell_type": "code",
   "execution_count": null,
   "metadata": {},
   "outputs": [],
   "source": [
    "match"
   ]
  },
  {
   "cell_type": "code",
   "execution_count": null,
   "metadata": {},
   "outputs": [],
   "source": [
    "Z = np.array(rule_predict(2, set()))"
   ]
  },
  {
   "cell_type": "code",
   "execution_count": null,
   "metadata": {},
   "outputs": [],
   "source": [
    "Z"
   ]
  },
  {
   "cell_type": "markdown",
   "metadata": {},
   "source": [
    "## Vizualizacia generovanych pravidiet pre klasifikaciu iris datasetu"
   ]
  },
  {
   "cell_type": "code",
   "execution_count": null,
   "metadata": {},
   "outputs": [],
   "source": [
    "feature_names_array"
   ]
  },
  {
   "cell_type": "code",
   "execution_count": null,
   "metadata": {},
   "outputs": [],
   "source": [
    "print_decision_boundaries(2, '(petal_length_cm > 4.75) and (petal_width_cm > 1.7) and ((petal_width_cm <= 1.7) or (petal_length_cm > 2.45)) and ((petal_length_cm > 2.6) or (petal_length_cm > 4.85)) and ((petal_width_cm > 1.7) or (petal_length_cm > 5.0)) and ((petal_width_cm > 1.7) or ((petal_width_cm > 0.8) and (petal_length_cm > 5.0))) and ((petal_width_cm > 1.7) or ((petal_width_cm > 0.7) and (petal_length_cm > 5.0)))')"
   ]
  },
  {
   "cell_type": "markdown",
   "metadata": {},
   "source": [
    "### Porovnanie vysledkov medzi random forestom a vygenerovanymi pravidlami\n",
    "#### Random Forest"
   ]
  },
  {
   "cell_type": "code",
   "execution_count": null,
   "metadata": {},
   "outputs": [],
   "source": [
    "print(accuracy_score(Y_validation, pred))\n",
    "print(classification_report(Y_validation, pred))"
   ]
  },
  {
   "cell_type": "markdown",
   "metadata": {},
   "source": [
    "#### Vygenerovane pravidla"
   ]
  },
  {
   "cell_type": "code",
   "execution_count": null,
   "metadata": {},
   "outputs": [],
   "source": [
    "predict_rule_class(rules_set)"
   ]
  },
  {
   "cell_type": "code",
   "execution_count": null,
   "metadata": {},
   "outputs": [],
   "source": [
    "1) Confusion matrix\n",
    "2) Random forest pravdepodobnosti klasifikacii pozriet !!\n",
    "3) Urobit support pre jednotlive pravidla\n",
    "4) Forest cover dataset\n",
    "5) Porovnat pyeda a sympy"
   ]
  },
  {
   "cell_type": "markdown",
   "metadata": {},
   "source": [
    "#### Vizualizacia pravidiel random forestu"
   ]
  },
  {
   "cell_type": "code",
   "execution_count": 125,
   "metadata": {},
   "outputs": [
    {
     "ename": "IndexError",
     "evalue": "index 2 is out of bounds for axis 0 with size 2",
     "output_type": "error",
     "traceback": [
      "\u001b[0;31m---------------------------------------------------------------------------\u001b[0m",
      "\u001b[0;31mIndexError\u001b[0m                                Traceback (most recent call last)",
      "\u001b[0;32m<ipython-input-125-57a0c6f43b5c>\u001b[0m in \u001b[0;36m<module>\u001b[0;34m\u001b[0m\n\u001b[1;32m     17\u001b[0m \u001b[0;34m\u001b[0m\u001b[0m\n\u001b[1;32m     18\u001b[0m \u001b[0mravel_\u001b[0m \u001b[0;34m=\u001b[0m \u001b[0mnp\u001b[0m\u001b[0;34m.\u001b[0m\u001b[0mc_\u001b[0m\u001b[0;34m[\u001b[0m\u001b[0mxx\u001b[0m\u001b[0;34m.\u001b[0m\u001b[0mravel\u001b[0m\u001b[0;34m(\u001b[0m\u001b[0;34m)\u001b[0m\u001b[0;34m,\u001b[0m \u001b[0myy\u001b[0m\u001b[0;34m.\u001b[0m\u001b[0mravel\u001b[0m\u001b[0;34m(\u001b[0m\u001b[0;34m)\u001b[0m\u001b[0;34m]\u001b[0m\u001b[0;34m\u001b[0m\u001b[0;34m\u001b[0m\u001b[0m\n\u001b[0;32m---> 19\u001b[0;31m \u001b[0mZ\u001b[0m \u001b[0;34m=\u001b[0m \u001b[0mnp\u001b[0m\u001b[0;34m.\u001b[0m\u001b[0marray\u001b[0m\u001b[0;34m(\u001b[0m\u001b[0mpredicate_rules_set_predict\u001b[0m\u001b[0;34m(\u001b[0m\u001b[0mrules_set\u001b[0m\u001b[0;34m,\u001b[0m \u001b[0mravel_\u001b[0m\u001b[0;34m)\u001b[0m\u001b[0;34m)\u001b[0m\u001b[0;34m\u001b[0m\u001b[0;34m\u001b[0m\u001b[0m\n\u001b[0m\u001b[1;32m     20\u001b[0m \u001b[0mZ\u001b[0m \u001b[0;34m=\u001b[0m \u001b[0mZ\u001b[0m\u001b[0;34m.\u001b[0m\u001b[0mreshape\u001b[0m\u001b[0;34m(\u001b[0m\u001b[0mxx\u001b[0m\u001b[0;34m.\u001b[0m\u001b[0mshape\u001b[0m\u001b[0;34m)\u001b[0m\u001b[0;34m\u001b[0m\u001b[0;34m\u001b[0m\u001b[0m\n\u001b[1;32m     21\u001b[0m \u001b[0;34m\u001b[0m\u001b[0m\n",
      "\u001b[0;32m<ipython-input-36-4c7f522d599b>\u001b[0m in \u001b[0;36mpredicate_rules_set_predict\u001b[0;34m(rules_set, dataset)\u001b[0m\n\u001b[1;32m     15\u001b[0m \u001b[0;34m\u001b[0m\u001b[0m\n\u001b[1;32m     16\u001b[0m         \u001b[0;32mfor\u001b[0m \u001b[0ml\u001b[0m\u001b[0;34m,\u001b[0m \u001b[0mat\u001b[0m \u001b[0;32min\u001b[0m \u001b[0menumerate\u001b[0m\u001b[0;34m(\u001b[0m\u001b[0mdf_columns\u001b[0m\u001b[0;34m)\u001b[0m\u001b[0;34m:\u001b[0m\u001b[0;34m\u001b[0m\u001b[0;34m\u001b[0m\u001b[0m\n\u001b[0;32m---> 17\u001b[0;31m             \u001b[0md_\u001b[0m\u001b[0;34m[\u001b[0m\u001b[0mat\u001b[0m\u001b[0;34m]\u001b[0m \u001b[0;34m=\u001b[0m \u001b[0mrow\u001b[0m\u001b[0;34m[\u001b[0m\u001b[0ml\u001b[0m\u001b[0;34m]\u001b[0m\u001b[0;34m\u001b[0m\u001b[0;34m\u001b[0m\u001b[0m\n\u001b[0m\u001b[1;32m     18\u001b[0m \u001b[0;34m\u001b[0m\u001b[0m\n\u001b[1;32m     19\u001b[0m \u001b[0;34m\u001b[0m\u001b[0m\n",
      "\u001b[0;31mIndexError\u001b[0m: index 2 is out of bounds for axis 0 with size 2"
     ]
    },
    {
     "data": {
      "image/png": "[encoded data removed]",
      "text/plain": [
       "<Figure size 720x576 with 1 Axes>"
      ]
     },
     "metadata": {
      "needs_background": "light"
     },
     "output_type": "display_data"
    }
   ],
   "source": [
    "rules_set = {\n",
    "    (0, '(petal_width_cm <= 0.8) and (petal_length_cm <= 2.45) and (petal_length_cm <= 2.6) and (petal_width_cm <= 0.75)'),\n",
    "    (1, '(petal_width_cm <= 1.7) and (petal_width_cm > 0.8) and (petal_length_cm <= 5.35) and (petal_length_cm > 2.45) and (petal_length_cm > 2.6) and ((petal_width_cm > 1.35) or (petal_width_cm > 0.75)) and ((petal_width_cm <= 1.35) or (petal_length_cm <= 4.95))'),\n",
    "    (2, '(petal_width_cm > 1.7) and (petal_length_cm > 2.45) and (petal_length_cm > 2.6)')\n",
    "}\n",
    "\n",
    "X = X_validation\n",
    "Y = Y_validation\n",
    "\n",
    "# Plotting decision regions\n",
    "x_min, x_max = X[:, 0].min() - 1, X[:, 0].max() + 1\n",
    "y_min, y_max = X[:, 1].min() - 1, X[:, 1].max() + 1\n",
    "\n",
    "xx, yy = np.meshgrid(np.arange(x_min, x_max, 0.1), np.arange(y_min, y_max, 0.1))\n",
    "\n",
    "f, axarr = plt.subplots(figsize=(10, 8))\n",
    "\n",
    "ravel_ = np.c_[xx.ravel(), yy.ravel()]\n",
    "Z = np.array(predicate_rules_set_predict(rules_set, ravel_))\n",
    "Z = Z.reshape(xx.shape)\n",
    "\n",
    "axarr.contourf(xx, yy, Z, alpha=0.4)\n",
    "axarr.scatter(X[:, 0], X[:, 1], c=Y, s=20, edgecolor='k')\n",
    "axarr.set_title(\"Rules predictions\")\n",
    "\n",
    "plt.show()"
   ]
  },
  {
   "cell_type": "markdown",
   "metadata": {},
   "source": [
    "#### Vizualizacia random forestu"
   ]
  },
  {
   "cell_type": "code",
   "execution_count": null,
   "metadata": {},
   "outputs": [],
   "source": [
    "from itertools import product\n",
    "\n",
    "import matplotlib.pyplot as plt\n",
    "\n",
    "from sklearn import datasets\n",
    "\n",
    "X = X_validation\n",
    "Y = Y_validation\n",
    "\n",
    "# Plotting decision regions\n",
    "x_min, x_max = X[:, 0].min() - 1, X[:, 0].max() + 1\n",
    "y_min, y_max = X[:, 1].min() - 1, X[:, 1].max() + 1\n",
    "\n",
    "xx, yy = np.meshgrid(np.arange(x_min, x_max, 0.1), np.arange(y_min, y_max, 0.1))\n",
    "\n",
    "f, axarr = plt.subplots(figsize=(10, 8))\n",
    "\n",
    "Z = rfclf.predict(np.c_[xx.ravel(), yy.ravel()])\n",
    "Z = Z.reshape(xx.shape)\n",
    "\n",
    "axarr.contourf(xx, yy, Z, alpha=0.4)\n",
    "axarr.scatter(X[:, 0], X[:, 1], c=Y, s=20, edgecolor='k')\n",
    "axarr.set_title(\"Random Forest\")\n",
    "\n",
    "plt.show()"
   ]
  },
  {
   "cell_type": "markdown",
   "metadata": {},
   "source": [
    "### Generate prunned rules for 'Iris-setosa' class and assign them accuracy"
   ]
  },
  {
   "cell_type": "code",
   "execution_count": null,
   "metadata": {},
   "outputs": [],
   "source": [
    "p = get_pruned_rules_accuracy(\"Iris-virginica\", rfclf)\n",
    "p"
   ]
  },
  {
   "cell_type": "markdown",
   "metadata": {},
   "source": [
    "### Test those pruned rules accuracy agaist predicting other class"
   ]
  },
  {
   "cell_type": "code",
   "execution_count": null,
   "metadata": {},
   "outputs": [],
   "source": [
    "for rule in p:\n",
    "    rule = list(rule)\n",
    "    print(compute_rule_accuracy(get_class_index(\"Iris-versicolor\"), rule[1]))"
   ]
  },
  {
   "cell_type": "markdown",
   "metadata": {},
   "source": [
    "### Get accuracy for generated rules, without prunning"
   ]
  },
  {
   "cell_type": "code",
   "execution_count": null,
   "metadata": {
    "scrolled": true
   },
   "outputs": [],
   "source": [
    "p2 = get_rules_accuracy(\"Iris-virginica\", rfclf)\n",
    "p2"
   ]
  },
  {
   "cell_type": "code",
   "execution_count": null,
   "metadata": {},
   "outputs": [],
   "source": [
    "# No redundancy\n",
    "p2 = get_rules_accuracy(\"Iris-virginica\", rfclf, True)\n",
    "p2"
   ]
  },
  {
   "cell_type": "markdown",
   "metadata": {},
   "source": [
    "-------"
   ]
  },
  {
   "cell_type": "code",
   "execution_count": null,
   "metadata": {},
   "outputs": [],
   "source": [
    "2) Najst pravidlo ktore to blokuje."
   ]
  },
  {
   "cell_type": "code",
   "execution_count": null,
   "metadata": {},
   "outputs": [],
   "source": [
    "rules, s_rules = combine_forest_rules(rfclf, \"Iris-virginica\")\n",
    "rules = combine_rule_using_and(rules)\n",
    "rules"
   ]
  },
  {
   "cell_type": "code",
   "execution_count": null,
   "metadata": {},
   "outputs": [],
   "source": [
    "s_rules = sympify(s_rules, evaluate=False)\n",
    "s_rules"
   ]
  },
  {
   "cell_type": "code",
   "execution_count": null,
   "metadata": {},
   "outputs": [],
   "source": [
    "t = simplify_logic(s_rules)"
   ]
  },
  {
   "cell_type": "markdown",
   "metadata": {},
   "source": [
    "## Zakomponovanie jedneho velkeho pravidla zo vsetkych vygenerovanych random forestom"
   ]
  },
  {
   "cell_type": "code",
   "execution_count": null,
   "metadata": {},
   "outputs": [],
   "source": [
    "rf_rules_set = combine_rules(\"Iris-virginica\", rfclf)"
   ]
  },
  {
   "cell_type": "code",
   "execution_count": null,
   "metadata": {
    "scrolled": false
   },
   "outputs": [],
   "source": [
    "rf_rules_set"
   ]
  },
  {
   "cell_type": "code",
   "execution_count": null,
   "metadata": {},
   "outputs": [],
   "source": [
    "l = sympify(create_big_or_rule(rf_rules_set), evaluate=False)"
   ]
  },
  {
   "cell_type": "code",
   "execution_count": null,
   "metadata": {},
   "outputs": [],
   "source": [
    "print_final_rule(l)"
   ]
  },
  {
   "cell_type": "code",
   "execution_count": null,
   "metadata": {},
   "outputs": [],
   "source": [
    "sympify(create_big_or_rule(rf_rules_set), evaluate=False)"
   ]
  },
  {
   "cell_type": "code",
   "execution_count": null,
   "metadata": {},
   "outputs": [],
   "source": [
    "l_and = sympify(create_big_and_rule(rf_rules_set), evaluate=False)\n",
    "print_final_rule(l_and)"
   ]
  },
  {
   "cell_type": "markdown",
   "metadata": {},
   "source": [
    "Remove redundant conditions from each rule"
   ]
  },
  {
   "cell_type": "code",
   "execution_count": null,
   "metadata": {
    "scrolled": true
   },
   "outputs": [],
   "source": [
    "_rf_rules_set = redundancy_condition_removal(rf_rules_set)\n",
    "_rf_rules_set"
   ]
  },
  {
   "cell_type": "code",
   "execution_count": null,
   "metadata": {},
   "outputs": [],
   "source": [
    "_l_and = sympify(create_big_and_rule(_rf_rules_set), evaluate=False)\n",
    "print_final_rule(_l_and)"
   ]
  },
  {
   "cell_type": "code",
   "execution_count": null,
   "metadata": {},
   "outputs": [],
   "source": [
    "rules = {tuple(list(map(lambda x: eval(x), l_and_final.split(\" & \"))))}\n",
    "rules"
   ]
  },
  {
   "cell_type": "code",
   "execution_count": null,
   "metadata": {},
   "outputs": [],
   "source": [
    "rules = redundancy_condition_removal(rules)\n",
    "rules"
   ]
  },
  {
   "cell_type": "code",
   "execution_count": null,
   "metadata": {},
   "outputs": [],
   "source": [
    "X = X_train[0:, [2, 3]]\n",
    "Y = Y_train\n",
    "\n",
    "# Plotting decision regions\n",
    "x_min, x_max = X[:, 0].min() - 1, X[:, 0].max() + 1\n",
    "y_min, y_max = X[:, 1].min() - 1, X[:, 1].max() + 1\n",
    "\n",
    "xx, yy = np.meshgrid(np.arange(x_min, x_max, 0.1), np.arange(y_min, y_max, 0.1))\n",
    "\n",
    "f, axarr = plt.subplots(figsize=(10, 8))\n",
    "\n",
    "print(np.c_[xx.ravel(), yy.ravel()])\n",
    "\n",
    "Z = np.array(predicate_rule_predict(2, \"petal_width_cm > 1.7 and petal_length_cm > 2.6\", np.c_[xx.ravel(), yy.ravel()]))\n",
    "Z = Z.reshape(xx.shape)\n",
    "\n",
    "axarr.contourf(xx, yy, Z, alpha=0.4)\n",
    "axarr.scatter(X[:, 0], X[:, 1], c=Y, s=20, edgecolor='k')\n",
    "axarr.set_title(tt)\n",
    "\n",
    "plt.show()"
   ]
  },
  {
   "cell_type": "code",
   "execution_count": null,
   "metadata": {},
   "outputs": [],
   "source": [
    "feature_names_array"
   ]
  },
  {
   "cell_type": "markdown",
   "metadata": {},
   "source": [
    "### Here we try to create one big and rule"
   ]
  },
  {
   "cell_type": "code",
   "execution_count": null,
   "metadata": {},
   "outputs": [],
   "source": [
    "rule_dict = {}\n",
    "var_dict = {}\n",
    "\n",
    "# First create one big expression from all rules\n",
    "simplified = sympify(create_big_or_rule(_rf_rules_set), evaluate=False)\n",
    "\n",
    "# Then, apply simplification function to it.\n",
    "#l = simplify_logic(simplified)\n",
    "\n",
    "print_final_rule(simplified)"
   ]
  },
  {
   "cell_type": "code",
   "execution_count": null,
   "metadata": {},
   "outputs": [],
   "source": [
    "(petal_length_cm > 5.35) or (petal_width_cm > 1.65) or (petal_width_cm < 1.7) or (petal_length_cm > 4.85 and petal_width_cm <= 1.55)"
   ]
  },
  {
   "cell_type": "markdown",
   "metadata": {},
   "source": [
    "### Try to visualize this rule"
   ]
  },
  {
   "cell_type": "code",
   "execution_count": null,
   "metadata": {},
   "outputs": [],
   "source": [
    "X = X_train[0:, [2, 3]]\n",
    "Y = Y_train\n",
    "\n",
    "# Plotting decision regions\n",
    "x_min, x_max = X[:, 0].min() - 1, X[:, 0].max() + 1\n",
    "y_min, y_max = X[:, 1].min() - 1, X[:, 1].max() + 1\n",
    "\n",
    "xx, yy = np.meshgrid(np.arange(x_min, x_max, 0.1), np.arange(y_min, y_max, 0.1))\n",
    "\n",
    "f, axarr = plt.subplots(figsize=(10, 8))\n",
    "\n",
    "print(np.c_[xx.ravel(), yy.ravel()])\n",
    "\n",
    "#Z = np.array(rule_predict(2, \"(petal_length_cm > 5.0 or petal_length_cm < 3.0) and (petal_width_cm > 1.7)\", np.c_[xx.ravel(), yy.ravel()]))\n",
    "Z = np.array(predicate_rule_predict(2, \"(petal_length_cm > 5.35) or (petal_width_cm > 1.65) or (petal_width_cm < 1.7) or (petal_length_cm > 4.85 and petal_width_cm <= 1.55)\", np.c_[xx.ravel(), yy.ravel()]))\n",
    "Z = Z.reshape(xx.shape)\n",
    "\n",
    "axarr.contourf(xx, yy, Z, alpha=0.4)\n",
    "axarr.scatter(X[:, 0], X[:, 1], c=Y, s=20, edgecolor='k')\n",
    "axarr.set_title(tt)\n",
    "\n",
    "plt.show()"
   ]
  },
  {
   "cell_type": "code",
   "execution_count": null,
   "metadata": {},
   "outputs": [],
   "source": [
    "Z"
   ]
  },
  {
   "cell_type": "markdown",
   "metadata": {},
   "source": [
    "### Here on the same dataset we try to create one big or rule"
   ]
  },
  {
   "cell_type": "code",
   "execution_count": null,
   "metadata": {},
   "outputs": [],
   "source": [
    "rule_dict = {}\n",
    "var_dict = {}\n",
    "\n",
    "# First create one big expression from all rules\n",
    "simplified = sympify(create_big_or_rule(_rf_rules_set), evaluate=False)\n",
    "\n",
    "# Then, apply simplification function to it.\n",
    "l = simplify_logic(simplified)\n",
    " t\n",
    "print_final_rule(l)"
   ]
  },
  {
   "cell_type": "code",
   "execution_count": null,
   "metadata": {},
   "outputs": [],
   "source": [
    "\"(petal_length_cm, '>', 4.95) | (petal_width_cm, '>', 1.7)\""
   ]
  },
  {
   "cell_type": "code",
   "execution_count": null,
   "metadata": {},
   "outputs": [],
   "source": [
    "rule_dict = {}\n",
    "var_dict = {}\n",
    "\n",
    "# First create one big expression from all rules\n",
    "simplified = sympify(create_big_or_rule(rf_rules_set), evaluate=False)\n",
    "\n",
    "# Then, apply simplification function to it.\n",
    "l = simplify_logic(simplified)\n",
    "\n",
    "print_final_rule(l)"
   ]
  },
  {
   "cell_type": "code",
   "execution_count": null,
   "metadata": {},
   "outputs": [],
   "source": [
    "# Je mozne odstranit (0, 3, '<=', 0.8) alebo (0, 3, '<=', 0.75) ? "
   ]
  },
  {
   "cell_type": "markdown",
   "metadata": {},
   "source": [
    "----"
   ]
  },
  {
   "cell_type": "markdown",
   "metadata": {},
   "source": [
    "## Getting paths for each tree"
   ]
  },
  {
   "cell_type": "code",
   "execution_count": null,
   "metadata": {},
   "outputs": [],
   "source": [
    "viz_tree(rfclf.estimators_[0], data['class'].unique(), feature_names_array)"
   ]
  },
  {
   "cell_type": "code",
   "execution_count": null,
   "metadata": {},
   "outputs": [],
   "source": [
    "# Final combined rules generated by Random Forest and reduced\n",
    "\n",
    "\"(petal_length_cm, '>', 4.95) | (petal_width_cm, '>', 1.7)\""
   ]
  },
  {
   "cell_type": "code",
   "execution_count": null,
   "metadata": {},
   "outputs": [],
   "source": [
    "rfclf.estimators_[0].tree_.feature"
   ]
  },
  {
   "cell_type": "code",
   "execution_count": null,
   "metadata": {},
   "outputs": [],
   "source": [
    "data['class'].unique()"
   ]
  },
  {
   "cell_type": "code",
   "execution_count": null,
   "metadata": {},
   "outputs": [],
   "source": [
    "lst = []\n",
    "t1_paths = set()\n",
    "\n",
    "get_paths_for(\"Iris-virginica\", rfclf.estimators_[0].tree_, 0, lst, t1_paths, '<=')\n",
    "t1_paths"
   ]
  },
  {
   "cell_type": "code",
   "execution_count": null,
   "metadata": {},
   "outputs": [],
   "source": [
    "create_big_or_rule(t1_paths)"
   ]
  },
  {
   "cell_type": "code",
   "execution_count": null,
   "metadata": {},
   "outputs": [],
   "source": [
    "rule_dict = {}\n",
    "var_dict = {}\n",
    "\n",
    "# Simplify rule sets for this rf tree\n",
    "print_final_rule(simplify_logic(sympify(create_big_or_rule(t1_paths), evaluate=False)))"
   ]
  },
  {
   "cell_type": "code",
   "execution_count": null,
   "metadata": {},
   "outputs": [],
   "source": [
    "t1_paths = redundancy_condition_removal(t1_paths)\n",
    "t1_paths"
   ]
  },
  {
   "cell_type": "code",
   "execution_count": null,
   "metadata": {},
   "outputs": [],
   "source": [
    "rule_dict = {}\n",
    "var_dict = {}\n",
    "\n",
    "# Simplify rule sets for this rf tree\n",
    "print_final_rule(simplify_logic(sympify(create_big_or_rule(t1_paths), evaluate=False)))"
   ]
  },
  {
   "cell_type": "markdown",
   "metadata": {},
   "source": [
    "---\n",
    "## Subtree 2"
   ]
  },
  {
   "cell_type": "code",
   "execution_count": null,
   "metadata": {
    "scrolled": false
   },
   "outputs": [],
   "source": [
    "viz_tree(rfclf.estimators_[1], data['class'].unique(), feature_names_array)"
   ]
  },
  {
   "cell_type": "code",
   "execution_count": null,
   "metadata": {},
   "outputs": [],
   "source": [
    "# Final combined rules generated by Random Forest and reduced\n",
    "\n",
    "\"(petal_length_cm, '>', 4.95) | (petal_width_cm, '>', 1.7)\""
   ]
  },
  {
   "cell_type": "code",
   "execution_count": null,
   "metadata": {},
   "outputs": [],
   "source": [
    "rfclf.estimators_[1].tree_.feature"
   ]
  },
  {
   "cell_type": "code",
   "execution_count": null,
   "metadata": {},
   "outputs": [],
   "source": [
    "lst = []\n",
    "t2_paths = set()\n",
    "\n",
    "get_paths_for(\"Iris-virginica\", rfclf.estimators_[1].tree_, 0, lst, t2_paths, '<=')\n",
    "t2_paths"
   ]
  },
  {
   "cell_type": "code",
   "execution_count": null,
   "metadata": {},
   "outputs": [],
   "source": [
    "rule_dict = {}\n",
    "var_dict = {}\n",
    "\n",
    "# Simplify rule sets for this rf tree\n",
    "print_final_rule(simplify_logic(sympify(create_big_or_rule(t2_paths), evaluate=False)))"
   ]
  },
  {
   "cell_type": "markdown",
   "metadata": {},
   "source": [
    "### Now we try to remove redundant nodes"
   ]
  },
  {
   "cell_type": "code",
   "execution_count": null,
   "metadata": {},
   "outputs": [],
   "source": [
    "t2_paths = redundancy_condition_removal(t2_paths)\n",
    "t2_paths"
   ]
  },
  {
   "cell_type": "code",
   "execution_count": null,
   "metadata": {},
   "outputs": [],
   "source": [
    "rule_dict = {}\n",
    "var_dict = {}\n",
    "\n",
    "# Simplify rule sets for this rf tree\n",
    "print_final_rule(simplify_logic(sympify(create_big_or_rule(t2_paths), evaluate=False)))"
   ]
  },
  {
   "cell_type": "code",
   "execution_count": null,
   "metadata": {},
   "outputs": [],
   "source": [
    "3) Draw descision boundaries.\n",
    "4) Moon dataset generator."
   ]
  },
  {
   "cell_type": "markdown",
   "metadata": {},
   "source": [
    "---\n",
    "## Subtree 3"
   ]
  },
  {
   "cell_type": "code",
   "execution_count": null,
   "metadata": {
    "scrolled": false
   },
   "outputs": [],
   "source": [
    "viz_tree(rfclf.estimators_[2], data['class'].unique(), feature_names_array)"
   ]
  },
  {
   "cell_type": "code",
   "execution_count": null,
   "metadata": {},
   "outputs": [],
   "source": [
    "# Final combined rules generated by Random Forest and reduced\n",
    "\n",
    "\"(petal_length_cm, '>', 4.95) | (petal_width_cm, '>', 1.7)\""
   ]
  },
  {
   "cell_type": "code",
   "execution_count": null,
   "metadata": {},
   "outputs": [],
   "source": [
    "rfclf.estimators_[2].tree_.feature"
   ]
  },
  {
   "cell_type": "code",
   "execution_count": null,
   "metadata": {},
   "outputs": [],
   "source": [
    "lst = []\n",
    "t3_paths = set()\n",
    "\n",
    "get_paths_for(\"Iris-virginica\", rfclf.estimators_[2].tree_, 0, lst, t3_paths, '<=')\n",
    "t3_paths"
   ]
  },
  {
   "cell_type": "code",
   "execution_count": null,
   "metadata": {},
   "outputs": [],
   "source": [
    "rule_dict = {}\n",
    "var_dict = {}\n",
    "\n",
    "# Simplify rule sets for this rf tree\n",
    "print_final_rule(simplify_logic(sympify(create_big_or_rule(t3_paths), evaluate=False)))"
   ]
  },
  {
   "cell_type": "code",
   "execution_count": null,
   "metadata": {},
   "outputs": [],
   "source": [
    "t3_paths = redundancy_condition_removal(t3_paths)\n",
    "t3_paths"
   ]
  },
  {
   "cell_type": "code",
   "execution_count": null,
   "metadata": {},
   "outputs": [],
   "source": [
    "rule_dict = {}\n",
    "var_dict = {}\n",
    "\n",
    "# Simplify rule sets for this rf tree\n",
    "print_final_rule(simplify_logic(sympify(create_big_or_rule(t3_paths), evaluate=False)))"
   ]
  },
  {
   "cell_type": "markdown",
   "metadata": {},
   "source": [
    "---\n",
    "## Subtree 4"
   ]
  },
  {
   "cell_type": "code",
   "execution_count": null,
   "metadata": {
    "scrolled": false
   },
   "outputs": [],
   "source": [
    "viz_tree(rfclf.estimators_[3], data['class'].unique(), feature_names_array)"
   ]
  },
  {
   "cell_type": "code",
   "execution_count": null,
   "metadata": {},
   "outputs": [],
   "source": [
    "# Final combined rules generated by Random Forest and reduced\n",
    "\n",
    "\"(petal_length_cm, '>', 4.95) | (petal_width_cm, '>', 1.7)\""
   ]
  },
  {
   "cell_type": "code",
   "execution_count": null,
   "metadata": {},
   "outputs": [],
   "source": [
    "rfclf.estimators_[3].tree_.feature"
   ]
  },
  {
   "cell_type": "code",
   "execution_count": null,
   "metadata": {},
   "outputs": [],
   "source": [
    "lst = []\n",
    "t4_paths = set()\n",
    "\n",
    "get_paths_for(\"Iris-virginica\", rfclf.estimators_[3].tree_, 0, lst, t4_paths, '<=')\n",
    "t4_paths"
   ]
  },
  {
   "cell_type": "code",
   "execution_count": null,
   "metadata": {},
   "outputs": [],
   "source": [
    "rule_dict = {}\n",
    "var_dict = {}\n",
    "\n",
    "# Simplify rule sets for this rf tree\n",
    "print_final_rule(simplify_logic(sympify(create_big_or_rule(t4_paths), evaluate=False)))"
   ]
  },
  {
   "cell_type": "markdown",
   "metadata": {},
   "source": [
    "---\n",
    "## Subtree 5"
   ]
  },
  {
   "cell_type": "code",
   "execution_count": null,
   "metadata": {
    "scrolled": false
   },
   "outputs": [],
   "source": [
    "viz_tree(rfclf.estimators_[4], data['class'].unique(), feature_names_array)"
   ]
  },
  {
   "cell_type": "code",
   "execution_count": null,
   "metadata": {},
   "outputs": [],
   "source": [
    "# Final combined rules generated by Random Forest and reduced\n",
    "\n",
    "\"(petal_length_cm, '>', 4.95) | (petal_width_cm, '>', 1.7)\""
   ]
  },
  {
   "cell_type": "code",
   "execution_count": null,
   "metadata": {},
   "outputs": [],
   "source": [
    "lst = []\n",
    "t5_paths = set()\n",
    "\n",
    "get_paths_for(\"Iris-setosa\", rfclf.estimators_[4].tree_, 0, lst, t5_paths, '<=')\n",
    "t5_paths"
   ]
  },
  {
   "cell_type": "code",
   "execution_count": null,
   "metadata": {},
   "outputs": [],
   "source": [
    "rule_dict = {}\n",
    "var_dict = {}\n",
    "\n",
    "# Simplify rule sets for this rf tree\n",
    "print_final_rule(simplify_logic(sympify(create_big_or_rule(t5_paths), evaluate=False)))"
   ]
  },
  {
   "cell_type": "code",
   "execution_count": null,
   "metadata": {},
   "outputs": [],
   "source": [
    "t5_paths = redundancy_condition_removal(t5_paths)\n",
    "t5_paths"
   ]
  },
  {
   "cell_type": "code",
   "execution_count": null,
   "metadata": {},
   "outputs": [],
   "source": [
    "rule_dict = {}\n",
    "var_dict = {}\n",
    "\n",
    "# Simplify rule sets for this rf tree\n",
    "print_final_rule(simplify_logic(sympify(create_big_or_rule(t5_paths), evaluate=False)))"
   ]
  },
  {
   "cell_type": "markdown",
   "metadata": {},
   "source": [
    "----\n",
    "### Iris-Setosa"
   ]
  },
  {
   "cell_type": "code",
   "execution_count": null,
   "metadata": {},
   "outputs": [],
   "source": [
    "viz_tree(rfclf.estimators_[0], data['class'].unique(), feature_names_array)"
   ]
  },
  {
   "cell_type": "code",
   "execution_count": null,
   "metadata": {},
   "outputs": [],
   "source": [
    "lst = []\n",
    "t1_paths = set()\n",
    "get_paths_for(\"Iris-setosa\", rfclf.estimators_[0].tree_, 0, lst, t1_paths, '<=')\n",
    "print(\"Paths= \")\n",
    "print(t1_paths)\n",
    "\n",
    "\n",
    "rule_dict = {}\n",
    "var_dict = {}\n",
    "\n",
    "# Simplify rule sets for this rf tree\n",
    "print(\" \")\n",
    "print(\"Simplified Rules= \")\n",
    "print(print_final_rule(simplify_logic(sympify(create_big_or_rule(t1_paths), evaluate=False))))\n",
    "\n",
    "\n",
    "# ------- Redundancy removal ------- #\n",
    "t1_paths = redundancy_condition_removal(t1_paths)\n",
    "print(\" \")\n",
    "print(\"Redundant conditions removed paths= \")\n",
    "print(t1_paths)\n",
    "\n",
    "\n",
    "rule_dict = {}\n",
    "var_dict = {}\n",
    "\n",
    "# Simplify rule sets for this rf tree\n",
    "print(\" \")\n",
    "print(\"Simplified after redudancy rules= \")\n",
    "print(print_final_rule(simplify_logic(sympify(create_big_or_rule(t1_paths), evaluate=False))))"
   ]
  },
  {
   "cell_type": "markdown",
   "metadata": {},
   "source": [
    "##### Subtree 2"
   ]
  },
  {
   "cell_type": "code",
   "execution_count": null,
   "metadata": {},
   "outputs": [],
   "source": [
    "viz_tree(rfclf.estimators_[1], data['class'].unique(), feature_names_array)"
   ]
  },
  {
   "cell_type": "code",
   "execution_count": null,
   "metadata": {},
   "outputs": [],
   "source": [
    "lst = []\n",
    "t1_paths = set()\n",
    "get_paths_for(\"Iris-setosa\", rfclf.estimators_[1].tree_, 0, lst, t1_paths, '<=')\n",
    "print(\"Paths= \")\n",
    "print(t1_paths)\n",
    "\n",
    "\n",
    "rule_dict = {}\n",
    "var_dict = {}\n",
    "\n",
    "# Simplify rule sets for this rf tree\n",
    "print(\" \")\n",
    "print(\"Simplified Rules= \")\n",
    "print(print_final_rule(simplify_logic(sympify(create_big_or_rule(t1_paths), evaluate=False))))\n",
    "\n",
    "\n",
    "# ------- Redundancy removal ------- #\n",
    "t1_paths = redundancy_condition_removal(t1_paths)\n",
    "print(\" \")\n",
    "print(\"Redundant conditions removed paths= \")\n",
    "print(t1_paths)\n",
    "\n",
    "\n",
    "rule_dict = {}\n",
    "var_dict = {}\n",
    "\n",
    "# Simplify rule sets for this rf tree\n",
    "print(\" \")\n",
    "print(\"Simplified after redudancy rules= \")\n",
    "print(print_final_rule(simplify_logic(sympify(create_big_or_rule(t1_paths), evaluate=False))))"
   ]
  },
  {
   "cell_type": "markdown",
   "metadata": {},
   "source": [
    "##### Subtree 3"
   ]
  },
  {
   "cell_type": "code",
   "execution_count": null,
   "metadata": {},
   "outputs": [],
   "source": [
    "viz_tree(rfclf.estimators_[2], data['class'].unique(), feature_names_array)"
   ]
  },
  {
   "cell_type": "code",
   "execution_count": null,
   "metadata": {},
   "outputs": [],
   "source": [
    "lst = []\n",
    "t1_paths = set()\n",
    "get_paths_for(\"Iris-setosa\", rfclf.estimators_[2].tree_, 0, lst, t1_paths, '<=')\n",
    "print(\"Paths= \")\n",
    "print(t1_paths)\n",
    "\n",
    "\n",
    "rule_dict = {}\n",
    "var_dict = {}\n",
    "\n",
    "# Simplify rule sets for this rf tree\n",
    "print(\" \")\n",
    "print(\"Simplified Rules= \")\n",
    "print(print_final_rule(simplify_logic(sympify(create_big_or_rule(t1_paths), evaluate=False))))\n",
    "\n",
    "\n",
    "# ------- Redundancy removal ------- #\n",
    "t1_paths = redundancy_condition_removal(t1_paths)\n",
    "print(\" \")\n",
    "print(\"Redundant conditions removed paths= \")\n",
    "print(t1_paths)\n",
    "\n",
    "\n",
    "rule_dict = {}\n",
    "var_dict = {}\n",
    "\n",
    "# Simplify rule sets for this rf tree\n",
    "print(\" \")\n",
    "print(\"Simplified after redudancy rules= \")\n",
    "print(print_final_rule(simplify_logic(sympify(create_big_or_rule(t1_paths), evaluate=False))))"
   ]
  },
  {
   "cell_type": "markdown",
   "metadata": {},
   "source": [
    "##### Subtree 4"
   ]
  },
  {
   "cell_type": "code",
   "execution_count": null,
   "metadata": {},
   "outputs": [],
   "source": [
    "viz_tree(rfclf.estimators_[3], data['class'].unique(), feature_names_array)"
   ]
  },
  {
   "cell_type": "code",
   "execution_count": null,
   "metadata": {},
   "outputs": [],
   "source": [
    "lst = []\n",
    "t1_paths = set()\n",
    "get_paths_for(\"Iris-setosa\", rfclf.estimators_[3].tree_, 0, lst, t1_paths, '<=')\n",
    "print(\"Paths= \")\n",
    "print(t1_paths)\n",
    "\n",
    "\n",
    "rule_dict = {}\n",
    "var_dict = {}\n",
    "\n",
    "# Simplify rule sets for this rf tree\n",
    "print(\" \")\n",
    "print(\"Simplified Rules= \")\n",
    "print(print_final_rule(simplify_logic(sympify(create_big_or_rule(t1_paths), evaluate=False))))\n",
    "\n",
    "\n",
    "# ------- Redundancy removal ------- #\n",
    "t1_paths = redundancy_condition_removal(t1_paths)\n",
    "print(\" \")\n",
    "print(\"Redundant conditions removed paths= \")\n",
    "print(t1_paths)\n",
    "\n",
    "\n",
    "rule_dict = {}\n",
    "var_dict = {}\n",
    "\n",
    "# Simplify rule sets for this rf tree\n",
    "print(\" \")\n",
    "print(\"Simplified after redudancy rules= \")\n",
    "print(print_final_rule(simplify_logic(sympify(create_big_or_rule(t1_paths), evaluate=False))))"
   ]
  },
  {
   "cell_type": "markdown",
   "metadata": {},
   "source": [
    "##### Subtree 5"
   ]
  },
  {
   "cell_type": "code",
   "execution_count": null,
   "metadata": {},
   "outputs": [],
   "source": [
    "viz_tree(rfclf.estimators_[4], data['class'].unique(), feature_names_array)"
   ]
  },
  {
   "cell_type": "code",
   "execution_count": null,
   "metadata": {},
   "outputs": [],
   "source": [
    "lst = []\n",
    "t1_paths = set()\n",
    "get_paths_for(\"Iris-setosa\", rfclf.estimators_[4].tree_, 0, lst, t1_paths, '<=')\n",
    "print(\"Paths= \")\n",
    "print(t1_paths)\n",
    "\n",
    "\n",
    "rule_dict = {}\n",
    "var_dict = {}\n",
    "\n",
    "# Simplify rule sets for this rf tree\n",
    "print(\" \")\n",
    "print(\"Simplified Rules= \")\n",
    "print(print_final_rule(simplify_logic(sympify(create_big_or_rule(t1_paths), evaluate=False))))\n",
    "\n",
    "\n",
    "# ------- Redundancy removal ------- #\n",
    "t1_paths = redundancy_condition_removal(t1_paths)\n",
    "print(\" \")\n",
    "print(\"Redundant conditions removed paths= \")\n",
    "print(t1_paths)\n",
    "\n",
    "\n",
    "rule_dict = {}\n",
    "var_dict = {}\n",
    "\n",
    "# Simplify rule sets for this rf tree\n",
    "print(\" \")\n",
    "print(\"Simplified after redudancy rules= \")\n",
    "print(print_final_rule(simplify_logic(sympify(create_big_or_rule(t1_paths), evaluate=False))))"
   ]
  },
  {
   "cell_type": "markdown",
   "metadata": {},
   "source": [
    "## TODO: Skusit urobit funkciu ktoru bude mozno hodit do sympify\n",
    "- Tato funkcia bude brat ako parametre simplified rules a redundancy simplified rules s ktorych urobi dalsi simplify"
   ]
  },
  {
   "cell_type": "code",
   "execution_count": null,
   "metadata": {},
   "outputs": [],
   "source": [
    "rf_rules_set = combine_rules(\"Iris-setosa\", rfclf)\n",
    "rf_rules_set"
   ]
  },
  {
   "cell_type": "markdown",
   "metadata": {},
   "source": [
    "### Try to get one big rule from all generated rules"
   ]
  },
  {
   "cell_type": "code",
   "execution_count": null,
   "metadata": {},
   "outputs": [],
   "source": [
    "rule_dict = {}\n",
    "var_dict = {}\n",
    "\n",
    "# First create one big expression from all rules\n",
    "simplified = sympify(create_big_or_rule(rf_rules_set), evaluate=False)\n",
    "\n",
    "# Then, apply simplification function to it.\n",
    "l = simplify_logic(simplified)\n",
    "\n",
    "print_final_rule(l)"
   ]
  },
  {
   "cell_type": "markdown",
   "metadata": {},
   "source": [
    "## Redundancy remove"
   ]
  },
  {
   "cell_type": "code",
   "execution_count": null,
   "metadata": {},
   "outputs": [],
   "source": [
    "_rf_rules_set = redundancy_condition_removal(rf_rules_set)\n",
    "_rf_rules_set"
   ]
  },
  {
   "cell_type": "markdown",
   "metadata": {},
   "source": [
    "### Try to get one big rule from all redudancy removed rules"
   ]
  },
  {
   "cell_type": "code",
   "execution_count": null,
   "metadata": {},
   "outputs": [],
   "source": [
    "rule_dict = {}\n",
    "var_dict = {}\n",
    "\n",
    "# First create one big expression from all rules\n",
    "simplified = sympify(create_big_or_rule(_rf_rules_set), evaluate=False)\n",
    "\n",
    "# Then, apply simplification function to it.\n",
    "l = simplify_logic(simplified)\n",
    "\n",
    "print_final_rule(l)"
   ]
  },
  {
   "cell_type": "markdown",
   "metadata": {},
   "source": [
    "------"
   ]
  },
  {
   "cell_type": "markdown",
   "metadata": {},
   "source": [
    "# Problems\n",
    "1. Extremne pomale\n",
    "2. Nie vzdy po urobeni redundancy removal je redukoanie vyrazu optimalne\n",
    "3. Da sa nieco robit s tym post-rule-prunning\n",
    "4. Hypoteza?\n",
    "5. Redudancy removal z finalenho vyrazu\n",
    "6. Zlucovat podobne vyrazy medzi sebou?\n",
    "    a) (2 <= 5.6) & (1 > 1.5)\n",
    "    b) (2 <= 1.4) & (1 > 1.8)"
   ]
  },
  {
   "cell_type": "code",
   "execution_count": null,
   "metadata": {},
   "outputs": [],
   "source": [
    "------\n",
    "1) Co v pripade ked pouzijem AND aby som spojil do jedneho velkeho pravidla, a vznikne negacia? A > 1.7 & A <= 1.7\n",
    "2) Ako vizualizovat viacero atributov (mozno nieco s PCA)? (Answer: data generators - datasets)\n",
    "3) Mal by vizualizovat tie vygenerovane pravidla, alebo predikcie ktore tieto davaju? (2 obrazky cez, alpha)\n",
    "4) Co s vygenerovanymi vizualizaciami?\n",
    "5) Ako skombinovat vsetko (prunning, redundacny removal, ohodnotenie pravidiel) (vizualizacie?)\n",
    "6) Zavisi dolezitost atributu od hlbky kde je pouzity v strome? (dobry napad pre buducnost)\n",
    "7) Diamonds: https://www.kaggle.com/shivam2503/diamonds ?\n",
    "8) Ked mam A * !A tak toto mozem vyhodit?\n",
    "\n",
    "------\n",
    "> Diamant dataset.\n",
    "> Neda sa najst jedoduchsia forma, lebo sa tie pravidla biju medzi sebou, (do praci zahrnut)."
   ]
  },
  {
   "cell_type": "code",
   "execution_count": null,
   "metadata": {},
   "outputs": [],
   "source": [
    "### Co tu? Poniekedy je to_dnf() najkradsie, poniekedy to_dnf().to_cnf() alebo iba to_cnf()?"
   ]
  },
  {
   "cell_type": "markdown",
   "metadata": {},
   "source": [
    "## TODO:\n",
    "1) Redundancy removal z finalneho pravidla\n",
    "2) Vypisat najlepsie pravidla v ramci experimentu\n",
    "3) Dorobit funkciu ktora zjednoti vygenerovane pravidla pre vsetky classy a vyhodi vizualizaciu + presnost\n",
    "4) Dorobit funkciu explain\n",
    "5) Skusit spustit na diamond datasete\n",
    "6) Skusit na moon datasete\n",
    "7) "
   ]
  }
 ],
 "metadata": {
  "kernelspec": {
   "display_name": "Python 3",
   "language": "python",
   "name": "python3"
  },
  "language_info": {
   "codemirror_mode": {
    "name": "ipython",
    "version": 3
   },
   "file_extension": ".py",
   "mimetype": "text/x-python",
   "name": "python",
   "nbconvert_exporter": "python",
   "pygments_lexer": "ipython3",
   "version": "3.7.1"
  }
 },
 "nbformat": 4,
 "nbformat_minor": 2
}
