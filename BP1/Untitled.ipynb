{
 "cells": [
  {
   "cell_type": "code",
   "execution_count": null,
   "metadata": {},
   "outputs": [],
   "source": []
  },
  {
   "cell_type": "code",
   "execution_count": null,
   "metadata": {},
   "outputs": [],
   "source": [
    "a = symbols('2>2.5')\n",
    "b = symbols('0<=6.05')\n",
    "f = symbols('2<=4.75') #Has not\n",
    "j = symbols('3<=1.7')\n",
    "k = symbols('2>2.45')\n",
    "g = symbols('2<=4.95')\n",
    "c = symbols('2>2.6')\n",
    "d = symbols('1<=2.55')\n",
    "e = symbols('2<=4.85') #Has not\n",
    "h = symbols('3<=1.75')\n",
    "i = symbols('3>0.8')\n",
    "l = symbols('1<=2.45')\n",
    "m = symbols('3>1.45')"
   ]
  }
 ],
 "metadata": {
  "kernelspec": {
   "display_name": "Python 3",
   "language": "python",
   "name": "python3"
  },
  "language_info": {
   "codemirror_mode": {
    "name": "ipython",
    "version": 3
   },
   "file_extension": ".py",
   "mimetype": "text/x-python",
   "name": "python",
   "nbconvert_exporter": "python",
   "pygments_lexer": "ipython3",
   "version": "3.7.1"
  }
 },
 "nbformat": 4,
 "nbformat_minor": 2
}
