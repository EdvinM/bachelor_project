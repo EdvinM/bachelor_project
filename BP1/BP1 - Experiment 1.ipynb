{
 "cells": [
  {
   "cell_type": "markdown",
   "metadata": {},
   "source": [
    "# BP1 - Interpreting random forest using decision rules"
   ]
  },
  {
   "cell_type": "markdown",
   "metadata": {},
   "source": [
    "-------\n",
    "# Experiment 1"
   ]
  },
  {
   "cell_type": "code",
   "execution_count": 1,
   "metadata": {},
   "outputs": [],
   "source": [
    "%matplotlib inline\n",
    "import pandas as pd\n",
    "import numpy as np\n",
    "import matplotlib.pyplot as plt\n",
    "import seaborn as sns\n",
    "from sklearn import preprocessing"
   ]
  },
  {
   "cell_type": "code",
   "execution_count": 2,
   "metadata": {},
   "outputs": [],
   "source": [
    "import operator\n",
    "\n",
    "def get_truth(inp, relate, cut):\n",
    "    ops = {'>': operator.gt,\n",
    "           '<': operator.lt,\n",
    "           '>=': operator.ge,\n",
    "           '<=': operator.le,\n",
    "           '=': operator.eq}\n",
    "    return ops[relate](inp, cut)"
   ]
  },
  {
   "cell_type": "code",
   "execution_count": 3,
   "metadata": {},
   "outputs": [],
   "source": [
    "from sklearn.exceptions import UndefinedMetricWarning\n",
    "import warnings\n",
    "\n",
    "warnings.filterwarnings(action='ignore', category=UndefinedMetricWarning)"
   ]
  },
  {
   "cell_type": "code",
   "execution_count": 4,
   "metadata": {},
   "outputs": [
    {
     "data": {
      "text/html": [
       "<div>\n",
       "<style scoped>\n",
       "    .dataframe tbody tr th:only-of-type {\n",
       "        vertical-align: middle;\n",
       "    }\n",
       "\n",
       "    .dataframe tbody tr th {\n",
       "        vertical-align: top;\n",
       "    }\n",
       "\n",
       "    .dataframe thead th {\n",
       "        text-align: right;\n",
       "    }\n",
       "</style>\n",
       "<table border=\"1\" class=\"dataframe\">\n",
       "  <thead>\n",
       "    <tr style=\"text-align: right;\">\n",
       "      <th></th>\n",
       "      <th>sepal_length_cm</th>\n",
       "      <th>sepal_width_cm</th>\n",
       "      <th>petal_length_cm</th>\n",
       "      <th>petal_width_cm</th>\n",
       "      <th>class</th>\n",
       "    </tr>\n",
       "  </thead>\n",
       "  <tbody>\n",
       "    <tr>\n",
       "      <th>0</th>\n",
       "      <td>5.1</td>\n",
       "      <td>3.5</td>\n",
       "      <td>1.4</td>\n",
       "      <td>0.2</td>\n",
       "      <td>Iris-setosa</td>\n",
       "    </tr>\n",
       "    <tr>\n",
       "      <th>1</th>\n",
       "      <td>4.9</td>\n",
       "      <td>3.0</td>\n",
       "      <td>1.4</td>\n",
       "      <td>0.2</td>\n",
       "      <td>Iris-setosa</td>\n",
       "    </tr>\n",
       "    <tr>\n",
       "      <th>2</th>\n",
       "      <td>4.7</td>\n",
       "      <td>3.2</td>\n",
       "      <td>1.3</td>\n",
       "      <td>0.2</td>\n",
       "      <td>Iris-setosa</td>\n",
       "    </tr>\n",
       "    <tr>\n",
       "      <th>3</th>\n",
       "      <td>4.6</td>\n",
       "      <td>3.1</td>\n",
       "      <td>1.5</td>\n",
       "      <td>0.2</td>\n",
       "      <td>Iris-setosa</td>\n",
       "    </tr>\n",
       "    <tr>\n",
       "      <th>4</th>\n",
       "      <td>5.0</td>\n",
       "      <td>3.6</td>\n",
       "      <td>1.4</td>\n",
       "      <td>0.2</td>\n",
       "      <td>Iris-setosa</td>\n",
       "    </tr>\n",
       "  </tbody>\n",
       "</table>\n",
       "</div>"
      ],
      "text/plain": [
       "   sepal_length_cm  sepal_width_cm  petal_length_cm  petal_width_cm  \\\n",
       "0              5.1             3.5              1.4             0.2   \n",
       "1              4.9             3.0              1.4             0.2   \n",
       "2              4.7             3.2              1.3             0.2   \n",
       "3              4.6             3.1              1.5             0.2   \n",
       "4              5.0             3.6              1.4             0.2   \n",
       "\n",
       "         class  \n",
       "0  Iris-setosa  \n",
       "1  Iris-setosa  \n",
       "2  Iris-setosa  \n",
       "3  Iris-setosa  \n",
       "4  Iris-setosa  "
      ]
     },
     "execution_count": 4,
     "metadata": {},
     "output_type": "execute_result"
    }
   ],
   "source": [
    "data = pd.read_csv('datasets/iris-data.csv')\n",
    "data.head()"
   ]
  },
  {
   "cell_type": "code",
   "execution_count": 5,
   "metadata": {},
   "outputs": [
    {
     "name": "stdout",
     "output_type": "stream",
     "text": [
      "<class 'pandas.core.frame.DataFrame'>\n",
      "RangeIndex: 150 entries, 0 to 149\n",
      "Data columns (total 5 columns):\n",
      "sepal_length_cm    150 non-null float64\n",
      "sepal_width_cm     150 non-null float64\n",
      "petal_length_cm    150 non-null float64\n",
      "petal_width_cm     145 non-null float64\n",
      "class              150 non-null object\n",
      "dtypes: float64(4), object(1)\n",
      "memory usage: 5.9+ KB\n"
     ]
    }
   ],
   "source": [
    "data.info()"
   ]
  },
  {
   "cell_type": "code",
   "execution_count": 6,
   "metadata": {},
   "outputs": [
    {
     "data": {
      "text/plain": [
       "Iris-virginica     50\n",
       "Iris-setosa        49\n",
       "Iris-versicolor    45\n",
       "versicolor          5\n",
       "Iris-setossa        1\n",
       "Name: class, dtype: int64"
      ]
     },
     "execution_count": 6,
     "metadata": {},
     "output_type": "execute_result"
    }
   ],
   "source": [
    "data['class'].value_counts()"
   ]
  },
  {
   "cell_type": "code",
   "execution_count": 7,
   "metadata": {},
   "outputs": [],
   "source": [
    "data.loc[data['class'] == 'Iris-setossa', 'class'] = 'Iris-setosa'\n",
    "data.loc[data['class'] == 'versicolor', 'class'] = 'Iris-versicolor'"
   ]
  },
  {
   "cell_type": "code",
   "execution_count": 8,
   "metadata": {},
   "outputs": [
    {
     "data": {
      "text/html": [
       "<div>\n",
       "<style scoped>\n",
       "    .dataframe tbody tr th:only-of-type {\n",
       "        vertical-align: middle;\n",
       "    }\n",
       "\n",
       "    .dataframe tbody tr th {\n",
       "        vertical-align: top;\n",
       "    }\n",
       "\n",
       "    .dataframe thead th {\n",
       "        text-align: right;\n",
       "    }\n",
       "</style>\n",
       "<table border=\"1\" class=\"dataframe\">\n",
       "  <thead>\n",
       "    <tr style=\"text-align: right;\">\n",
       "      <th></th>\n",
       "      <th>sepal_length_cm</th>\n",
       "      <th>sepal_width_cm</th>\n",
       "      <th>petal_length_cm</th>\n",
       "      <th>petal_width_cm</th>\n",
       "      <th>class</th>\n",
       "    </tr>\n",
       "  </thead>\n",
       "  <tbody>\n",
       "    <tr>\n",
       "      <th>0</th>\n",
       "      <td>5.1</td>\n",
       "      <td>3.5</td>\n",
       "      <td>1.4</td>\n",
       "      <td>0.2</td>\n",
       "      <td>Iris-setosa</td>\n",
       "    </tr>\n",
       "    <tr>\n",
       "      <th>1</th>\n",
       "      <td>4.9</td>\n",
       "      <td>3.0</td>\n",
       "      <td>1.4</td>\n",
       "      <td>0.2</td>\n",
       "      <td>Iris-setosa</td>\n",
       "    </tr>\n",
       "    <tr>\n",
       "      <th>2</th>\n",
       "      <td>4.7</td>\n",
       "      <td>3.2</td>\n",
       "      <td>1.3</td>\n",
       "      <td>0.2</td>\n",
       "      <td>Iris-setosa</td>\n",
       "    </tr>\n",
       "    <tr>\n",
       "      <th>3</th>\n",
       "      <td>4.6</td>\n",
       "      <td>3.1</td>\n",
       "      <td>1.5</td>\n",
       "      <td>0.2</td>\n",
       "      <td>Iris-setosa</td>\n",
       "    </tr>\n",
       "    <tr>\n",
       "      <th>4</th>\n",
       "      <td>5.0</td>\n",
       "      <td>3.6</td>\n",
       "      <td>1.4</td>\n",
       "      <td>0.2</td>\n",
       "      <td>Iris-setosa</td>\n",
       "    </tr>\n",
       "  </tbody>\n",
       "</table>\n",
       "</div>"
      ],
      "text/plain": [
       "   sepal_length_cm  sepal_width_cm  petal_length_cm  petal_width_cm  \\\n",
       "0              5.1             3.5              1.4             0.2   \n",
       "1              4.9             3.0              1.4             0.2   \n",
       "2              4.7             3.2              1.3             0.2   \n",
       "3              4.6             3.1              1.5             0.2   \n",
       "4              5.0             3.6              1.4             0.2   \n",
       "\n",
       "         class  \n",
       "0  Iris-setosa  \n",
       "1  Iris-setosa  \n",
       "2  Iris-setosa  \n",
       "3  Iris-setosa  \n",
       "4  Iris-setosa  "
      ]
     },
     "execution_count": 8,
     "metadata": {},
     "output_type": "execute_result"
    }
   ],
   "source": [
    "data.head()"
   ]
  },
  {
   "cell_type": "code",
   "execution_count": 9,
   "metadata": {},
   "outputs": [
    {
     "data": {
      "text/plain": [
       "array(['Iris-setosa', 'Iris-versicolor', 'Iris-virginica'], dtype=object)"
      ]
     },
     "execution_count": 9,
     "metadata": {},
     "output_type": "execute_result"
    }
   ],
   "source": [
    "data['class'].unique()"
   ]
  },
  {
   "cell_type": "code",
   "execution_count": 10,
   "metadata": {},
   "outputs": [
    {
     "name": "stderr",
     "output_type": "stream",
     "text": [
      "/Users/edvin/anaconda3/lib/python3.7/site-packages/statsmodels/nonparametric/kde.py:448: RuntimeWarning: invalid value encountered in greater\n",
      "  X = X[np.logical_and(X > clip[0], X < clip[1])] # won't work for two columns.\n",
      "/Users/edvin/anaconda3/lib/python3.7/site-packages/statsmodels/nonparametric/kde.py:448: RuntimeWarning: invalid value encountered in less\n",
      "  X = X[np.logical_and(X > clip[0], X < clip[1])] # won't work for two columns.\n",
      "/Users/edvin/anaconda3/lib/python3.7/site-packages/scipy/stats/stats.py:1713: FutureWarning: Using a non-tuple sequence for multidimensional indexing is deprecated; use `arr[tuple(seq)]` instead of `arr[seq]`. In the future this will be interpreted as an array index, `arr[np.array(seq)]`, which will result either in an error or a different result.\n",
      "  return np.add.reduce(sorted[indexer] * weights, axis=axis) / sumval\n"
     ]
    },
    {
     "data": {
      "text/plain": [
       "<matplotlib.axes._subplots.AxesSubplot at 0x1a1ff7f518>"
      ]
     },
     "execution_count": 10,
     "metadata": {},
     "output_type": "execute_result"
    },
    {
     "data": {
      "image/png": "[encoded data removed]",
      "text/plain": [
       "<Figure size 432x288 with 1 Axes>"
      ]
     },
     "metadata": {
      "needs_background": "light"
     },
     "output_type": "display_data"
    }
   ],
   "source": [
    "sns.kdeplot(data.loc[data['class'] == 'Iris-setosa', 'petal_width_cm'], shade=True, label='setosa')\n",
    "sns.kdeplot(data.loc[data['class'] == 'Iris-versicolor', 'petal_width_cm'], shade=True, label='versicolor')\n",
    "sns.kdeplot(data.loc[data['class'] == 'Iris-virginica', 'petal_width_cm'], shade=True, label='virginica')"
   ]
  },
  {
   "cell_type": "code",
   "execution_count": 11,
   "metadata": {},
   "outputs": [
    {
     "data": {
      "text/html": [
       "<div>\n",
       "<style scoped>\n",
       "    .dataframe tbody tr th:only-of-type {\n",
       "        vertical-align: middle;\n",
       "    }\n",
       "\n",
       "    .dataframe tbody tr th {\n",
       "        vertical-align: top;\n",
       "    }\n",
       "\n",
       "    .dataframe thead th {\n",
       "        text-align: right;\n",
       "    }\n",
       "</style>\n",
       "<table border=\"1\" class=\"dataframe\">\n",
       "  <thead>\n",
       "    <tr style=\"text-align: right;\">\n",
       "      <th></th>\n",
       "      <th>sepal_length_cm</th>\n",
       "      <th>sepal_width_cm</th>\n",
       "      <th>petal_length_cm</th>\n",
       "      <th>petal_width_cm</th>\n",
       "      <th>class</th>\n",
       "    </tr>\n",
       "  </thead>\n",
       "  <tbody>\n",
       "    <tr>\n",
       "      <th>7</th>\n",
       "      <td>5.0</td>\n",
       "      <td>3.4</td>\n",
       "      <td>1.5</td>\n",
       "      <td>NaN</td>\n",
       "      <td>Iris-setosa</td>\n",
       "    </tr>\n",
       "    <tr>\n",
       "      <th>8</th>\n",
       "      <td>4.4</td>\n",
       "      <td>2.9</td>\n",
       "      <td>1.4</td>\n",
       "      <td>NaN</td>\n",
       "      <td>Iris-setosa</td>\n",
       "    </tr>\n",
       "    <tr>\n",
       "      <th>9</th>\n",
       "      <td>4.9</td>\n",
       "      <td>3.1</td>\n",
       "      <td>1.5</td>\n",
       "      <td>NaN</td>\n",
       "      <td>Iris-setosa</td>\n",
       "    </tr>\n",
       "    <tr>\n",
       "      <th>10</th>\n",
       "      <td>5.4</td>\n",
       "      <td>3.7</td>\n",
       "      <td>1.5</td>\n",
       "      <td>NaN</td>\n",
       "      <td>Iris-setosa</td>\n",
       "    </tr>\n",
       "    <tr>\n",
       "      <th>11</th>\n",
       "      <td>4.8</td>\n",
       "      <td>3.4</td>\n",
       "      <td>1.6</td>\n",
       "      <td>NaN</td>\n",
       "      <td>Iris-setosa</td>\n",
       "    </tr>\n",
       "  </tbody>\n",
       "</table>\n",
       "</div>"
      ],
      "text/plain": [
       "    sepal_length_cm  sepal_width_cm  petal_length_cm  petal_width_cm  \\\n",
       "7               5.0             3.4              1.5             NaN   \n",
       "8               4.4             2.9              1.4             NaN   \n",
       "9               4.9             3.1              1.5             NaN   \n",
       "10              5.4             3.7              1.5             NaN   \n",
       "11              4.8             3.4              1.6             NaN   \n",
       "\n",
       "          class  \n",
       "7   Iris-setosa  \n",
       "8   Iris-setosa  \n",
       "9   Iris-setosa  \n",
       "10  Iris-setosa  \n",
       "11  Iris-setosa  "
      ]
     },
     "execution_count": 11,
     "metadata": {},
     "output_type": "execute_result"
    }
   ],
   "source": [
    "data[data.isnull().any(axis=1)]"
   ]
  },
  {
   "cell_type": "code",
   "execution_count": 12,
   "metadata": {},
   "outputs": [],
   "source": [
    "setosa_petal_width_mean = data.loc[data['class'] == 'Iris-setosa', 'petal_width_cm'].mean()"
   ]
  },
  {
   "cell_type": "code",
   "execution_count": 13,
   "metadata": {},
   "outputs": [],
   "source": [
    "data.loc[(data['class'] == 'Iris-setosa') & data['petal_width_cm'].isnull(), 'petal_width_cm'] = setosa_petal_width_mean"
   ]
  },
  {
   "cell_type": "code",
   "execution_count": 14,
   "metadata": {},
   "outputs": [
    {
     "data": {
      "image/png": "[encoded data removed]",
      "text/plain": [
       "<Figure size 432x288 with 4 Axes>"
      ]
     },
     "metadata": {
      "needs_background": "light"
     },
     "output_type": "display_data"
    }
   ],
   "source": [
    "data.plot(kind='box', subplots=True, layout=(2,2), sharex=False, sharey=False)\n",
    "plt.show()"
   ]
  },
  {
   "cell_type": "code",
   "execution_count": 15,
   "metadata": {},
   "outputs": [
    {
     "data": {
      "text/plain": [
       "<seaborn.axisgrid.PairGrid at 0x1a202fc390>"
      ]
     },
     "execution_count": 15,
     "metadata": {},
     "output_type": "execute_result"
    },
    {
     "data": {
      "image/png": "[encoded data removed]",
      "text/plain": [
       "<Figure size 823.5x720 with 20 Axes>"
      ]
     },
     "metadata": {
      "needs_background": "light"
     },
     "output_type": "display_data"
    }
   ],
   "source": [
    "sns.pairplot(data, hue=\"class\")"
   ]
  },
  {
   "cell_type": "code",
   "execution_count": 16,
   "metadata": {},
   "outputs": [
    {
     "data": {
      "text/html": [
       "<div>\n",
       "<style scoped>\n",
       "    .dataframe tbody tr th:only-of-type {\n",
       "        vertical-align: middle;\n",
       "    }\n",
       "\n",
       "    .dataframe tbody tr th {\n",
       "        vertical-align: top;\n",
       "    }\n",
       "\n",
       "    .dataframe thead th {\n",
       "        text-align: right;\n",
       "    }\n",
       "</style>\n",
       "<table border=\"1\" class=\"dataframe\">\n",
       "  <thead>\n",
       "    <tr style=\"text-align: right;\">\n",
       "      <th></th>\n",
       "      <th>sepal_length_cm</th>\n",
       "      <th>sepal_width_cm</th>\n",
       "      <th>petal_length_cm</th>\n",
       "      <th>petal_width_cm</th>\n",
       "    </tr>\n",
       "  </thead>\n",
       "  <tbody>\n",
       "    <tr>\n",
       "      <th>sepal_length_cm</th>\n",
       "      <td>1.000000</td>\n",
       "      <td>0.066091</td>\n",
       "      <td>0.489083</td>\n",
       "      <td>0.478409</td>\n",
       "    </tr>\n",
       "    <tr>\n",
       "      <th>sepal_width_cm</th>\n",
       "      <td>0.066091</td>\n",
       "      <td>1.000000</td>\n",
       "      <td>-0.419796</td>\n",
       "      <td>-0.359236</td>\n",
       "    </tr>\n",
       "    <tr>\n",
       "      <th>petal_length_cm</th>\n",
       "      <td>0.489083</td>\n",
       "      <td>-0.419796</td>\n",
       "      <td>1.000000</td>\n",
       "      <td>0.961173</td>\n",
       "    </tr>\n",
       "    <tr>\n",
       "      <th>petal_width_cm</th>\n",
       "      <td>0.478409</td>\n",
       "      <td>-0.359236</td>\n",
       "      <td>0.961173</td>\n",
       "      <td>1.000000</td>\n",
       "    </tr>\n",
       "  </tbody>\n",
       "</table>\n",
       "</div>"
      ],
      "text/plain": [
       "                 sepal_length_cm  sepal_width_cm  petal_length_cm  \\\n",
       "sepal_length_cm         1.000000        0.066091         0.489083   \n",
       "sepal_width_cm          0.066091        1.000000        -0.419796   \n",
       "petal_length_cm         0.489083       -0.419796         1.000000   \n",
       "petal_width_cm          0.478409       -0.359236         0.961173   \n",
       "\n",
       "                 petal_width_cm  \n",
       "sepal_length_cm        0.478409  \n",
       "sepal_width_cm        -0.359236  \n",
       "petal_length_cm        0.961173  \n",
       "petal_width_cm         1.000000  "
      ]
     },
     "execution_count": 16,
     "metadata": {},
     "output_type": "execute_result"
    }
   ],
   "source": [
    "data.corr()"
   ]
  },
  {
   "cell_type": "code",
   "execution_count": 17,
   "metadata": {},
   "outputs": [
    {
     "data": {
      "text/plain": [
       "<matplotlib.axes._subplots.AxesSubplot at 0x10c92b4e0>"
      ]
     },
     "execution_count": 17,
     "metadata": {},
     "output_type": "execute_result"
    },
    {
     "data": {
      "image/png": "[encoded data removed]",
      "text/plain": [
       "<Figure size 720x576 with 2 Axes>"
      ]
     },
     "metadata": {
      "needs_background": "light"
     },
     "output_type": "display_data"
    }
   ],
   "source": [
    "fig, ax = plt.subplots(figsize=(10,8))\n",
    "sns.heatmap(data.corr(), ax=ax, annot=True, fmt=\".3f\")"
   ]
  },
  {
   "cell_type": "markdown",
   "metadata": {},
   "source": [
    "-----\n",
    "-----\n",
    "-----\n",
    "-----\n",
    "## Split to train & test datasets"
   ]
  },
  {
   "cell_type": "code",
   "execution_count": 18,
   "metadata": {},
   "outputs": [],
   "source": [
    "from sklearn import model_selection"
   ]
  },
  {
   "cell_type": "code",
   "execution_count": 19,
   "metadata": {},
   "outputs": [],
   "source": [
    "array = data.values\n",
    "X = array[:,0:4]\n",
    "Y = array[:,4]\n",
    "validation_size = 0.20\n",
    "seed = 7\n",
    "X_train, X_validation, Y_train, Y_validation = model_selection.train_test_split(X, Y, test_size=validation_size, random_state=seed)"
   ]
  },
  {
   "cell_type": "code",
   "execution_count": 20,
   "metadata": {},
   "outputs": [],
   "source": [
    "from sklearn import preprocessing\n",
    "le = preprocessing.LabelEncoder()\n",
    "Y_train = le.fit_transform(Y_train)\n",
    "Y_validation = le.fit_transform(Y_validation)"
   ]
  },
  {
   "cell_type": "markdown",
   "metadata": {},
   "source": [
    "## Pomocne funkcie"
   ]
  },
  {
   "cell_type": "code",
   "execution_count": 21,
   "metadata": {},
   "outputs": [],
   "source": [
    "import graphviz\n",
    "from sklearn import tree"
   ]
  },
  {
   "cell_type": "code",
   "execution_count": 22,
   "metadata": {},
   "outputs": [],
   "source": [
    "def viz_tree(clf, class_names, feature_names):\n",
    "    tree_ = tree.export_graphviz(clf, out_file = None, filled=True, rounded=True, class_names=class_names, feature_names=feature_names)\n",
    "    graph = graphviz.Source(tree_)\n",
    "    return graph"
   ]
  },
  {
   "cell_type": "markdown",
   "metadata": {},
   "source": [
    "-----"
   ]
  },
  {
   "cell_type": "markdown",
   "metadata": {},
   "source": [
    "## Natrenovanie rozhodovacieho stromu"
   ]
  },
  {
   "cell_type": "code",
   "execution_count": 23,
   "metadata": {},
   "outputs": [],
   "source": [
    "from sklearn.metrics import classification_report\n",
    "from sklearn.metrics import confusion_matrix\n",
    "from sklearn.metrics import accuracy_score\n",
    "\n",
    "from sklearn.tree import DecisionTreeClassifier"
   ]
  },
  {
   "cell_type": "code",
   "execution_count": 24,
   "metadata": {},
   "outputs": [
    {
     "data": {
      "text/plain": [
       "DecisionTreeClassifier(class_weight=None, criterion='gini', max_depth=3,\n",
       "            max_features=None, max_leaf_nodes=None,\n",
       "            min_impurity_decrease=0.0, min_impurity_split=None,\n",
       "            min_samples_leaf=1, min_samples_split=2,\n",
       "            min_weight_fraction_leaf=0.0, presort=False, random_state=None,\n",
       "            splitter='best')"
      ]
     },
     "execution_count": 24,
     "metadata": {},
     "output_type": "execute_result"
    }
   ],
   "source": [
    "clf = DecisionTreeClassifier(max_depth=3)\n",
    "\n",
    "clf.fit(X_train, Y_train)"
   ]
  },
  {
   "cell_type": "code",
   "execution_count": 25,
   "metadata": {},
   "outputs": [],
   "source": [
    "pred = clf.predict(X_validation)"
   ]
  },
  {
   "cell_type": "code",
   "execution_count": 26,
   "metadata": {
    "scrolled": true
   },
   "outputs": [
    {
     "name": "stdout",
     "output_type": "stream",
     "text": [
      "0.9\n",
      "              precision    recall  f1-score   support\n",
      "\n",
      "           0       1.00      1.00      1.00         7\n",
      "           1       0.91      0.83      0.87        12\n",
      "           2       0.83      0.91      0.87        11\n",
      "\n",
      "   micro avg       0.90      0.90      0.90        30\n",
      "   macro avg       0.91      0.91      0.91        30\n",
      "weighted avg       0.90      0.90      0.90        30\n",
      "\n"
     ]
    }
   ],
   "source": [
    "print(accuracy_score(Y_validation, pred))\n",
    "print(classification_report(Y_validation, pred))"
   ]
  },
  {
   "cell_type": "code",
   "execution_count": 27,
   "metadata": {},
   "outputs": [],
   "source": [
    "feature_names_array = ['sepal_length_cm', 'sepal_width_cm', 'petal_length_cm', 'petal_width_cm']"
   ]
  },
  {
   "cell_type": "code",
   "execution_count": 28,
   "metadata": {},
   "outputs": [
    {
     "data": {
      "image/svg+xml": [
       "<?xml version=\"1.0\" encoding=\"UTF-8\" standalone=\"no\"?>\n",
       "<!DOCTYPE svg PUBLIC \"-//W3C//DTD SVG 1.1//EN\"\n",
       " \"http://www.w3.org/Graphics/SVG/1.1/DTD/svg11.dtd\">\n",
       "<!-- Generated by graphviz version 2.40.1 (20161225.0304)\n",
       " -->\n",
       "<!-- Title: Tree Pages: 1 -->\n",
       "<svg width=\"402pt\" height=\"433pt\"\n",
       " viewBox=\"0.00 0.00 401.50 433.00\" xmlns=\"http://www.w3.org/2000/svg\" xmlns:xlink=\"http://www.w3.org/1999/xlink\">\n",
       "<g id=\"graph0\" class=\"graph\" transform=\"scale(1 1) rotate(0) translate(4 429)\">\n",
       "<title>Tree</title>\n",
       "<polygon fill=\"#ffffff\" stroke=\"transparent\" points=\"-4,4 -4,-429 397.5,-429 397.5,4 -4,4\"/>\n",
       "<!-- 0 -->\n",
       "<g id=\"node1\" class=\"node\">\n",
       "<title>0</title>\n",
       "<path fill=\"#e58139\" fill-opacity=\"0.050980\" stroke=\"#000000\" d=\"M224.5,-425C224.5,-425 91.5,-425 91.5,-425 85.5,-425 79.5,-419 79.5,-413 79.5,-413 79.5,-354 79.5,-354 79.5,-348 85.5,-342 91.5,-342 91.5,-342 224.5,-342 224.5,-342 230.5,-342 236.5,-348 236.5,-354 236.5,-354 236.5,-413 236.5,-413 236.5,-419 230.5,-425 224.5,-425\"/>\n",
       "<text text-anchor=\"middle\" x=\"158\" y=\"-409.8\" font-family=\"Helvetica,sans-Serif\" font-size=\"14.00\" fill=\"#000000\">petal_width_cm &lt;= 0.8</text>\n",
       "<text text-anchor=\"middle\" x=\"158\" y=\"-394.8\" font-family=\"Helvetica,sans-Serif\" font-size=\"14.00\" fill=\"#000000\">gini = 0.666</text>\n",
       "<text text-anchor=\"middle\" x=\"158\" y=\"-379.8\" font-family=\"Helvetica,sans-Serif\" font-size=\"14.00\" fill=\"#000000\">samples = 120</text>\n",
       "<text text-anchor=\"middle\" x=\"158\" y=\"-364.8\" font-family=\"Helvetica,sans-Serif\" font-size=\"14.00\" fill=\"#000000\">value = [43, 38, 39]</text>\n",
       "<text text-anchor=\"middle\" x=\"158\" y=\"-349.8\" font-family=\"Helvetica,sans-Serif\" font-size=\"14.00\" fill=\"#000000\">class = Iris&#45;setosa</text>\n",
       "</g>\n",
       "<!-- 1 -->\n",
       "<g id=\"node2\" class=\"node\">\n",
       "<title>1</title>\n",
       "<path fill=\"#e58139\" stroke=\"#000000\" d=\"M130.5,-298.5C130.5,-298.5 25.5,-298.5 25.5,-298.5 19.5,-298.5 13.5,-292.5 13.5,-286.5 13.5,-286.5 13.5,-242.5 13.5,-242.5 13.5,-236.5 19.5,-230.5 25.5,-230.5 25.5,-230.5 130.5,-230.5 130.5,-230.5 136.5,-230.5 142.5,-236.5 142.5,-242.5 142.5,-242.5 142.5,-286.5 142.5,-286.5 142.5,-292.5 136.5,-298.5 130.5,-298.5\"/>\n",
       "<text text-anchor=\"middle\" x=\"78\" y=\"-283.3\" font-family=\"Helvetica,sans-Serif\" font-size=\"14.00\" fill=\"#000000\">gini = 0.0</text>\n",
       "<text text-anchor=\"middle\" x=\"78\" y=\"-268.3\" font-family=\"Helvetica,sans-Serif\" font-size=\"14.00\" fill=\"#000000\">samples = 43</text>\n",
       "<text text-anchor=\"middle\" x=\"78\" y=\"-253.3\" font-family=\"Helvetica,sans-Serif\" font-size=\"14.00\" fill=\"#000000\">value = [43, 0, 0]</text>\n",
       "<text text-anchor=\"middle\" x=\"78\" y=\"-238.3\" font-family=\"Helvetica,sans-Serif\" font-size=\"14.00\" fill=\"#000000\">class = Iris&#45;setosa</text>\n",
       "</g>\n",
       "<!-- 0&#45;&gt;1 -->\n",
       "<g id=\"edge1\" class=\"edge\">\n",
       "<title>0&#45;&gt;1</title>\n",
       "<path fill=\"none\" stroke=\"#000000\" d=\"M130.0199,-341.8796C122.4797,-330.6636 114.3113,-318.5131 106.7309,-307.2372\"/>\n",
       "<polygon fill=\"#000000\" stroke=\"#000000\" points=\"109.5527,-305.1612 101.0689,-298.8149 103.7434,-309.0667 109.5527,-305.1612\"/>\n",
       "<text text-anchor=\"middle\" x=\"96.2608\" y=\"-319.6482\" font-family=\"Helvetica,sans-Serif\" font-size=\"14.00\" fill=\"#000000\">True</text>\n",
       "</g>\n",
       "<!-- 2 -->\n",
       "<g id=\"node3\" class=\"node\">\n",
       "<title>2</title>\n",
       "<path fill=\"#8139e5\" fill-opacity=\"0.027451\" stroke=\"#000000\" d=\"M305.5,-306C305.5,-306 172.5,-306 172.5,-306 166.5,-306 160.5,-300 160.5,-294 160.5,-294 160.5,-235 160.5,-235 160.5,-229 166.5,-223 172.5,-223 172.5,-223 305.5,-223 305.5,-223 311.5,-223 317.5,-229 317.5,-235 317.5,-235 317.5,-294 317.5,-294 317.5,-300 311.5,-306 305.5,-306\"/>\n",
       "<text text-anchor=\"middle\" x=\"239\" y=\"-290.8\" font-family=\"Helvetica,sans-Serif\" font-size=\"14.00\" fill=\"#000000\">petal_width_cm &lt;= 1.7</text>\n",
       "<text text-anchor=\"middle\" x=\"239\" y=\"-275.8\" font-family=\"Helvetica,sans-Serif\" font-size=\"14.00\" fill=\"#000000\">gini = 0.5</text>\n",
       "<text text-anchor=\"middle\" x=\"239\" y=\"-260.8\" font-family=\"Helvetica,sans-Serif\" font-size=\"14.00\" fill=\"#000000\">samples = 77</text>\n",
       "<text text-anchor=\"middle\" x=\"239\" y=\"-245.8\" font-family=\"Helvetica,sans-Serif\" font-size=\"14.00\" fill=\"#000000\">value = [0, 38, 39]</text>\n",
       "<text text-anchor=\"middle\" x=\"239\" y=\"-230.8\" font-family=\"Helvetica,sans-Serif\" font-size=\"14.00\" fill=\"#000000\">class = Iris&#45;virginica</text>\n",
       "</g>\n",
       "<!-- 0&#45;&gt;2 -->\n",
       "<g id=\"edge2\" class=\"edge\">\n",
       "<title>0&#45;&gt;2</title>\n",
       "<path fill=\"none\" stroke=\"#000000\" d=\"M186.3299,-341.8796C192.2763,-333.1434 198.6086,-323.8404 204.745,-314.8253\"/>\n",
       "<polygon fill=\"#000000\" stroke=\"#000000\" points=\"207.8156,-316.5342 210.5492,-306.2981 202.0289,-312.5953 207.8156,-316.5342\"/>\n",
       "<text text-anchor=\"middle\" x=\"215.2157\" y=\"-327.1587\" font-family=\"Helvetica,sans-Serif\" font-size=\"14.00\" fill=\"#000000\">False</text>\n",
       "</g>\n",
       "<!-- 3 -->\n",
       "<g id=\"node4\" class=\"node\">\n",
       "<title>3</title>\n",
       "<path fill=\"#39e581\" fill-opacity=\"0.949020\" stroke=\"#000000\" d=\"M224.5,-187C224.5,-187 85.5,-187 85.5,-187 79.5,-187 73.5,-181 73.5,-175 73.5,-175 73.5,-116 73.5,-116 73.5,-110 79.5,-104 85.5,-104 85.5,-104 224.5,-104 224.5,-104 230.5,-104 236.5,-110 236.5,-116 236.5,-116 236.5,-175 236.5,-175 236.5,-181 230.5,-187 224.5,-187\"/>\n",
       "<text text-anchor=\"middle\" x=\"155\" y=\"-171.8\" font-family=\"Helvetica,sans-Serif\" font-size=\"14.00\" fill=\"#000000\">petal_length_cm &lt;= 5.0</text>\n",
       "<text text-anchor=\"middle\" x=\"155\" y=\"-156.8\" font-family=\"Helvetica,sans-Serif\" font-size=\"14.00\" fill=\"#000000\">gini = 0.095</text>\n",
       "<text text-anchor=\"middle\" x=\"155\" y=\"-141.8\" font-family=\"Helvetica,sans-Serif\" font-size=\"14.00\" fill=\"#000000\">samples = 40</text>\n",
       "<text text-anchor=\"middle\" x=\"155\" y=\"-126.8\" font-family=\"Helvetica,sans-Serif\" font-size=\"14.00\" fill=\"#000000\">value = [0, 38, 2]</text>\n",
       "<text text-anchor=\"middle\" x=\"155\" y=\"-111.8\" font-family=\"Helvetica,sans-Serif\" font-size=\"14.00\" fill=\"#000000\">class = Iris&#45;versicolor</text>\n",
       "</g>\n",
       "<!-- 2&#45;&gt;3 -->\n",
       "<g id=\"edge3\" class=\"edge\">\n",
       "<title>2&#45;&gt;3</title>\n",
       "<path fill=\"none\" stroke=\"#000000\" d=\"M209.6209,-222.8796C203.3906,-214.0534 196.7519,-204.6485 190.327,-195.5466\"/>\n",
       "<polygon fill=\"#000000\" stroke=\"#000000\" points=\"193.1308,-193.4494 184.5045,-187.2981 187.412,-197.4862 193.1308,-193.4494\"/>\n",
       "</g>\n",
       "<!-- 6 -->\n",
       "<g id=\"node7\" class=\"node\">\n",
       "<title>6</title>\n",
       "<path fill=\"#8139e5\" stroke=\"#000000\" d=\"M381.5,-179.5C381.5,-179.5 266.5,-179.5 266.5,-179.5 260.5,-179.5 254.5,-173.5 254.5,-167.5 254.5,-167.5 254.5,-123.5 254.5,-123.5 254.5,-117.5 260.5,-111.5 266.5,-111.5 266.5,-111.5 381.5,-111.5 381.5,-111.5 387.5,-111.5 393.5,-117.5 393.5,-123.5 393.5,-123.5 393.5,-167.5 393.5,-167.5 393.5,-173.5 387.5,-179.5 381.5,-179.5\"/>\n",
       "<text text-anchor=\"middle\" x=\"324\" y=\"-164.3\" font-family=\"Helvetica,sans-Serif\" font-size=\"14.00\" fill=\"#000000\">gini = 0.0</text>\n",
       "<text text-anchor=\"middle\" x=\"324\" y=\"-149.3\" font-family=\"Helvetica,sans-Serif\" font-size=\"14.00\" fill=\"#000000\">samples = 37</text>\n",
       "<text text-anchor=\"middle\" x=\"324\" y=\"-134.3\" font-family=\"Helvetica,sans-Serif\" font-size=\"14.00\" fill=\"#000000\">value = [0, 0, 37]</text>\n",
       "<text text-anchor=\"middle\" x=\"324\" y=\"-119.3\" font-family=\"Helvetica,sans-Serif\" font-size=\"14.00\" fill=\"#000000\">class = Iris&#45;virginica</text>\n",
       "</g>\n",
       "<!-- 2&#45;&gt;6 -->\n",
       "<g id=\"edge6\" class=\"edge\">\n",
       "<title>2&#45;&gt;6</title>\n",
       "<path fill=\"none\" stroke=\"#000000\" d=\"M268.7289,-222.8796C276.7403,-211.6636 285.4192,-199.5131 293.4734,-188.2372\"/>\n",
       "<polygon fill=\"#000000\" stroke=\"#000000\" points=\"296.525,-189.9866 299.4893,-179.8149 290.8288,-185.9179 296.525,-189.9866\"/>\n",
       "</g>\n",
       "<!-- 4 -->\n",
       "<g id=\"node5\" class=\"node\">\n",
       "<title>4</title>\n",
       "<path fill=\"#39e581\" stroke=\"#000000\" d=\"M136,-68C136,-68 12,-68 12,-68 6,-68 0,-62 0,-56 0,-56 0,-12 0,-12 0,-6 6,0 12,0 12,0 136,0 136,0 142,0 148,-6 148,-12 148,-12 148,-56 148,-56 148,-62 142,-68 136,-68\"/>\n",
       "<text text-anchor=\"middle\" x=\"74\" y=\"-52.8\" font-family=\"Helvetica,sans-Serif\" font-size=\"14.00\" fill=\"#000000\">gini = 0.0</text>\n",
       "<text text-anchor=\"middle\" x=\"74\" y=\"-37.8\" font-family=\"Helvetica,sans-Serif\" font-size=\"14.00\" fill=\"#000000\">samples = 37</text>\n",
       "<text text-anchor=\"middle\" x=\"74\" y=\"-22.8\" font-family=\"Helvetica,sans-Serif\" font-size=\"14.00\" fill=\"#000000\">value = [0, 37, 0]</text>\n",
       "<text text-anchor=\"middle\" x=\"74\" y=\"-7.8\" font-family=\"Helvetica,sans-Serif\" font-size=\"14.00\" fill=\"#000000\">class = Iris&#45;versicolor</text>\n",
       "</g>\n",
       "<!-- 3&#45;&gt;4 -->\n",
       "<g id=\"edge4\" class=\"edge\">\n",
       "<title>3&#45;&gt;4</title>\n",
       "<path fill=\"none\" stroke=\"#000000\" d=\"M124.8386,-103.9815C118.2955,-94.9747 111.3666,-85.4367 104.7992,-76.3965\"/>\n",
       "<polygon fill=\"#000000\" stroke=\"#000000\" points=\"107.6002,-74.2971 98.8911,-68.2637 101.9369,-78.4113 107.6002,-74.2971\"/>\n",
       "</g>\n",
       "<!-- 5 -->\n",
       "<g id=\"node6\" class=\"node\">\n",
       "<title>5</title>\n",
       "<path fill=\"#8139e5\" fill-opacity=\"0.498039\" stroke=\"#000000\" d=\"M293.5,-68C293.5,-68 178.5,-68 178.5,-68 172.5,-68 166.5,-62 166.5,-56 166.5,-56 166.5,-12 166.5,-12 166.5,-6 172.5,0 178.5,0 178.5,0 293.5,0 293.5,0 299.5,0 305.5,-6 305.5,-12 305.5,-12 305.5,-56 305.5,-56 305.5,-62 299.5,-68 293.5,-68\"/>\n",
       "<text text-anchor=\"middle\" x=\"236\" y=\"-52.8\" font-family=\"Helvetica,sans-Serif\" font-size=\"14.00\" fill=\"#000000\">gini = 0.444</text>\n",
       "<text text-anchor=\"middle\" x=\"236\" y=\"-37.8\" font-family=\"Helvetica,sans-Serif\" font-size=\"14.00\" fill=\"#000000\">samples = 3</text>\n",
       "<text text-anchor=\"middle\" x=\"236\" y=\"-22.8\" font-family=\"Helvetica,sans-Serif\" font-size=\"14.00\" fill=\"#000000\">value = [0, 1, 2]</text>\n",
       "<text text-anchor=\"middle\" x=\"236\" y=\"-7.8\" font-family=\"Helvetica,sans-Serif\" font-size=\"14.00\" fill=\"#000000\">class = Iris&#45;virginica</text>\n",
       "</g>\n",
       "<!-- 3&#45;&gt;5 -->\n",
       "<g id=\"edge5\" class=\"edge\">\n",
       "<title>3&#45;&gt;5</title>\n",
       "<path fill=\"none\" stroke=\"#000000\" d=\"M185.1614,-103.9815C191.7045,-94.9747 198.6334,-85.4367 205.2008,-76.3965\"/>\n",
       "<polygon fill=\"#000000\" stroke=\"#000000\" points=\"208.0631,-78.4113 211.1089,-68.2637 202.3998,-74.2971 208.0631,-78.4113\"/>\n",
       "</g>\n",
       "</g>\n",
       "</svg>\n"
      ],
      "text/plain": [
       "<graphviz.files.Source at 0x1a216d3e80>"
      ]
     },
     "execution_count": 28,
     "metadata": {},
     "output_type": "execute_result"
    }
   ],
   "source": [
    "viz_tree(clf, data['class'].unique(), feature_names_array)"
   ]
  },
  {
   "cell_type": "code",
   "execution_count": 29,
   "metadata": {},
   "outputs": [
    {
     "data": {
      "text/plain": [
       "\"(2, 3, '>', 1.7) | ((0, 3, '>', 0.8) & (3, 2, '>', 5.0))\""
      ]
     },
     "execution_count": 29,
     "metadata": {},
     "output_type": "execute_result"
    }
   ],
   "source": [
    "\"(0, 3, '>', 0.8) & ((2, 3, '>', 1.7) | (3, 2, '>', 5.0))\""
   ]
  },
  {
   "cell_type": "code",
   "execution_count": 30,
   "metadata": {},
   "outputs": [],
   "source": [
    "n_nodes = clf.tree_.node_count\n",
    "children_left = clf.tree_.children_left\n",
    "children_right = clf.tree_.children_right\n",
    "feature = clf.tree_.feature\n",
    "threshold = clf.tree_.threshold"
   ]
  },
  {
   "cell_type": "code",
   "execution_count": 31,
   "metadata": {},
   "outputs": [
    {
     "name": "stdout",
     "output_type": "stream",
     "text": [
      "[ 1 -1  3  4 -1 -1 -1]\n",
      "[ 2 -1  6  5 -1 -1 -1]\n"
     ]
    }
   ],
   "source": [
    "print(children_left)\n",
    "print(children_right)"
   ]
  },
  {
   "cell_type": "code",
   "execution_count": 32,
   "metadata": {},
   "outputs": [
    {
     "name": "stdout",
     "output_type": "stream",
     "text": [
      "[ 3 -2  3  2 -2 -2 -2]\n"
     ]
    }
   ],
   "source": [
    "print(feature)"
   ]
  },
  {
   "cell_type": "markdown",
   "metadata": {},
   "source": [
    "-------\n",
    "## Important classes for single tree interpretation"
   ]
  },
  {
   "cell_type": "code",
   "execution_count": 664,
   "metadata": {},
   "outputs": [],
   "source": [
    "def get_leaf_class_name(class_names, node_values):\n",
    "    max_value_index = 0\n",
    "    max_value = 0\n",
    "    for c, value in enumerate(node_values[0]):\n",
    "        if value != 0 and value > max_value:\n",
    "            max_value_index = c\n",
    "            max_value = value\n",
    "    \n",
    "    return class_names[max_value_index]\n",
    "\n",
    "        \n",
    "def get_node_value(node_values):\n",
    "    max_ = 0\n",
    "    for c, value in enumerate(node_values[0]):\n",
    "        if value > max_:\n",
    "            max_ = value\n",
    "            \n",
    "    return max_\n",
    "        \n",
    "        \n",
    "def get_paths_for(class_name, tree, cur_index, lst, paths, sign):\n",
    "    if cur_index >= len(tree.children_left):\n",
    "        return\n",
    "    \n",
    "    if len(lst) > 0 and cur_index != -1:\n",
    "        lst[len(lst) - 1] = (lst[len(lst) - 1][0], lst[len(lst) - 1][1], sign, lst[len(lst) - 1][3])\n",
    "        \n",
    "    lst.append((cur_index, tree.feature[cur_index], sign, round(tree.threshold[cur_index], 2)))\n",
    "    if cur_index != -1:\n",
    "        get_paths_for(class_name, tree, tree.children_left[cur_index], lst, paths, '<=')\n",
    "        get_paths_for(class_name, tree, tree.children_right[cur_index], lst, paths, '>')\n",
    "    else:\n",
    "        if get_leaf_class_name(data['class'].unique(), tree.value[list(lst[-2])[0]]) == class_name:\n",
    "            paths.add(tuple(lst[:-1]))\n",
    "        \n",
    "    lst.pop()\n",
    "    \n",
    "    \n",
    "def get_feature_value_pairs(tree, paths):\n",
    "    \n",
    "    pairs = []\n",
    "    for path in paths:\n",
    "        d = []\n",
    "        features = tree.feature\n",
    "        thresholds = tree.threshold\n",
    "\n",
    "        for i, p in enumerate(list(path[:-1])):\n",
    "            d.append((i, features[i], thresholds[i]))\n",
    "\n",
    "        pairs.append(d)\n",
    "        \n",
    "    return pairs\n",
    "\n",
    "\n",
    "def rule_predict(class_name, rule):\n",
    "    pred = []\n",
    "    \n",
    "    for row in X_validation:\n",
    "        \n",
    "        valid = True\n",
    "        for condition in rule[:-1]:\n",
    "            condition = list(condition)\n",
    "            \n",
    "            if not get_truth(row[condition[1]], condition[2], condition[3]):\n",
    "                valid = False\n",
    "            \n",
    "        if valid:\n",
    "            pred.append(class_name)\n",
    "        else:\n",
    "            pred.append(-1)\n",
    "            \n",
    "    return pred\n",
    "\n",
    "\n",
    "# Function which computes rule accuracy based. It makes a classification report and takes\n",
    "# the precision value and returns it\n",
    "def compute_rule_accuracy(class_name, rule):\n",
    "    pred = rule_predict(class_name, rule)\n",
    "    report = classification_report(pred, Y_validation, output_dict = True)\n",
    "    \n",
    "    return round(report[str(class_name)]['precision'], 2)\n",
    "\n",
    "\n",
    "def prune_rule(class_name, rule):\n",
    "    max_accuracy = 0\n",
    "    final_rule = rule\n",
    "    \n",
    "    for i in range(len(rule[:-1])):\n",
    "        accuracy = compute_rule_accuracy(class_name, rule[i:])\n",
    "        \n",
    "        if accuracy > max_accuracy:\n",
    "            final_rule = rule[i:]\n",
    "            max_accuracy = accuracy\n",
    "           \n",
    "    return (max_accuracy, tuple(final_rule))\n",
    "\n",
    "\n",
    "def combine_rules(class_name, rf_model):\n",
    "    rules = set()\n",
    "    \n",
    "    for estimator in rf_model.estimators_:\n",
    "        get_paths_for(class_name, estimator.tree_, 0, [], rules, '<=')\n",
    "        \n",
    "    return rules\n",
    "\n",
    "\n",
    "def get_class_index(class_name):\n",
    "    for c, cls in enumerate(data['class'].unique()):\n",
    "        if cls == class_name:\n",
    "            return c\n",
    "        \n",
    "        \n",
    "def get_rules_accuracy(class_name, rf_model, removeRedundancy = False):\n",
    "    rules = combine_rules(class_name, rf_model)\n",
    "    \n",
    "    if removeRedundancy:\n",
    "        rules = redundancy_condition_removal(rules)\n",
    "    \n",
    "    rules = list(rules)\n",
    "    \n",
    "    final_rules = set()\n",
    "    for rule in rules:\n",
    "        rule_ = [compute_rule_accuracy(get_class_index(class_name), rule), rule]\n",
    "        final_rules.add(tuple(rule_))\n",
    "        \n",
    "    return sorted(list(final_rules), reverse=True, key=lambda x: list(x)[0])\n",
    "    \n",
    "        \n",
    "def get_pruned_rules_accuracy(class_name, rf_model):\n",
    "    rules = list(combine_rules(class_name, rf_model))\n",
    "    \n",
    "    final_rules = set()\n",
    "    for rule in rules:\n",
    "        pruned = prune_rule(get_class_index(class_name), list(rule))\n",
    "        final_rules.add(tuple(pruned))\n",
    "    \n",
    "    return sorted(list(final_rules), reverse=True, key=lambda x: list(x)[0])\n",
    "\n",
    "\n",
    "def redundancy_condition_removal(rule_set):\n",
    "    output = set()\n",
    "    \n",
    "    for rule in list(rule_set):\n",
    "        \n",
    "        rule = list(rule)\n",
    "        for i, cond in enumerate(rule[:-1]):\n",
    "            cond = list(cond)\n",
    "            \n",
    "            for cond2 in rule[i + 1:-1]:\n",
    "                cond2 = list(cond2)\n",
    "                    \n",
    "                if cond[1] == cond2[1] and cond[2] == cond2[2]:\n",
    "                    if cond[2] == '>':\n",
    "                        cond[3] = (cond[3] if cond[3] > cond2[3] else cond2[3])\n",
    "                    else:\n",
    "                        cond[3] = (cond[3] if cond[3] < cond2[3] else cond2[3])\n",
    "                        \n",
    "                    # Assign changed rule to condition\n",
    "                    rule[i] = tuple(cond)\n",
    "                    \n",
    "                    # Remove redundant rule from list\n",
    "                    rule.remove(tuple(cond2))\n",
    "                \n",
    "        output.add(tuple(rule))\n",
    "        \n",
    "    return output"
   ]
  },
  {
   "cell_type": "code",
   "execution_count": 49,
   "metadata": {},
   "outputs": [
    {
     "data": {
      "text/plain": [
       "{((0, 3, '>', 0.8), (2, 3, '<=', 1.7), (3, 2, '>', 5.0), (5, -2, '>', -2.0)),\n",
       " ((0, 3, '>', 0.8), (2, 3, '>', 1.7), (6, -2, '>', -2.0))}"
      ]
     },
     "execution_count": 49,
     "metadata": {},
     "output_type": "execute_result"
    }
   ],
   "source": [
    "rules_set = set()\n",
    "get_paths_for(\"Iris-virginica\", clf.tree_, 0, [], rules_set, '<=')\n",
    "rules_set"
   ]
  },
  {
   "cell_type": "code",
   "execution_count": 35,
   "metadata": {},
   "outputs": [],
   "source": [
    "rules_set = redundancy_condition_removal(rules_set)"
   ]
  },
  {
   "cell_type": "code",
   "execution_count": 36,
   "metadata": {},
   "outputs": [
    {
     "data": {
      "text/plain": [
       "{((0, 3, '>', 0.8), (2, 3, '<=', 1.7), (3, 2, '>', 5.0), (5, -2, '>', -2.0)),\n",
       " ((0, 3, '>', 1.7), (6, -2, '>', -2.0))}"
      ]
     },
     "execution_count": 36,
     "metadata": {},
     "output_type": "execute_result"
    }
   ],
   "source": [
    "rules_set"
   ]
  },
  {
   "cell_type": "code",
   "execution_count": 37,
   "metadata": {},
   "outputs": [
    {
     "data": {
      "text/plain": [
       "array(['Iris-setosa', 'Iris-versicolor', 'Iris-virginica'], dtype=object)"
      ]
     },
     "execution_count": 37,
     "metadata": {},
     "output_type": "execute_result"
    }
   ],
   "source": [
    "data['class'].unique()"
   ]
  },
  {
   "cell_type": "code",
   "execution_count": 38,
   "metadata": {},
   "outputs": [
    {
     "data": {
      "text/plain": [
       "1.0"
      ]
     },
     "execution_count": 38,
     "metadata": {},
     "output_type": "execute_result"
    }
   ],
   "source": [
    "compute_rule_accuracy(2, [(0, 3, '>', 0.8), (5, -2, '>', -2.0)])"
   ]
  },
  {
   "cell_type": "code",
   "execution_count": 39,
   "metadata": {},
   "outputs": [
    {
     "data": {
      "text/plain": [
       "(0.73, ((0, 3, '>', 0.8), (2, 3, '>', 1.7), (6, -2, '>', -2.0)))"
      ]
     },
     "execution_count": 39,
     "metadata": {},
     "output_type": "execute_result"
    }
   ],
   "source": [
    "prune_rule(2, [(0, 3, '>', 0.8), (2, 3, '>', 1.7), (6, -2, '>', -2.0)])"
   ]
  },
  {
   "cell_type": "code",
   "execution_count": 40,
   "metadata": {},
   "outputs": [
    {
     "data": {
      "text/plain": [
       "0.73"
      ]
     },
     "execution_count": 40,
     "metadata": {},
     "output_type": "execute_result"
    }
   ],
   "source": [
    "compute_rule_accuracy(2, [(0, 2, '>', 2.45), (2, 3, '>', 1.7), (6, -2, '>', -2.0)])"
   ]
  },
  {
   "cell_type": "code",
   "execution_count": 41,
   "metadata": {},
   "outputs": [
    {
     "data": {
      "text/plain": [
       "(0.73, ((0, 2, '>', 2.45), (2, 3, '>', 1.7), (6, -2, '>', -2.0)))"
      ]
     },
     "execution_count": 41,
     "metadata": {},
     "output_type": "execute_result"
    }
   ],
   "source": [
    "prune_rule(2, [(0, 2, '>', 2.45), (2, 3, '>', 1.7), (6, -2, '>', -2.0)])"
   ]
  },
  {
   "cell_type": "markdown",
   "metadata": {},
   "source": [
    "----"
   ]
  },
  {
   "cell_type": "markdown",
   "metadata": {},
   "source": [
    "### Simplifikacia pravidiel jedneho stromu pouzijuc booleansku algebru"
   ]
  },
  {
   "cell_type": "code",
   "execution_count": 463,
   "metadata": {},
   "outputs": [],
   "source": [
    "from sympy.logic import simplify_logic\n",
    "from sympy.abc import x, y, z\n",
    "from sympy import *\n",
    "from sympy.logic.boolalg import *\n",
    "from sympy.logic.inference import satisfiable\n",
    "\n",
    "import uuid"
   ]
  },
  {
   "cell_type": "code",
   "execution_count": 352,
   "metadata": {},
   "outputs": [],
   "source": [
    "def create_big_or_rule(rule_set):\n",
    "    output = \"\"\n",
    "    for i, rule in enumerate(list(rule_set)):\n",
    "        output += create_and_expression(rule)\n",
    "        \n",
    "        if len(rule_set) - 1 != i:\n",
    "            output += \" | \"\n",
    "            \n",
    "    return output\n",
    "\n",
    "\n",
    "def create_big_and_rule(rule_set):\n",
    "    output = \"\"\n",
    "    for i, rule in enumerate(list(rule_set)):\n",
    "        output += create_and_expression(rule)\n",
    "        \n",
    "        if len(rule_set) - 1 != i:\n",
    "            output += \" & \"\n",
    "            \n",
    "    return output\n",
    "\n",
    "\n",
    "def combine_rule_using_and(rule_set):\n",
    "    output = \"\"\n",
    "    for i, rule in enumerate(list(rule_set)):\n",
    "        output += \"(\" + rule + \")\"\n",
    "            \n",
    "        if len(rule_set) - 1 != i:\n",
    "            output += \" & \"\n",
    "            \n",
    "    return output\n"
   ]
  },
  {
   "cell_type": "code",
   "execution_count": 670,
   "metadata": {},
   "outputs": [],
   "source": [
    "def combine_forest_rules(rf_model, class_name, r_dict, v_dict):\n",
    "    final_rule = set()\n",
    "    simplified_final_rule = set()\n",
    "    for estimator in rf_model.estimators_:\n",
    "    \n",
    "        rules = set()\n",
    "        get_paths_for(class_name, estimator.tree_, 0, [], rules, '<=')\n",
    "        \n",
    "        rules = redundancy_condition_removal(rules)\n",
    "        tree_rule = sympify(create_big_or_rule(rules), evaluate=False)\n",
    "        \n",
    "        final_rule.add(str(tree_rule))\n",
    "        simplified_final_rule.add(str(simplify_logic(tree_rule)))\n",
    "        \n",
    "        \n",
    "    return final_rule, simplified_final_rule"
   ]
  },
  {
   "cell_type": "code",
   "execution_count": 671,
   "metadata": {},
   "outputs": [],
   "source": [
    "def create_and_expression(rule):\n",
    "    output = \"\"\n",
    "    \n",
    "    for i, condition in enumerate(list(rule)[:-1]):\n",
    "        condition = list(condition)\n",
    "        key = str(condition[1]) + str(condition[3])\n",
    "        \n",
    "        var = \"A\" + uuid.uuid4().hex[:6].upper()\n",
    "        \n",
    "        if key in rule_dict:\n",
    "            if condition[2] != rule_dict[key][0]:\n",
    "                output += \"Not(\" + rule_dict[key][1] + \")\"\n",
    "            else:\n",
    "                output += rule_dict[key][1]\n",
    "        else:\n",
    "            expr = var + ' = ' + 'symbols(\\'' + (str(condition[1]) + condition[2] + str(condition[3])) + '\\')'\n",
    "            exec(expr)\n",
    "            \n",
    "            rule_dict[key] = [condition[2], var]\n",
    "            output += var\n",
    "        \n",
    "            # Also push to rule_dict where key is the variable name and value is the rule\n",
    "            var_dict[var] = condition\n",
    "        \n",
    "        if len(list(rule)[:-1]) - 1 != i:\n",
    "            output += \" & \"\n",
    "        \n",
    "    return \"(\" + output + \")\""
   ]
  },
  {
   "cell_type": "code",
   "execution_count": 672,
   "metadata": {},
   "outputs": [],
   "source": [
    "def print_final_rule(simplified_rule):\n",
    "    simplified_rule = str(simplified_rule).split()\n",
    "    \n",
    "    final_rule = \"\"\n",
    "    for el in simplified_rule:\n",
    "        if el in ('&', '|'):\n",
    "            final_rule += \" \" + el + \" \"\n",
    "        else:\n",
    "            if \"~\" in el:\n",
    "                el = el.replace(\"~\", \"\")\n",
    "                el_ = el\n",
    "                \n",
    "                lb_count = el_.count('(')\n",
    "                if \"(\" in el_:\n",
    "                    el_ = el_.replace(\"(\", \"\")\n",
    "                \n",
    "                rb_count = el_.count(')')\n",
    "                if \")\" in el_:\n",
    "                    el_ = el_.replace(\")\", \"\")\n",
    "                \n",
    "                var = var_dict[str(el_)].copy()[1:]\n",
    "                if var[1] == '>':\n",
    "                    var[1] = '<='\n",
    "                else:\n",
    "                    var[1] = '>'\n",
    "                  \n",
    "                if lb_count == 0 and rb_count == 0:\n",
    "                    final_rule += str(tuple(var))\n",
    "                elif lb_count != 0 and rb_count == 0:\n",
    "                    final_rule += (\"(\" * lb_count) + str(tuple(var))\n",
    "                elif lb_count == 0 and rb_count != 0:\n",
    "                    final_rule += str(tuple(var)) + (\")\" * rb_count)\n",
    "            \n",
    "            elif \"(\" in el:\n",
    "                b_count = el.count('(')\n",
    "                \n",
    "                el = el.replace(\"(\", \"\")\n",
    "                final_rule += (\"(\" * b_count) + str(tuple(var_dict[str(el)][1:]))\n",
    "                \n",
    "            elif \")\" in el:\n",
    "                b_count = el.count(')')\n",
    "                \n",
    "                el = el.replace(\")\", \"\")\n",
    "                final_rule += str(tuple(var_dict[str(el)][1:])) + (\")\" * b_count)\n",
    "            \n",
    "            else:\n",
    "                final_rule += str(tuple(var_dict[str(el)][1:]))\n",
    "            \n",
    "    return final_rule"
   ]
  },
  {
   "cell_type": "code",
   "execution_count": 773,
   "metadata": {},
   "outputs": [],
   "source": [
    "from pyeda.inter import *"
   ]
  },
  {
   "cell_type": "code",
   "execution_count": 674,
   "metadata": {
    "scrolled": false
   },
   "outputs": [
    {
     "data": {
      "text/plain": [
       "{'(A1C0A81 & AA334FC) | (A1C0A81 & AAB1032 & ~AA334FC)',\n",
       " '(A98C611 & ~AD3DE10) | (AD3DE10 & AFBF77B & ~AAB1032)',\n",
       " '(AD92B5B & ~AD3DE10) | (A160663 & ~AD3DE10 & ~AD92B5B)',\n",
       " '~AD3DE10 | (A19257A & AD3DE10 & AF561CD & ~AAB1032)',\n",
       " '~AD3DE10 | (A40B639 & A46EE9F & AD3DE10 & ~AAB1032)'}"
      ]
     },
     "execution_count": 674,
     "metadata": {},
     "output_type": "execute_result"
    }
   ],
   "source": [
    "rule_dict = {}\n",
    "var_dict = {}\n",
    "\n",
    "rules, s_rules = combine_forest_rules(rfclf, \"Iris-virginica\", rule_dict, var_dict)\n",
    "rules"
   ]
  },
  {
   "cell_type": "code",
   "execution_count": 675,
   "metadata": {},
   "outputs": [
    {
     "data": {
      "text/plain": [
       "{'(A98C611 | AD3DE10) & (AFBF77B | ~AD3DE10) & (~AAB1032 | ~AD3DE10)',\n",
       " 'A1C0A81 & (AA334FC | AAB1032)',\n",
       " '~AD3DE10 & (A160663 | AD92B5B)',\n",
       " '~AD3DE10 | (A19257A & AF561CD & ~AAB1032)',\n",
       " '~AD3DE10 | (A40B639 & A46EE9F & ~AAB1032)'}"
      ]
     },
     "execution_count": 675,
     "metadata": {},
     "output_type": "execute_result"
    }
   ],
   "source": [
    "s_rules"
   ]
  },
  {
   "cell_type": "code",
   "execution_count": 748,
   "metadata": {},
   "outputs": [
    {
     "data": {
      "text/plain": [
       "'((A98C611 | AD3DE10) & (AFBF77B | ~AD3DE10) & (~AAB1032 | ~AD3DE10)) & (~AD3DE10 | (A40B639 & A46EE9F & ~AAB1032)) & (~AD3DE10 | (A19257A & AF561CD & ~AAB1032)) & (~AD3DE10 & (A160663 | AD92B5B)) & (A1C0A81 & (AA334FC | AAB1032))'"
      ]
     },
     "execution_count": 748,
     "metadata": {},
     "output_type": "execute_result"
    }
   ],
   "source": [
    "s = combine_rule_using_and(s_rules)\n",
    "s"
   ]
  },
  {
   "cell_type": "code",
   "execution_count": 749,
   "metadata": {},
   "outputs": [
    {
     "data": {
      "text/plain": [
       "And(A98C611, ~AD3DE10, A1C0A81, Or(AAB1032, AA334FC), Or(A160663, AD92B5B))"
      ]
     },
     "execution_count": 749,
     "metadata": {},
     "output_type": "execute_result"
    }
   ],
   "source": [
    "s = expr(s).to_dnf().to_cnf()\n",
    "s"
   ]
  },
  {
   "cell_type": "code",
   "execution_count": 771,
   "metadata": {},
   "outputs": [],
   "source": [
    "def convert_to_function(sign, expr_):\n",
    "    rule = \"\"\n",
    "    for i, el in enumerate(expr_.xs):\n",
    "        if \"And\" in str(el):\n",
    "            rule += \"(\" + convert_to_function(\"&\", el) + \")\"\n",
    "        elif \"Or\" in str(el):\n",
    "            rule += \"(\" + convert_to_function(\"|\", el) + \")\"\n",
    "        else:\n",
    "            rule += str(el)\n",
    "            \n",
    "        if i != len(expr_.xs) - 1:\n",
    "            rule += \" \" + sign + \" \"\n",
    "            \n",
    "    return rule\n",
    "\n",
    "\n",
    "def get_valid_predicate(rule):\n",
    "    rule = rule.replace(\"&\", \"and\").replace(\"|\", \"or\").replace(\"0, '\", 'sepal_length_cm ').replace(\"1, '\", 'sepal_width_cm ')\n",
    "    rule = rule.replace(\"2, '\", 'petal_length_cm ').replace(\"3, '\", 'petal_width_cm ').replace(\"',\", \"\")\n",
    "    \n",
    "    return rule"
   ]
  },
  {
   "cell_type": "code",
   "execution_count": 776,
   "metadata": {},
   "outputs": [
    {
     "data": {
      "text/plain": [
       "'A98C611 & ~AD3DE10 & A1C0A81 & (AAB1032 | AA334FC) & (A160663 | AD92B5B)'"
      ]
     },
     "execution_count": 776,
     "metadata": {},
     "output_type": "execute_result"
    }
   ],
   "source": [
    "simplified_func = convert_to_function('&', s)\n",
    "simplified_func"
   ]
  },
  {
   "cell_type": "code",
   "execution_count": 779,
   "metadata": {},
   "outputs": [
    {
     "data": {
      "text/plain": [
       "\"(2, '>', 2.45) & (3, '>', 1.7) & (2, '>', 4.75) & ((2, '<=', 5.0) | (0, '>', 6.05)) & ((2, '>', 2.6) | (2, '>', 4.85))\""
      ]
     },
     "execution_count": 779,
     "metadata": {},
     "output_type": "execute_result"
    }
   ],
   "source": [
    "sys_readable_rule = print_final_rule(simplified_func)\n",
    "sys_readable_rule"
   ]
  },
  {
   "cell_type": "code",
   "execution_count": 780,
   "metadata": {},
   "outputs": [
    {
     "data": {
      "text/plain": [
       "'(petal_length_cm > 2.45) and (petal_width_cm > 1.7) and (petal_length_cm > 4.75) and ((petal_length_cm <= 5.0) or (sepal_length_cm > 6.05)) and ((petal_length_cm > 2.6) or (petal_length_cm > 4.85))'"
      ]
     },
     "execution_count": 780,
     "metadata": {},
     "output_type": "execute_result"
    }
   ],
   "source": [
    "hum_readable_rule = get_valid_predicate(sys_readable_rule)\n",
    "hum_readable_rule"
   ]
  },
  {
   "cell_type": "code",
   "execution_count": 942,
   "metadata": {},
   "outputs": [],
   "source": [
    "hum_readable_rule = '(petal_length_cm > 2.45) and (petal_width_cm > 1.7) and (petal_length_cm > 4.75) and ((petal_length_cm > 2.6) or (petal_length_cm > 4.85))'"
   ]
  },
  {
   "cell_type": "code",
   "execution_count": 887,
   "metadata": {},
   "outputs": [],
   "source": [
    "def visualize_decision_boundaries(rule):\n",
    "    from itertools import product\n",
    "\n",
    "    X = X_train[0:, [2, 3]]\n",
    "    Y = Y_train\n",
    "\n",
    "    # Plotting decision regions\n",
    "    x_min, x_max = X[:, 0].min() - 1, X[:, 0].max() + 1\n",
    "    y_min, y_max = X[:, 1].min() - 1, X[:, 1].max() + 1\n",
    "\n",
    "    xx, yy = np.meshgrid(np.arange(x_min, x_max, 0.1), np.arange(y_min, y_max, 0.1))\n",
    "\n",
    "    f, axarr = plt.subplots(figsize=(10, 8))\n",
    "\n",
    "    ravel_ = np.c_[xx.ravel(), yy.ravel()]\n",
    "    Z = np.array(predicate_rule_predict(1, rule, ravel_))\n",
    "    print(len(Z))\n",
    "    Z = Z.reshape(xx.shape)\n",
    "    \n",
    "    axarr.contourf(xx, yy, Z, alpha=0.5)\n",
    "    axarr.scatter(X[:, 0], X[:, 1], c=Y, s=50, edgecolor='k')\n",
    "    axarr.set_title(\"When random forest is very sure\")\n",
    "\n",
    "    plt.show()"
   ]
  },
  {
   "cell_type": "code",
   "execution_count": 828,
   "metadata": {},
   "outputs": [],
   "source": [
    "def compute_final_rule_accuracy(class_index, rule):\n",
    "    X = X_train[0:, [2, 3]]\n",
    "    Y = Y_train\n",
    "    \n",
    "    # Classification report\n",
    "    Z = predicate_rule_predict(class_index, rule, X)\n",
    "\n",
    "    report = classification_report(Z, Y, output_dict = True)\n",
    "    print(report[str(class_index)])"
   ]
  },
  {
   "cell_type": "code",
   "execution_count": 974,
   "metadata": {},
   "outputs": [],
   "source": [
    "def predict_rule_class(rule_set):\n",
    "    X = X_train[0:, [2, 3]]\n",
    "    Y = Y_train\n",
    "    \n",
    "    Z = predicate_rules_set_predict(rules_set, X)\n",
    "    \n",
    "    print(classification_report(Z, Y))"
   ]
  },
  {
   "cell_type": "code",
   "execution_count": 943,
   "metadata": {},
   "outputs": [
    {
     "name": "stdout",
     "output_type": "stream",
     "text": [
      "{'precision': 0.9487179487179487, 'recall': 1.0, 'f1-score': 0.9736842105263158, 'support': 37}\n"
     ]
    }
   ],
   "source": [
    "compute_final_rule_accuracy(2, hum_readable_rule)"
   ]
  },
  {
   "cell_type": "code",
   "execution_count": 944,
   "metadata": {},
   "outputs": [
    {
     "name": "stdout",
     "output_type": "stream",
     "text": [
      "3476\n"
     ]
    },
    {
     "data": {
      "image/png": "[encoded data removed]",
      "text/plain": [
       "<Figure size 720x576 with 1 Axes>"
      ]
     },
     "metadata": {
      "needs_background": "light"
     },
     "output_type": "display_data"
    }
   ],
   "source": [
    "visualize_decision_boundaries(hum_readable_rule)"
   ]
  },
  {
   "cell_type": "code",
   "execution_count": 889,
   "metadata": {},
   "outputs": [
    {
     "data": {
      "text/plain": [
       "{'A1F4995', 'A286D09', 'AD7AF5C', 'AE0D05C'}"
      ]
     },
     "execution_count": 889,
     "metadata": {},
     "output_type": "execute_result"
    }
   ],
   "source": [
    "rule_dict = {}\n",
    "var_dict = {}\n",
    "\n",
    "rules, s_rules = combine_forest_rules(rfclf, \"Iris-setosa\", rule_dict, var_dict)\n",
    "rules"
   ]
  },
  {
   "cell_type": "code",
   "execution_count": 890,
   "metadata": {},
   "outputs": [
    {
     "data": {
      "text/plain": [
       "{'A1F4995', 'A286D09', 'AD7AF5C', 'AE0D05C'}"
      ]
     },
     "execution_count": 890,
     "metadata": {},
     "output_type": "execute_result"
    }
   ],
   "source": [
    "s_rules"
   ]
  },
  {
   "cell_type": "code",
   "execution_count": 891,
   "metadata": {},
   "outputs": [
    {
     "data": {
      "text/plain": [
       "'(A1F4995) & (A286D09) & (AD7AF5C) & (AE0D05C)'"
      ]
     },
     "execution_count": 891,
     "metadata": {},
     "output_type": "execute_result"
    }
   ],
   "source": [
    "s = combine_rule_using_and(s_rules)\n",
    "s"
   ]
  },
  {
   "cell_type": "code",
   "execution_count": 892,
   "metadata": {},
   "outputs": [
    {
     "data": {
      "text/plain": [
       "And(A1F4995, A286D09, AD7AF5C, AE0D05C)"
      ]
     },
     "execution_count": 892,
     "metadata": {},
     "output_type": "execute_result"
    }
   ],
   "source": [
    "s = expr(s).to_dnf().to_cnf()\n",
    "s"
   ]
  },
  {
   "cell_type": "code",
   "execution_count": 893,
   "metadata": {},
   "outputs": [
    {
     "data": {
      "text/plain": [
       "'A1F4995 & A286D09 & AD7AF5C & AE0D05C'"
      ]
     },
     "execution_count": 893,
     "metadata": {},
     "output_type": "execute_result"
    }
   ],
   "source": [
    "simplified_func = convert_to_function('&', s)\n",
    "simplified_func"
   ]
  },
  {
   "cell_type": "code",
   "execution_count": 894,
   "metadata": {},
   "outputs": [
    {
     "data": {
      "text/plain": [
       "\"(3, '<=', 0.7) & (2, '<=', 2.45) & (2, '<=', 2.6) & (3, '<=', 0.8)\""
      ]
     },
     "execution_count": 894,
     "metadata": {},
     "output_type": "execute_result"
    }
   ],
   "source": [
    "sys_readable_rule = print_final_rule(simplified_func)\n",
    "sys_readable_rule"
   ]
  },
  {
   "cell_type": "code",
   "execution_count": 895,
   "metadata": {},
   "outputs": [
    {
     "data": {
      "text/plain": [
       "'(petal_width_cm <= 0.7) and (petal_length_cm <= 2.45) and (petal_length_cm <= 2.6) and (petal_width_cm <= 0.8)'"
      ]
     },
     "execution_count": 895,
     "metadata": {},
     "output_type": "execute_result"
    }
   ],
   "source": [
    "hum_readable_rule = get_valid_predicate(sys_readable_rule)\n",
    "hum_readable_rule"
   ]
  },
  {
   "cell_type": "code",
   "execution_count": 896,
   "metadata": {},
   "outputs": [
    {
     "name": "stdout",
     "output_type": "stream",
     "text": [
      "{'precision': 1.0, 'recall': 1.0, 'f1-score': 1.0, 'support': 43}\n"
     ]
    }
   ],
   "source": [
    "compute_final_rule_accuracy(0, hum_readable_rule)"
   ]
  },
  {
   "cell_type": "code",
   "execution_count": 897,
   "metadata": {
    "scrolled": false
   },
   "outputs": [
    {
     "name": "stdout",
     "output_type": "stream",
     "text": [
      "3476\n"
     ]
    },
    {
     "data": {
      "image/png": "[encoded data removed]",
      "text/plain": [
       "<Figure size 720x576 with 1 Axes>"
      ]
     },
     "metadata": {
      "needs_background": "light"
     },
     "output_type": "display_data"
    }
   ],
   "source": [
    "visualize_decision_boundaries(hum_readable_rule)"
   ]
  },
  {
   "cell_type": "code",
   "execution_count": 898,
   "metadata": {},
   "outputs": [
    {
     "data": {
      "text/plain": [
       "{'(A0CA840 & A233382) | (A5E8A6A & ACB1923)',\n",
       " '(A53B443 & A69667D & ABC9E7B) | (A53B443 & A69667D & ~ABC9E7B & ~ACB1923)',\n",
       " '(A69667D & A893E20 & AE2D073) | (A69667D & ACCC0B6 & ~AE2D073) | (A69667D & ~ACCC0B6 & ~AE2D073)',\n",
       " '(A69667D & AA716C6 & ~ACB1923) | (A69667D & AA716C6 & ACB1923 & ACCC0B6)',\n",
       " '(A69667D & AB87FB1 & ACB1923) | (A0CA840 & A69667D & ~ACB1923)'}"
      ]
     },
     "execution_count": 898,
     "metadata": {},
     "output_type": "execute_result"
    }
   ],
   "source": [
    "rule_dict = {}\n",
    "var_dict = {}\n",
    "\n",
    "rules, s_rules = combine_forest_rules(rfclf, \"Iris-versicolor\", rule_dict, var_dict)\n",
    "rules"
   ]
  },
  {
   "cell_type": "code",
   "execution_count": 899,
   "metadata": {},
   "outputs": [
    {
     "data": {
      "text/plain": [
       "{'(A0CA840 | A5E8A6A) & (A0CA840 | ACB1923) & (A233382 | A5E8A6A) & (A233382 | ACB1923)',\n",
       " 'A53B443 & A69667D & (ABC9E7B | ~ACB1923)',\n",
       " 'A69667D & (A0CA840 | ACB1923) & (AB87FB1 | ~ACB1923)',\n",
       " 'A69667D & (A893E20 | ~AE2D073)',\n",
       " 'A69667D & AA716C6 & (ACCC0B6 | ~ACB1923)'}"
      ]
     },
     "execution_count": 899,
     "metadata": {},
     "output_type": "execute_result"
    }
   ],
   "source": [
    "s_rules"
   ]
  },
  {
   "cell_type": "code",
   "execution_count": 906,
   "metadata": {},
   "outputs": [
    {
     "data": {
      "text/plain": [
       "'(A69667D & (A893E20 | ~AE2D073)) & ((A0CA840 | A5E8A6A) & (A0CA840 | ACB1923) & (A233382 | A5E8A6A) & (A233382 | ACB1923)) & (A69667D & AA716C6 & (ACCC0B6 | ~ACB1923)) & (A69667D & (A0CA840 | ACB1923) & (AB87FB1 | ~ACB1923)) & (A53B443 & A69667D & (ABC9E7B | ~ACB1923))'"
      ]
     },
     "execution_count": 906,
     "metadata": {},
     "output_type": "execute_result"
    }
   ],
   "source": [
    "s = combine_rule_using_and(s_rules)\n",
    "s"
   ]
  },
  {
   "cell_type": "code",
   "execution_count": 907,
   "metadata": {},
   "outputs": [],
   "source": [
    "s = expr(s).to_cnf()"
   ]
  },
  {
   "cell_type": "code",
   "execution_count": 908,
   "metadata": {},
   "outputs": [
    {
     "data": {
      "text/plain": [
       "'A69667D & AA716C6 & A53B443 & (A0CA840 | A5E8A6A) & (~ACB1923 | ABC9E7B) & (A5E8A6A | A233382) & (A893E20 | ~AE2D073) & (ACB1923 | A233382) & (~ACB1923 | ACCC0B6) & (A0CA840 | ACB1923) & (~ACB1923 | AB87FB1)'"
      ]
     },
     "execution_count": 908,
     "metadata": {},
     "output_type": "execute_result"
    }
   ],
   "source": [
    "simplified_func = convert_to_function('&', s)\n",
    "simplified_func"
   ]
  },
  {
   "cell_type": "code",
   "execution_count": 909,
   "metadata": {},
   "outputs": [
    {
     "data": {
      "text/plain": [
       "\"(3, '<=', 1.7) & (3, '>', 0.7) & (3, '>', 0.8) & ((2, '>', 2.45) | (0, '<=', 6.05)) & ((2, '<=', 5.0) | (0, '<=', 6.25)) & ((0, '<=', 6.05) | (2, '<=', 4.75)) & ((2, '>', 2.6) | (2, '>', 4.85)) & ((2, '>', 5.0) | (2, '<=', 4.75)) & ((2, '<=', 5.0) | (0, '<=', 6.15)) & ((2, '>', 2.45) | (2, '>', 5.0)) & ((2, '<=', 5.0) | (1, '>', 2.7))\""
      ]
     },
     "execution_count": 909,
     "metadata": {},
     "output_type": "execute_result"
    }
   ],
   "source": [
    "sys_readable_rule = print_final_rule(simplified_func)\n",
    "sys_readable_rule"
   ]
  },
  {
   "cell_type": "code",
   "execution_count": 910,
   "metadata": {},
   "outputs": [
    {
     "data": {
      "text/plain": [
       "'(petal_width_cm <= 1.7) and (petal_width_cm > 0.7) and (petal_width_cm > 0.8) and ((petal_length_cm > 2.45) or (sepal_length_cm <= 6.05)) and ((petal_length_cm <= 5.0) or (sepal_length_cm <= 6.25)) and ((sepal_length_cm <= 6.05) or (petal_length_cm <= 4.75)) and ((petal_length_cm > 2.6) or (petal_length_cm > 4.85)) and ((petal_length_cm > 5.0) or (petal_length_cm <= 4.75)) and ((petal_length_cm <= 5.0) or (sepal_length_cm <= 6.15)) and ((petal_length_cm > 2.45) or (petal_length_cm > 5.0)) and ((petal_length_cm <= 5.0) or (sepal_width_cm > 2.7))'"
      ]
     },
     "execution_count": 910,
     "metadata": {},
     "output_type": "execute_result"
    }
   ],
   "source": [
    "hum_readable_rule = get_valid_predicate(sys_readable_rule)\n",
    "hum_readable_rule"
   ]
  },
  {
   "cell_type": "code",
   "execution_count": 911,
   "metadata": {},
   "outputs": [],
   "source": [
    "hum_readable_rule = '(petal_width_cm <= 1.7) and (petal_width_cm > 0.7) and (petal_width_cm > 0.8) and ((petal_length_cm > 2.6) or (petal_length_cm > 4.85)) and ((petal_length_cm <= 4.75) or (petal_length_cm > 5.0)) and ((petal_length_cm > 2.45) or (petal_length_cm > 5.0))'"
   ]
  },
  {
   "cell_type": "code",
   "execution_count": 912,
   "metadata": {},
   "outputs": [
    {
     "name": "stdout",
     "output_type": "stream",
     "text": [
      "{'precision': 0.9473684210526315, 'recall': 0.9473684210526315, 'f1-score': 0.9473684210526315, 'support': 38}\n"
     ]
    }
   ],
   "source": [
    "compute_final_rule_accuracy(1, hum_readable_rule)"
   ]
  },
  {
   "cell_type": "code",
   "execution_count": 913,
   "metadata": {},
   "outputs": [
    {
     "name": "stdout",
     "output_type": "stream",
     "text": [
      "3476\n"
     ]
    },
    {
     "data": {
      "image/png": "[encoded data removed]",
      "text/plain": [
       "<Figure size 720x576 with 1 Axes>"
      ]
     },
     "metadata": {
      "needs_background": "light"
     },
     "output_type": "display_data"
    }
   ],
   "source": [
    "visualize_decision_boundaries(hum_readable_rule)"
   ]
  },
  {
   "cell_type": "markdown",
   "metadata": {},
   "source": [
    "### Create & simplify big and rule"
   ]
  },
  {
   "cell_type": "code",
   "execution_count": 303,
   "metadata": {},
   "outputs": [
    {
     "name": "stdout",
     "output_type": "stream",
     "text": [
      "(0, 3, '>', 0.8) & (2, 3, '>', 1.7) & (3, 2, '>', 5.0) & (2, 3, '<=', 1.7)\n"
     ]
    }
   ],
   "source": [
    "# Restart dictionaries\n",
    "rule_dict = {}\n",
    "var_dict = {}\n",
    "\n",
    "# First create one big expression from all rules\n",
    "simplified = sympify(create_big_and_rule(rules_set), evaluate=False)\n",
    "\n",
    "# Then, apply simplification function to it.\n",
    "l = simplify_logic(simplified)\n",
    "\n",
    "if l:\n",
    "    out = print_final_rule(l)\n",
    "else:\n",
    "    out = print_final_rule(simplified)\n",
    "    \n",
    "print(out)"
   ]
  },
  {
   "cell_type": "code",
   "execution_count": 46,
   "metadata": {},
   "outputs": [
    {
     "data": {
      "text/plain": [
       "{'30.8': ['>', 'A1DE1DC'], '31.7': ['<=', 'AD9283D'], '25.0': ['>', 'A03FA08']}"
      ]
     },
     "execution_count": 46,
     "metadata": {},
     "output_type": "execute_result"
    }
   ],
   "source": [
    "rule_dict"
   ]
  },
  {
   "cell_type": "code",
   "execution_count": 47,
   "metadata": {},
   "outputs": [
    {
     "data": {
      "text/plain": [
       "{'A1DE1DC': [0, 3, '>', 0.8],\n",
       " 'AD9283D': [2, 3, '>', 1.7],\n",
       " 'A03FA08': [3, 2, '>', 5.0]}"
      ]
     },
     "execution_count": 47,
     "metadata": {},
     "output_type": "execute_result"
    }
   ],
   "source": [
    "var_dict"
   ]
  },
  {
   "cell_type": "code",
   "execution_count": 306,
   "metadata": {},
   "outputs": [],
   "source": [
    "rules_set = {\n",
    "    ((0, 3, '>', 0.8), (2, 3, '<=', 1.7), (3, 2, '>', 5.0), (5, -2, '>', -2.0)),\n",
    " ((0, 3, '>', 0.8), (2, 3, '>', 1.7), (6, -2, '>', -2.0))\n",
    "}"
   ]
  },
  {
   "cell_type": "code",
   "execution_count": 307,
   "metadata": {},
   "outputs": [
    {
     "data": {
      "text/plain": [
       "{((0, 3, '>', 0.8), (2, 3, '<=', 1.7), (3, 2, '>', 5.0), (5, -2, '>', -2.0)),\n",
       " ((0, 3, '>', 0.8), (2, 3, '>', 1.7), (6, -2, '>', -2.0))}"
      ]
     },
     "execution_count": 307,
     "metadata": {},
     "output_type": "execute_result"
    }
   ],
   "source": [
    "rules_set"
   ]
  },
  {
   "cell_type": "markdown",
   "metadata": {},
   "source": [
    "### Create & simplify big OR rule"
   ]
  },
  {
   "cell_type": "code",
   "execution_count": 308,
   "metadata": {},
   "outputs": [
    {
     "data": {
      "text/plain": [
       "\"(0, 3, '>', 0.8) & ((2, 3, '>', 1.7) | (3, 2, '>', 5.0))\""
      ]
     },
     "execution_count": 308,
     "metadata": {},
     "output_type": "execute_result"
    }
   ],
   "source": [
    "# Restart dictionaries\n",
    "rule_dict = {}\n",
    "var_dict = {}\n",
    "\n",
    "# First create one big expression from all rules\n",
    "simplified = sympify(create_big_or_rule(rules_set), evaluate=False)\n",
    "\n",
    "# Then, apply simplification function to it.\n",
    "l = simplify_logic(simplified)\n",
    "\n",
    "# The print the final big rule, to interpret the decision three\n",
    "print_final_rule(l)"
   ]
  },
  {
   "cell_type": "code",
   "execution_count": 165,
   "metadata": {},
   "outputs": [
    {
     "data": {
      "text/plain": [
       "\"(2, 3, '>', 1.7) & (3, 2, '>', 5.0) & (0, 3, '>', 0.8) & (2, 3, '<=', 1.7)\""
      ]
     },
     "execution_count": 165,
     "metadata": {},
     "output_type": "execute_result"
    }
   ],
   "source": [
    "out"
   ]
  },
  {
   "cell_type": "code",
   "execution_count": null,
   "metadata": {},
   "outputs": [],
   "source": []
  },
  {
   "cell_type": "code",
   "execution_count": 521,
   "metadata": {},
   "outputs": [],
   "source": [
    "from pypred import OptimizedPredicateSet, PredicateSet, Predicate"
   ]
  },
  {
   "cell_type": "code",
   "execution_count": 167,
   "metadata": {},
   "outputs": [
    {
     "data": {
      "text/plain": [
       "['sepal_length_cm', 'sepal_width_cm', 'petal_length_cm', 'petal_width_cm']"
      ]
     },
     "execution_count": 167,
     "metadata": {},
     "output_type": "execute_result"
    }
   ],
   "source": [
    "feature_names_array"
   ]
  },
  {
   "cell_type": "code",
   "execution_count": 203,
   "metadata": {},
   "outputs": [],
   "source": [
    "match = s.evaluate({'petal_width_cm': 2.0, 'petal_length_cm': 5.0})"
   ]
  },
  {
   "cell_type": "code",
   "execution_count": 204,
   "metadata": {},
   "outputs": [
    {
     "data": {
      "text/plain": [
       "[<pypred.predicate.Predicate at 0x1a2095f320>]"
      ]
     },
     "execution_count": 204,
     "metadata": {},
     "output_type": "execute_result"
    }
   ],
   "source": [
    "match"
   ]
  },
  {
   "cell_type": "code",
   "execution_count": 209,
   "metadata": {},
   "outputs": [],
   "source": []
  },
  {
   "cell_type": "code",
   "execution_count": 218,
   "metadata": {},
   "outputs": [],
   "source": [
    "Z = np.array(rule_predict(2, set()))"
   ]
  },
  {
   "cell_type": "code",
   "execution_count": 219,
   "metadata": {},
   "outputs": [
    {
     "data": {
      "text/plain": [
       "array([ 2, -1, -1, -1, -1, -1, -1, -1, -1, -1, -1, -1, -1,  2, -1, -1,  2,\n",
       "        2, -1, -1, -1,  2, -1, -1,  2, -1, -1, -1,  2,  2])"
      ]
     },
     "execution_count": 219,
     "metadata": {},
     "output_type": "execute_result"
    }
   ],
   "source": [
    "Z"
   ]
  },
  {
   "cell_type": "markdown",
   "metadata": {},
   "source": [
    "## Vizualizacia generovanych pravidiet pre klasifikaciu iris datasetu"
   ]
  },
  {
   "cell_type": "code",
   "execution_count": 522,
   "metadata": {},
   "outputs": [],
   "source": [
    "def predicate_rule_predict(class_name, rule, dataset):\n",
    "    pred = []\n",
    "    \n",
    "    test = Predicate(rule)\n",
    "    s = OptimizedPredicateSet([test])\n",
    "    \n",
    "    for row in dataset:\n",
    "        \n",
    "        match = s.evaluate({'petal_length_cm': row[0], 'petal_width_cm': row[1]})\n",
    "            \n",
    "        if len(match):\n",
    "            pred.append(class_name)\n",
    "        else:\n",
    "            pred.append(-1)\n",
    "            \n",
    "    return pred"
   ]
  },
  {
   "cell_type": "code",
   "execution_count": 947,
   "metadata": {},
   "outputs": [],
   "source": [
    "rules_set = {\n",
    "    (0, '(petal_width_cm <= 0.7) and (petal_length_cm <= 2.45) and (petal_length_cm <= 2.6) and (petal_width_cm <= 0.8)'),\n",
    "    (1, '(petal_width_cm <= 1.7) and (petal_width_cm > 0.7) and (petal_width_cm > 0.8) and ((petal_length_cm > 2.6) or (petal_length_cm > 4.85)) and ((petal_length_cm <= 4.75) or (petal_length_cm > 5.0)) and ((petal_length_cm > 2.45) or (petal_length_cm > 5.0))'),\n",
    "    (2, '(petal_length_cm > 2.45) and (petal_width_cm > 1.7) and (petal_length_cm > 4.75) and ((petal_length_cm > 2.6) or (petal_length_cm > 4.85))')\n",
    "}"
   ]
  },
  {
   "cell_type": "code",
   "execution_count": 964,
   "metadata": {},
   "outputs": [],
   "source": [
    "def predicate_rules_set_predict(rules_set, dataset):\n",
    "    \n",
    "    pred = []\n",
    "    \n",
    "    w_set = set()\n",
    "    for r in rules_set:\n",
    "        r = (r[0], OptimizedPredicateSet([Predicate(r[1])]))\n",
    "        w_set.add(r)\n",
    "        \n",
    "    for i, row in enumerate(dataset):\n",
    "        \n",
    "        j = 0\n",
    "        for r in w_set:\n",
    "            class_i = r[0]\n",
    "            rule_p = r[1]\n",
    "\n",
    "            match = rule_p.evaluate({'petal_length_cm': row[0], 'petal_width_cm': row[1]})\n",
    "\n",
    "            if len(match):\n",
    "                pred.append(class_i)\n",
    "                break\n",
    "        \n",
    "            j += 1\n",
    "            \n",
    "        if j == len(w_set):\n",
    "            pred.append(-1)\n",
    "        \n",
    "    return pred"
   ]
  },
  {
   "cell_type": "code",
   "execution_count": 980,
   "metadata": {},
   "outputs": [
    {
     "data": {
      "image/png": "[encoded data removed]",
      "text/plain": [
       "<Figure size 720x576 with 1 Axes>"
      ]
     },
     "metadata": {
      "needs_background": "light"
     },
     "output_type": "display_data"
    }
   ],
   "source": [
    "X = X_train[0:, [2, 3]]\n",
    "Y = Y_train\n",
    "\n",
    "# Plotting decision regions\n",
    "x_min, x_max = X[:, 0].min() - 1, X[:, 0].max() + 1\n",
    "y_min, y_max = X[:, 1].min() - 1, X[:, 1].max() + 1\n",
    "\n",
    "xx, yy = np.meshgrid(np.arange(x_min, x_max, 0.1), np.arange(y_min, y_max, 0.1))\n",
    "\n",
    "f, axarr = plt.subplots(figsize=(10, 8))\n",
    "\n",
    "ravel_ = np.c_[xx.ravel(), yy.ravel()]\n",
    "Z = np.array(predicate_rules_set_predict(rules_set, ravel_))\n",
    "Z = Z.reshape(xx.shape)\n",
    "\n",
    "axarr.contourf(xx, yy, Z, alpha=0.4)\n",
    "axarr.scatter(X[:, 0], X[:, 1], c=Y, s=20, edgecolor='k')\n",
    "axarr.set_title(\"Rules predictions\")\n",
    "\n",
    "plt.show()"
   ]
  },
  {
   "cell_type": "code",
   "execution_count": 976,
   "metadata": {},
   "outputs": [
    {
     "name": "stdout",
     "output_type": "stream",
     "text": [
      "              precision    recall  f1-score   support\n",
      "\n",
      "          -1       0.00      0.00      0.00         2\n",
      "           0       1.00      1.00      1.00        43\n",
      "           1       0.95      0.95      0.95        38\n",
      "           2       0.95      1.00      0.97        37\n",
      "\n",
      "   micro avg       0.97      0.97      0.97       120\n",
      "   macro avg       0.72      0.74      0.73       120\n",
      "weighted avg       0.95      0.97      0.96       120\n",
      "\n"
     ]
    }
   ],
   "source": [
    "predict_rule_class(rules_set)"
   ]
  },
  {
   "cell_type": "code",
   "execution_count": 968,
   "metadata": {},
   "outputs": [
    {
     "data": {
      "text/plain": [
       "['sepal_length_cm', 'sepal_width_cm', 'petal_length_cm', 'petal_width_cm']"
      ]
     },
     "execution_count": 968,
     "metadata": {},
     "output_type": "execute_result"
    }
   ],
   "source": [
    "feature_names_array"
   ]
  },
  {
   "cell_type": "code",
   "execution_count": 633,
   "metadata": {},
   "outputs": [
    {
     "data": {
      "image/png": "[encoded data removed]",
      "text/plain": [
       "<Figure size 720x576 with 1 Axes>"
      ]
     },
     "metadata": {
      "needs_background": "light"
     },
     "output_type": "display_data"
    }
   ],
   "source": [
    "print_decision_boundaries(2, '(petal_length_cm > 4.75) and (petal_width_cm > 1.7) and ((petal_width_cm <= 1.7) or (petal_length_cm > 2.45)) and ((petal_length_cm > 2.6) or (petal_length_cm > 4.85)) and ((petal_width_cm > 1.7) or (petal_length_cm > 5.0)) and ((petal_width_cm > 1.7) or ((petal_width_cm > 0.8) and (petal_length_cm > 5.0))) and ((petal_width_cm > 1.7) or ((petal_width_cm > 0.7) and (petal_length_cm > 5.0)))')"
   ]
  },
  {
   "cell_type": "code",
   "execution_count": null,
   "metadata": {},
   "outputs": [],
   "source": [
    "\"(2, 3, '>', 1.7) | ((0, 3, '>', 0.8) & (3, 2, '>', 5.0))\""
   ]
  },
  {
   "cell_type": "code",
   "execution_count": 263,
   "metadata": {},
   "outputs": [
    {
     "data": {
      "image/png": "[encoded data removed]",
      "text/plain": [
       "<Figure size 720x576 with 1 Axes>"
      ]
     },
     "metadata": {
      "needs_background": "light"
     },
     "output_type": "display_data"
    }
   ],
   "source": [
    "from itertools import product\n",
    "\n",
    "import numpy as np\n",
    "import matplotlib.pyplot as plt\n",
    "\n",
    "from sklearn import datasets\n",
    "from sklearn.tree import DecisionTreeClassifier\n",
    "from sklearn.neighbors import KNeighborsClassifier\n",
    "from sklearn.svm import SVC\n",
    "from sklearn.ensemble import VotingClassifier\n",
    "\n",
    "X = X_train[0:, [2, 3]]\n",
    "Y = Y_train\n",
    "\n",
    "# Training classifiers\n",
    "clf1 = DecisionTreeClassifier(max_depth=4)\n",
    "\n",
    "clf1.fit(X, Y)\n",
    "\n",
    "# Plotting decision regions\n",
    "x_min, x_max = X[:, 0].min() - 1, X[:, 0].max() + 1\n",
    "y_min, y_max = X[:, 1].min() - 1, X[:, 1].max() + 1\n",
    "\n",
    "xx, yy = np.meshgrid(np.arange(x_min, x_max, 0.1), np.arange(y_min, y_max, 0.1))\n",
    "\n",
    "f, axarr = plt.subplots(figsize=(10, 8))\n",
    "\n",
    "#Z = np.array(rule_predict(2, \"(petal_length_cm > 5.0 or petal_length_cm < 3.0) and (petal_width_cm > 1.7)\", np.c_[xx.ravel(), yy.ravel()]))\n",
    "Z = clf1.predict(np.c_[xx.ravel(), yy.ravel()])\n",
    "Z = Z.reshape(xx.shape)\n",
    "\n",
    "axarr.contourf(xx, yy, Z, alpha=0.4)\n",
    "axarr.scatter(X[:, 0], X[:, 1], c=Y, s=20, edgecolor='k')\n",
    "axarr.set_title(tt)\n",
    "\n",
    "plt.show()"
   ]
  },
  {
   "cell_type": "markdown",
   "metadata": {},
   "source": [
    "-----\n",
    "## Natrenovanie random forestu"
   ]
  },
  {
   "cell_type": "code",
   "execution_count": 244,
   "metadata": {},
   "outputs": [],
   "source": [
    "from sklearn.ensemble import RandomForestClassifier"
   ]
  },
  {
   "cell_type": "code",
   "execution_count": 245,
   "metadata": {},
   "outputs": [
    {
     "data": {
      "text/plain": [
       "RandomForestClassifier(bootstrap=True, class_weight=None, criterion='gini',\n",
       "            max_depth=4, max_features='auto', max_leaf_nodes=None,\n",
       "            min_impurity_decrease=0.0, min_impurity_split=None,\n",
       "            min_samples_leaf=1, min_samples_split=2,\n",
       "            min_weight_fraction_leaf=0.0, n_estimators=5, n_jobs=None,\n",
       "            oob_score=False, random_state=None, verbose=0,\n",
       "            warm_start=False)"
      ]
     },
     "execution_count": 245,
     "metadata": {},
     "output_type": "execute_result"
    }
   ],
   "source": [
    "rfclf = RandomForestClassifier(n_estimators=5, max_depth=4)\n",
    "rfclf.fit(X_train, Y_train)"
   ]
  },
  {
   "cell_type": "code",
   "execution_count": 359,
   "metadata": {},
   "outputs": [],
   "source": [
    "pred = rfclf.predict(X_validation)"
   ]
  },
  {
   "cell_type": "code",
   "execution_count": 360,
   "metadata": {},
   "outputs": [
    {
     "name": "stdout",
     "output_type": "stream",
     "text": [
      "0.8666666666666667\n",
      "              precision    recall  f1-score   support\n",
      "\n",
      "           0       1.00      1.00      1.00         7\n",
      "           1       0.83      0.83      0.83        12\n",
      "           2       0.82      0.82      0.82        11\n",
      "\n",
      "   micro avg       0.87      0.87      0.87        30\n",
      "   macro avg       0.88      0.88      0.88        30\n",
      "weighted avg       0.87      0.87      0.87        30\n",
      "\n"
     ]
    }
   ],
   "source": [
    "print(accuracy_score(Y_validation, pred))\n",
    "print(classification_report(Y_validation, pred))"
   ]
  },
  {
   "cell_type": "markdown",
   "metadata": {},
   "source": [
    "### Generate prunned rules for 'Iris-setosa' class and assign them accuracy"
   ]
  },
  {
   "cell_type": "code",
   "execution_count": 361,
   "metadata": {},
   "outputs": [
    {
     "data": {
      "text/plain": [
       "[(0.82, ((0, 2, '>', 4.75), (4, 2, '>', 4.95), (8, -2, '>', -2.0))),\n",
       " (0.73, ((5, 1, '>', 2.6), (7, -2, '>', -2.0))),\n",
       " (0.73, ((6, 3, '>', 1.7), (10, -2, '>', -2.0))),\n",
       " (0.73, ((0, 3, '>', 0.75), (2, 3, '>', 1.7), (8, -2, '>', -2.0))),\n",
       " (0.73, ((3, 3, '>', 1.7), (5, -2, '>', -2.0))),\n",
       " (0.73, ((3, 3, '>', 1.45), (5, 2, '>', 5.0), (7, -2, '>', -2.0))),\n",
       " (0.73, ((10, 3, '>', 1.7), (14, -2, '>', -2.0))),\n",
       " (0.73, ((0, 2, '>', 2.6), (2, 3, '>', 1.7), (4, -2, '>', -2.0))),\n",
       " (0.36, ((5, 3, '>', 0.6), (7, 3, '>', 1.8), (9, -2, '>', -2.0)))]"
      ]
     },
     "execution_count": 361,
     "metadata": {},
     "output_type": "execute_result"
    }
   ],
   "source": [
    "p = get_pruned_rules_accuracy(\"Iris-virginica\", rfclf)\n",
    "p"
   ]
  },
  {
   "cell_type": "markdown",
   "metadata": {},
   "source": [
    "### Test those pruned rules accuracy agaist predicting other class"
   ]
  },
  {
   "cell_type": "code",
   "execution_count": 362,
   "metadata": {},
   "outputs": [
    {
     "name": "stdout",
     "output_type": "stream",
     "text": [
      "0.08\n",
      "0.92\n",
      "0.08\n",
      "0.08\n",
      "0.08\n",
      "0.0\n",
      "0.08\n",
      "0.08\n",
      "0.0\n"
     ]
    }
   ],
   "source": [
    "for rule in p:\n",
    "    rule = list(rule)\n",
    "    print(compute_rule_accuracy(get_class_index(\"Iris-versicolor\"), rule[1]))"
   ]
  },
  {
   "cell_type": "markdown",
   "metadata": {},
   "source": [
    "### Get accuracy for generated rules, without prunning"
   ]
  },
  {
   "cell_type": "code",
   "execution_count": 363,
   "metadata": {
    "scrolled": true
   },
   "outputs": [
    {
     "data": {
      "text/plain": [
       "[(0.82, ((0, 2, '>', 4.75), (4, 2, '>', 4.95), (8, -2, '>', -2.0))),\n",
       " (0.73, ((0, 3, '>', 0.75), (2, 3, '>', 1.7), (8, -2, '>', -2.0))),\n",
       " (0.73, ((0, 2, '>', 2.6), (2, 3, '>', 1.7), (4, -2, '>', -2.0))),\n",
       " (0.45,\n",
       "  ((0, 3, '>', 0.75),\n",
       "   (2, 0, '>', 6.15),\n",
       "   (6, 3, '>', 1.7),\n",
       "   (10, -2, '>', -2.0))),\n",
       " (0.45,\n",
       "  ((0, 0, '>', 5.55),\n",
       "   (4, 0, '>', 6.05),\n",
       "   (10, 3, '>', 1.7),\n",
       "   (14, -2, '>', -2.0))),\n",
       " (0.27,\n",
       "  ((0, 3, '>', 0.75),\n",
       "   (2, 0, '<=', 6.15),\n",
       "   (3, 3, '>', 1.7),\n",
       "   (5, -2, '>', -2.0))),\n",
       " (0.09,\n",
       "  ((0, 3, '>', 0.75),\n",
       "   (2, 3, '<=', 1.7),\n",
       "   (3, 3, '>', 1.45),\n",
       "   (5, 2, '>', 5.0),\n",
       "   (7, -2, '>', -2.0))),\n",
       " (0.09,\n",
       "  ((0, 2, '>', 4.75),\n",
       "   (4, 2, '<=', 4.95),\n",
       "   (5, 1, '>', 2.6),\n",
       "   (7, -2, '>', -2.0))),\n",
       " (0.09,\n",
       "  ((0, 0, '>', 5.55),\n",
       "   (4, 0, '<=', 6.05),\n",
       "   (5, 3, '>', 0.6),\n",
       "   (7, 3, '>', 1.8),\n",
       "   (9, -2, '>', -2.0)))]"
      ]
     },
     "execution_count": 363,
     "metadata": {},
     "output_type": "execute_result"
    }
   ],
   "source": [
    "p2 = get_rules_accuracy(\"Iris-virginica\", rfclf)\n",
    "p2"
   ]
  },
  {
   "cell_type": "code",
   "execution_count": 364,
   "metadata": {},
   "outputs": [
    {
     "data": {
      "text/plain": [
       "[(0.82, ((0, 2, '>', 4.95), (8, -2, '>', -2.0))),\n",
       " (0.73, ((0, 3, '>', 1.7), (8, -2, '>', -2.0))),\n",
       " (0.73, ((0, 2, '>', 2.6), (2, 3, '>', 1.7), (4, -2, '>', -2.0))),\n",
       " (0.45, ((0, 0, '>', 6.05), (10, 3, '>', 1.7), (14, -2, '>', -2.0))),\n",
       " (0.45, ((0, 3, '>', 1.7), (2, 0, '>', 6.15), (10, -2, '>', -2.0))),\n",
       " (0.27, ((0, 3, '>', 1.7), (2, 0, '<=', 6.15), (5, -2, '>', -2.0))),\n",
       " (0.09,\n",
       "  ((0, 2, '>', 4.75),\n",
       "   (4, 2, '<=', 4.95),\n",
       "   (5, 1, '>', 2.6),\n",
       "   (7, -2, '>', -2.0))),\n",
       " (0.09,\n",
       "  ((0, 0, '>', 5.55),\n",
       "   (4, 0, '<=', 6.05),\n",
       "   (5, 3, '>', 1.8),\n",
       "   (9, -2, '>', -2.0))),\n",
       " (0.09,\n",
       "  ((0, 3, '>', 1.45),\n",
       "   (2, 3, '<=', 1.7),\n",
       "   (5, 2, '>', 5.0),\n",
       "   (7, -2, '>', -2.0)))]"
      ]
     },
     "execution_count": 364,
     "metadata": {},
     "output_type": "execute_result"
    }
   ],
   "source": [
    "# No redundancy\n",
    "p2 = get_rules_accuracy(\"Iris-virginica\", rfclf, True)\n",
    "p2"
   ]
  },
  {
   "cell_type": "markdown",
   "metadata": {},
   "source": [
    "-------"
   ]
  },
  {
   "cell_type": "code",
   "execution_count": 53,
   "metadata": {},
   "outputs": [
    {
     "ename": "SyntaxError",
     "evalue": "invalid syntax (<ipython-input-53-3035a0b4963b>, line 1)",
     "output_type": "error",
     "traceback": [
      "\u001b[0;36m  File \u001b[0;32m\"<ipython-input-53-3035a0b4963b>\"\u001b[0;36m, line \u001b[0;32m1\u001b[0m\n\u001b[0;31m    2) Najst pravidlo ktore to blokuje.\u001b[0m\n\u001b[0m     ^\u001b[0m\n\u001b[0;31mSyntaxError\u001b[0m\u001b[0;31m:\u001b[0m invalid syntax\n"
     ]
    }
   ],
   "source": [
    "2) Najst pravidlo ktore to blokuje."
   ]
  },
  {
   "cell_type": "code",
   "execution_count": 252,
   "metadata": {},
   "outputs": [
    {
     "data": {
      "text/plain": [
       "'(AE088B9 | (A409AE5 & A7893BC & AC4A452 & ~AE088B9)) & ((A8CEBD5 & ADF6250 & AE088B9) | (A8CEBD5 & AE088B9 & ~ADF6250)) & ((A9DD340 & AE088B9) | (A409AE5 & A9DD340 & AB5240C & ~AE088B9)) & ((A803ACD & AAC0982 & ~A53A3CD) | (A53A3CD & A803ACD & AAC0982 & ~A409AE5)) & ((A803ACD & AE088B9) | (A409AE5 & A568ADC & A803ACD & ~AE088B9))'"
      ]
     },
     "execution_count": 252,
     "metadata": {},
     "output_type": "execute_result"
    }
   ],
   "source": [
    "rules, s_rules = combine_forest_rules(rfclf, \"Iris-virginica\")\n",
    "rules = combine_rule_using_and(rules)\n",
    "rules"
   ]
  },
  {
   "cell_type": "code",
   "execution_count": 254,
   "metadata": {},
   "outputs": [
    {
     "data": {
      "text/plain": [
       "A803ACD & A8CEBD5 & A9DD340 & AAC0982 & AE088B9 & (A409AE5 | AE088B9) & (A568ADC | AE088B9) & (AB5240C | AE088B9) & (~A409AE5 | ~A53A3CD) & (AE088B9 | (A409AE5 & A7893BC & AC4A452))"
      ]
     },
     "execution_count": 254,
     "metadata": {},
     "output_type": "execute_result"
    }
   ],
   "source": [
    "s_rules = sympify(s_rules, evaluate=False)\n",
    "s_rules"
   ]
  },
  {
   "cell_type": "code",
   "execution_count": 255,
   "metadata": {},
   "outputs": [
    {
     "ename": "KeyboardInterrupt",
     "evalue": "",
     "output_type": "error",
     "traceback": [
      "\u001b[0;31m---------------------------------------------------------------------------\u001b[0m",
      "\u001b[0;31mKeyboardInterrupt\u001b[0m                         Traceback (most recent call last)",
      "\u001b[0;32m<ipython-input-255-69fb04e65027>\u001b[0m in \u001b[0;36m<module>\u001b[0;34m\u001b[0m\n\u001b[0;32m----> 1\u001b[0;31m \u001b[0mt\u001b[0m \u001b[0;34m=\u001b[0m \u001b[0msimplify_logic\u001b[0m\u001b[0;34m(\u001b[0m\u001b[0ms_rules\u001b[0m\u001b[0;34m)\u001b[0m\u001b[0;34m\u001b[0m\u001b[0;34m\u001b[0m\u001b[0m\n\u001b[0m",
      "\u001b[0;32m~/anaconda3/lib/python3.7/site-packages/sympy/logic/boolalg.py\u001b[0m in \u001b[0;36msimplify_logic\u001b[0;34m(expr, form, deep)\u001b[0m\n\u001b[1;32m   1983\u001b[0m     \u001b[0;32mif\u001b[0m \u001b[0mform\u001b[0m \u001b[0;34m==\u001b[0m \u001b[0;34m'dnf'\u001b[0m \u001b[0;32mor\u001b[0m \u001b[0mform\u001b[0m \u001b[0;32mis\u001b[0m \u001b[0;32mNone\u001b[0m \u001b[0;32mand\u001b[0m \u001b[0mbig\u001b[0m\u001b[0;34m:\u001b[0m\u001b[0;34m\u001b[0m\u001b[0;34m\u001b[0m\u001b[0m\n\u001b[1;32m   1984\u001b[0m         \u001b[0;32mreturn\u001b[0m \u001b[0mSOPform\u001b[0m\u001b[0;34m(\u001b[0m\u001b[0mvariables\u001b[0m\u001b[0;34m,\u001b[0m \u001b[0mtruthtable\u001b[0m\u001b[0;34m)\u001b[0m\u001b[0;34m\u001b[0m\u001b[0;34m\u001b[0m\u001b[0m\n\u001b[0;32m-> 1985\u001b[0;31m     \u001b[0;32mreturn\u001b[0m \u001b[0mPOSform\u001b[0m\u001b[0;34m(\u001b[0m\u001b[0mvariables\u001b[0m\u001b[0;34m,\u001b[0m \u001b[0mtruthtable\u001b[0m\u001b[0;34m)\u001b[0m\u001b[0;34m\u001b[0m\u001b[0;34m\u001b[0m\u001b[0m\n\u001b[0m\u001b[1;32m   1986\u001b[0m \u001b[0;34m\u001b[0m\u001b[0m\n\u001b[1;32m   1987\u001b[0m \u001b[0;34m\u001b[0m\u001b[0m\n",
      "\u001b[0;32m~/anaconda3/lib/python3.7/site-packages/sympy/logic/boolalg.py\u001b[0m in \u001b[0;36mPOSform\u001b[0;34m(variables, minterms, dontcares)\u001b[0m\n\u001b[1;32m   1911\u001b[0m     \u001b[0;32mwhile\u001b[0m \u001b[0mnew\u001b[0m \u001b[0;34m!=\u001b[0m \u001b[0mold\u001b[0m\u001b[0;34m:\u001b[0m\u001b[0;34m\u001b[0m\u001b[0;34m\u001b[0m\u001b[0m\n\u001b[1;32m   1912\u001b[0m         \u001b[0mold\u001b[0m \u001b[0;34m=\u001b[0m \u001b[0mnew\u001b[0m\u001b[0;34m\u001b[0m\u001b[0;34m\u001b[0m\u001b[0m\n\u001b[0;32m-> 1913\u001b[0;31m         \u001b[0mnew\u001b[0m \u001b[0;34m=\u001b[0m \u001b[0m_simplified_pairs\u001b[0m\u001b[0;34m(\u001b[0m\u001b[0mold\u001b[0m\u001b[0;34m)\u001b[0m\u001b[0;34m\u001b[0m\u001b[0;34m\u001b[0m\u001b[0m\n\u001b[0m\u001b[1;32m   1914\u001b[0m     \u001b[0messential\u001b[0m \u001b[0;34m=\u001b[0m \u001b[0m_rem_redundancy\u001b[0m\u001b[0;34m(\u001b[0m\u001b[0mnew\u001b[0m\u001b[0;34m,\u001b[0m \u001b[0mmaxterms\u001b[0m\u001b[0;34m)\u001b[0m\u001b[0;34m\u001b[0m\u001b[0;34m\u001b[0m\u001b[0m\n\u001b[1;32m   1915\u001b[0m     \u001b[0;32mreturn\u001b[0m \u001b[0mAnd\u001b[0m\u001b[0;34m(\u001b[0m\u001b[0;34m*\u001b[0m\u001b[0;34m[\u001b[0m\u001b[0m_convert_to_varsPOS\u001b[0m\u001b[0;34m(\u001b[0m\u001b[0mx\u001b[0m\u001b[0;34m,\u001b[0m \u001b[0mvariables\u001b[0m\u001b[0;34m)\u001b[0m \u001b[0;32mfor\u001b[0m \u001b[0mx\u001b[0m \u001b[0;32min\u001b[0m \u001b[0messential\u001b[0m\u001b[0;34m]\u001b[0m\u001b[0;34m)\u001b[0m\u001b[0;34m\u001b[0m\u001b[0;34m\u001b[0m\u001b[0m\n",
      "\u001b[0;32m~/anaconda3/lib/python3.7/site-packages/sympy/logic/boolalg.py\u001b[0m in \u001b[0;36m_simplified_pairs\u001b[0;34m(terms)\u001b[0m\n\u001b[1;32m   1755\u001b[0m     \u001b[0;32mfor\u001b[0m \u001b[0mi\u001b[0m\u001b[0;34m,\u001b[0m \u001b[0mti\u001b[0m \u001b[0;32min\u001b[0m \u001b[0menumerate\u001b[0m\u001b[0;34m(\u001b[0m\u001b[0mterms\u001b[0m\u001b[0;34m[\u001b[0m\u001b[0;34m:\u001b[0m\u001b[0;34m-\u001b[0m\u001b[0;36m1\u001b[0m\u001b[0;34m]\u001b[0m\u001b[0;34m)\u001b[0m\u001b[0;34m:\u001b[0m\u001b[0;34m\u001b[0m\u001b[0;34m\u001b[0m\u001b[0m\n\u001b[1;32m   1756\u001b[0m         \u001b[0;32mfor\u001b[0m \u001b[0mj_i\u001b[0m\u001b[0;34m,\u001b[0m \u001b[0mtj\u001b[0m \u001b[0;32min\u001b[0m \u001b[0menumerate\u001b[0m\u001b[0;34m(\u001b[0m\u001b[0mterms\u001b[0m\u001b[0;34m[\u001b[0m\u001b[0;34m(\u001b[0m\u001b[0mi\u001b[0m \u001b[0;34m+\u001b[0m \u001b[0;36m1\u001b[0m\u001b[0;34m)\u001b[0m\u001b[0;34m:\u001b[0m\u001b[0;34m]\u001b[0m\u001b[0;34m)\u001b[0m\u001b[0;34m:\u001b[0m\u001b[0;34m\u001b[0m\u001b[0;34m\u001b[0m\u001b[0m\n\u001b[0;32m-> 1757\u001b[0;31m             \u001b[0mindex\u001b[0m \u001b[0;34m=\u001b[0m \u001b[0m_check_pair\u001b[0m\u001b[0;34m(\u001b[0m\u001b[0mti\u001b[0m\u001b[0;34m,\u001b[0m \u001b[0mtj\u001b[0m\u001b[0;34m)\u001b[0m\u001b[0;34m\u001b[0m\u001b[0;34m\u001b[0m\u001b[0m\n\u001b[0m\u001b[1;32m   1758\u001b[0m             \u001b[0;32mif\u001b[0m \u001b[0mindex\u001b[0m \u001b[0;34m!=\u001b[0m \u001b[0;34m-\u001b[0m\u001b[0;36m1\u001b[0m\u001b[0;34m:\u001b[0m\u001b[0;34m\u001b[0m\u001b[0;34m\u001b[0m\u001b[0m\n\u001b[1;32m   1759\u001b[0m                 \u001b[0mtodo\u001b[0m\u001b[0;34m[\u001b[0m\u001b[0mi\u001b[0m\u001b[0;34m]\u001b[0m \u001b[0;34m=\u001b[0m \u001b[0mtodo\u001b[0m\u001b[0;34m[\u001b[0m\u001b[0mj_i\u001b[0m \u001b[0;34m+\u001b[0m \u001b[0mi\u001b[0m \u001b[0;34m+\u001b[0m \u001b[0;36m1\u001b[0m\u001b[0;34m]\u001b[0m \u001b[0;34m=\u001b[0m \u001b[0;32mNone\u001b[0m\u001b[0;34m\u001b[0m\u001b[0;34m\u001b[0m\u001b[0m\n",
      "\u001b[0;31mKeyboardInterrupt\u001b[0m: "
     ]
    }
   ],
   "source": [
    "t = simplify_logic(s_rules)"
   ]
  },
  {
   "cell_type": "markdown",
   "metadata": {},
   "source": [
    "## Zakomponovanie jedneho velkeho pravidla zo vsetkych vygenerovanych random forestom"
   ]
  },
  {
   "cell_type": "code",
   "execution_count": 296,
   "metadata": {},
   "outputs": [],
   "source": [
    "rf_rules_set = combine_rules(\"Iris-virginica\", rfclf)"
   ]
  },
  {
   "cell_type": "code",
   "execution_count": 297,
   "metadata": {
    "scrolled": false
   },
   "outputs": [
    {
     "data": {
      "text/plain": [
       "{((0, 2, '>', 2.45),\n",
       "  (2, 2, '>', 4.75),\n",
       "  (4, 0, '<=', 6.05),\n",
       "  (5, 2, '<=', 5.0),\n",
       "  (6, -2, '<=', -2.0)),\n",
       " ((0, 2, '>', 2.45), (2, 2, '>', 4.75), (4, 0, '>', 6.05), (8, -2, '>', -2.0)),\n",
       " ((0, 2, '>', 2.45),\n",
       "  (2, 3, '<=', 1.7),\n",
       "  (3, 2, '>', 5.0),\n",
       "  (5, 1, '<=', 2.7),\n",
       "  (6, -2, '<=', -2.0)),\n",
       " ((0, 2, '>', 2.45), (2, 3, '>', 1.7), (8, -2, '>', -2.0)),\n",
       " ((0, 2, '>', 2.6), (2, 2, '<=', 4.85), (3, 3, '>', 1.7), (5, -2, '>', -2.0)),\n",
       " ((0, 2, '>', 2.6), (2, 2, '>', 4.85), (6, 3, '>', 1.7), (10, -2, '>', -2.0)),\n",
       " ((0, 3, '<=', 1.7),\n",
       "  (1, 3, '>', 0.7),\n",
       "  (3, 2, '>', 5.0),\n",
       "  (5, 0, '>', 6.15),\n",
       "  (7, -2, '>', -2.0)),\n",
       " ((0, 3, '>', 0.8),\n",
       "  (2, 3, '<=', 1.7),\n",
       "  (3, 0, '>', 6.25),\n",
       "  (5, 2, '>', 5.0),\n",
       "  (7, -2, '>', -2.0)),\n",
       " ((0, 3, '>', 0.8), (2, 3, '>', 1.7), (8, -2, '>', -2.0)),\n",
       " ((0, 3, '>', 1.7), (8, -2, '>', -2.0))}"
      ]
     },
     "execution_count": 297,
     "metadata": {},
     "output_type": "execute_result"
    }
   ],
   "source": [
    "rf_rules_set"
   ]
  },
  {
   "cell_type": "code",
   "execution_count": 301,
   "metadata": {},
   "outputs": [],
   "source": [
    "l = sympify(create_big_or_rule(rf_rules_set), evaluate=False)"
   ]
  },
  {
   "cell_type": "code",
   "execution_count": 302,
   "metadata": {},
   "outputs": [
    {
     "data": {
      "text/plain": [
       "\"(2, 3, '>', 1.7) | ((0, 2, '>', 2.45) & (2, 3, '<=', 1.7)) | ((0, 3, '>', 0.8) & (2, 3, '>', 1.7)) | ((0, 2, '>', 4.75) & (0, 2, '>', 2.45) & (4, 0, '>', 6.05)) | ((0, 2, '>', 4.85) & (0, 2, '>', 2.6) & (2, 3, '<=', 1.7)) | ((0, 2, '>', 2.6) & (2, 3, '>', 1.7) & (0, 2, '<=', 4.85)) | ((2, 3, '>', 1.7) & (0, 2, '>', 2.45) & (5, 1, '<=', 2.7) & (5, 2, '>', 5.0)) | ((2, 3, '>', 1.7) & (0, 3, '>', 0.8) & (3, 0, '>', 6.25) & (5, 2, '<=', 5.0)) | ((2, 3, '>', 1.7) & (1, 3, '>', 0.7) & (5, 0, '>', 6.15) & (5, 2, '>', 5.0)) | ((0, 2, '>', 4.75) & (0, 2, '>', 2.45) & (5, 2, '>', 5.0) & (4, 0, '<=', 6.05))\""
      ]
     },
     "execution_count": 302,
     "metadata": {},
     "output_type": "execute_result"
    }
   ],
   "source": [
    "print_final_rule(l)"
   ]
  },
  {
   "cell_type": "code",
   "execution_count": 380,
   "metadata": {},
   "outputs": [
    {
     "data": {
      "text/plain": [
       "(A1AD859 & AAE72BE) | (A671EEF & ~A38DEEA) | (AED33AB & ~A38DEEA) | (A1C858D & AED33AB & ~A38DEEA) | (AA99DA5 & AAE72BE & ~A1AD859) | (A2224B2 & A4C17AA & AA1B66F & AC564FB) | (A38DEEA & AD88919 & AE36D22 & AED33AB) | (AC564FB & ~A2224B2 & ~A38DEEA) | (AED33AB & ~A1C858D & ~A38DEEA)"
      ]
     },
     "execution_count": 380,
     "metadata": {},
     "output_type": "execute_result"
    }
   ],
   "source": [
    "sympify(create_big_or_rule(rf_rules_set), evaluate=False)"
   ]
  },
  {
   "cell_type": "code",
   "execution_count": 375,
   "metadata": {},
   "outputs": [
    {
     "data": {
      "text/plain": [
       "\"(5, 3, '>', 1.8) & (0, 3, '>', 0.75) & (2, 3, '<=', 1.7) & (5, 1, '>', 2.6) & (0, 0, '>', 5.55) & (2, 0, '>', 6.15) & (5, 3, '>', 0.6) & (4, 0, '<=', 6.05) & (5, 2, '>', 4.95) & (0, 2, '>', 4.75) & (5, 2, '>', 5.0) & (0, 3, '>', 1.45) & (0, 2, '>', 2.6) & (2, 3, '>', 1.7) & (2, 0, '<=', 6.15) & (4, 0, '>', 6.05) & (5, 2, '<=', 4.95)\""
      ]
     },
     "execution_count": 375,
     "metadata": {},
     "output_type": "execute_result"
    }
   ],
   "source": [
    "l_and = sympify(create_big_and_rule(rf_rules_set), evaluate=False)\n",
    "print_final_rule(l_and)"
   ]
  },
  {
   "cell_type": "markdown",
   "metadata": {},
   "source": [
    "Remove redundant conditions from each rule"
   ]
  },
  {
   "cell_type": "code",
   "execution_count": 369,
   "metadata": {
    "scrolled": true
   },
   "outputs": [
    {
     "data": {
      "text/plain": [
       "{((0, 0, '>', 5.55), (4, 0, '<=', 6.05), (5, 3, '>', 1.8), (9, -2, '>', -2.0)),\n",
       " ((0, 0, '>', 6.05), (10, 3, '>', 1.7), (14, -2, '>', -2.0)),\n",
       " ((0, 2, '>', 2.6), (2, 3, '>', 1.7), (4, -2, '>', -2.0)),\n",
       " ((0, 2, '>', 4.75), (4, 2, '<=', 4.95), (5, 1, '>', 2.6), (7, -2, '>', -2.0)),\n",
       " ((0, 2, '>', 4.95), (8, -2, '>', -2.0)),\n",
       " ((0, 3, '>', 1.45), (2, 3, '<=', 1.7), (5, 2, '>', 5.0), (7, -2, '>', -2.0)),\n",
       " ((0, 3, '>', 1.7), (2, 0, '<=', 6.15), (5, -2, '>', -2.0)),\n",
       " ((0, 3, '>', 1.7), (2, 0, '>', 6.15), (10, -2, '>', -2.0)),\n",
       " ((0, 3, '>', 1.7), (8, -2, '>', -2.0))}"
      ]
     },
     "execution_count": 369,
     "metadata": {},
     "output_type": "execute_result"
    }
   ],
   "source": [
    "_rf_rules_set = redundancy_condition_removal(rf_rules_set)\n",
    "_rf_rules_set"
   ]
  },
  {
   "cell_type": "code",
   "execution_count": 376,
   "metadata": {},
   "outputs": [
    {
     "data": {
      "text/plain": [
       "\"(5, 3, '>', 1.8) & (2, 3, '>', 1.7) & (5, 1, '>', 2.6) & (0, 0, '>', 5.55) & (2, 0, '<=', 6.15) & (4, 0, '>', 6.05) & (5, 2, '<=', 4.95) & (0, 2, '>', 4.75) & (5, 2, '>', 5.0) & (0, 3, '>', 1.45) & (0, 2, '<=', 2.6) & (2, 3, '<=', 1.7) & (2, 0, '>', 6.15) & (4, 0, '<=', 6.05) & (5, 2, '>', 4.95)\""
      ]
     },
     "execution_count": 376,
     "metadata": {},
     "output_type": "execute_result"
    }
   ],
   "source": [
    "_l_and = sympify(create_big_and_rule(_rf_rules_set), evaluate=False)\n",
    "print_final_rule(_l_and)"
   ]
  },
  {
   "cell_type": "code",
   "execution_count": 344,
   "metadata": {},
   "outputs": [
    {
     "data": {
      "text/plain": [
       "{((0, 2, '>', 4.85),\n",
       "  (2, 3, '>', 1.7),\n",
       "  (0, 0, '>', 5.55),\n",
       "  (4, 3, '<=', 1.55),\n",
       "  (5, 2, '>', 4.95),\n",
       "  (0, 2, '>', 5.35),\n",
       "  (0, 3, '>', 1.65),\n",
       "  (0, 2, '<=', 2.6),\n",
       "  (2, 3, '<=', 1.7))}"
      ]
     },
     "execution_count": 344,
     "metadata": {},
     "output_type": "execute_result"
    }
   ],
   "source": [
    "rules = {tuple(list(map(lambda x: eval(x), l_and_final.split(\" & \"))))}\n",
    "rules"
   ]
  },
  {
   "cell_type": "code",
   "execution_count": 345,
   "metadata": {},
   "outputs": [
    {
     "data": {
      "text/plain": [
       "{((2, 3, '>', 1.7),\n",
       "  (2, 3, '>', 1.7),\n",
       "  (4, 3, '<=', 1.55),\n",
       "  (0, 2, '>', 5.35),\n",
       "  (0, 2, '<=', 2.6),\n",
       "  (2, 3, '<=', 1.7))}"
      ]
     },
     "execution_count": 345,
     "metadata": {},
     "output_type": "execute_result"
    }
   ],
   "source": [
    "rules = redundancy_condition_removal(rules)\n",
    "rules"
   ]
  },
  {
   "cell_type": "code",
   "execution_count": 356,
   "metadata": {},
   "outputs": [
    {
     "name": "stdout",
     "output_type": "stream",
     "text": [
      "[[ 0.  -0.9]\n",
      " [ 0.1 -0.9]\n",
      " [ 0.2 -0.9]\n",
      " ...\n",
      " [ 7.6  3.4]\n",
      " [ 7.7  3.4]\n",
      " [ 7.8  3.4]]\n"
     ]
    },
    {
     "data": {
      "image/png": "[encoded data removed]",
      "text/plain": [
       "<Figure size 720x576 with 1 Axes>"
      ]
     },
     "metadata": {
      "needs_background": "light"
     },
     "output_type": "display_data"
    }
   ],
   "source": [
    "X = X_train[0:, [2, 3]]\n",
    "Y = Y_train\n",
    "\n",
    "# Plotting decision regions\n",
    "x_min, x_max = X[:, 0].min() - 1, X[:, 0].max() + 1\n",
    "y_min, y_max = X[:, 1].min() - 1, X[:, 1].max() + 1\n",
    "\n",
    "xx, yy = np.meshgrid(np.arange(x_min, x_max, 0.1), np.arange(y_min, y_max, 0.1))\n",
    "\n",
    "f, axarr = plt.subplots(figsize=(10, 8))\n",
    "\n",
    "print(np.c_[xx.ravel(), yy.ravel()])\n",
    "\n",
    "Z = np.array(predicate_rule_predict(2, \"petal_width_cm > 1.7 and petal_length_cm > 2.6\", np.c_[xx.ravel(), yy.ravel()]))\n",
    "Z = Z.reshape(xx.shape)\n",
    "\n",
    "axarr.contourf(xx, yy, Z, alpha=0.4)\n",
    "axarr.scatter(X[:, 0], X[:, 1], c=Y, s=20, edgecolor='k')\n",
    "axarr.set_title(tt)\n",
    "\n",
    "plt.show()"
   ]
  },
  {
   "cell_type": "code",
   "execution_count": 320,
   "metadata": {},
   "outputs": [
    {
     "data": {
      "text/plain": [
       "['sepal_length_cm', 'sepal_width_cm', 'petal_length_cm', 'petal_width_cm']"
      ]
     },
     "execution_count": 320,
     "metadata": {},
     "output_type": "execute_result"
    }
   ],
   "source": [
    "feature_names_array"
   ]
  },
  {
   "cell_type": "markdown",
   "metadata": {},
   "source": [
    "### Here we try to create one big and rule"
   ]
  },
  {
   "cell_type": "code",
   "execution_count": 377,
   "metadata": {},
   "outputs": [
    {
     "ename": "KeyboardInterrupt",
     "evalue": "",
     "output_type": "error",
     "traceback": [
      "\u001b[0;31m---------------------------------------------------------------------------\u001b[0m",
      "\u001b[0;31mKeyboardInterrupt\u001b[0m                         Traceback (most recent call last)",
      "\u001b[0;32m<ipython-input-377-356d81af6896>\u001b[0m in \u001b[0;36m<module>\u001b[0;34m\u001b[0m\n\u001b[1;32m      6\u001b[0m \u001b[0;34m\u001b[0m\u001b[0m\n\u001b[1;32m      7\u001b[0m \u001b[0;31m# Then, apply simplification function to it.\u001b[0m\u001b[0;34m\u001b[0m\u001b[0;34m\u001b[0m\u001b[0;34m\u001b[0m\u001b[0m\n\u001b[0;32m----> 8\u001b[0;31m \u001b[0ml\u001b[0m \u001b[0;34m=\u001b[0m \u001b[0msimplify_logic\u001b[0m\u001b[0;34m(\u001b[0m\u001b[0msimplified\u001b[0m\u001b[0;34m)\u001b[0m\u001b[0;34m\u001b[0m\u001b[0;34m\u001b[0m\u001b[0m\n\u001b[0m\u001b[1;32m      9\u001b[0m \u001b[0;34m\u001b[0m\u001b[0m\n\u001b[1;32m     10\u001b[0m \u001b[0mprint_final_rule\u001b[0m\u001b[0;34m(\u001b[0m\u001b[0ml\u001b[0m\u001b[0;34m)\u001b[0m\u001b[0;34m\u001b[0m\u001b[0;34m\u001b[0m\u001b[0m\n",
      "\u001b[0;32m~/anaconda3/lib/python3.7/site-packages/sympy/logic/boolalg.py\u001b[0m in \u001b[0;36msimplify_logic\u001b[0;34m(expr, form, deep)\u001b[0m\n\u001b[1;32m   1982\u001b[0m     \u001b[0mbig\u001b[0m \u001b[0;34m=\u001b[0m \u001b[0mlen\u001b[0m\u001b[0;34m(\u001b[0m\u001b[0mtruthtable\u001b[0m\u001b[0;34m)\u001b[0m \u001b[0;34m>=\u001b[0m \u001b[0;34m(\u001b[0m\u001b[0;36m2\u001b[0m \u001b[0;34m**\u001b[0m \u001b[0;34m(\u001b[0m\u001b[0mlen\u001b[0m\u001b[0;34m(\u001b[0m\u001b[0mvariables\u001b[0m\u001b[0;34m)\u001b[0m \u001b[0;34m-\u001b[0m \u001b[0;36m1\u001b[0m\u001b[0;34m)\u001b[0m\u001b[0;34m)\u001b[0m\u001b[0;34m\u001b[0m\u001b[0;34m\u001b[0m\u001b[0m\n\u001b[1;32m   1983\u001b[0m     \u001b[0;32mif\u001b[0m \u001b[0mform\u001b[0m \u001b[0;34m==\u001b[0m \u001b[0;34m'dnf'\u001b[0m \u001b[0;32mor\u001b[0m \u001b[0mform\u001b[0m \u001b[0;32mis\u001b[0m \u001b[0;32mNone\u001b[0m \u001b[0;32mand\u001b[0m \u001b[0mbig\u001b[0m\u001b[0;34m:\u001b[0m\u001b[0;34m\u001b[0m\u001b[0;34m\u001b[0m\u001b[0m\n\u001b[0;32m-> 1984\u001b[0;31m         \u001b[0;32mreturn\u001b[0m \u001b[0mSOPform\u001b[0m\u001b[0;34m(\u001b[0m\u001b[0mvariables\u001b[0m\u001b[0;34m,\u001b[0m \u001b[0mtruthtable\u001b[0m\u001b[0;34m)\u001b[0m\u001b[0;34m\u001b[0m\u001b[0;34m\u001b[0m\u001b[0m\n\u001b[0m\u001b[1;32m   1985\u001b[0m     \u001b[0;32mreturn\u001b[0m \u001b[0mPOSform\u001b[0m\u001b[0;34m(\u001b[0m\u001b[0mvariables\u001b[0m\u001b[0;34m,\u001b[0m \u001b[0mtruthtable\u001b[0m\u001b[0;34m)\u001b[0m\u001b[0;34m\u001b[0m\u001b[0;34m\u001b[0m\u001b[0m\n\u001b[1;32m   1986\u001b[0m \u001b[0;34m\u001b[0m\u001b[0m\n",
      "\u001b[0;32m~/anaconda3/lib/python3.7/site-packages/sympy/logic/boolalg.py\u001b[0m in \u001b[0;36mSOPform\u001b[0;34m(variables, minterms, dontcares)\u001b[0m\n\u001b[1;32m   1854\u001b[0m     \u001b[0;32mwhile\u001b[0m \u001b[0mnew\u001b[0m \u001b[0;34m!=\u001b[0m \u001b[0mold\u001b[0m\u001b[0;34m:\u001b[0m\u001b[0;34m\u001b[0m\u001b[0;34m\u001b[0m\u001b[0m\n\u001b[1;32m   1855\u001b[0m         \u001b[0mold\u001b[0m \u001b[0;34m=\u001b[0m \u001b[0mnew\u001b[0m\u001b[0;34m\u001b[0m\u001b[0;34m\u001b[0m\u001b[0m\n\u001b[0;32m-> 1856\u001b[0;31m         \u001b[0mnew\u001b[0m \u001b[0;34m=\u001b[0m \u001b[0m_simplified_pairs\u001b[0m\u001b[0;34m(\u001b[0m\u001b[0mold\u001b[0m\u001b[0;34m)\u001b[0m\u001b[0;34m\u001b[0m\u001b[0;34m\u001b[0m\u001b[0m\n\u001b[0m\u001b[1;32m   1857\u001b[0m     \u001b[0messential\u001b[0m \u001b[0;34m=\u001b[0m \u001b[0m_rem_redundancy\u001b[0m\u001b[0;34m(\u001b[0m\u001b[0mnew\u001b[0m\u001b[0;34m,\u001b[0m \u001b[0mminterms\u001b[0m\u001b[0;34m)\u001b[0m\u001b[0;34m\u001b[0m\u001b[0;34m\u001b[0m\u001b[0m\n\u001b[1;32m   1858\u001b[0m     \u001b[0;32mreturn\u001b[0m \u001b[0mOr\u001b[0m\u001b[0;34m(\u001b[0m\u001b[0;34m*\u001b[0m\u001b[0;34m[\u001b[0m\u001b[0m_convert_to_varsSOP\u001b[0m\u001b[0;34m(\u001b[0m\u001b[0mx\u001b[0m\u001b[0;34m,\u001b[0m \u001b[0mvariables\u001b[0m\u001b[0;34m)\u001b[0m \u001b[0;32mfor\u001b[0m \u001b[0mx\u001b[0m \u001b[0;32min\u001b[0m \u001b[0messential\u001b[0m\u001b[0;34m]\u001b[0m\u001b[0;34m)\u001b[0m\u001b[0;34m\u001b[0m\u001b[0;34m\u001b[0m\u001b[0m\n",
      "\u001b[0;32m~/anaconda3/lib/python3.7/site-packages/sympy/logic/boolalg.py\u001b[0m in \u001b[0;36m_simplified_pairs\u001b[0;34m(terms)\u001b[0m\n\u001b[1;32m   1755\u001b[0m     \u001b[0;32mfor\u001b[0m \u001b[0mi\u001b[0m\u001b[0;34m,\u001b[0m \u001b[0mti\u001b[0m \u001b[0;32min\u001b[0m \u001b[0menumerate\u001b[0m\u001b[0;34m(\u001b[0m\u001b[0mterms\u001b[0m\u001b[0;34m[\u001b[0m\u001b[0;34m:\u001b[0m\u001b[0;34m-\u001b[0m\u001b[0;36m1\u001b[0m\u001b[0;34m]\u001b[0m\u001b[0;34m)\u001b[0m\u001b[0;34m:\u001b[0m\u001b[0;34m\u001b[0m\u001b[0;34m\u001b[0m\u001b[0m\n\u001b[1;32m   1756\u001b[0m         \u001b[0;32mfor\u001b[0m \u001b[0mj_i\u001b[0m\u001b[0;34m,\u001b[0m \u001b[0mtj\u001b[0m \u001b[0;32min\u001b[0m \u001b[0menumerate\u001b[0m\u001b[0;34m(\u001b[0m\u001b[0mterms\u001b[0m\u001b[0;34m[\u001b[0m\u001b[0;34m(\u001b[0m\u001b[0mi\u001b[0m \u001b[0;34m+\u001b[0m \u001b[0;36m1\u001b[0m\u001b[0;34m)\u001b[0m\u001b[0;34m:\u001b[0m\u001b[0;34m]\u001b[0m\u001b[0;34m)\u001b[0m\u001b[0;34m:\u001b[0m\u001b[0;34m\u001b[0m\u001b[0;34m\u001b[0m\u001b[0m\n\u001b[0;32m-> 1757\u001b[0;31m             \u001b[0mindex\u001b[0m \u001b[0;34m=\u001b[0m \u001b[0m_check_pair\u001b[0m\u001b[0;34m(\u001b[0m\u001b[0mti\u001b[0m\u001b[0;34m,\u001b[0m \u001b[0mtj\u001b[0m\u001b[0;34m)\u001b[0m\u001b[0;34m\u001b[0m\u001b[0;34m\u001b[0m\u001b[0m\n\u001b[0m\u001b[1;32m   1758\u001b[0m             \u001b[0;32mif\u001b[0m \u001b[0mindex\u001b[0m \u001b[0;34m!=\u001b[0m \u001b[0;34m-\u001b[0m\u001b[0;36m1\u001b[0m\u001b[0;34m:\u001b[0m\u001b[0;34m\u001b[0m\u001b[0;34m\u001b[0m\u001b[0m\n\u001b[1;32m   1759\u001b[0m                 \u001b[0mtodo\u001b[0m\u001b[0;34m[\u001b[0m\u001b[0mi\u001b[0m\u001b[0;34m]\u001b[0m \u001b[0;34m=\u001b[0m \u001b[0mtodo\u001b[0m\u001b[0;34m[\u001b[0m\u001b[0mj_i\u001b[0m \u001b[0;34m+\u001b[0m \u001b[0mi\u001b[0m \u001b[0;34m+\u001b[0m \u001b[0;36m1\u001b[0m\u001b[0;34m]\u001b[0m \u001b[0;34m=\u001b[0m \u001b[0;32mNone\u001b[0m\u001b[0;34m\u001b[0m\u001b[0;34m\u001b[0m\u001b[0m\n",
      "\u001b[0;31mKeyboardInterrupt\u001b[0m: "
     ]
    }
   ],
   "source": [
    "rule_dict = {}\n",
    "var_dict = {}\n",
    "\n",
    "# First create one big expression from all rules\n",
    "simplified = sympify(create_big_or_rule(_rf_rules_set), evaluate=False)\n",
    "\n",
    "# Then, apply simplification function to it.\n",
    "l = simplify_logic(simplified)\n",
    "\n",
    "print_final_rule(l)"
   ]
  },
  {
   "cell_type": "code",
   "execution_count": null,
   "metadata": {},
   "outputs": [],
   "source": [
    "(petal_length_cm > 5.35) or (petal_width_cm > 1.65) or (petal_width_cm < 1.7) or (petal_length_cm > 4.85 and petal_width_cm <= 1.55)"
   ]
  },
  {
   "cell_type": "markdown",
   "metadata": {},
   "source": [
    "### Try to visualize this rule"
   ]
  },
  {
   "cell_type": "code",
   "execution_count": 353,
   "metadata": {},
   "outputs": [
    {
     "name": "stdout",
     "output_type": "stream",
     "text": [
      "[[ 0.  -0.9]\n",
      " [ 0.1 -0.9]\n",
      " [ 0.2 -0.9]\n",
      " ...\n",
      " [ 7.6  3.4]\n",
      " [ 7.7  3.4]\n",
      " [ 7.8  3.4]]\n"
     ]
    },
    {
     "data": {
      "image/png": "[encoded data removed]",
      "text/plain": [
       "<Figure size 720x576 with 1 Axes>"
      ]
     },
     "metadata": {
      "needs_background": "light"
     },
     "output_type": "display_data"
    }
   ],
   "source": [
    "X = X_train[0:, [2, 3]]\n",
    "Y = Y_train\n",
    "\n",
    "# Plotting decision regions\n",
    "x_min, x_max = X[:, 0].min() - 1, X[:, 0].max() + 1\n",
    "y_min, y_max = X[:, 1].min() - 1, X[:, 1].max() + 1\n",
    "\n",
    "xx, yy = np.meshgrid(np.arange(x_min, x_max, 0.1), np.arange(y_min, y_max, 0.1))\n",
    "\n",
    "f, axarr = plt.subplots(figsize=(10, 8))\n",
    "\n",
    "print(np.c_[xx.ravel(), yy.ravel()])\n",
    "\n",
    "#Z = np.array(rule_predict(2, \"(petal_length_cm > 5.0 or petal_length_cm < 3.0) and (petal_width_cm > 1.7)\", np.c_[xx.ravel(), yy.ravel()]))\n",
    "Z = np.array(predicate_rule_predict(2, \"(petal_length_cm > 5.35) or (petal_width_cm > 1.65) or (petal_width_cm < 1.7) or (petal_length_cm > 4.85 and petal_width_cm <= 1.55)\", np.c_[xx.ravel(), yy.ravel()]))\n",
    "Z = Z.reshape(xx.shape)\n",
    "\n",
    "axarr.contourf(xx, yy, Z, alpha=0.4)\n",
    "axarr.scatter(X[:, 0], X[:, 1], c=Y, s=20, edgecolor='k')\n",
    "axarr.set_title(tt)\n",
    "\n",
    "plt.show()"
   ]
  },
  {
   "cell_type": "code",
   "execution_count": 348,
   "metadata": {},
   "outputs": [
    {
     "data": {
      "text/plain": [
       "array([[2, 2, 2, ..., 2, 2, 2],\n",
       "       [2, 2, 2, ..., 2, 2, 2],\n",
       "       [2, 2, 2, ..., 2, 2, 2],\n",
       "       ...,\n",
       "       [2, 2, 2, ..., 2, 2, 2],\n",
       "       [2, 2, 2, ..., 2, 2, 2],\n",
       "       [2, 2, 2, ..., 2, 2, 2]])"
      ]
     },
     "execution_count": 348,
     "metadata": {},
     "output_type": "execute_result"
    }
   ],
   "source": [
    "Z"
   ]
  },
  {
   "cell_type": "markdown",
   "metadata": {},
   "source": [
    "### Here on the same dataset we try to create one big or rule"
   ]
  },
  {
   "cell_type": "code",
   "execution_count": null,
   "metadata": {},
   "outputs": [],
   "source": [
    "rule_dict = {}\n",
    "var_dict = {}\n",
    "\n",
    "# First create one big expression from all rules\n",
    "simplified = sympify(create_big_or_rule(_rf_rules_set), evaluate=False)\n",
    "\n",
    "# Then, apply simplification function to it.\n",
    "l = simplify_logic(simplified)\n",
    " t\n",
    "print_final_rule(l)"
   ]
  },
  {
   "cell_type": "code",
   "execution_count": null,
   "metadata": {},
   "outputs": [],
   "source": [
    "\"(petal_length_cm, '>', 4.95) | (petal_width_cm, '>', 1.7)\""
   ]
  },
  {
   "cell_type": "code",
   "execution_count": 62,
   "metadata": {},
   "outputs": [
    {
     "data": {
      "text/plain": [
       "\"(2, 3, '>', 1.7) | ((3, 2, '>', 4.95) & (0, 2, '>', 2.45))\""
      ]
     },
     "execution_count": 62,
     "metadata": {},
     "output_type": "execute_result"
    }
   ],
   "source": [
    "rule_dict = {}\n",
    "var_dict = {}\n",
    "\n",
    "# First create one big expression from all rules\n",
    "simplified = sympify(create_big_or_rule(rf_rules_set), evaluate=False)\n",
    "\n",
    "# Then, apply simplification function to it.\n",
    "l = simplify_logic(simplified)\n",
    "\n",
    "print_final_rule(l)"
   ]
  },
  {
   "cell_type": "code",
   "execution_count": null,
   "metadata": {},
   "outputs": [],
   "source": [
    "# Je mozne odstranit (0, 3, '<=', 0.8) alebo (0, 3, '<=', 0.75) ? "
   ]
  },
  {
   "cell_type": "markdown",
   "metadata": {},
   "source": [
    "----"
   ]
  },
  {
   "cell_type": "markdown",
   "metadata": {},
   "source": [
    "## Getting paths for each tree"
   ]
  },
  {
   "cell_type": "code",
   "execution_count": 381,
   "metadata": {},
   "outputs": [
    {
     "data": {
      "image/svg+xml": [
       "<?xml version=\"1.0\" encoding=\"UTF-8\" standalone=\"no\"?>\n",
       "<!DOCTYPE svg PUBLIC \"-//W3C//DTD SVG 1.1//EN\"\n",
       " \"http://www.w3.org/Graphics/SVG/1.1/DTD/svg11.dtd\">\n",
       "<!-- Generated by graphviz version 2.40.1 (20161225.0304)\n",
       " -->\n",
       "<!-- Title: Tree Pages: 1 -->\n",
       "<svg width=\"827pt\" height=\"552pt\"\n",
       " viewBox=\"0.00 0.00 826.50 552.00\" xmlns=\"http://www.w3.org/2000/svg\" xmlns:xlink=\"http://www.w3.org/1999/xlink\">\n",
       "<g id=\"graph0\" class=\"graph\" transform=\"scale(1 1) rotate(0) translate(4 548)\">\n",
       "<title>Tree</title>\n",
       "<polygon fill=\"#ffffff\" stroke=\"transparent\" points=\"-4,4 -4,-548 822.5,-548 822.5,4 -4,4\"/>\n",
       "<!-- 0 -->\n",
       "<g id=\"node1\" class=\"node\">\n",
       "<title>0</title>\n",
       "<path fill=\"#e58139\" fill-opacity=\"0.074510\" stroke=\"#000000\" d=\"M392,-544C392,-544 242,-544 242,-544 236,-544 230,-538 230,-532 230,-532 230,-473 230,-473 230,-467 236,-461 242,-461 242,-461 392,-461 392,-461 398,-461 404,-467 404,-473 404,-473 404,-532 404,-532 404,-538 398,-544 392,-544\"/>\n",
       "<text text-anchor=\"middle\" x=\"317\" y=\"-528.8\" font-family=\"Helvetica,sans-Serif\" font-size=\"14.00\" fill=\"#000000\">sepal_length_cm &lt;= 5.55</text>\n",
       "<text text-anchor=\"middle\" x=\"317\" y=\"-513.8\" font-family=\"Helvetica,sans-Serif\" font-size=\"14.00\" fill=\"#000000\">gini = 0.665</text>\n",
       "<text text-anchor=\"middle\" x=\"317\" y=\"-498.8\" font-family=\"Helvetica,sans-Serif\" font-size=\"14.00\" fill=\"#000000\">samples = 77</text>\n",
       "<text text-anchor=\"middle\" x=\"317\" y=\"-483.8\" font-family=\"Helvetica,sans-Serif\" font-size=\"14.00\" fill=\"#000000\">value = [44, 38, 38]</text>\n",
       "<text text-anchor=\"middle\" x=\"317\" y=\"-468.8\" font-family=\"Helvetica,sans-Serif\" font-size=\"14.00\" fill=\"#000000\">class = Iris&#45;setosa</text>\n",
       "</g>\n",
       "<!-- 1 -->\n",
       "<g id=\"node2\" class=\"node\">\n",
       "<title>1</title>\n",
       "<path fill=\"#e58139\" fill-opacity=\"0.780392\" stroke=\"#000000\" d=\"M293,-425C293,-425 157,-425 157,-425 151,-425 145,-419 145,-413 145,-413 145,-354 145,-354 145,-348 151,-342 157,-342 157,-342 293,-342 293,-342 299,-342 305,-348 305,-354 305,-354 305,-413 305,-413 305,-419 299,-425 293,-425\"/>\n",
       "<text text-anchor=\"middle\" x=\"225\" y=\"-409.8\" font-family=\"Helvetica,sans-Serif\" font-size=\"14.00\" fill=\"#000000\">sepal_width_cm &lt;= 2.8</text>\n",
       "<text text-anchor=\"middle\" x=\"225\" y=\"-394.8\" font-family=\"Helvetica,sans-Serif\" font-size=\"14.00\" fill=\"#000000\">gini = 0.295</text>\n",
       "<text text-anchor=\"middle\" x=\"225\" y=\"-379.8\" font-family=\"Helvetica,sans-Serif\" font-size=\"14.00\" fill=\"#000000\">samples = 30</text>\n",
       "<text text-anchor=\"middle\" x=\"225\" y=\"-364.8\" font-family=\"Helvetica,sans-Serif\" font-size=\"14.00\" fill=\"#000000\">value = [41, 9, 0]</text>\n",
       "<text text-anchor=\"middle\" x=\"225\" y=\"-349.8\" font-family=\"Helvetica,sans-Serif\" font-size=\"14.00\" fill=\"#000000\">class = Iris&#45;setosa</text>\n",
       "</g>\n",
       "<!-- 0&#45;&gt;1 -->\n",
       "<g id=\"edge1\" class=\"edge\">\n",
       "<title>0&#45;&gt;1</title>\n",
       "<path fill=\"none\" stroke=\"#000000\" d=\"M284.8229,-460.8796C277.9296,-451.9633 270.5798,-442.4565 263.4761,-433.268\"/>\n",
       "<polygon fill=\"#000000\" stroke=\"#000000\" points=\"266.1999,-431.0687 257.3145,-425.2981 260.6619,-435.3502 266.1999,-431.0687\"/>\n",
       "<text text-anchor=\"middle\" x=\"254.1413\" y=\"-446.3959\" font-family=\"Helvetica,sans-Serif\" font-size=\"14.00\" fill=\"#000000\">True</text>\n",
       "</g>\n",
       "<!-- 4 -->\n",
       "<g id=\"node5\" class=\"node\">\n",
       "<title>4</title>\n",
       "<path fill=\"#8139e5\" fill-opacity=\"0.219608\" stroke=\"#000000\" d=\"M485,-425C485,-425 335,-425 335,-425 329,-425 323,-419 323,-413 323,-413 323,-354 323,-354 323,-348 329,-342 335,-342 335,-342 485,-342 485,-342 491,-342 497,-348 497,-354 497,-354 497,-413 497,-413 497,-419 491,-425 485,-425\"/>\n",
       "<text text-anchor=\"middle\" x=\"410\" y=\"-409.8\" font-family=\"Helvetica,sans-Serif\" font-size=\"14.00\" fill=\"#000000\">sepal_length_cm &lt;= 6.05</text>\n",
       "<text text-anchor=\"middle\" x=\"410\" y=\"-394.8\" font-family=\"Helvetica,sans-Serif\" font-size=\"14.00\" fill=\"#000000\">gini = 0.532</text>\n",
       "<text text-anchor=\"middle\" x=\"410\" y=\"-379.8\" font-family=\"Helvetica,sans-Serif\" font-size=\"14.00\" fill=\"#000000\">samples = 47</text>\n",
       "<text text-anchor=\"middle\" x=\"410\" y=\"-364.8\" font-family=\"Helvetica,sans-Serif\" font-size=\"14.00\" fill=\"#000000\">value = [3, 29, 38]</text>\n",
       "<text text-anchor=\"middle\" x=\"410\" y=\"-349.8\" font-family=\"Helvetica,sans-Serif\" font-size=\"14.00\" fill=\"#000000\">class = Iris&#45;virginica</text>\n",
       "</g>\n",
       "<!-- 0&#45;&gt;4 -->\n",
       "<g id=\"edge4\" class=\"edge\">\n",
       "<title>0&#45;&gt;4</title>\n",
       "<path fill=\"none\" stroke=\"#000000\" d=\"M349.5269,-460.8796C356.4951,-451.9633 363.9247,-442.4565 371.1056,-433.268\"/>\n",
       "<polygon fill=\"#000000\" stroke=\"#000000\" points=\"373.9343,-435.3326 377.3343,-425.2981 368.4188,-431.0221 373.9343,-435.3326\"/>\n",
       "<text text-anchor=\"middle\" x=\"380.3775\" y=\"-446.4122\" font-family=\"Helvetica,sans-Serif\" font-size=\"14.00\" fill=\"#000000\">False</text>\n",
       "</g>\n",
       "<!-- 2 -->\n",
       "<g id=\"node3\" class=\"node\">\n",
       "<title>2</title>\n",
       "<path fill=\"#39e581\" stroke=\"#000000\" d=\"M136,-298.5C136,-298.5 12,-298.5 12,-298.5 6,-298.5 0,-292.5 0,-286.5 0,-286.5 0,-242.5 0,-242.5 0,-236.5 6,-230.5 12,-230.5 12,-230.5 136,-230.5 136,-230.5 142,-230.5 148,-236.5 148,-242.5 148,-242.5 148,-286.5 148,-286.5 148,-292.5 142,-298.5 136,-298.5\"/>\n",
       "<text text-anchor=\"middle\" x=\"74\" y=\"-283.3\" font-family=\"Helvetica,sans-Serif\" font-size=\"14.00\" fill=\"#000000\">gini = 0.0</text>\n",
       "<text text-anchor=\"middle\" x=\"74\" y=\"-268.3\" font-family=\"Helvetica,sans-Serif\" font-size=\"14.00\" fill=\"#000000\">samples = 7</text>\n",
       "<text text-anchor=\"middle\" x=\"74\" y=\"-253.3\" font-family=\"Helvetica,sans-Serif\" font-size=\"14.00\" fill=\"#000000\">value = [0, 9, 0]</text>\n",
       "<text text-anchor=\"middle\" x=\"74\" y=\"-238.3\" font-family=\"Helvetica,sans-Serif\" font-size=\"14.00\" fill=\"#000000\">class = Iris&#45;versicolor</text>\n",
       "</g>\n",
       "<!-- 1&#45;&gt;2 -->\n",
       "<g id=\"edge2\" class=\"edge\">\n",
       "<title>1&#45;&gt;2</title>\n",
       "<path fill=\"none\" stroke=\"#000000\" d=\"M172.1875,-341.8796C157.1183,-330.0038 140.7197,-317.0804 125.7166,-305.2568\"/>\n",
       "<polygon fill=\"#000000\" stroke=\"#000000\" points=\"127.5631,-302.2557 117.5425,-298.8149 123.2302,-307.7536 127.5631,-302.2557\"/>\n",
       "</g>\n",
       "<!-- 3 -->\n",
       "<g id=\"node4\" class=\"node\">\n",
       "<title>3</title>\n",
       "<path fill=\"#e58139\" stroke=\"#000000\" d=\"M283.5,-298.5C283.5,-298.5 178.5,-298.5 178.5,-298.5 172.5,-298.5 166.5,-292.5 166.5,-286.5 166.5,-286.5 166.5,-242.5 166.5,-242.5 166.5,-236.5 172.5,-230.5 178.5,-230.5 178.5,-230.5 283.5,-230.5 283.5,-230.5 289.5,-230.5 295.5,-236.5 295.5,-242.5 295.5,-242.5 295.5,-286.5 295.5,-286.5 295.5,-292.5 289.5,-298.5 283.5,-298.5\"/>\n",
       "<text text-anchor=\"middle\" x=\"231\" y=\"-283.3\" font-family=\"Helvetica,sans-Serif\" font-size=\"14.00\" fill=\"#000000\">gini = 0.0</text>\n",
       "<text text-anchor=\"middle\" x=\"231\" y=\"-268.3\" font-family=\"Helvetica,sans-Serif\" font-size=\"14.00\" fill=\"#000000\">samples = 23</text>\n",
       "<text text-anchor=\"middle\" x=\"231\" y=\"-253.3\" font-family=\"Helvetica,sans-Serif\" font-size=\"14.00\" fill=\"#000000\">value = [41, 0, 0]</text>\n",
       "<text text-anchor=\"middle\" x=\"231\" y=\"-238.3\" font-family=\"Helvetica,sans-Serif\" font-size=\"14.00\" fill=\"#000000\">class = Iris&#45;setosa</text>\n",
       "</g>\n",
       "<!-- 1&#45;&gt;3 -->\n",
       "<g id=\"edge3\" class=\"edge\">\n",
       "<title>1&#45;&gt;3</title>\n",
       "<path fill=\"none\" stroke=\"#000000\" d=\"M227.0985,-341.8796C227.6363,-331.2134 228.2167,-319.7021 228.7613,-308.9015\"/>\n",
       "<polygon fill=\"#000000\" stroke=\"#000000\" points=\"232.2617,-308.9785 229.2698,-298.8149 225.2706,-308.626 232.2617,-308.9785\"/>\n",
       "</g>\n",
       "<!-- 5 -->\n",
       "<g id=\"node6\" class=\"node\">\n",
       "<title>5</title>\n",
       "<path fill=\"#39e581\" fill-opacity=\"0.600000\" stroke=\"#000000\" d=\"M470.5,-306C470.5,-306 337.5,-306 337.5,-306 331.5,-306 325.5,-300 325.5,-294 325.5,-294 325.5,-235 325.5,-235 325.5,-229 331.5,-223 337.5,-223 337.5,-223 470.5,-223 470.5,-223 476.5,-223 482.5,-229 482.5,-235 482.5,-235 482.5,-294 482.5,-294 482.5,-300 476.5,-306 470.5,-306\"/>\n",
       "<text text-anchor=\"middle\" x=\"404\" y=\"-290.8\" font-family=\"Helvetica,sans-Serif\" font-size=\"14.00\" fill=\"#000000\">petal_width_cm &lt;= 0.6</text>\n",
       "<text text-anchor=\"middle\" x=\"404\" y=\"-275.8\" font-family=\"Helvetica,sans-Serif\" font-size=\"14.00\" fill=\"#000000\">gini = 0.5</text>\n",
       "<text text-anchor=\"middle\" x=\"404\" y=\"-260.8\" font-family=\"Helvetica,sans-Serif\" font-size=\"14.00\" fill=\"#000000\">samples = 12</text>\n",
       "<text text-anchor=\"middle\" x=\"404\" y=\"-245.8\" font-family=\"Helvetica,sans-Serif\" font-size=\"14.00\" fill=\"#000000\">value = [3, 12, 3]</text>\n",
       "<text text-anchor=\"middle\" x=\"404\" y=\"-230.8\" font-family=\"Helvetica,sans-Serif\" font-size=\"14.00\" fill=\"#000000\">class = Iris&#45;versicolor</text>\n",
       "</g>\n",
       "<!-- 4&#45;&gt;5 -->\n",
       "<g id=\"edge5\" class=\"edge\">\n",
       "<title>4&#45;&gt;5</title>\n",
       "<path fill=\"none\" stroke=\"#000000\" d=\"M407.9015,-341.8796C407.4883,-333.6838 407.0499,-324.9891 406.6219,-316.5013\"/>\n",
       "<polygon fill=\"#000000\" stroke=\"#000000\" points=\"410.1067,-316.1091 406.1075,-306.2981 403.1156,-316.4617 410.1067,-316.1091\"/>\n",
       "</g>\n",
       "<!-- 10 -->\n",
       "<g id=\"node11\" class=\"node\">\n",
       "<title>10</title>\n",
       "<path fill=\"#8139e5\" fill-opacity=\"0.513725\" stroke=\"#000000\" d=\"M647.5,-306C647.5,-306 514.5,-306 514.5,-306 508.5,-306 502.5,-300 502.5,-294 502.5,-294 502.5,-235 502.5,-235 502.5,-229 508.5,-223 514.5,-223 514.5,-223 647.5,-223 647.5,-223 653.5,-223 659.5,-229 659.5,-235 659.5,-235 659.5,-294 659.5,-294 659.5,-300 653.5,-306 647.5,-306\"/>\n",
       "<text text-anchor=\"middle\" x=\"581\" y=\"-290.8\" font-family=\"Helvetica,sans-Serif\" font-size=\"14.00\" fill=\"#000000\">petal_width_cm &lt;= 1.7</text>\n",
       "<text text-anchor=\"middle\" x=\"581\" y=\"-275.8\" font-family=\"Helvetica,sans-Serif\" font-size=\"14.00\" fill=\"#000000\">gini = 0.44</text>\n",
       "<text text-anchor=\"middle\" x=\"581\" y=\"-260.8\" font-family=\"Helvetica,sans-Serif\" font-size=\"14.00\" fill=\"#000000\">samples = 35</text>\n",
       "<text text-anchor=\"middle\" x=\"581\" y=\"-245.8\" font-family=\"Helvetica,sans-Serif\" font-size=\"14.00\" fill=\"#000000\">value = [0, 17, 35]</text>\n",
       "<text text-anchor=\"middle\" x=\"581\" y=\"-230.8\" font-family=\"Helvetica,sans-Serif\" font-size=\"14.00\" fill=\"#000000\">class = Iris&#45;virginica</text>\n",
       "</g>\n",
       "<!-- 4&#45;&gt;10 -->\n",
       "<g id=\"edge10\" class=\"edge\">\n",
       "<title>4&#45;&gt;10</title>\n",
       "<path fill=\"none\" stroke=\"#000000\" d=\"M469.8075,-341.8796C483.7358,-332.1868 498.6669,-321.7961 512.9231,-311.8752\"/>\n",
       "<polygon fill=\"#000000\" stroke=\"#000000\" points=\"515.0174,-314.6819 521.2263,-306.0969 511.0189,-308.9362 515.0174,-314.6819\"/>\n",
       "</g>\n",
       "<!-- 6 -->\n",
       "<g id=\"node7\" class=\"node\">\n",
       "<title>6</title>\n",
       "<path fill=\"#e58139\" stroke=\"#000000\" d=\"M295.5,-179.5C295.5,-179.5 190.5,-179.5 190.5,-179.5 184.5,-179.5 178.5,-173.5 178.5,-167.5 178.5,-167.5 178.5,-123.5 178.5,-123.5 178.5,-117.5 184.5,-111.5 190.5,-111.5 190.5,-111.5 295.5,-111.5 295.5,-111.5 301.5,-111.5 307.5,-117.5 307.5,-123.5 307.5,-123.5 307.5,-167.5 307.5,-167.5 307.5,-173.5 301.5,-179.5 295.5,-179.5\"/>\n",
       "<text text-anchor=\"middle\" x=\"243\" y=\"-164.3\" font-family=\"Helvetica,sans-Serif\" font-size=\"14.00\" fill=\"#000000\">gini = 0.0</text>\n",
       "<text text-anchor=\"middle\" x=\"243\" y=\"-149.3\" font-family=\"Helvetica,sans-Serif\" font-size=\"14.00\" fill=\"#000000\">samples = 2</text>\n",
       "<text text-anchor=\"middle\" x=\"243\" y=\"-134.3\" font-family=\"Helvetica,sans-Serif\" font-size=\"14.00\" fill=\"#000000\">value = [3, 0, 0]</text>\n",
       "<text text-anchor=\"middle\" x=\"243\" y=\"-119.3\" font-family=\"Helvetica,sans-Serif\" font-size=\"14.00\" fill=\"#000000\">class = Iris&#45;setosa</text>\n",
       "</g>\n",
       "<!-- 5&#45;&gt;6 -->\n",
       "<g id=\"edge6\" class=\"edge\">\n",
       "<title>5&#45;&gt;6</title>\n",
       "<path fill=\"none\" stroke=\"#000000\" d=\"M347.69,-222.8796C331.3968,-210.8368 313.6461,-197.7167 297.4675,-185.7586\"/>\n",
       "<polygon fill=\"#000000\" stroke=\"#000000\" points=\"299.2886,-182.7524 289.1665,-179.623 295.1279,-188.3816 299.2886,-182.7524\"/>\n",
       "</g>\n",
       "<!-- 7 -->\n",
       "<g id=\"node8\" class=\"node\">\n",
       "<title>7</title>\n",
       "<path fill=\"#39e581\" fill-opacity=\"0.749020\" stroke=\"#000000\" d=\"M470.5,-187C470.5,-187 337.5,-187 337.5,-187 331.5,-187 325.5,-181 325.5,-175 325.5,-175 325.5,-116 325.5,-116 325.5,-110 331.5,-104 337.5,-104 337.5,-104 470.5,-104 470.5,-104 476.5,-104 482.5,-110 482.5,-116 482.5,-116 482.5,-175 482.5,-175 482.5,-181 476.5,-187 470.5,-187\"/>\n",
       "<text text-anchor=\"middle\" x=\"404\" y=\"-171.8\" font-family=\"Helvetica,sans-Serif\" font-size=\"14.00\" fill=\"#000000\">petal_width_cm &lt;= 1.8</text>\n",
       "<text text-anchor=\"middle\" x=\"404\" y=\"-156.8\" font-family=\"Helvetica,sans-Serif\" font-size=\"14.00\" fill=\"#000000\">gini = 0.32</text>\n",
       "<text text-anchor=\"middle\" x=\"404\" y=\"-141.8\" font-family=\"Helvetica,sans-Serif\" font-size=\"14.00\" fill=\"#000000\">samples = 10</text>\n",
       "<text text-anchor=\"middle\" x=\"404\" y=\"-126.8\" font-family=\"Helvetica,sans-Serif\" font-size=\"14.00\" fill=\"#000000\">value = [0, 12, 3]</text>\n",
       "<text text-anchor=\"middle\" x=\"404\" y=\"-111.8\" font-family=\"Helvetica,sans-Serif\" font-size=\"14.00\" fill=\"#000000\">class = Iris&#45;versicolor</text>\n",
       "</g>\n",
       "<!-- 5&#45;&gt;7 -->\n",
       "<g id=\"edge7\" class=\"edge\">\n",
       "<title>5&#45;&gt;7</title>\n",
       "<path fill=\"none\" stroke=\"#000000\" d=\"M404,-222.8796C404,-214.6838 404,-205.9891 404,-197.5013\"/>\n",
       "<polygon fill=\"#000000\" stroke=\"#000000\" points=\"407.5001,-197.298 404,-187.2981 400.5001,-197.2981 407.5001,-197.298\"/>\n",
       "</g>\n",
       "<!-- 8 -->\n",
       "<g id=\"node9\" class=\"node\">\n",
       "<title>8</title>\n",
       "<path fill=\"#39e581\" stroke=\"#000000\" d=\"M308,-68C308,-68 184,-68 184,-68 178,-68 172,-62 172,-56 172,-56 172,-12 172,-12 172,-6 178,0 184,0 184,0 308,0 308,0 314,0 320,-6 320,-12 320,-12 320,-56 320,-56 320,-62 314,-68 308,-68\"/>\n",
       "<text text-anchor=\"middle\" x=\"246\" y=\"-52.8\" font-family=\"Helvetica,sans-Serif\" font-size=\"14.00\" fill=\"#000000\">gini = 0.0</text>\n",
       "<text text-anchor=\"middle\" x=\"246\" y=\"-37.8\" font-family=\"Helvetica,sans-Serif\" font-size=\"14.00\" fill=\"#000000\">samples = 8</text>\n",
       "<text text-anchor=\"middle\" x=\"246\" y=\"-22.8\" font-family=\"Helvetica,sans-Serif\" font-size=\"14.00\" fill=\"#000000\">value = [0, 12, 0]</text>\n",
       "<text text-anchor=\"middle\" x=\"246\" y=\"-7.8\" font-family=\"Helvetica,sans-Serif\" font-size=\"14.00\" fill=\"#000000\">class = Iris&#45;versicolor</text>\n",
       "</g>\n",
       "<!-- 7&#45;&gt;8 -->\n",
       "<g id=\"edge8\" class=\"edge\">\n",
       "<title>7&#45;&gt;8</title>\n",
       "<path fill=\"none\" stroke=\"#000000\" d=\"M345.1666,-103.9815C331.289,-94.1881 316.5216,-83.7668 302.7386,-74.0402\"/>\n",
       "<polygon fill=\"#000000\" stroke=\"#000000\" points=\"304.4892,-70.9918 294.3007,-68.0856 300.4531,-76.7111 304.4892,-70.9918\"/>\n",
       "</g>\n",
       "<!-- 9 -->\n",
       "<g id=\"node10\" class=\"node\">\n",
       "<title>9</title>\n",
       "<path fill=\"#8139e5\" stroke=\"#000000\" d=\"M465.5,-68C465.5,-68 350.5,-68 350.5,-68 344.5,-68 338.5,-62 338.5,-56 338.5,-56 338.5,-12 338.5,-12 338.5,-6 344.5,0 350.5,0 350.5,0 465.5,0 465.5,0 471.5,0 477.5,-6 477.5,-12 477.5,-12 477.5,-56 477.5,-56 477.5,-62 471.5,-68 465.5,-68\"/>\n",
       "<text text-anchor=\"middle\" x=\"408\" y=\"-52.8\" font-family=\"Helvetica,sans-Serif\" font-size=\"14.00\" fill=\"#000000\">gini = 0.0</text>\n",
       "<text text-anchor=\"middle\" x=\"408\" y=\"-37.8\" font-family=\"Helvetica,sans-Serif\" font-size=\"14.00\" fill=\"#000000\">samples = 2</text>\n",
       "<text text-anchor=\"middle\" x=\"408\" y=\"-22.8\" font-family=\"Helvetica,sans-Serif\" font-size=\"14.00\" fill=\"#000000\">value = [0, 0, 3]</text>\n",
       "<text text-anchor=\"middle\" x=\"408\" y=\"-7.8\" font-family=\"Helvetica,sans-Serif\" font-size=\"14.00\" fill=\"#000000\">class = Iris&#45;virginica</text>\n",
       "</g>\n",
       "<!-- 7&#45;&gt;9 -->\n",
       "<g id=\"edge9\" class=\"edge\">\n",
       "<title>7&#45;&gt;9</title>\n",
       "<path fill=\"none\" stroke=\"#000000\" d=\"M405.4895,-103.9815C405.7895,-95.618 406.106,-86.7965 406.4093,-78.3409\"/>\n",
       "<polygon fill=\"#000000\" stroke=\"#000000\" points=\"409.91,-78.3828 406.7708,-68.2637 402.9145,-78.1317 409.91,-78.3828\"/>\n",
       "</g>\n",
       "<!-- 11 -->\n",
       "<g id=\"node12\" class=\"node\">\n",
       "<title>11</title>\n",
       "<path fill=\"#39e581\" fill-opacity=\"0.941176\" stroke=\"#000000\" d=\"M649,-187C649,-187 513,-187 513,-187 507,-187 501,-181 501,-175 501,-175 501,-116 501,-116 501,-110 507,-104 513,-104 513,-104 649,-104 649,-104 655,-104 661,-110 661,-116 661,-116 661,-175 661,-175 661,-181 655,-187 649,-187\"/>\n",
       "<text text-anchor=\"middle\" x=\"581\" y=\"-171.8\" font-family=\"Helvetica,sans-Serif\" font-size=\"14.00\" fill=\"#000000\">sepal_width_cm &lt;= 2.7</text>\n",
       "<text text-anchor=\"middle\" x=\"581\" y=\"-156.8\" font-family=\"Helvetica,sans-Serif\" font-size=\"14.00\" fill=\"#000000\">gini = 0.105</text>\n",
       "<text text-anchor=\"middle\" x=\"581\" y=\"-141.8\" font-family=\"Helvetica,sans-Serif\" font-size=\"14.00\" fill=\"#000000\">samples = 13</text>\n",
       "<text text-anchor=\"middle\" x=\"581\" y=\"-126.8\" font-family=\"Helvetica,sans-Serif\" font-size=\"14.00\" fill=\"#000000\">value = [0, 17, 1]</text>\n",
       "<text text-anchor=\"middle\" x=\"581\" y=\"-111.8\" font-family=\"Helvetica,sans-Serif\" font-size=\"14.00\" fill=\"#000000\">class = Iris&#45;versicolor</text>\n",
       "</g>\n",
       "<!-- 10&#45;&gt;11 -->\n",
       "<g id=\"edge11\" class=\"edge\">\n",
       "<title>10&#45;&gt;11</title>\n",
       "<path fill=\"none\" stroke=\"#000000\" d=\"M581,-222.8796C581,-214.6838 581,-205.9891 581,-197.5013\"/>\n",
       "<polygon fill=\"#000000\" stroke=\"#000000\" points=\"584.5001,-197.298 581,-187.2981 577.5001,-197.2981 584.5001,-197.298\"/>\n",
       "</g>\n",
       "<!-- 14 -->\n",
       "<g id=\"node15\" class=\"node\">\n",
       "<title>14</title>\n",
       "<path fill=\"#8139e5\" stroke=\"#000000\" d=\"M806.5,-179.5C806.5,-179.5 691.5,-179.5 691.5,-179.5 685.5,-179.5 679.5,-173.5 679.5,-167.5 679.5,-167.5 679.5,-123.5 679.5,-123.5 679.5,-117.5 685.5,-111.5 691.5,-111.5 691.5,-111.5 806.5,-111.5 806.5,-111.5 812.5,-111.5 818.5,-117.5 818.5,-123.5 818.5,-123.5 818.5,-167.5 818.5,-167.5 818.5,-173.5 812.5,-179.5 806.5,-179.5\"/>\n",
       "<text text-anchor=\"middle\" x=\"749\" y=\"-164.3\" font-family=\"Helvetica,sans-Serif\" font-size=\"14.00\" fill=\"#000000\">gini = 0.0</text>\n",
       "<text text-anchor=\"middle\" x=\"749\" y=\"-149.3\" font-family=\"Helvetica,sans-Serif\" font-size=\"14.00\" fill=\"#000000\">samples = 22</text>\n",
       "<text text-anchor=\"middle\" x=\"749\" y=\"-134.3\" font-family=\"Helvetica,sans-Serif\" font-size=\"14.00\" fill=\"#000000\">value = [0, 0, 34]</text>\n",
       "<text text-anchor=\"middle\" x=\"749\" y=\"-119.3\" font-family=\"Helvetica,sans-Serif\" font-size=\"14.00\" fill=\"#000000\">class = Iris&#45;virginica</text>\n",
       "</g>\n",
       "<!-- 10&#45;&gt;14 -->\n",
       "<g id=\"edge14\" class=\"edge\">\n",
       "<title>10&#45;&gt;14</title>\n",
       "<path fill=\"none\" stroke=\"#000000\" d=\"M639.7582,-222.8796C656.9158,-210.7263 675.6223,-197.4759 692.6286,-185.4297\"/>\n",
       "<polygon fill=\"#000000\" stroke=\"#000000\" points=\"694.6891,-188.2593 700.8263,-179.623 690.643,-182.5472 694.6891,-188.2593\"/>\n",
       "</g>\n",
       "<!-- 12 -->\n",
       "<g id=\"node13\" class=\"node\">\n",
       "<title>12</title>\n",
       "<path fill=\"#39e581\" fill-opacity=\"0.800000\" stroke=\"#000000\" d=\"M639,-68C639,-68 515,-68 515,-68 509,-68 503,-62 503,-56 503,-56 503,-12 503,-12 503,-6 509,0 515,0 515,0 639,0 639,0 645,0 651,-6 651,-12 651,-12 651,-56 651,-56 651,-62 645,-68 639,-68\"/>\n",
       "<text text-anchor=\"middle\" x=\"577\" y=\"-52.8\" font-family=\"Helvetica,sans-Serif\" font-size=\"14.00\" fill=\"#000000\">gini = 0.278</text>\n",
       "<text text-anchor=\"middle\" x=\"577\" y=\"-37.8\" font-family=\"Helvetica,sans-Serif\" font-size=\"14.00\" fill=\"#000000\">samples = 4</text>\n",
       "<text text-anchor=\"middle\" x=\"577\" y=\"-22.8\" font-family=\"Helvetica,sans-Serif\" font-size=\"14.00\" fill=\"#000000\">value = [0, 5, 1]</text>\n",
       "<text text-anchor=\"middle\" x=\"577\" y=\"-7.8\" font-family=\"Helvetica,sans-Serif\" font-size=\"14.00\" fill=\"#000000\">class = Iris&#45;versicolor</text>\n",
       "</g>\n",
       "<!-- 11&#45;&gt;12 -->\n",
       "<g id=\"edge12\" class=\"edge\">\n",
       "<title>11&#45;&gt;12</title>\n",
       "<path fill=\"none\" stroke=\"#000000\" d=\"M579.5105,-103.9815C579.2105,-95.618 578.894,-86.7965 578.5907,-78.3409\"/>\n",
       "<polygon fill=\"#000000\" stroke=\"#000000\" points=\"582.0855,-78.1317 578.2292,-68.2637 575.09,-78.3828 582.0855,-78.1317\"/>\n",
       "</g>\n",
       "<!-- 13 -->\n",
       "<g id=\"node14\" class=\"node\">\n",
       "<title>13</title>\n",
       "<path fill=\"#39e581\" stroke=\"#000000\" d=\"M805,-68C805,-68 681,-68 681,-68 675,-68 669,-62 669,-56 669,-56 669,-12 669,-12 669,-6 675,0 681,0 681,0 805,0 805,0 811,0 817,-6 817,-12 817,-12 817,-56 817,-56 817,-62 811,-68 805,-68\"/>\n",
       "<text text-anchor=\"middle\" x=\"743\" y=\"-52.8\" font-family=\"Helvetica,sans-Serif\" font-size=\"14.00\" fill=\"#000000\">gini = 0.0</text>\n",
       "<text text-anchor=\"middle\" x=\"743\" y=\"-37.8\" font-family=\"Helvetica,sans-Serif\" font-size=\"14.00\" fill=\"#000000\">samples = 9</text>\n",
       "<text text-anchor=\"middle\" x=\"743\" y=\"-22.8\" font-family=\"Helvetica,sans-Serif\" font-size=\"14.00\" fill=\"#000000\">value = [0, 12, 0]</text>\n",
       "<text text-anchor=\"middle\" x=\"743\" y=\"-7.8\" font-family=\"Helvetica,sans-Serif\" font-size=\"14.00\" fill=\"#000000\">class = Iris&#45;versicolor</text>\n",
       "</g>\n",
       "<!-- 11&#45;&gt;13 -->\n",
       "<g id=\"edge13\" class=\"edge\">\n",
       "<title>11&#45;&gt;13</title>\n",
       "<path fill=\"none\" stroke=\"#000000\" d=\"M641.3228,-103.9815C655.686,-94.0957 670.9788,-83.5701 685.2247,-73.7651\"/>\n",
       "<polygon fill=\"#000000\" stroke=\"#000000\" points=\"687.2234,-76.6384 693.4765,-68.0856 683.2546,-70.8722 687.2234,-76.6384\"/>\n",
       "</g>\n",
       "</g>\n",
       "</svg>\n"
      ],
      "text/plain": [
       "<graphviz.files.Source at 0x1a20dcc860>"
      ]
     },
     "execution_count": 381,
     "metadata": {},
     "output_type": "execute_result"
    }
   ],
   "source": [
    "viz_tree(rfclf.estimators_[0], data['class'].unique(), feature_names_array)"
   ]
  },
  {
   "cell_type": "code",
   "execution_count": 382,
   "metadata": {},
   "outputs": [
    {
     "data": {
      "text/plain": [
       "\"(petal_length_cm, '>', 4.95) | (petal_width_cm, '>', 1.7)\""
      ]
     },
     "execution_count": 382,
     "metadata": {},
     "output_type": "execute_result"
    }
   ],
   "source": [
    "# Final combined rules generated by Random Forest and reduced\n",
    "\n",
    "\"(petal_length_cm, '>', 4.95) | (petal_width_cm, '>', 1.7)\""
   ]
  },
  {
   "cell_type": "code",
   "execution_count": 383,
   "metadata": {},
   "outputs": [
    {
     "data": {
      "text/plain": [
       "array([ 0,  1, -2, -2,  0,  3, -2,  3, -2, -2,  3,  1, -2, -2, -2])"
      ]
     },
     "execution_count": 383,
     "metadata": {},
     "output_type": "execute_result"
    }
   ],
   "source": [
    "rfclf.estimators_[0].tree_.feature"
   ]
  },
  {
   "cell_type": "code",
   "execution_count": 384,
   "metadata": {},
   "outputs": [
    {
     "data": {
      "text/plain": [
       "array(['Iris-setosa', 'Iris-versicolor', 'Iris-virginica'], dtype=object)"
      ]
     },
     "execution_count": 384,
     "metadata": {},
     "output_type": "execute_result"
    }
   ],
   "source": [
    "data['class'].unique()"
   ]
  },
  {
   "cell_type": "code",
   "execution_count": 385,
   "metadata": {},
   "outputs": [
    {
     "data": {
      "text/plain": [
       "{((0, 0, '>', 5.55),\n",
       "  (4, 0, '<=', 6.05),\n",
       "  (5, 3, '>', 0.6),\n",
       "  (7, 3, '>', 1.8),\n",
       "  (9, -2, '>', -2.0)),\n",
       " ((0, 0, '>', 5.55),\n",
       "  (4, 0, '>', 6.05),\n",
       "  (10, 3, '>', 1.7),\n",
       "  (14, -2, '>', -2.0))}"
      ]
     },
     "execution_count": 385,
     "metadata": {},
     "output_type": "execute_result"
    }
   ],
   "source": [
    "lst = []\n",
    "t1_paths = set()\n",
    "\n",
    "get_paths_for(\"Iris-virginica\", rfclf.estimators_[0].tree_, 0, lst, t1_paths, '<=')\n",
    "t1_paths"
   ]
  },
  {
   "cell_type": "code",
   "execution_count": 387,
   "metadata": {},
   "outputs": [
    {
     "data": {
      "text/plain": [
       "'(ACC5038 & A134BB3 & AD8A5A3 & A4F7298) | (ACC5038 & Not(A134BB3) & AFDE58F)'"
      ]
     },
     "execution_count": 387,
     "metadata": {},
     "output_type": "execute_result"
    }
   ],
   "source": [
    "create_big_or_rule(t1_paths)"
   ]
  },
  {
   "cell_type": "code",
   "execution_count": 386,
   "metadata": {},
   "outputs": [
    {
     "data": {
      "text/plain": [
       "\"(0, 0, '>', 5.55) & ((4, 0, '<=', 6.05) | (10, 3, '>', 1.7)) & ((7, 3, '>', 1.8) | (4, 0, '>', 6.05)) & ((5, 3, '>', 0.6) | (4, 0, '<=', 6.05))\""
      ]
     },
     "execution_count": 386,
     "metadata": {},
     "output_type": "execute_result"
    }
   ],
   "source": [
    "rule_dict = {}\n",
    "var_dict = {}\n",
    "\n",
    "# Simplify rule sets for this rf tree\n",
    "print_final_rule(simplify_logic(sympify(create_big_or_rule(t1_paths), evaluate=False)))"
   ]
  },
  {
   "cell_type": "code",
   "execution_count": 290,
   "metadata": {},
   "outputs": [
    {
     "data": {
      "text/plain": [
       "{((0, 3, '>', 1.7), (8, -2, '>', -2.0))}"
      ]
     },
     "execution_count": 290,
     "metadata": {},
     "output_type": "execute_result"
    }
   ],
   "source": [
    "t1_paths = redundancy_condition_removal(t1_paths)\n",
    "t1_paths"
   ]
  },
  {
   "cell_type": "code",
   "execution_count": 291,
   "metadata": {},
   "outputs": [
    {
     "data": {
      "text/plain": [
       "\"(0, 3, '>', 1.7)\""
      ]
     },
     "execution_count": 291,
     "metadata": {},
     "output_type": "execute_result"
    }
   ],
   "source": [
    "rule_dict = {}\n",
    "var_dict = {}\n",
    "\n",
    "# Simplify rule sets for this rf tree\n",
    "print_final_rule(simplify_logic(sympify(create_big_or_rule(t1_paths), evaluate=False)))"
   ]
  },
  {
   "cell_type": "markdown",
   "metadata": {},
   "source": [
    "---\n",
    "## Subtree 2"
   ]
  },
  {
   "cell_type": "code",
   "execution_count": 292,
   "metadata": {
    "scrolled": false
   },
   "outputs": [
    {
     "data": {
      "image/svg+xml": [
       "<?xml version=\"1.0\" encoding=\"UTF-8\" standalone=\"no\"?>\n",
       "<!DOCTYPE svg PUBLIC \"-//W3C//DTD SVG 1.1//EN\"\n",
       " \"http://www.w3.org/Graphics/SVG/1.1/DTD/svg11.dtd\">\n",
       "<!-- Generated by graphviz version 2.40.1 (20161225.0304)\n",
       " -->\n",
       "<!-- Title: Tree Pages: 1 -->\n",
       "<svg width=\"656pt\" height=\"552pt\"\n",
       " viewBox=\"0.00 0.00 655.50 552.00\" xmlns=\"http://www.w3.org/2000/svg\" xmlns:xlink=\"http://www.w3.org/1999/xlink\">\n",
       "<g id=\"graph0\" class=\"graph\" transform=\"scale(1 1) rotate(0) translate(4 548)\">\n",
       "<title>Tree</title>\n",
       "<polygon fill=\"#ffffff\" stroke=\"transparent\" points=\"-4,4 -4,-548 651.5,-548 651.5,4 -4,4\"/>\n",
       "<!-- 0 -->\n",
       "<g id=\"node1\" class=\"node\">\n",
       "<title>0</title>\n",
       "<path fill=\"#8139e5\" fill-opacity=\"0.172549\" stroke=\"#000000\" d=\"M392,-544C392,-544 242,-544 242,-544 236,-544 230,-538 230,-532 230,-532 230,-473 230,-473 230,-467 236,-461 242,-461 242,-461 392,-461 392,-461 398,-461 404,-467 404,-473 404,-473 404,-532 404,-532 404,-538 398,-544 392,-544\"/>\n",
       "<text text-anchor=\"middle\" x=\"317\" y=\"-528.8\" font-family=\"Helvetica,sans-Serif\" font-size=\"14.00\" fill=\"#000000\">sepal_length_cm &lt;= 5.55</text>\n",
       "<text text-anchor=\"middle\" x=\"317\" y=\"-513.8\" font-family=\"Helvetica,sans-Serif\" font-size=\"14.00\" fill=\"#000000\">gini = 0.649</text>\n",
       "<text text-anchor=\"middle\" x=\"317\" y=\"-498.8\" font-family=\"Helvetica,sans-Serif\" font-size=\"14.00\" fill=\"#000000\">samples = 78</text>\n",
       "<text text-anchor=\"middle\" x=\"317\" y=\"-483.8\" font-family=\"Helvetica,sans-Serif\" font-size=\"14.00\" fill=\"#000000\">value = [38, 30, 52]</text>\n",
       "<text text-anchor=\"middle\" x=\"317\" y=\"-468.8\" font-family=\"Helvetica,sans-Serif\" font-size=\"14.00\" fill=\"#000000\">class = Iris&#45;virginica</text>\n",
       "</g>\n",
       "<!-- 1 -->\n",
       "<g id=\"node2\" class=\"node\">\n",
       "<title>1</title>\n",
       "<path fill=\"#e58139\" fill-opacity=\"0.764706\" stroke=\"#000000\" d=\"M299,-425C299,-425 155,-425 155,-425 149,-425 143,-419 143,-413 143,-413 143,-354 143,-354 143,-348 149,-342 155,-342 155,-342 299,-342 299,-342 305,-342 311,-348 311,-354 311,-354 311,-413 311,-413 311,-419 305,-425 299,-425\"/>\n",
       "<text text-anchor=\"middle\" x=\"227\" y=\"-409.8\" font-family=\"Helvetica,sans-Serif\" font-size=\"14.00\" fill=\"#000000\">sepal_width_cm &lt;= 2.95</text>\n",
       "<text text-anchor=\"middle\" x=\"227\" y=\"-394.8\" font-family=\"Helvetica,sans-Serif\" font-size=\"14.00\" fill=\"#000000\">gini = 0.308</text>\n",
       "<text text-anchor=\"middle\" x=\"227\" y=\"-379.8\" font-family=\"Helvetica,sans-Serif\" font-size=\"14.00\" fill=\"#000000\">samples = 28</text>\n",
       "<text text-anchor=\"middle\" x=\"227\" y=\"-364.8\" font-family=\"Helvetica,sans-Serif\" font-size=\"14.00\" fill=\"#000000\">value = [34, 8, 0]</text>\n",
       "<text text-anchor=\"middle\" x=\"227\" y=\"-349.8\" font-family=\"Helvetica,sans-Serif\" font-size=\"14.00\" fill=\"#000000\">class = Iris&#45;setosa</text>\n",
       "</g>\n",
       "<!-- 0&#45;&gt;1 -->\n",
       "<g id=\"edge1\" class=\"edge\">\n",
       "<title>0&#45;&gt;1</title>\n",
       "<path fill=\"none\" stroke=\"#000000\" d=\"M285.5224,-460.8796C278.8471,-452.0534 271.7342,-442.6485 264.8504,-433.5466\"/>\n",
       "<polygon fill=\"#000000\" stroke=\"#000000\" points=\"267.4357,-431.1626 258.612,-425.2981 261.8526,-435.3852 267.4357,-431.1626\"/>\n",
       "<text text-anchor=\"middle\" x=\"255.176\" y=\"-446.3608\" font-family=\"Helvetica,sans-Serif\" font-size=\"14.00\" fill=\"#000000\">True</text>\n",
       "</g>\n",
       "<!-- 4 -->\n",
       "<g id=\"node5\" class=\"node\">\n",
       "<title>4</title>\n",
       "<path fill=\"#8139e5\" fill-opacity=\"0.537255\" stroke=\"#000000\" d=\"M474.5,-425C474.5,-425 341.5,-425 341.5,-425 335.5,-425 329.5,-419 329.5,-413 329.5,-413 329.5,-354 329.5,-354 329.5,-348 335.5,-342 341.5,-342 341.5,-342 474.5,-342 474.5,-342 480.5,-342 486.5,-348 486.5,-354 486.5,-354 486.5,-413 486.5,-413 486.5,-419 480.5,-425 474.5,-425\"/>\n",
       "<text text-anchor=\"middle\" x=\"408\" y=\"-409.8\" font-family=\"Helvetica,sans-Serif\" font-size=\"14.00\" fill=\"#000000\">petal_width_cm &lt;= 1.7</text>\n",
       "<text text-anchor=\"middle\" x=\"408\" y=\"-394.8\" font-family=\"Helvetica,sans-Serif\" font-size=\"14.00\" fill=\"#000000\">gini = 0.473</text>\n",
       "<text text-anchor=\"middle\" x=\"408\" y=\"-379.8\" font-family=\"Helvetica,sans-Serif\" font-size=\"14.00\" fill=\"#000000\">samples = 50</text>\n",
       "<text text-anchor=\"middle\" x=\"408\" y=\"-364.8\" font-family=\"Helvetica,sans-Serif\" font-size=\"14.00\" fill=\"#000000\">value = [4, 22, 52]</text>\n",
       "<text text-anchor=\"middle\" x=\"408\" y=\"-349.8\" font-family=\"Helvetica,sans-Serif\" font-size=\"14.00\" fill=\"#000000\">class = Iris&#45;virginica</text>\n",
       "</g>\n",
       "<!-- 0&#45;&gt;4 -->\n",
       "<g id=\"edge4\" class=\"edge\">\n",
       "<title>0&#45;&gt;4</title>\n",
       "<path fill=\"none\" stroke=\"#000000\" d=\"M348.8274,-460.8796C355.6457,-451.9633 362.9156,-442.4565 369.9421,-433.268\"/>\n",
       "<polygon fill=\"#000000\" stroke=\"#000000\" points=\"372.7425,-435.3678 376.0368,-425.2981 367.182,-431.1156 372.7425,-435.3678\"/>\n",
       "<text text-anchor=\"middle\" x=\"379.3409\" y=\"-446.3788\" font-family=\"Helvetica,sans-Serif\" font-size=\"14.00\" fill=\"#000000\">False</text>\n",
       "</g>\n",
       "<!-- 2 -->\n",
       "<g id=\"node3\" class=\"node\">\n",
       "<title>2</title>\n",
       "<path fill=\"#39e581\" stroke=\"#000000\" d=\"M136,-298.5C136,-298.5 12,-298.5 12,-298.5 6,-298.5 0,-292.5 0,-286.5 0,-286.5 0,-242.5 0,-242.5 0,-236.5 6,-230.5 12,-230.5 12,-230.5 136,-230.5 136,-230.5 142,-230.5 148,-236.5 148,-242.5 148,-242.5 148,-286.5 148,-286.5 148,-292.5 142,-298.5 136,-298.5\"/>\n",
       "<text text-anchor=\"middle\" x=\"74\" y=\"-283.3\" font-family=\"Helvetica,sans-Serif\" font-size=\"14.00\" fill=\"#000000\">gini = 0.0</text>\n",
       "<text text-anchor=\"middle\" x=\"74\" y=\"-268.3\" font-family=\"Helvetica,sans-Serif\" font-size=\"14.00\" fill=\"#000000\">samples = 5</text>\n",
       "<text text-anchor=\"middle\" x=\"74\" y=\"-253.3\" font-family=\"Helvetica,sans-Serif\" font-size=\"14.00\" fill=\"#000000\">value = [0, 8, 0]</text>\n",
       "<text text-anchor=\"middle\" x=\"74\" y=\"-238.3\" font-family=\"Helvetica,sans-Serif\" font-size=\"14.00\" fill=\"#000000\">class = Iris&#45;versicolor</text>\n",
       "</g>\n",
       "<!-- 1&#45;&gt;2 -->\n",
       "<g id=\"edge2\" class=\"edge\">\n",
       "<title>1&#45;&gt;2</title>\n",
       "<path fill=\"none\" stroke=\"#000000\" d=\"M173.488,-341.8796C158.2192,-330.0038 141.6034,-317.0804 126.4016,-305.2568\"/>\n",
       "<polygon fill=\"#000000\" stroke=\"#000000\" points=\"128.1616,-302.1916 118.1192,-298.8149 123.8639,-307.7171 128.1616,-302.1916\"/>\n",
       "</g>\n",
       "<!-- 3 -->\n",
       "<g id=\"node4\" class=\"node\">\n",
       "<title>3</title>\n",
       "<path fill=\"#e58139\" stroke=\"#000000\" d=\"M283.5,-298.5C283.5,-298.5 178.5,-298.5 178.5,-298.5 172.5,-298.5 166.5,-292.5 166.5,-286.5 166.5,-286.5 166.5,-242.5 166.5,-242.5 166.5,-236.5 172.5,-230.5 178.5,-230.5 178.5,-230.5 283.5,-230.5 283.5,-230.5 289.5,-230.5 295.5,-236.5 295.5,-242.5 295.5,-242.5 295.5,-286.5 295.5,-286.5 295.5,-292.5 289.5,-298.5 283.5,-298.5\"/>\n",
       "<text text-anchor=\"middle\" x=\"231\" y=\"-283.3\" font-family=\"Helvetica,sans-Serif\" font-size=\"14.00\" fill=\"#000000\">gini = 0.0</text>\n",
       "<text text-anchor=\"middle\" x=\"231\" y=\"-268.3\" font-family=\"Helvetica,sans-Serif\" font-size=\"14.00\" fill=\"#000000\">samples = 23</text>\n",
       "<text text-anchor=\"middle\" x=\"231\" y=\"-253.3\" font-family=\"Helvetica,sans-Serif\" font-size=\"14.00\" fill=\"#000000\">value = [34, 0, 0]</text>\n",
       "<text text-anchor=\"middle\" x=\"231\" y=\"-238.3\" font-family=\"Helvetica,sans-Serif\" font-size=\"14.00\" fill=\"#000000\">class = Iris&#45;setosa</text>\n",
       "</g>\n",
       "<!-- 1&#45;&gt;3 -->\n",
       "<g id=\"edge3\" class=\"edge\">\n",
       "<title>1&#45;&gt;3</title>\n",
       "<path fill=\"none\" stroke=\"#000000\" d=\"M228.399,-341.8796C228.7575,-331.2134 229.1445,-319.7021 229.5075,-308.9015\"/>\n",
       "<polygon fill=\"#000000\" stroke=\"#000000\" points=\"233.0085,-308.9269 229.8466,-298.8149 226.0125,-308.6917 233.0085,-308.9269\"/>\n",
       "</g>\n",
       "<!-- 5 -->\n",
       "<g id=\"node6\" class=\"node\">\n",
       "<title>5</title>\n",
       "<path fill=\"#39e581\" fill-opacity=\"0.654902\" stroke=\"#000000\" d=\"M478.5,-306C478.5,-306 331.5,-306 331.5,-306 325.5,-306 319.5,-300 319.5,-294 319.5,-294 319.5,-235 319.5,-235 319.5,-229 325.5,-223 331.5,-223 331.5,-223 478.5,-223 478.5,-223 484.5,-223 490.5,-229 490.5,-235 490.5,-235 490.5,-294 490.5,-294 490.5,-300 484.5,-306 478.5,-306\"/>\n",
       "<text text-anchor=\"middle\" x=\"405\" y=\"-290.8\" font-family=\"Helvetica,sans-Serif\" font-size=\"14.00\" fill=\"#000000\">petal_length_cm &lt;= 4.95</text>\n",
       "<text text-anchor=\"middle\" x=\"405\" y=\"-275.8\" font-family=\"Helvetica,sans-Serif\" font-size=\"14.00\" fill=\"#000000\">gini = 0.454</text>\n",
       "<text text-anchor=\"middle\" x=\"405\" y=\"-260.8\" font-family=\"Helvetica,sans-Serif\" font-size=\"14.00\" fill=\"#000000\">samples = 22</text>\n",
       "<text text-anchor=\"middle\" x=\"405\" y=\"-245.8\" font-family=\"Helvetica,sans-Serif\" font-size=\"14.00\" fill=\"#000000\">value = [4, 22, 5]</text>\n",
       "<text text-anchor=\"middle\" x=\"405\" y=\"-230.8\" font-family=\"Helvetica,sans-Serif\" font-size=\"14.00\" fill=\"#000000\">class = Iris&#45;versicolor</text>\n",
       "</g>\n",
       "<!-- 4&#45;&gt;5 -->\n",
       "<g id=\"edge5\" class=\"edge\">\n",
       "<title>4&#45;&gt;5</title>\n",
       "<path fill=\"none\" stroke=\"#000000\" d=\"M406.9507,-341.8796C406.7441,-333.6838 406.5249,-324.9891 406.311,-316.5013\"/>\n",
       "<polygon fill=\"#000000\" stroke=\"#000000\" points=\"409.8047,-316.2067 406.0537,-306.2981 402.807,-316.3831 409.8047,-316.2067\"/>\n",
       "</g>\n",
       "<!-- 10 -->\n",
       "<g id=\"node11\" class=\"node\">\n",
       "<title>10</title>\n",
       "<path fill=\"#8139e5\" stroke=\"#000000\" d=\"M635.5,-298.5C635.5,-298.5 520.5,-298.5 520.5,-298.5 514.5,-298.5 508.5,-292.5 508.5,-286.5 508.5,-286.5 508.5,-242.5 508.5,-242.5 508.5,-236.5 514.5,-230.5 520.5,-230.5 520.5,-230.5 635.5,-230.5 635.5,-230.5 641.5,-230.5 647.5,-236.5 647.5,-242.5 647.5,-242.5 647.5,-286.5 647.5,-286.5 647.5,-292.5 641.5,-298.5 635.5,-298.5\"/>\n",
       "<text text-anchor=\"middle\" x=\"578\" y=\"-283.3\" font-family=\"Helvetica,sans-Serif\" font-size=\"14.00\" fill=\"#000000\">gini = 0.0</text>\n",
       "<text text-anchor=\"middle\" x=\"578\" y=\"-268.3\" font-family=\"Helvetica,sans-Serif\" font-size=\"14.00\" fill=\"#000000\">samples = 28</text>\n",
       "<text text-anchor=\"middle\" x=\"578\" y=\"-253.3\" font-family=\"Helvetica,sans-Serif\" font-size=\"14.00\" fill=\"#000000\">value = [0, 0, 47]</text>\n",
       "<text text-anchor=\"middle\" x=\"578\" y=\"-238.3\" font-family=\"Helvetica,sans-Serif\" font-size=\"14.00\" fill=\"#000000\">class = Iris&#45;virginica</text>\n",
       "</g>\n",
       "<!-- 4&#45;&gt;10 -->\n",
       "<g id=\"edge10\" class=\"edge\">\n",
       "<title>4&#45;&gt;10</title>\n",
       "<path fill=\"none\" stroke=\"#000000\" d=\"M467.4578,-341.8796C484.8196,-329.7263 503.7488,-316.4759 520.9575,-304.4297\"/>\n",
       "<polygon fill=\"#000000\" stroke=\"#000000\" points=\"523.0676,-307.225 529.2528,-298.623 519.0533,-301.4904 523.0676,-307.225\"/>\n",
       "</g>\n",
       "<!-- 6 -->\n",
       "<g id=\"node7\" class=\"node\">\n",
       "<title>6</title>\n",
       "<path fill=\"#39e581\" fill-opacity=\"0.819608\" stroke=\"#000000\" d=\"M389.5,-187C389.5,-187 250.5,-187 250.5,-187 244.5,-187 238.5,-181 238.5,-175 238.5,-175 238.5,-116 238.5,-116 238.5,-110 244.5,-104 250.5,-104 250.5,-104 389.5,-104 389.5,-104 395.5,-104 401.5,-110 401.5,-116 401.5,-116 401.5,-175 401.5,-175 401.5,-181 395.5,-187 389.5,-187\"/>\n",
       "<text text-anchor=\"middle\" x=\"320\" y=\"-171.8\" font-family=\"Helvetica,sans-Serif\" font-size=\"14.00\" fill=\"#000000\">petal_length_cm &lt;= 2.8</text>\n",
       "<text text-anchor=\"middle\" x=\"320\" y=\"-156.8\" font-family=\"Helvetica,sans-Serif\" font-size=\"14.00\" fill=\"#000000\">gini = 0.26</text>\n",
       "<text text-anchor=\"middle\" x=\"320\" y=\"-141.8\" font-family=\"Helvetica,sans-Serif\" font-size=\"14.00\" fill=\"#000000\">samples = 20</text>\n",
       "<text text-anchor=\"middle\" x=\"320\" y=\"-126.8\" font-family=\"Helvetica,sans-Serif\" font-size=\"14.00\" fill=\"#000000\">value = [4, 22, 0]</text>\n",
       "<text text-anchor=\"middle\" x=\"320\" y=\"-111.8\" font-family=\"Helvetica,sans-Serif\" font-size=\"14.00\" fill=\"#000000\">class = Iris&#45;versicolor</text>\n",
       "</g>\n",
       "<!-- 5&#45;&gt;6 -->\n",
       "<g id=\"edge6\" class=\"edge\">\n",
       "<title>5&#45;&gt;6</title>\n",
       "<path fill=\"none\" stroke=\"#000000\" d=\"M375.2711,-222.8796C368.9667,-214.0534 362.249,-204.6485 355.7476,-195.5466\"/>\n",
       "<polygon fill=\"#000000\" stroke=\"#000000\" points=\"358.5163,-193.4011 349.8558,-187.2981 352.8201,-197.4698 358.5163,-193.4011\"/>\n",
       "</g>\n",
       "<!-- 9 -->\n",
       "<g id=\"node10\" class=\"node\">\n",
       "<title>9</title>\n",
       "<path fill=\"#8139e5\" stroke=\"#000000\" d=\"M546.5,-179.5C546.5,-179.5 431.5,-179.5 431.5,-179.5 425.5,-179.5 419.5,-173.5 419.5,-167.5 419.5,-167.5 419.5,-123.5 419.5,-123.5 419.5,-117.5 425.5,-111.5 431.5,-111.5 431.5,-111.5 546.5,-111.5 546.5,-111.5 552.5,-111.5 558.5,-117.5 558.5,-123.5 558.5,-123.5 558.5,-167.5 558.5,-167.5 558.5,-173.5 552.5,-179.5 546.5,-179.5\"/>\n",
       "<text text-anchor=\"middle\" x=\"489\" y=\"-164.3\" font-family=\"Helvetica,sans-Serif\" font-size=\"14.00\" fill=\"#000000\">gini = 0.0</text>\n",
       "<text text-anchor=\"middle\" x=\"489\" y=\"-149.3\" font-family=\"Helvetica,sans-Serif\" font-size=\"14.00\" fill=\"#000000\">samples = 2</text>\n",
       "<text text-anchor=\"middle\" x=\"489\" y=\"-134.3\" font-family=\"Helvetica,sans-Serif\" font-size=\"14.00\" fill=\"#000000\">value = [0, 0, 5]</text>\n",
       "<text text-anchor=\"middle\" x=\"489\" y=\"-119.3\" font-family=\"Helvetica,sans-Serif\" font-size=\"14.00\" fill=\"#000000\">class = Iris&#45;virginica</text>\n",
       "</g>\n",
       "<!-- 5&#45;&gt;9 -->\n",
       "<g id=\"edge9\" class=\"edge\">\n",
       "<title>5&#45;&gt;9</title>\n",
       "<path fill=\"none\" stroke=\"#000000\" d=\"M434.3791,-222.8796C442.2963,-211.6636 450.8731,-199.5131 458.8325,-188.2372\"/>\n",
       "<polygon fill=\"#000000\" stroke=\"#000000\" points=\"461.8702,-190.003 464.7777,-179.8149 456.1514,-185.9662 461.8702,-190.003\"/>\n",
       "</g>\n",
       "<!-- 7 -->\n",
       "<g id=\"node8\" class=\"node\">\n",
       "<title>7</title>\n",
       "<path fill=\"#e58139\" stroke=\"#000000\" d=\"M294.5,-68C294.5,-68 189.5,-68 189.5,-68 183.5,-68 177.5,-62 177.5,-56 177.5,-56 177.5,-12 177.5,-12 177.5,-6 183.5,0 189.5,0 189.5,0 294.5,0 294.5,0 300.5,0 306.5,-6 306.5,-12 306.5,-12 306.5,-56 306.5,-56 306.5,-62 300.5,-68 294.5,-68\"/>\n",
       "<text text-anchor=\"middle\" x=\"242\" y=\"-52.8\" font-family=\"Helvetica,sans-Serif\" font-size=\"14.00\" fill=\"#000000\">gini = 0.0</text>\n",
       "<text text-anchor=\"middle\" x=\"242\" y=\"-37.8\" font-family=\"Helvetica,sans-Serif\" font-size=\"14.00\" fill=\"#000000\">samples = 3</text>\n",
       "<text text-anchor=\"middle\" x=\"242\" y=\"-22.8\" font-family=\"Helvetica,sans-Serif\" font-size=\"14.00\" fill=\"#000000\">value = [4, 0, 0]</text>\n",
       "<text text-anchor=\"middle\" x=\"242\" y=\"-7.8\" font-family=\"Helvetica,sans-Serif\" font-size=\"14.00\" fill=\"#000000\">class = Iris&#45;setosa</text>\n",
       "</g>\n",
       "<!-- 6&#45;&gt;7 -->\n",
       "<g id=\"edge7\" class=\"edge\">\n",
       "<title>6&#45;&gt;7</title>\n",
       "<path fill=\"none\" stroke=\"#000000\" d=\"M290.9557,-103.9815C284.7192,-95.0666 278.1187,-85.6313 271.8522,-76.6734\"/>\n",
       "<polygon fill=\"#000000\" stroke=\"#000000\" points=\"274.5693,-74.4515 265.9692,-68.2637 268.8335,-78.464 274.5693,-74.4515\"/>\n",
       "</g>\n",
       "<!-- 8 -->\n",
       "<g id=\"node9\" class=\"node\">\n",
       "<title>8</title>\n",
       "<path fill=\"#39e581\" stroke=\"#000000\" d=\"M461,-68C461,-68 337,-68 337,-68 331,-68 325,-62 325,-56 325,-56 325,-12 325,-12 325,-6 331,0 337,0 337,0 461,0 461,0 467,0 473,-6 473,-12 473,-12 473,-56 473,-56 473,-62 467,-68 461,-68\"/>\n",
       "<text text-anchor=\"middle\" x=\"399\" y=\"-52.8\" font-family=\"Helvetica,sans-Serif\" font-size=\"14.00\" fill=\"#000000\">gini = 0.0</text>\n",
       "<text text-anchor=\"middle\" x=\"399\" y=\"-37.8\" font-family=\"Helvetica,sans-Serif\" font-size=\"14.00\" fill=\"#000000\">samples = 17</text>\n",
       "<text text-anchor=\"middle\" x=\"399\" y=\"-22.8\" font-family=\"Helvetica,sans-Serif\" font-size=\"14.00\" fill=\"#000000\">value = [0, 22, 0]</text>\n",
       "<text text-anchor=\"middle\" x=\"399\" y=\"-7.8\" font-family=\"Helvetica,sans-Serif\" font-size=\"14.00\" fill=\"#000000\">class = Iris&#45;versicolor</text>\n",
       "</g>\n",
       "<!-- 6&#45;&gt;8 -->\n",
       "<g id=\"edge8\" class=\"edge\">\n",
       "<title>6&#45;&gt;8</title>\n",
       "<path fill=\"none\" stroke=\"#000000\" d=\"M349.4167,-103.9815C355.7331,-95.0666 362.4182,-85.6313 368.7651,-76.6734\"/>\n",
       "<polygon fill=\"#000000\" stroke=\"#000000\" points=\"371.7981,-78.4466 374.7235,-68.2637 366.0864,-74.3998 371.7981,-78.4466\"/>\n",
       "</g>\n",
       "</g>\n",
       "</svg>\n"
      ],
      "text/plain": [
       "<graphviz.files.Source at 0x1a2095fdd8>"
      ]
     },
     "execution_count": 292,
     "metadata": {},
     "output_type": "execute_result"
    }
   ],
   "source": [
    "viz_tree(rfclf.estimators_[1], data['class'].unique(), feature_names_array)"
   ]
  },
  {
   "cell_type": "code",
   "execution_count": 293,
   "metadata": {},
   "outputs": [
    {
     "data": {
      "text/plain": [
       "\"(petal_length_cm, '>', 4.95) | (petal_width_cm, '>', 1.7)\""
      ]
     },
     "execution_count": 293,
     "metadata": {},
     "output_type": "execute_result"
    }
   ],
   "source": [
    "# Final combined rules generated by Random Forest and reduced\n",
    "\n",
    "\"(petal_length_cm, '>', 4.95) | (petal_width_cm, '>', 1.7)\""
   ]
  },
  {
   "cell_type": "code",
   "execution_count": 294,
   "metadata": {},
   "outputs": [
    {
     "data": {
      "text/plain": [
       "array([ 0,  1, -2, -2,  3,  2,  2, -2, -2, -2, -2])"
      ]
     },
     "execution_count": 294,
     "metadata": {},
     "output_type": "execute_result"
    }
   ],
   "source": [
    "rfclf.estimators_[1].tree_.feature"
   ]
  },
  {
   "cell_type": "code",
   "execution_count": 295,
   "metadata": {},
   "outputs": [
    {
     "data": {
      "text/plain": [
       "{((0, 0, '>', 5.55), (4, 3, '<=', 1.7), (5, 2, '>', 4.95), (9, -2, '>', -2.0)),\n",
       " ((0, 0, '>', 5.55), (4, 3, '>', 1.7), (10, -2, '>', -2.0))}"
      ]
     },
     "execution_count": 295,
     "metadata": {},
     "output_type": "execute_result"
    }
   ],
   "source": [
    "lst = []\n",
    "t2_paths = set()\n",
    "\n",
    "get_paths_for(\"Iris-virginica\", rfclf.estimators_[1].tree_, 0, lst, t2_paths, '<=')\n",
    "t2_paths"
   ]
  },
  {
   "cell_type": "code",
   "execution_count": 296,
   "metadata": {},
   "outputs": [
    {
     "data": {
      "text/plain": [
       "\"(0, 0, '>', 5.55) & ((5, 2, '>', 4.95) | (4, 3, '>', 1.7))\""
      ]
     },
     "execution_count": 296,
     "metadata": {},
     "output_type": "execute_result"
    }
   ],
   "source": [
    "rule_dict = {}\n",
    "var_dict = {}\n",
    "\n",
    "# Simplify rule sets for this rf tree\n",
    "print_final_rule(simplify_logic(sympify(create_big_or_rule(t2_paths), evaluate=False)))"
   ]
  },
  {
   "cell_type": "markdown",
   "metadata": {},
   "source": [
    "### Now we try to remove redundant nodes"
   ]
  },
  {
   "cell_type": "code",
   "execution_count": 297,
   "metadata": {},
   "outputs": [
    {
     "data": {
      "text/plain": [
       "{((0, 0, '>', 5.55), (4, 3, '<=', 1.7), (5, 2, '>', 4.95), (9, -2, '>', -2.0)),\n",
       " ((0, 0, '>', 5.55), (4, 3, '>', 1.7), (10, -2, '>', -2.0))}"
      ]
     },
     "execution_count": 297,
     "metadata": {},
     "output_type": "execute_result"
    }
   ],
   "source": [
    "t2_paths = redundancy_condition_removal(t2_paths)\n",
    "t2_paths"
   ]
  },
  {
   "cell_type": "code",
   "execution_count": 298,
   "metadata": {},
   "outputs": [
    {
     "data": {
      "text/plain": [
       "\"(0, 0, '>', 5.55) & ((5, 2, '>', 4.95) | (4, 3, '>', 1.7))\""
      ]
     },
     "execution_count": 298,
     "metadata": {},
     "output_type": "execute_result"
    }
   ],
   "source": [
    "rule_dict = {}\n",
    "var_dict = {}\n",
    "\n",
    "# Simplify rule sets for this rf tree\n",
    "print_final_rule(simplify_logic(sympify(create_big_or_rule(t2_paths), evaluate=False)))"
   ]
  },
  {
   "cell_type": "code",
   "execution_count": 299,
   "metadata": {},
   "outputs": [
    {
     "ename": "SyntaxError",
     "evalue": "invalid syntax (<ipython-input-299-e325ba344f49>, line 1)",
     "output_type": "error",
     "traceback": [
      "\u001b[0;36m  File \u001b[0;32m\"<ipython-input-299-e325ba344f49>\"\u001b[0;36m, line \u001b[0;32m1\u001b[0m\n\u001b[0;31m    3) Draw descision boundaries.\u001b[0m\n\u001b[0m     ^\u001b[0m\n\u001b[0;31mSyntaxError\u001b[0m\u001b[0;31m:\u001b[0m invalid syntax\n"
     ]
    }
   ],
   "source": [
    "3) Draw descision boundaries.\n",
    "4) Moon dataset generator."
   ]
  },
  {
   "cell_type": "markdown",
   "metadata": {},
   "source": [
    "---\n",
    "## Subtree 3"
   ]
  },
  {
   "cell_type": "code",
   "execution_count": 300,
   "metadata": {
    "scrolled": false
   },
   "outputs": [
    {
     "data": {
      "image/svg+xml": [
       "<?xml version=\"1.0\" encoding=\"UTF-8\" standalone=\"no\"?>\n",
       "<!DOCTYPE svg PUBLIC \"-//W3C//DTD SVG 1.1//EN\"\n",
       " \"http://www.w3.org/Graphics/SVG/1.1/DTD/svg11.dtd\">\n",
       "<!-- Generated by graphviz version 2.40.1 (20161225.0304)\n",
       " -->\n",
       "<!-- Title: Tree Pages: 1 -->\n",
       "<svg width=\"393pt\" height=\"314pt\"\n",
       " viewBox=\"0.00 0.00 393.00 314.00\" xmlns=\"http://www.w3.org/2000/svg\" xmlns:xlink=\"http://www.w3.org/1999/xlink\">\n",
       "<g id=\"graph0\" class=\"graph\" transform=\"scale(1 1) rotate(0) translate(4 310)\">\n",
       "<title>Tree</title>\n",
       "<polygon fill=\"#ffffff\" stroke=\"transparent\" points=\"-4,4 -4,-310 389,-310 389,4 -4,4\"/>\n",
       "<!-- 0 -->\n",
       "<g id=\"node1\" class=\"node\">\n",
       "<title>0</title>\n",
       "<path fill=\"#8139e5\" fill-opacity=\"0.050980\" stroke=\"#000000\" d=\"M299,-306C299,-306 158,-306 158,-306 152,-306 146,-300 146,-294 146,-294 146,-235 146,-235 146,-229 152,-223 158,-223 158,-223 299,-223 299,-223 305,-223 311,-229 311,-235 311,-235 311,-294 311,-294 311,-300 305,-306 299,-306\"/>\n",
       "<text text-anchor=\"middle\" x=\"228.5\" y=\"-290.8\" font-family=\"Helvetica,sans-Serif\" font-size=\"14.00\" fill=\"#000000\">petal_width_cm &lt;= 1.65</text>\n",
       "<text text-anchor=\"middle\" x=\"228.5\" y=\"-275.8\" font-family=\"Helvetica,sans-Serif\" font-size=\"14.00\" fill=\"#000000\">gini = 0.664</text>\n",
       "<text text-anchor=\"middle\" x=\"228.5\" y=\"-260.8\" font-family=\"Helvetica,sans-Serif\" font-size=\"14.00\" fill=\"#000000\">samples = 75</text>\n",
       "<text text-anchor=\"middle\" x=\"228.5\" y=\"-245.8\" font-family=\"Helvetica,sans-Serif\" font-size=\"14.00\" fill=\"#000000\">value = [40, 36, 44]</text>\n",
       "<text text-anchor=\"middle\" x=\"228.5\" y=\"-230.8\" font-family=\"Helvetica,sans-Serif\" font-size=\"14.00\" fill=\"#000000\">class = Iris&#45;virginica</text>\n",
       "</g>\n",
       "<!-- 1 -->\n",
       "<g id=\"node2\" class=\"node\">\n",
       "<title>1</title>\n",
       "<path fill=\"#e58139\" fill-opacity=\"0.098039\" stroke=\"#000000\" d=\"M216,-187C216,-187 69,-187 69,-187 63,-187 57,-181 57,-175 57,-175 57,-116 57,-116 57,-110 63,-104 69,-104 69,-104 216,-104 216,-104 222,-104 228,-110 228,-116 228,-116 228,-175 228,-175 228,-181 222,-187 216,-187\"/>\n",
       "<text text-anchor=\"middle\" x=\"142.5\" y=\"-171.8\" font-family=\"Helvetica,sans-Serif\" font-size=\"14.00\" fill=\"#000000\">petal_length_cm &lt;= 2.45</text>\n",
       "<text text-anchor=\"middle\" x=\"142.5\" y=\"-156.8\" font-family=\"Helvetica,sans-Serif\" font-size=\"14.00\" fill=\"#000000\">gini = 0.499</text>\n",
       "<text text-anchor=\"middle\" x=\"142.5\" y=\"-141.8\" font-family=\"Helvetica,sans-Serif\" font-size=\"14.00\" fill=\"#000000\">samples = 48</text>\n",
       "<text text-anchor=\"middle\" x=\"142.5\" y=\"-126.8\" font-family=\"Helvetica,sans-Serif\" font-size=\"14.00\" fill=\"#000000\">value = [40, 36, 0]</text>\n",
       "<text text-anchor=\"middle\" x=\"142.5\" y=\"-111.8\" font-family=\"Helvetica,sans-Serif\" font-size=\"14.00\" fill=\"#000000\">class = Iris&#45;setosa</text>\n",
       "</g>\n",
       "<!-- 0&#45;&gt;1 -->\n",
       "<g id=\"edge1\" class=\"edge\">\n",
       "<title>0&#45;&gt;1</title>\n",
       "<path fill=\"none\" stroke=\"#000000\" d=\"M198.4214,-222.8796C192.0428,-214.0534 185.246,-204.6485 178.6681,-195.5466\"/>\n",
       "<polygon fill=\"#000000\" stroke=\"#000000\" points=\"181.4012,-193.353 172.707,-187.2981 175.7277,-197.4532 181.4012,-193.353\"/>\n",
       "<text text-anchor=\"middle\" x=\"168.7338\" y=\"-208.2803\" font-family=\"Helvetica,sans-Serif\" font-size=\"14.00\" fill=\"#000000\">True</text>\n",
       "</g>\n",
       "<!-- 4 -->\n",
       "<g id=\"node5\" class=\"node\">\n",
       "<title>4</title>\n",
       "<path fill=\"#8139e5\" stroke=\"#000000\" d=\"M373,-179.5C373,-179.5 258,-179.5 258,-179.5 252,-179.5 246,-173.5 246,-167.5 246,-167.5 246,-123.5 246,-123.5 246,-117.5 252,-111.5 258,-111.5 258,-111.5 373,-111.5 373,-111.5 379,-111.5 385,-117.5 385,-123.5 385,-123.5 385,-167.5 385,-167.5 385,-173.5 379,-179.5 373,-179.5\"/>\n",
       "<text text-anchor=\"middle\" x=\"315.5\" y=\"-164.3\" font-family=\"Helvetica,sans-Serif\" font-size=\"14.00\" fill=\"#000000\">gini = 0.0</text>\n",
       "<text text-anchor=\"middle\" x=\"315.5\" y=\"-149.3\" font-family=\"Helvetica,sans-Serif\" font-size=\"14.00\" fill=\"#000000\">samples = 27</text>\n",
       "<text text-anchor=\"middle\" x=\"315.5\" y=\"-134.3\" font-family=\"Helvetica,sans-Serif\" font-size=\"14.00\" fill=\"#000000\">value = [0, 0, 44]</text>\n",
       "<text text-anchor=\"middle\" x=\"315.5\" y=\"-119.3\" font-family=\"Helvetica,sans-Serif\" font-size=\"14.00\" fill=\"#000000\">class = Iris&#45;virginica</text>\n",
       "</g>\n",
       "<!-- 0&#45;&gt;4 -->\n",
       "<g id=\"edge4\" class=\"edge\">\n",
       "<title>0&#45;&gt;4</title>\n",
       "<path fill=\"none\" stroke=\"#000000\" d=\"M258.9284,-222.8796C267.2087,-211.5536 276.1857,-199.2748 284.4974,-187.9058\"/>\n",
       "<polygon fill=\"#000000\" stroke=\"#000000\" points=\"287.3361,-189.9533 290.4126,-179.8149 281.6853,-185.822 287.3361,-189.9533\"/>\n",
       "<text text-anchor=\"middle\" x=\"294.2501\" y=\"-200.8187\" font-family=\"Helvetica,sans-Serif\" font-size=\"14.00\" fill=\"#000000\">False</text>\n",
       "</g>\n",
       "<!-- 2 -->\n",
       "<g id=\"node3\" class=\"node\">\n",
       "<title>2</title>\n",
       "<path fill=\"#e58139\" stroke=\"#000000\" d=\"M117,-68C117,-68 12,-68 12,-68 6,-68 0,-62 0,-56 0,-56 0,-12 0,-12 0,-6 6,0 12,0 12,0 117,0 117,0 123,0 129,-6 129,-12 129,-12 129,-56 129,-56 129,-62 123,-68 117,-68\"/>\n",
       "<text text-anchor=\"middle\" x=\"64.5\" y=\"-52.8\" font-family=\"Helvetica,sans-Serif\" font-size=\"14.00\" fill=\"#000000\">gini = 0.0</text>\n",
       "<text text-anchor=\"middle\" x=\"64.5\" y=\"-37.8\" font-family=\"Helvetica,sans-Serif\" font-size=\"14.00\" fill=\"#000000\">samples = 25</text>\n",
       "<text text-anchor=\"middle\" x=\"64.5\" y=\"-22.8\" font-family=\"Helvetica,sans-Serif\" font-size=\"14.00\" fill=\"#000000\">value = [40, 0, 0]</text>\n",
       "<text text-anchor=\"middle\" x=\"64.5\" y=\"-7.8\" font-family=\"Helvetica,sans-Serif\" font-size=\"14.00\" fill=\"#000000\">class = Iris&#45;setosa</text>\n",
       "</g>\n",
       "<!-- 1&#45;&gt;2 -->\n",
       "<g id=\"edge2\" class=\"edge\">\n",
       "<title>1&#45;&gt;2</title>\n",
       "<path fill=\"none\" stroke=\"#000000\" d=\"M113.4557,-103.9815C107.2192,-95.0666 100.6187,-85.6313 94.3522,-76.6734\"/>\n",
       "<polygon fill=\"#000000\" stroke=\"#000000\" points=\"97.0693,-74.4515 88.4692,-68.2637 91.3335,-78.464 97.0693,-74.4515\"/>\n",
       "</g>\n",
       "<!-- 3 -->\n",
       "<g id=\"node4\" class=\"node\">\n",
       "<title>3</title>\n",
       "<path fill=\"#39e581\" stroke=\"#000000\" d=\"M283.5,-68C283.5,-68 159.5,-68 159.5,-68 153.5,-68 147.5,-62 147.5,-56 147.5,-56 147.5,-12 147.5,-12 147.5,-6 153.5,0 159.5,0 159.5,0 283.5,0 283.5,0 289.5,0 295.5,-6 295.5,-12 295.5,-12 295.5,-56 295.5,-56 295.5,-62 289.5,-68 283.5,-68\"/>\n",
       "<text text-anchor=\"middle\" x=\"221.5\" y=\"-52.8\" font-family=\"Helvetica,sans-Serif\" font-size=\"14.00\" fill=\"#000000\">gini = 0.0</text>\n",
       "<text text-anchor=\"middle\" x=\"221.5\" y=\"-37.8\" font-family=\"Helvetica,sans-Serif\" font-size=\"14.00\" fill=\"#000000\">samples = 23</text>\n",
       "<text text-anchor=\"middle\" x=\"221.5\" y=\"-22.8\" font-family=\"Helvetica,sans-Serif\" font-size=\"14.00\" fill=\"#000000\">value = [0, 36, 0]</text>\n",
       "<text text-anchor=\"middle\" x=\"221.5\" y=\"-7.8\" font-family=\"Helvetica,sans-Serif\" font-size=\"14.00\" fill=\"#000000\">class = Iris&#45;versicolor</text>\n",
       "</g>\n",
       "<!-- 1&#45;&gt;3 -->\n",
       "<g id=\"edge3\" class=\"edge\">\n",
       "<title>1&#45;&gt;3</title>\n",
       "<path fill=\"none\" stroke=\"#000000\" d=\"M171.9167,-103.9815C178.2331,-95.0666 184.9182,-85.6313 191.2651,-76.6734\"/>\n",
       "<polygon fill=\"#000000\" stroke=\"#000000\" points=\"194.2981,-78.4466 197.2235,-68.2637 188.5864,-74.3998 194.2981,-78.4466\"/>\n",
       "</g>\n",
       "</g>\n",
       "</svg>\n"
      ],
      "text/plain": [
       "<graphviz.files.Source at 0x1a1f88f0f0>"
      ]
     },
     "execution_count": 300,
     "metadata": {},
     "output_type": "execute_result"
    }
   ],
   "source": [
    "viz_tree(rfclf.estimators_[2], data['class'].unique(), feature_names_array)"
   ]
  },
  {
   "cell_type": "code",
   "execution_count": 301,
   "metadata": {},
   "outputs": [
    {
     "data": {
      "text/plain": [
       "\"(petal_length_cm, '>', 4.95) | (petal_width_cm, '>', 1.7)\""
      ]
     },
     "execution_count": 301,
     "metadata": {},
     "output_type": "execute_result"
    }
   ],
   "source": [
    "# Final combined rules generated by Random Forest and reduced\n",
    "\n",
    "\"(petal_length_cm, '>', 4.95) | (petal_width_cm, '>', 1.7)\""
   ]
  },
  {
   "cell_type": "code",
   "execution_count": 302,
   "metadata": {},
   "outputs": [
    {
     "data": {
      "text/plain": [
       "array([ 3,  2, -2, -2, -2])"
      ]
     },
     "execution_count": 302,
     "metadata": {},
     "output_type": "execute_result"
    }
   ],
   "source": [
    "rfclf.estimators_[2].tree_.feature"
   ]
  },
  {
   "cell_type": "code",
   "execution_count": 303,
   "metadata": {},
   "outputs": [
    {
     "data": {
      "text/plain": [
       "{((0, 3, '>', 1.65), (4, -2, '>', -2.0))}"
      ]
     },
     "execution_count": 303,
     "metadata": {},
     "output_type": "execute_result"
    }
   ],
   "source": [
    "lst = []\n",
    "t3_paths = set()\n",
    "\n",
    "get_paths_for(\"Iris-virginica\", rfclf.estimators_[2].tree_, 0, lst, t3_paths, '<=')\n",
    "t3_paths"
   ]
  },
  {
   "cell_type": "code",
   "execution_count": 304,
   "metadata": {},
   "outputs": [
    {
     "data": {
      "text/plain": [
       "\"(0, 3, '>', 1.65)\""
      ]
     },
     "execution_count": 304,
     "metadata": {},
     "output_type": "execute_result"
    }
   ],
   "source": [
    "rule_dict = {}\n",
    "var_dict = {}\n",
    "\n",
    "# Simplify rule sets for this rf tree\n",
    "print_final_rule(simplify_logic(sympify(create_big_or_rule(t3_paths), evaluate=False)))"
   ]
  },
  {
   "cell_type": "code",
   "execution_count": 305,
   "metadata": {},
   "outputs": [
    {
     "data": {
      "text/plain": [
       "{((0, 3, '>', 1.65), (4, -2, '>', -2.0))}"
      ]
     },
     "execution_count": 305,
     "metadata": {},
     "output_type": "execute_result"
    }
   ],
   "source": [
    "t3_paths = redundancy_condition_removal(t3_paths)\n",
    "t3_paths"
   ]
  },
  {
   "cell_type": "code",
   "execution_count": 306,
   "metadata": {},
   "outputs": [
    {
     "data": {
      "text/plain": [
       "\"(0, 3, '>', 1.65)\""
      ]
     },
     "execution_count": 306,
     "metadata": {},
     "output_type": "execute_result"
    }
   ],
   "source": [
    "rule_dict = {}\n",
    "var_dict = {}\n",
    "\n",
    "# Simplify rule sets for this rf tree\n",
    "print_final_rule(simplify_logic(sympify(create_big_or_rule(t3_paths), evaluate=False)))"
   ]
  },
  {
   "cell_type": "markdown",
   "metadata": {},
   "source": [
    "---\n",
    "## Subtree 4"
   ]
  },
  {
   "cell_type": "code",
   "execution_count": 307,
   "metadata": {
    "scrolled": false
   },
   "outputs": [
    {
     "data": {
      "image/svg+xml": [
       "<?xml version=\"1.0\" encoding=\"UTF-8\" standalone=\"no\"?>\n",
       "<!DOCTYPE svg PUBLIC \"-//W3C//DTD SVG 1.1//EN\"\n",
       " \"http://www.w3.org/Graphics/SVG/1.1/DTD/svg11.dtd\">\n",
       "<!-- Generated by graphviz version 2.40.1 (20161225.0304)\n",
       " -->\n",
       "<!-- Title: Tree Pages: 1 -->\n",
       "<svg width=\"646pt\" height=\"433pt\"\n",
       " viewBox=\"0.00 0.00 646.00 433.00\" xmlns=\"http://www.w3.org/2000/svg\" xmlns:xlink=\"http://www.w3.org/1999/xlink\">\n",
       "<g id=\"graph0\" class=\"graph\" transform=\"scale(1 1) rotate(0) translate(4 429)\">\n",
       "<title>Tree</title>\n",
       "<polygon fill=\"#ffffff\" stroke=\"transparent\" points=\"-4,4 -4,-429 642,-429 642,4 -4,4\"/>\n",
       "<!-- 0 -->\n",
       "<g id=\"node1\" class=\"node\">\n",
       "<title>0</title>\n",
       "<path fill=\"#8139e5\" fill-opacity=\"0.121569\" stroke=\"#000000\" d=\"M383,-425C383,-425 236,-425 236,-425 230,-425 224,-419 224,-413 224,-413 224,-354 224,-354 224,-348 230,-342 236,-342 236,-342 383,-342 383,-342 389,-342 395,-348 395,-354 395,-354 395,-413 395,-413 395,-419 389,-425 383,-425\"/>\n",
       "<text text-anchor=\"middle\" x=\"309.5\" y=\"-409.8\" font-family=\"Helvetica,sans-Serif\" font-size=\"14.00\" fill=\"#000000\">petal_length_cm &lt;= 4.85</text>\n",
       "<text text-anchor=\"middle\" x=\"309.5\" y=\"-394.8\" font-family=\"Helvetica,sans-Serif\" font-size=\"14.00\" fill=\"#000000\">gini = 0.659</text>\n",
       "<text text-anchor=\"middle\" x=\"309.5\" y=\"-379.8\" font-family=\"Helvetica,sans-Serif\" font-size=\"14.00\" fill=\"#000000\">samples = 74</text>\n",
       "<text text-anchor=\"middle\" x=\"309.5\" y=\"-364.8\" font-family=\"Helvetica,sans-Serif\" font-size=\"14.00\" fill=\"#000000\">value = [38, 34, 48]</text>\n",
       "<text text-anchor=\"middle\" x=\"309.5\" y=\"-349.8\" font-family=\"Helvetica,sans-Serif\" font-size=\"14.00\" fill=\"#000000\">class = Iris&#45;virginica</text>\n",
       "</g>\n",
       "<!-- 1 -->\n",
       "<g id=\"node2\" class=\"node\">\n",
       "<title>1</title>\n",
       "<path fill=\"#e58139\" fill-opacity=\"0.133333\" stroke=\"#000000\" d=\"M291,-306C291,-306 150,-306 150,-306 144,-306 138,-300 138,-294 138,-294 138,-235 138,-235 138,-229 144,-223 150,-223 150,-223 291,-223 291,-223 297,-223 303,-229 303,-235 303,-235 303,-294 303,-294 303,-300 297,-306 291,-306\"/>\n",
       "<text text-anchor=\"middle\" x=\"220.5\" y=\"-290.8\" font-family=\"Helvetica,sans-Serif\" font-size=\"14.00\" fill=\"#000000\">petal_width_cm &lt;= 0.75</text>\n",
       "<text text-anchor=\"middle\" x=\"220.5\" y=\"-275.8\" font-family=\"Helvetica,sans-Serif\" font-size=\"14.00\" fill=\"#000000\">gini = 0.498</text>\n",
       "<text text-anchor=\"middle\" x=\"220.5\" y=\"-260.8\" font-family=\"Helvetica,sans-Serif\" font-size=\"14.00\" fill=\"#000000\">samples = 46</text>\n",
       "<text text-anchor=\"middle\" x=\"220.5\" y=\"-245.8\" font-family=\"Helvetica,sans-Serif\" font-size=\"14.00\" fill=\"#000000\">value = [38, 33, 0]</text>\n",
       "<text text-anchor=\"middle\" x=\"220.5\" y=\"-230.8\" font-family=\"Helvetica,sans-Serif\" font-size=\"14.00\" fill=\"#000000\">class = Iris&#45;setosa</text>\n",
       "</g>\n",
       "<!-- 0&#45;&gt;1 -->\n",
       "<g id=\"edge1\" class=\"edge\">\n",
       "<title>0&#45;&gt;1</title>\n",
       "<path fill=\"none\" stroke=\"#000000\" d=\"M278.3721,-341.8796C271.771,-333.0534 264.7371,-323.6485 257.9298,-314.5466\"/>\n",
       "<polygon fill=\"#000000\" stroke=\"#000000\" points=\"260.5528,-312.2099 251.7607,-306.2981 254.9472,-316.4024 260.5528,-312.2099\"/>\n",
       "<text text-anchor=\"middle\" x=\"248.1919\" y=\"-327.342\" font-family=\"Helvetica,sans-Serif\" font-size=\"14.00\" fill=\"#000000\">True</text>\n",
       "</g>\n",
       "<!-- 4 -->\n",
       "<g id=\"node5\" class=\"node\">\n",
       "<title>4</title>\n",
       "<path fill=\"#8139e5\" fill-opacity=\"0.980392\" stroke=\"#000000\" d=\"M466,-306C466,-306 333,-306 333,-306 327,-306 321,-300 321,-294 321,-294 321,-235 321,-235 321,-229 327,-223 333,-223 333,-223 466,-223 466,-223 472,-223 478,-229 478,-235 478,-235 478,-294 478,-294 478,-300 472,-306 466,-306\"/>\n",
       "<text text-anchor=\"middle\" x=\"399.5\" y=\"-290.8\" font-family=\"Helvetica,sans-Serif\" font-size=\"14.00\" fill=\"#000000\">petal_width_cm &lt;= 1.7</text>\n",
       "<text text-anchor=\"middle\" x=\"399.5\" y=\"-275.8\" font-family=\"Helvetica,sans-Serif\" font-size=\"14.00\" fill=\"#000000\">gini = 0.04</text>\n",
       "<text text-anchor=\"middle\" x=\"399.5\" y=\"-260.8\" font-family=\"Helvetica,sans-Serif\" font-size=\"14.00\" fill=\"#000000\">samples = 28</text>\n",
       "<text text-anchor=\"middle\" x=\"399.5\" y=\"-245.8\" font-family=\"Helvetica,sans-Serif\" font-size=\"14.00\" fill=\"#000000\">value = [0, 1, 48]</text>\n",
       "<text text-anchor=\"middle\" x=\"399.5\" y=\"-230.8\" font-family=\"Helvetica,sans-Serif\" font-size=\"14.00\" fill=\"#000000\">class = Iris&#45;virginica</text>\n",
       "</g>\n",
       "<!-- 0&#45;&gt;4 -->\n",
       "<g id=\"edge4\" class=\"edge\">\n",
       "<title>0&#45;&gt;4</title>\n",
       "<path fill=\"none\" stroke=\"#000000\" d=\"M340.9776,-341.8796C347.6529,-333.0534 354.7658,-323.6485 361.6496,-314.5466\"/>\n",
       "<polygon fill=\"#000000\" stroke=\"#000000\" points=\"364.6474,-316.3852 367.888,-306.2981 359.0643,-312.1626 364.6474,-316.3852\"/>\n",
       "<text text-anchor=\"middle\" x=\"371.324\" y=\"-327.3608\" font-family=\"Helvetica,sans-Serif\" font-size=\"14.00\" fill=\"#000000\">False</text>\n",
       "</g>\n",
       "<!-- 2 -->\n",
       "<g id=\"node3\" class=\"node\">\n",
       "<title>2</title>\n",
       "<path fill=\"#e58139\" stroke=\"#000000\" d=\"M117,-179.5C117,-179.5 12,-179.5 12,-179.5 6,-179.5 0,-173.5 0,-167.5 0,-167.5 0,-123.5 0,-123.5 0,-117.5 6,-111.5 12,-111.5 12,-111.5 117,-111.5 117,-111.5 123,-111.5 129,-117.5 129,-123.5 129,-123.5 129,-167.5 129,-167.5 129,-173.5 123,-179.5 117,-179.5\"/>\n",
       "<text text-anchor=\"middle\" x=\"64.5\" y=\"-164.3\" font-family=\"Helvetica,sans-Serif\" font-size=\"14.00\" fill=\"#000000\">gini = 0.0</text>\n",
       "<text text-anchor=\"middle\" x=\"64.5\" y=\"-149.3\" font-family=\"Helvetica,sans-Serif\" font-size=\"14.00\" fill=\"#000000\">samples = 23</text>\n",
       "<text text-anchor=\"middle\" x=\"64.5\" y=\"-134.3\" font-family=\"Helvetica,sans-Serif\" font-size=\"14.00\" fill=\"#000000\">value = [38, 0, 0]</text>\n",
       "<text text-anchor=\"middle\" x=\"64.5\" y=\"-119.3\" font-family=\"Helvetica,sans-Serif\" font-size=\"14.00\" fill=\"#000000\">class = Iris&#45;setosa</text>\n",
       "</g>\n",
       "<!-- 1&#45;&gt;2 -->\n",
       "<g id=\"edge2\" class=\"edge\">\n",
       "<title>1&#45;&gt;2</title>\n",
       "<path fill=\"none\" stroke=\"#000000\" d=\"M165.9388,-222.8796C150.1516,-210.8368 132.9521,-197.7167 117.2759,-185.7586\"/>\n",
       "<polygon fill=\"#000000\" stroke=\"#000000\" points=\"119.3063,-182.9053 109.2327,-179.623 115.0608,-188.4709 119.3063,-182.9053\"/>\n",
       "</g>\n",
       "<!-- 3 -->\n",
       "<g id=\"node4\" class=\"node\">\n",
       "<title>3</title>\n",
       "<path fill=\"#39e581\" stroke=\"#000000\" d=\"M283.5,-179.5C283.5,-179.5 159.5,-179.5 159.5,-179.5 153.5,-179.5 147.5,-173.5 147.5,-167.5 147.5,-167.5 147.5,-123.5 147.5,-123.5 147.5,-117.5 153.5,-111.5 159.5,-111.5 159.5,-111.5 283.5,-111.5 283.5,-111.5 289.5,-111.5 295.5,-117.5 295.5,-123.5 295.5,-123.5 295.5,-167.5 295.5,-167.5 295.5,-173.5 289.5,-179.5 283.5,-179.5\"/>\n",
       "<text text-anchor=\"middle\" x=\"221.5\" y=\"-164.3\" font-family=\"Helvetica,sans-Serif\" font-size=\"14.00\" fill=\"#000000\">gini = 0.0</text>\n",
       "<text text-anchor=\"middle\" x=\"221.5\" y=\"-149.3\" font-family=\"Helvetica,sans-Serif\" font-size=\"14.00\" fill=\"#000000\">samples = 23</text>\n",
       "<text text-anchor=\"middle\" x=\"221.5\" y=\"-134.3\" font-family=\"Helvetica,sans-Serif\" font-size=\"14.00\" fill=\"#000000\">value = [0, 33, 0]</text>\n",
       "<text text-anchor=\"middle\" x=\"221.5\" y=\"-119.3\" font-family=\"Helvetica,sans-Serif\" font-size=\"14.00\" fill=\"#000000\">class = Iris&#45;versicolor</text>\n",
       "</g>\n",
       "<!-- 1&#45;&gt;3 -->\n",
       "<g id=\"edge3\" class=\"edge\">\n",
       "<title>1&#45;&gt;3</title>\n",
       "<path fill=\"none\" stroke=\"#000000\" d=\"M220.8498,-222.8796C220.9394,-212.2134 221.0361,-200.7021 221.1269,-189.9015\"/>\n",
       "<polygon fill=\"#000000\" stroke=\"#000000\" points=\"224.6274,-189.844 221.2116,-179.8149 217.6276,-189.7851 224.6274,-189.844\"/>\n",
       "</g>\n",
       "<!-- 5 -->\n",
       "<g id=\"node6\" class=\"node\">\n",
       "<title>5</title>\n",
       "<path fill=\"#8139e5\" fill-opacity=\"0.800000\" stroke=\"#000000\" d=\"M469,-187C469,-187 328,-187 328,-187 322,-187 316,-181 316,-175 316,-175 316,-116 316,-116 316,-110 322,-104 328,-104 328,-104 469,-104 469,-104 475,-104 481,-110 481,-116 481,-116 481,-175 481,-175 481,-181 475,-187 469,-187\"/>\n",
       "<text text-anchor=\"middle\" x=\"398.5\" y=\"-171.8\" font-family=\"Helvetica,sans-Serif\" font-size=\"14.00\" fill=\"#000000\">petal_width_cm &lt;= 1.55</text>\n",
       "<text text-anchor=\"middle\" x=\"398.5\" y=\"-156.8\" font-family=\"Helvetica,sans-Serif\" font-size=\"14.00\" fill=\"#000000\">gini = 0.278</text>\n",
       "<text text-anchor=\"middle\" x=\"398.5\" y=\"-141.8\" font-family=\"Helvetica,sans-Serif\" font-size=\"14.00\" fill=\"#000000\">samples = 3</text>\n",
       "<text text-anchor=\"middle\" x=\"398.5\" y=\"-126.8\" font-family=\"Helvetica,sans-Serif\" font-size=\"14.00\" fill=\"#000000\">value = [0, 1, 5]</text>\n",
       "<text text-anchor=\"middle\" x=\"398.5\" y=\"-111.8\" font-family=\"Helvetica,sans-Serif\" font-size=\"14.00\" fill=\"#000000\">class = Iris&#45;virginica</text>\n",
       "</g>\n",
       "<!-- 4&#45;&gt;5 -->\n",
       "<g id=\"edge5\" class=\"edge\">\n",
       "<title>4&#45;&gt;5</title>\n",
       "<path fill=\"none\" stroke=\"#000000\" d=\"M399.1502,-222.8796C399.0814,-214.6838 399.0083,-205.9891 398.937,-197.5013\"/>\n",
       "<polygon fill=\"#000000\" stroke=\"#000000\" points=\"402.4352,-197.2683 398.8512,-187.2981 395.4355,-197.3272 402.4352,-197.2683\"/>\n",
       "</g>\n",
       "<!-- 8 -->\n",
       "<g id=\"node9\" class=\"node\">\n",
       "<title>8</title>\n",
       "<path fill=\"#8139e5\" stroke=\"#000000\" d=\"M626,-179.5C626,-179.5 511,-179.5 511,-179.5 505,-179.5 499,-173.5 499,-167.5 499,-167.5 499,-123.5 499,-123.5 499,-117.5 505,-111.5 511,-111.5 511,-111.5 626,-111.5 626,-111.5 632,-111.5 638,-117.5 638,-123.5 638,-123.5 638,-167.5 638,-167.5 638,-173.5 632,-179.5 626,-179.5\"/>\n",
       "<text text-anchor=\"middle\" x=\"568.5\" y=\"-164.3\" font-family=\"Helvetica,sans-Serif\" font-size=\"14.00\" fill=\"#000000\">gini = 0.0</text>\n",
       "<text text-anchor=\"middle\" x=\"568.5\" y=\"-149.3\" font-family=\"Helvetica,sans-Serif\" font-size=\"14.00\" fill=\"#000000\">samples = 25</text>\n",
       "<text text-anchor=\"middle\" x=\"568.5\" y=\"-134.3\" font-family=\"Helvetica,sans-Serif\" font-size=\"14.00\" fill=\"#000000\">value = [0, 0, 43]</text>\n",
       "<text text-anchor=\"middle\" x=\"568.5\" y=\"-119.3\" font-family=\"Helvetica,sans-Serif\" font-size=\"14.00\" fill=\"#000000\">class = Iris&#45;virginica</text>\n",
       "</g>\n",
       "<!-- 4&#45;&gt;8 -->\n",
       "<g id=\"edge8\" class=\"edge\">\n",
       "<title>4&#45;&gt;8</title>\n",
       "<path fill=\"none\" stroke=\"#000000\" d=\"M458.608,-222.8796C475.8677,-210.7263 494.6856,-197.4759 511.793,-185.4297\"/>\n",
       "<polygon fill=\"#000000\" stroke=\"#000000\" points=\"513.8782,-188.2421 520.0396,-179.623 509.8481,-182.5187 513.8782,-188.2421\"/>\n",
       "</g>\n",
       "<!-- 6 -->\n",
       "<g id=\"node7\" class=\"node\">\n",
       "<title>6</title>\n",
       "<path fill=\"#8139e5\" stroke=\"#000000\" d=\"M375,-68C375,-68 260,-68 260,-68 254,-68 248,-62 248,-56 248,-56 248,-12 248,-12 248,-6 254,0 260,0 260,0 375,0 375,0 381,0 387,-6 387,-12 387,-12 387,-56 387,-56 387,-62 381,-68 375,-68\"/>\n",
       "<text text-anchor=\"middle\" x=\"317.5\" y=\"-52.8\" font-family=\"Helvetica,sans-Serif\" font-size=\"14.00\" fill=\"#000000\">gini = 0.0</text>\n",
       "<text text-anchor=\"middle\" x=\"317.5\" y=\"-37.8\" font-family=\"Helvetica,sans-Serif\" font-size=\"14.00\" fill=\"#000000\">samples = 2</text>\n",
       "<text text-anchor=\"middle\" x=\"317.5\" y=\"-22.8\" font-family=\"Helvetica,sans-Serif\" font-size=\"14.00\" fill=\"#000000\">value = [0, 0, 5]</text>\n",
       "<text text-anchor=\"middle\" x=\"317.5\" y=\"-7.8\" font-family=\"Helvetica,sans-Serif\" font-size=\"14.00\" fill=\"#000000\">class = Iris&#45;virginica</text>\n",
       "</g>\n",
       "<!-- 5&#45;&gt;6 -->\n",
       "<g id=\"edge6\" class=\"edge\">\n",
       "<title>5&#45;&gt;6</title>\n",
       "<path fill=\"none\" stroke=\"#000000\" d=\"M368.3386,-103.9815C361.7955,-94.9747 354.8666,-85.4367 348.2992,-76.3965\"/>\n",
       "<polygon fill=\"#000000\" stroke=\"#000000\" points=\"351.1002,-74.2971 342.3911,-68.2637 345.4369,-78.4113 351.1002,-74.2971\"/>\n",
       "</g>\n",
       "<!-- 7 -->\n",
       "<g id=\"node8\" class=\"node\">\n",
       "<title>7</title>\n",
       "<path fill=\"#39e581\" stroke=\"#000000\" d=\"M541.5,-68C541.5,-68 417.5,-68 417.5,-68 411.5,-68 405.5,-62 405.5,-56 405.5,-56 405.5,-12 405.5,-12 405.5,-6 411.5,0 417.5,0 417.5,0 541.5,0 541.5,0 547.5,0 553.5,-6 553.5,-12 553.5,-12 553.5,-56 553.5,-56 553.5,-62 547.5,-68 541.5,-68\"/>\n",
       "<text text-anchor=\"middle\" x=\"479.5\" y=\"-52.8\" font-family=\"Helvetica,sans-Serif\" font-size=\"14.00\" fill=\"#000000\">gini = 0.0</text>\n",
       "<text text-anchor=\"middle\" x=\"479.5\" y=\"-37.8\" font-family=\"Helvetica,sans-Serif\" font-size=\"14.00\" fill=\"#000000\">samples = 1</text>\n",
       "<text text-anchor=\"middle\" x=\"479.5\" y=\"-22.8\" font-family=\"Helvetica,sans-Serif\" font-size=\"14.00\" fill=\"#000000\">value = [0, 1, 0]</text>\n",
       "<text text-anchor=\"middle\" x=\"479.5\" y=\"-7.8\" font-family=\"Helvetica,sans-Serif\" font-size=\"14.00\" fill=\"#000000\">class = Iris&#45;versicolor</text>\n",
       "</g>\n",
       "<!-- 5&#45;&gt;7 -->\n",
       "<g id=\"edge7\" class=\"edge\">\n",
       "<title>5&#45;&gt;7</title>\n",
       "<path fill=\"none\" stroke=\"#000000\" d=\"M428.6614,-103.9815C435.2045,-94.9747 442.1334,-85.4367 448.7008,-76.3965\"/>\n",
       "<polygon fill=\"#000000\" stroke=\"#000000\" points=\"451.5631,-78.4113 454.6089,-68.2637 445.8998,-74.2971 451.5631,-78.4113\"/>\n",
       "</g>\n",
       "</g>\n",
       "</svg>\n"
      ],
      "text/plain": [
       "<graphviz.files.Source at 0x1a20251e48>"
      ]
     },
     "execution_count": 307,
     "metadata": {},
     "output_type": "execute_result"
    }
   ],
   "source": [
    "viz_tree(rfclf.estimators_[3], data['class'].unique(), feature_names_array)"
   ]
  },
  {
   "cell_type": "code",
   "execution_count": 308,
   "metadata": {},
   "outputs": [
    {
     "data": {
      "text/plain": [
       "\"(petal_length_cm, '>', 4.95) | (petal_width_cm, '>', 1.7)\""
      ]
     },
     "execution_count": 308,
     "metadata": {},
     "output_type": "execute_result"
    }
   ],
   "source": [
    "# Final combined rules generated by Random Forest and reduced\n",
    "\n",
    "\"(petal_length_cm, '>', 4.95) | (petal_width_cm, '>', 1.7)\""
   ]
  },
  {
   "cell_type": "code",
   "execution_count": 309,
   "metadata": {},
   "outputs": [
    {
     "data": {
      "text/plain": [
       "array([ 2,  3, -2, -2,  3,  3, -2, -2, -2])"
      ]
     },
     "execution_count": 309,
     "metadata": {},
     "output_type": "execute_result"
    }
   ],
   "source": [
    "rfclf.estimators_[3].tree_.feature"
   ]
  },
  {
   "cell_type": "code",
   "execution_count": 310,
   "metadata": {},
   "outputs": [
    {
     "data": {
      "text/plain": [
       "{((0, 2, '>', 4.85),\n",
       "  (4, 3, '<=', 1.7),\n",
       "  (5, 3, '<=', 1.55),\n",
       "  (6, -2, '<=', -2.0)),\n",
       " ((0, 2, '>', 4.85), (4, 3, '>', 1.7), (8, -2, '>', -2.0))}"
      ]
     },
     "execution_count": 310,
     "metadata": {},
     "output_type": "execute_result"
    }
   ],
   "source": [
    "lst = []\n",
    "t4_paths = set()\n",
    "\n",
    "get_paths_for(\"Iris-virginica\", rfclf.estimators_[3].tree_, 0, lst, t4_paths, '<=')\n",
    "t4_paths"
   ]
  },
  {
   "cell_type": "code",
   "execution_count": 311,
   "metadata": {},
   "outputs": [
    {
     "data": {
      "text/plain": [
       "\"(0, 2, '>', 4.85) & ((5, 3, '<=', 1.55) | (4, 3, '>', 1.7))\""
      ]
     },
     "execution_count": 311,
     "metadata": {},
     "output_type": "execute_result"
    }
   ],
   "source": [
    "rule_dict = {}\n",
    "var_dict = {}\n",
    "\n",
    "# Simplify rule sets for this rf tree\n",
    "print_final_rule(simplify_logic(sympify(create_big_or_rule(t4_paths), evaluate=False)))"
   ]
  },
  {
   "cell_type": "markdown",
   "metadata": {},
   "source": [
    "---\n",
    "## Subtree 5"
   ]
  },
  {
   "cell_type": "code",
   "execution_count": 312,
   "metadata": {
    "scrolled": false
   },
   "outputs": [
    {
     "data": {
      "image/svg+xml": [
       "<?xml version=\"1.0\" encoding=\"UTF-8\" standalone=\"no\"?>\n",
       "<!DOCTYPE svg PUBLIC \"-//W3C//DTD SVG 1.1//EN\"\n",
       " \"http://www.w3.org/Graphics/SVG/1.1/DTD/svg11.dtd\">\n",
       "<!-- Generated by graphviz version 2.40.1 (20161225.0304)\n",
       " -->\n",
       "<!-- Title: Tree Pages: 1 -->\n",
       "<svg width=\"406pt\" height=\"433pt\"\n",
       " viewBox=\"0.00 0.00 405.50 433.00\" xmlns=\"http://www.w3.org/2000/svg\" xmlns:xlink=\"http://www.w3.org/1999/xlink\">\n",
       "<g id=\"graph0\" class=\"graph\" transform=\"scale(1 1) rotate(0) translate(4 429)\">\n",
       "<title>Tree</title>\n",
       "<polygon fill=\"#ffffff\" stroke=\"transparent\" points=\"-4,4 -4,-429 401.5,-429 401.5,4 -4,4\"/>\n",
       "<!-- 0 -->\n",
       "<g id=\"node1\" class=\"node\">\n",
       "<title>0</title>\n",
       "<path fill=\"#e58139\" fill-opacity=\"0.090196\" stroke=\"#000000\" d=\"M229.5,-425C229.5,-425 90.5,-425 90.5,-425 84.5,-425 78.5,-419 78.5,-413 78.5,-413 78.5,-354 78.5,-354 78.5,-348 84.5,-342 90.5,-342 90.5,-342 229.5,-342 229.5,-342 235.5,-342 241.5,-348 241.5,-354 241.5,-354 241.5,-413 241.5,-413 241.5,-419 235.5,-425 229.5,-425\"/>\n",
       "<text text-anchor=\"middle\" x=\"160\" y=\"-409.8\" font-family=\"Helvetica,sans-Serif\" font-size=\"14.00\" fill=\"#000000\">petal_length_cm &lt;= 2.6</text>\n",
       "<text text-anchor=\"middle\" x=\"160\" y=\"-394.8\" font-family=\"Helvetica,sans-Serif\" font-size=\"14.00\" fill=\"#000000\">gini = 0.652</text>\n",
       "<text text-anchor=\"middle\" x=\"160\" y=\"-379.8\" font-family=\"Helvetica,sans-Serif\" font-size=\"14.00\" fill=\"#000000\">samples = 72</text>\n",
       "<text text-anchor=\"middle\" x=\"160\" y=\"-364.8\" font-family=\"Helvetica,sans-Serif\" font-size=\"14.00\" fill=\"#000000\">value = [49, 29, 42]</text>\n",
       "<text text-anchor=\"middle\" x=\"160\" y=\"-349.8\" font-family=\"Helvetica,sans-Serif\" font-size=\"14.00\" fill=\"#000000\">class = Iris&#45;setosa</text>\n",
       "</g>\n",
       "<!-- 1 -->\n",
       "<g id=\"node2\" class=\"node\">\n",
       "<title>1</title>\n",
       "<path fill=\"#e58139\" stroke=\"#000000\" d=\"M132.5,-298.5C132.5,-298.5 27.5,-298.5 27.5,-298.5 21.5,-298.5 15.5,-292.5 15.5,-286.5 15.5,-286.5 15.5,-242.5 15.5,-242.5 15.5,-236.5 21.5,-230.5 27.5,-230.5 27.5,-230.5 132.5,-230.5 132.5,-230.5 138.5,-230.5 144.5,-236.5 144.5,-242.5 144.5,-242.5 144.5,-286.5 144.5,-286.5 144.5,-292.5 138.5,-298.5 132.5,-298.5\"/>\n",
       "<text text-anchor=\"middle\" x=\"80\" y=\"-283.3\" font-family=\"Helvetica,sans-Serif\" font-size=\"14.00\" fill=\"#000000\">gini = 0.0</text>\n",
       "<text text-anchor=\"middle\" x=\"80\" y=\"-268.3\" font-family=\"Helvetica,sans-Serif\" font-size=\"14.00\" fill=\"#000000\">samples = 29</text>\n",
       "<text text-anchor=\"middle\" x=\"80\" y=\"-253.3\" font-family=\"Helvetica,sans-Serif\" font-size=\"14.00\" fill=\"#000000\">value = [49, 0, 0]</text>\n",
       "<text text-anchor=\"middle\" x=\"80\" y=\"-238.3\" font-family=\"Helvetica,sans-Serif\" font-size=\"14.00\" fill=\"#000000\">class = Iris&#45;setosa</text>\n",
       "</g>\n",
       "<!-- 0&#45;&gt;1 -->\n",
       "<g id=\"edge1\" class=\"edge\">\n",
       "<title>0&#45;&gt;1</title>\n",
       "<path fill=\"none\" stroke=\"#000000\" d=\"M132.0199,-341.8796C124.4797,-330.6636 116.3113,-318.5131 108.7309,-307.2372\"/>\n",
       "<polygon fill=\"#000000\" stroke=\"#000000\" points=\"111.5527,-305.1612 103.0689,-298.8149 105.7434,-309.0667 111.5527,-305.1612\"/>\n",
       "<text text-anchor=\"middle\" x=\"98.2608\" y=\"-319.6482\" font-family=\"Helvetica,sans-Serif\" font-size=\"14.00\" fill=\"#000000\">True</text>\n",
       "</g>\n",
       "<!-- 2 -->\n",
       "<g id=\"node3\" class=\"node\">\n",
       "<title>2</title>\n",
       "<path fill=\"#8139e5\" fill-opacity=\"0.309804\" stroke=\"#000000\" d=\"M307.5,-306C307.5,-306 174.5,-306 174.5,-306 168.5,-306 162.5,-300 162.5,-294 162.5,-294 162.5,-235 162.5,-235 162.5,-229 168.5,-223 174.5,-223 174.5,-223 307.5,-223 307.5,-223 313.5,-223 319.5,-229 319.5,-235 319.5,-235 319.5,-294 319.5,-294 319.5,-300 313.5,-306 307.5,-306\"/>\n",
       "<text text-anchor=\"middle\" x=\"241\" y=\"-290.8\" font-family=\"Helvetica,sans-Serif\" font-size=\"14.00\" fill=\"#000000\">petal_width_cm &lt;= 1.7</text>\n",
       "<text text-anchor=\"middle\" x=\"241\" y=\"-275.8\" font-family=\"Helvetica,sans-Serif\" font-size=\"14.00\" fill=\"#000000\">gini = 0.483</text>\n",
       "<text text-anchor=\"middle\" x=\"241\" y=\"-260.8\" font-family=\"Helvetica,sans-Serif\" font-size=\"14.00\" fill=\"#000000\">samples = 43</text>\n",
       "<text text-anchor=\"middle\" x=\"241\" y=\"-245.8\" font-family=\"Helvetica,sans-Serif\" font-size=\"14.00\" fill=\"#000000\">value = [0, 29, 42]</text>\n",
       "<text text-anchor=\"middle\" x=\"241\" y=\"-230.8\" font-family=\"Helvetica,sans-Serif\" font-size=\"14.00\" fill=\"#000000\">class = Iris&#45;virginica</text>\n",
       "</g>\n",
       "<!-- 0&#45;&gt;2 -->\n",
       "<g id=\"edge2\" class=\"edge\">\n",
       "<title>0&#45;&gt;2</title>\n",
       "<path fill=\"none\" stroke=\"#000000\" d=\"M188.3299,-341.8796C194.2763,-333.1434 200.6086,-323.8404 206.745,-314.8253\"/>\n",
       "<polygon fill=\"#000000\" stroke=\"#000000\" points=\"209.8156,-316.5342 212.5492,-306.2981 204.0289,-312.5953 209.8156,-316.5342\"/>\n",
       "<text text-anchor=\"middle\" x=\"217.2157\" y=\"-327.1587\" font-family=\"Helvetica,sans-Serif\" font-size=\"14.00\" fill=\"#000000\">False</text>\n",
       "</g>\n",
       "<!-- 3 -->\n",
       "<g id=\"node4\" class=\"node\">\n",
       "<title>3</title>\n",
       "<path fill=\"#39e581\" fill-opacity=\"0.898039\" stroke=\"#000000\" d=\"M228.5,-187C228.5,-187 81.5,-187 81.5,-187 75.5,-187 69.5,-181 69.5,-175 69.5,-175 69.5,-116 69.5,-116 69.5,-110 75.5,-104 81.5,-104 81.5,-104 228.5,-104 228.5,-104 234.5,-104 240.5,-110 240.5,-116 240.5,-116 240.5,-175 240.5,-175 240.5,-181 234.5,-187 228.5,-187\"/>\n",
       "<text text-anchor=\"middle\" x=\"155\" y=\"-171.8\" font-family=\"Helvetica,sans-Serif\" font-size=\"14.00\" fill=\"#000000\">petal_length_cm &lt;= 5.35</text>\n",
       "<text text-anchor=\"middle\" x=\"155\" y=\"-156.8\" font-family=\"Helvetica,sans-Serif\" font-size=\"14.00\" fill=\"#000000\">gini = 0.17</text>\n",
       "<text text-anchor=\"middle\" x=\"155\" y=\"-141.8\" font-family=\"Helvetica,sans-Serif\" font-size=\"14.00\" fill=\"#000000\">samples = 19</text>\n",
       "<text text-anchor=\"middle\" x=\"155\" y=\"-126.8\" font-family=\"Helvetica,sans-Serif\" font-size=\"14.00\" fill=\"#000000\">value = [0, 29, 3]</text>\n",
       "<text text-anchor=\"middle\" x=\"155\" y=\"-111.8\" font-family=\"Helvetica,sans-Serif\" font-size=\"14.00\" fill=\"#000000\">class = Iris&#45;versicolor</text>\n",
       "</g>\n",
       "<!-- 2&#45;&gt;3 -->\n",
       "<g id=\"edge3\" class=\"edge\">\n",
       "<title>2&#45;&gt;3</title>\n",
       "<path fill=\"none\" stroke=\"#000000\" d=\"M210.9214,-222.8796C204.5428,-214.0534 197.746,-204.6485 191.1681,-195.5466\"/>\n",
       "<polygon fill=\"#000000\" stroke=\"#000000\" points=\"193.9012,-193.353 185.207,-187.2981 188.2277,-197.4532 193.9012,-193.353\"/>\n",
       "</g>\n",
       "<!-- 6 -->\n",
       "<g id=\"node7\" class=\"node\">\n",
       "<title>6</title>\n",
       "<path fill=\"#8139e5\" stroke=\"#000000\" d=\"M385.5,-179.5C385.5,-179.5 270.5,-179.5 270.5,-179.5 264.5,-179.5 258.5,-173.5 258.5,-167.5 258.5,-167.5 258.5,-123.5 258.5,-123.5 258.5,-117.5 264.5,-111.5 270.5,-111.5 270.5,-111.5 385.5,-111.5 385.5,-111.5 391.5,-111.5 397.5,-117.5 397.5,-123.5 397.5,-123.5 397.5,-167.5 397.5,-167.5 397.5,-173.5 391.5,-179.5 385.5,-179.5\"/>\n",
       "<text text-anchor=\"middle\" x=\"328\" y=\"-164.3\" font-family=\"Helvetica,sans-Serif\" font-size=\"14.00\" fill=\"#000000\">gini = 0.0</text>\n",
       "<text text-anchor=\"middle\" x=\"328\" y=\"-149.3\" font-family=\"Helvetica,sans-Serif\" font-size=\"14.00\" fill=\"#000000\">samples = 24</text>\n",
       "<text text-anchor=\"middle\" x=\"328\" y=\"-134.3\" font-family=\"Helvetica,sans-Serif\" font-size=\"14.00\" fill=\"#000000\">value = [0, 0, 39]</text>\n",
       "<text text-anchor=\"middle\" x=\"328\" y=\"-119.3\" font-family=\"Helvetica,sans-Serif\" font-size=\"14.00\" fill=\"#000000\">class = Iris&#45;virginica</text>\n",
       "</g>\n",
       "<!-- 2&#45;&gt;6 -->\n",
       "<g id=\"edge6\" class=\"edge\">\n",
       "<title>2&#45;&gt;6</title>\n",
       "<path fill=\"none\" stroke=\"#000000\" d=\"M271.4284,-222.8796C279.7087,-211.5536 288.6857,-199.2748 296.9974,-187.9058\"/>\n",
       "<polygon fill=\"#000000\" stroke=\"#000000\" points=\"299.8361,-189.9533 302.9126,-179.8149 294.1853,-185.822 299.8361,-189.9533\"/>\n",
       "</g>\n",
       "<!-- 4 -->\n",
       "<g id=\"node5\" class=\"node\">\n",
       "<title>4</title>\n",
       "<path fill=\"#39e581\" stroke=\"#000000\" d=\"M136,-68C136,-68 12,-68 12,-68 6,-68 0,-62 0,-56 0,-56 0,-12 0,-12 0,-6 6,0 12,0 12,0 136,0 136,0 142,0 148,-6 148,-12 148,-12 148,-56 148,-56 148,-62 142,-68 136,-68\"/>\n",
       "<text text-anchor=\"middle\" x=\"74\" y=\"-52.8\" font-family=\"Helvetica,sans-Serif\" font-size=\"14.00\" fill=\"#000000\">gini = 0.0</text>\n",
       "<text text-anchor=\"middle\" x=\"74\" y=\"-37.8\" font-family=\"Helvetica,sans-Serif\" font-size=\"14.00\" fill=\"#000000\">samples = 18</text>\n",
       "<text text-anchor=\"middle\" x=\"74\" y=\"-22.8\" font-family=\"Helvetica,sans-Serif\" font-size=\"14.00\" fill=\"#000000\">value = [0, 29, 0]</text>\n",
       "<text text-anchor=\"middle\" x=\"74\" y=\"-7.8\" font-family=\"Helvetica,sans-Serif\" font-size=\"14.00\" fill=\"#000000\">class = Iris&#45;versicolor</text>\n",
       "</g>\n",
       "<!-- 3&#45;&gt;4 -->\n",
       "<g id=\"edge4\" class=\"edge\">\n",
       "<title>3&#45;&gt;4</title>\n",
       "<path fill=\"none\" stroke=\"#000000\" d=\"M124.8386,-103.9815C118.2955,-94.9747 111.3666,-85.4367 104.7992,-76.3965\"/>\n",
       "<polygon fill=\"#000000\" stroke=\"#000000\" points=\"107.6002,-74.2971 98.8911,-68.2637 101.9369,-78.4113 107.6002,-74.2971\"/>\n",
       "</g>\n",
       "<!-- 5 -->\n",
       "<g id=\"node6\" class=\"node\">\n",
       "<title>5</title>\n",
       "<path fill=\"#8139e5\" stroke=\"#000000\" d=\"M293.5,-68C293.5,-68 178.5,-68 178.5,-68 172.5,-68 166.5,-62 166.5,-56 166.5,-56 166.5,-12 166.5,-12 166.5,-6 172.5,0 178.5,0 178.5,0 293.5,0 293.5,0 299.5,0 305.5,-6 305.5,-12 305.5,-12 305.5,-56 305.5,-56 305.5,-62 299.5,-68 293.5,-68\"/>\n",
       "<text text-anchor=\"middle\" x=\"236\" y=\"-52.8\" font-family=\"Helvetica,sans-Serif\" font-size=\"14.00\" fill=\"#000000\">gini = 0.0</text>\n",
       "<text text-anchor=\"middle\" x=\"236\" y=\"-37.8\" font-family=\"Helvetica,sans-Serif\" font-size=\"14.00\" fill=\"#000000\">samples = 1</text>\n",
       "<text text-anchor=\"middle\" x=\"236\" y=\"-22.8\" font-family=\"Helvetica,sans-Serif\" font-size=\"14.00\" fill=\"#000000\">value = [0, 0, 3]</text>\n",
       "<text text-anchor=\"middle\" x=\"236\" y=\"-7.8\" font-family=\"Helvetica,sans-Serif\" font-size=\"14.00\" fill=\"#000000\">class = Iris&#45;virginica</text>\n",
       "</g>\n",
       "<!-- 3&#45;&gt;5 -->\n",
       "<g id=\"edge5\" class=\"edge\">\n",
       "<title>3&#45;&gt;5</title>\n",
       "<path fill=\"none\" stroke=\"#000000\" d=\"M185.1614,-103.9815C191.7045,-94.9747 198.6334,-85.4367 205.2008,-76.3965\"/>\n",
       "<polygon fill=\"#000000\" stroke=\"#000000\" points=\"208.0631,-78.4113 211.1089,-68.2637 202.3998,-74.2971 208.0631,-78.4113\"/>\n",
       "</g>\n",
       "</g>\n",
       "</svg>\n"
      ],
      "text/plain": [
       "<graphviz.files.Source at 0x1a1f7b9c88>"
      ]
     },
     "execution_count": 312,
     "metadata": {},
     "output_type": "execute_result"
    }
   ],
   "source": [
    "viz_tree(rfclf.estimators_[4], data['class'].unique(), feature_names_array)"
   ]
  },
  {
   "cell_type": "code",
   "execution_count": 313,
   "metadata": {},
   "outputs": [
    {
     "data": {
      "text/plain": [
       "\"(petal_length_cm, '>', 4.95) | (petal_width_cm, '>', 1.7)\""
      ]
     },
     "execution_count": 313,
     "metadata": {},
     "output_type": "execute_result"
    }
   ],
   "source": [
    "# Final combined rules generated by Random Forest and reduced\n",
    "\n",
    "\"(petal_length_cm, '>', 4.95) | (petal_width_cm, '>', 1.7)\""
   ]
  },
  {
   "cell_type": "code",
   "execution_count": 314,
   "metadata": {},
   "outputs": [
    {
     "data": {
      "text/plain": [
       "{((0, 2, '<=', 2.6), (1, -2, '<=', -2.0))}"
      ]
     },
     "execution_count": 314,
     "metadata": {},
     "output_type": "execute_result"
    }
   ],
   "source": [
    "lst = []\n",
    "t5_paths = set()\n",
    "\n",
    "get_paths_for(\"Iris-setosa\", rfclf.estimators_[4].tree_, 0, lst, t5_paths, '<=')\n",
    "t5_paths"
   ]
  },
  {
   "cell_type": "code",
   "execution_count": 315,
   "metadata": {},
   "outputs": [
    {
     "data": {
      "text/plain": [
       "\"(0, 2, '<=', 2.6)\""
      ]
     },
     "execution_count": 315,
     "metadata": {},
     "output_type": "execute_result"
    }
   ],
   "source": [
    "rule_dict = {}\n",
    "var_dict = {}\n",
    "\n",
    "# Simplify rule sets for this rf tree\n",
    "print_final_rule(simplify_logic(sympify(create_big_or_rule(t5_paths), evaluate=False)))"
   ]
  },
  {
   "cell_type": "code",
   "execution_count": 316,
   "metadata": {},
   "outputs": [
    {
     "data": {
      "text/plain": [
       "{((0, 2, '<=', 2.6), (1, -2, '<=', -2.0))}"
      ]
     },
     "execution_count": 316,
     "metadata": {},
     "output_type": "execute_result"
    }
   ],
   "source": [
    "t5_paths = redundancy_condition_removal(t5_paths)\n",
    "t5_paths"
   ]
  },
  {
   "cell_type": "code",
   "execution_count": 317,
   "metadata": {},
   "outputs": [
    {
     "data": {
      "text/plain": [
       "\"(0, 2, '<=', 2.6)\""
      ]
     },
     "execution_count": 317,
     "metadata": {},
     "output_type": "execute_result"
    }
   ],
   "source": [
    "rule_dict = {}\n",
    "var_dict = {}\n",
    "\n",
    "# Simplify rule sets for this rf tree\n",
    "print_final_rule(simplify_logic(sympify(create_big_or_rule(t5_paths), evaluate=False)))"
   ]
  },
  {
   "cell_type": "markdown",
   "metadata": {},
   "source": [
    "------\n",
    "## From generated rules, combine them and try to reduce even more"
   ]
  },
  {
   "cell_type": "code",
   "execution_count": null,
   "metadata": {},
   "outputs": [],
   "source": [
    "Neda sa najst jedoduchsia forma, lebo sa tie pravidla biju medzi sebou, (do praci zahrnut)."
   ]
  },
  {
   "cell_type": "code",
   "execution_count": null,
   "metadata": {},
   "outputs": [],
   "source": [
    "\"(0, 2, '>', 2.5) & ((5, 0, '<=', 6.05) | (2, 2, '<=', 4.75)) & ((4, 3, '<=', 1.7) | (2, 2, '>', 4.75))\"\n",
    "\"(2, 3, '<=', 1.7) & (0, 2, '>', 2.45) & ((5, 2, '<=', 4.95) | (3, 0, '<=', 6.05))\"\n",
    "\"(0, 2, '>', 2.6) & ((4, 1, '<=', 2.55) | (2, 2, '<=', 4.85)) & ((2, 2, '<=', 4.85) | (5, 3, '<=', 1.75))\"\n",
    "\"(0, 3, '>', 0.8) & ((4, 2, '<=', 4.75) | (2, 1, '<=', 2.45))\"\n",
    "\"((1, 3, '>', 0.8) | (0, 2, '>', 4.85)) & ((5, 3, '>', 1.45) | (0, 2, '<=', 4.85)) & ((4, 3, '<=', 1.7) | (0, 2, '>', 4.85))\""
   ]
  },
  {
   "cell_type": "code",
   "execution_count": null,
   "metadata": {},
   "outputs": [],
   "source": [
    "a = symbols('2>2.5')\n",
    "b = symbols('0<=6.05')\n",
    "c = symbols('2<=4.75') #Has not\n",
    "d = symbols('3<=1.7')\n",
    "e = symbols('2>2.45')\n",
    "f = symbols('2<=4.95')\n",
    "g = symbols('2>2.6')\n",
    "h = symbols('1<=2.55')\n",
    "i = symbols('2<=4.85') #Has not\n",
    "j = symbols('3<=1.75')\n",
    "k = symbols('3>0.8')\n",
    "l = symbols('1<=2.45')\n",
    "m = symbols('3>1.45')"
   ]
  },
  {
   "cell_type": "code",
   "execution_count": null,
   "metadata": {},
   "outputs": [],
   "source": [
    "# 1. (a & (b | c) & (j | Not(c)))\n",
    "# 2. (d & e & (f | b))\n",
    "# 3. (g & (h | i) & (i | j))\n",
    "# 4. (k & (c | l))\n",
    "# 5. ((k | Not(i)) & (m | i) & (d | Not(i)))\n",
    "\n",
    "simplify_logic(sympify('(a & (b | c) & (j | Not(c))) | (d & e & (f | b)) | (g & (h | i) & (i | j)) | (k & (c | l)) | ((k | Not(i)) & (m | i) & (d | Not(i)))', evaluate=False))"
   ]
  },
  {
   "cell_type": "code",
   "execution_count": null,
   "metadata": {},
   "outputs": [],
   "source": [
    "(a & b) | (a & c) | (a & k) | (b & h & i) | (b & h & j) | (d & e & f) | (d & e & g) | (h & i & k)\n",
    "(a & b) | (c & a) | (d & e & (f | g)) | (h & b & (i | j)) | (k & (i | a) & (h | a))"
   ]
  },
  {
   "cell_type": "markdown",
   "metadata": {},
   "source": [
    "----"
   ]
  },
  {
   "cell_type": "code",
   "execution_count": 94,
   "metadata": {},
   "outputs": [
    {
     "data": {
      "text/plain": [
       "['sepal_length_cm', 'sepal_width_cm', 'petal_length_cm', 'petal_width_cm']"
      ]
     },
     "execution_count": 94,
     "metadata": {},
     "output_type": "execute_result"
    }
   ],
   "source": [
    "feature_names_array"
   ]
  },
  {
   "cell_type": "markdown",
   "metadata": {},
   "source": [
    "----\n",
    "### Iris-Setosa"
   ]
  },
  {
   "cell_type": "code",
   "execution_count": 100,
   "metadata": {},
   "outputs": [
    {
     "data": {
      "image/svg+xml": [
       "<?xml version=\"1.0\" encoding=\"UTF-8\" standalone=\"no\"?>\n",
       "<!DOCTYPE svg PUBLIC \"-//W3C//DTD SVG 1.1//EN\"\n",
       " \"http://www.w3.org/Graphics/SVG/1.1/DTD/svg11.dtd\">\n",
       "<!-- Generated by graphviz version 2.40.1 (20161225.0304)\n",
       " -->\n",
       "<!-- Title: Tree Pages: 1 -->\n",
       "<svg width=\"390pt\" height=\"314pt\"\n",
       " viewBox=\"0.00 0.00 390.00 314.00\" xmlns=\"http://www.w3.org/2000/svg\" xmlns:xlink=\"http://www.w3.org/1999/xlink\">\n",
       "<g id=\"graph0\" class=\"graph\" transform=\"scale(1 1) rotate(0) translate(4 310)\">\n",
       "<title>Tree</title>\n",
       "<polygon fill=\"#ffffff\" stroke=\"transparent\" points=\"-4,4 -4,-310 386,-310 386,4 -4,4\"/>\n",
       "<!-- 0 -->\n",
       "<g id=\"node1\" class=\"node\">\n",
       "<title>0</title>\n",
       "<path fill=\"#8139e5\" fill-opacity=\"0.133333\" stroke=\"#000000\" d=\"M294,-306C294,-306 161,-306 161,-306 155,-306 149,-300 149,-294 149,-294 149,-235 149,-235 149,-229 155,-223 161,-223 161,-223 294,-223 294,-223 300,-223 306,-229 306,-235 306,-235 306,-294 306,-294 306,-300 300,-306 294,-306\"/>\n",
       "<text text-anchor=\"middle\" x=\"227.5\" y=\"-290.8\" font-family=\"Helvetica,sans-Serif\" font-size=\"14.00\" fill=\"#000000\">petal_width_cm &lt;= 1.7</text>\n",
       "<text text-anchor=\"middle\" x=\"227.5\" y=\"-275.8\" font-family=\"Helvetica,sans-Serif\" font-size=\"14.00\" fill=\"#000000\">gini = 0.66</text>\n",
       "<text text-anchor=\"middle\" x=\"227.5\" y=\"-260.8\" font-family=\"Helvetica,sans-Serif\" font-size=\"14.00\" fill=\"#000000\">samples = 74</text>\n",
       "<text text-anchor=\"middle\" x=\"227.5\" y=\"-245.8\" font-family=\"Helvetica,sans-Serif\" font-size=\"14.00\" fill=\"#000000\">value = [35, 37, 48]</text>\n",
       "<text text-anchor=\"middle\" x=\"227.5\" y=\"-230.8\" font-family=\"Helvetica,sans-Serif\" font-size=\"14.00\" fill=\"#000000\">class = Iris&#45;virginica</text>\n",
       "</g>\n",
       "<!-- 1 -->\n",
       "<g id=\"node2\" class=\"node\">\n",
       "<title>1</title>\n",
       "<path fill=\"#39e581\" fill-opacity=\"0.054902\" stroke=\"#000000\" d=\"M213,-187C213,-187 72,-187 72,-187 66,-187 60,-181 60,-175 60,-175 60,-116 60,-116 60,-110 66,-104 72,-104 72,-104 213,-104 213,-104 219,-104 225,-110 225,-116 225,-116 225,-175 225,-175 225,-181 219,-187 213,-187\"/>\n",
       "<text text-anchor=\"middle\" x=\"142.5\" y=\"-171.8\" font-family=\"Helvetica,sans-Serif\" font-size=\"14.00\" fill=\"#000000\">petal_width_cm &lt;= 0.75</text>\n",
       "<text text-anchor=\"middle\" x=\"142.5\" y=\"-156.8\" font-family=\"Helvetica,sans-Serif\" font-size=\"14.00\" fill=\"#000000\">gini = 0.5</text>\n",
       "<text text-anchor=\"middle\" x=\"142.5\" y=\"-141.8\" font-family=\"Helvetica,sans-Serif\" font-size=\"14.00\" fill=\"#000000\">samples = 46</text>\n",
       "<text text-anchor=\"middle\" x=\"142.5\" y=\"-126.8\" font-family=\"Helvetica,sans-Serif\" font-size=\"14.00\" fill=\"#000000\">value = [35, 37, 0]</text>\n",
       "<text text-anchor=\"middle\" x=\"142.5\" y=\"-111.8\" font-family=\"Helvetica,sans-Serif\" font-size=\"14.00\" fill=\"#000000\">class = Iris&#45;versicolor</text>\n",
       "</g>\n",
       "<!-- 0&#45;&gt;1 -->\n",
       "<g id=\"edge1\" class=\"edge\">\n",
       "<title>0&#45;&gt;1</title>\n",
       "<path fill=\"none\" stroke=\"#000000\" d=\"M197.7711,-222.8796C191.4667,-214.0534 184.749,-204.6485 178.2476,-195.5466\"/>\n",
       "<polygon fill=\"#000000\" stroke=\"#000000\" points=\"181.0163,-193.4011 172.3558,-187.2981 175.3201,-197.4698 181.0163,-193.4011\"/>\n",
       "<text text-anchor=\"middle\" x=\"168.2458\" y=\"-208.2579\" font-family=\"Helvetica,sans-Serif\" font-size=\"14.00\" fill=\"#000000\">True</text>\n",
       "</g>\n",
       "<!-- 4 -->\n",
       "<g id=\"node5\" class=\"node\">\n",
       "<title>4</title>\n",
       "<path fill=\"#8139e5\" stroke=\"#000000\" d=\"M370,-179.5C370,-179.5 255,-179.5 255,-179.5 249,-179.5 243,-173.5 243,-167.5 243,-167.5 243,-123.5 243,-123.5 243,-117.5 249,-111.5 255,-111.5 255,-111.5 370,-111.5 370,-111.5 376,-111.5 382,-117.5 382,-123.5 382,-123.5 382,-167.5 382,-167.5 382,-173.5 376,-179.5 370,-179.5\"/>\n",
       "<text text-anchor=\"middle\" x=\"312.5\" y=\"-164.3\" font-family=\"Helvetica,sans-Serif\" font-size=\"14.00\" fill=\"#000000\">gini = 0.0</text>\n",
       "<text text-anchor=\"middle\" x=\"312.5\" y=\"-149.3\" font-family=\"Helvetica,sans-Serif\" font-size=\"14.00\" fill=\"#000000\">samples = 28</text>\n",
       "<text text-anchor=\"middle\" x=\"312.5\" y=\"-134.3\" font-family=\"Helvetica,sans-Serif\" font-size=\"14.00\" fill=\"#000000\">value = [0, 0, 48]</text>\n",
       "<text text-anchor=\"middle\" x=\"312.5\" y=\"-119.3\" font-family=\"Helvetica,sans-Serif\" font-size=\"14.00\" fill=\"#000000\">class = Iris&#45;virginica</text>\n",
       "</g>\n",
       "<!-- 0&#45;&gt;4 -->\n",
       "<g id=\"edge4\" class=\"edge\">\n",
       "<title>0&#45;&gt;4</title>\n",
       "<path fill=\"none\" stroke=\"#000000\" d=\"M257.2289,-222.8796C265.2403,-211.6636 273.9192,-199.5131 281.9734,-188.2372\"/>\n",
       "<polygon fill=\"#000000\" stroke=\"#000000\" points=\"285.025,-189.9866 287.9893,-179.8149 279.3288,-185.9179 285.025,-189.9866\"/>\n",
       "<text text-anchor=\"middle\" x=\"292.0993\" y=\"-200.7748\" font-family=\"Helvetica,sans-Serif\" font-size=\"14.00\" fill=\"#000000\">False</text>\n",
       "</g>\n",
       "<!-- 2 -->\n",
       "<g id=\"node3\" class=\"node\">\n",
       "<title>2</title>\n",
       "<path fill=\"#e58139\" stroke=\"#000000\" d=\"M117,-68C117,-68 12,-68 12,-68 6,-68 0,-62 0,-56 0,-56 0,-12 0,-12 0,-6 6,0 12,0 12,0 117,0 117,0 123,0 129,-6 129,-12 129,-12 129,-56 129,-56 129,-62 123,-68 117,-68\"/>\n",
       "<text text-anchor=\"middle\" x=\"64.5\" y=\"-52.8\" font-family=\"Helvetica,sans-Serif\" font-size=\"14.00\" fill=\"#000000\">gini = 0.0</text>\n",
       "<text text-anchor=\"middle\" x=\"64.5\" y=\"-37.8\" font-family=\"Helvetica,sans-Serif\" font-size=\"14.00\" fill=\"#000000\">samples = 23</text>\n",
       "<text text-anchor=\"middle\" x=\"64.5\" y=\"-22.8\" font-family=\"Helvetica,sans-Serif\" font-size=\"14.00\" fill=\"#000000\">value = [35, 0, 0]</text>\n",
       "<text text-anchor=\"middle\" x=\"64.5\" y=\"-7.8\" font-family=\"Helvetica,sans-Serif\" font-size=\"14.00\" fill=\"#000000\">class = Iris&#45;setosa</text>\n",
       "</g>\n",
       "<!-- 1&#45;&gt;2 -->\n",
       "<g id=\"edge2\" class=\"edge\">\n",
       "<title>1&#45;&gt;2</title>\n",
       "<path fill=\"none\" stroke=\"#000000\" d=\"M113.4557,-103.9815C107.2192,-95.0666 100.6187,-85.6313 94.3522,-76.6734\"/>\n",
       "<polygon fill=\"#000000\" stroke=\"#000000\" points=\"97.0693,-74.4515 88.4692,-68.2637 91.3335,-78.464 97.0693,-74.4515\"/>\n",
       "</g>\n",
       "<!-- 3 -->\n",
       "<g id=\"node4\" class=\"node\">\n",
       "<title>3</title>\n",
       "<path fill=\"#39e581\" stroke=\"#000000\" d=\"M283.5,-68C283.5,-68 159.5,-68 159.5,-68 153.5,-68 147.5,-62 147.5,-56 147.5,-56 147.5,-12 147.5,-12 147.5,-6 153.5,0 159.5,0 159.5,0 283.5,0 283.5,0 289.5,0 295.5,-6 295.5,-12 295.5,-12 295.5,-56 295.5,-56 295.5,-62 289.5,-68 283.5,-68\"/>\n",
       "<text text-anchor=\"middle\" x=\"221.5\" y=\"-52.8\" font-family=\"Helvetica,sans-Serif\" font-size=\"14.00\" fill=\"#000000\">gini = 0.0</text>\n",
       "<text text-anchor=\"middle\" x=\"221.5\" y=\"-37.8\" font-family=\"Helvetica,sans-Serif\" font-size=\"14.00\" fill=\"#000000\">samples = 23</text>\n",
       "<text text-anchor=\"middle\" x=\"221.5\" y=\"-22.8\" font-family=\"Helvetica,sans-Serif\" font-size=\"14.00\" fill=\"#000000\">value = [0, 37, 0]</text>\n",
       "<text text-anchor=\"middle\" x=\"221.5\" y=\"-7.8\" font-family=\"Helvetica,sans-Serif\" font-size=\"14.00\" fill=\"#000000\">class = Iris&#45;versicolor</text>\n",
       "</g>\n",
       "<!-- 1&#45;&gt;3 -->\n",
       "<g id=\"edge3\" class=\"edge\">\n",
       "<title>1&#45;&gt;3</title>\n",
       "<path fill=\"none\" stroke=\"#000000\" d=\"M171.9167,-103.9815C178.2331,-95.0666 184.9182,-85.6313 191.2651,-76.6734\"/>\n",
       "<polygon fill=\"#000000\" stroke=\"#000000\" points=\"194.2981,-78.4466 197.2235,-68.2637 188.5864,-74.3998 194.2981,-78.4466\"/>\n",
       "</g>\n",
       "</g>\n",
       "</svg>\n"
      ],
      "text/plain": [
       "<graphviz.files.Source at 0x1a1f1d3f98>"
      ]
     },
     "execution_count": 100,
     "metadata": {},
     "output_type": "execute_result"
    }
   ],
   "source": [
    "viz_tree(rfclf.estimators_[0], data['class'].unique(), feature_names_array)"
   ]
  },
  {
   "cell_type": "code",
   "execution_count": 97,
   "metadata": {},
   "outputs": [
    {
     "name": "stdout",
     "output_type": "stream",
     "text": [
      "Paths= \n",
      "{((0, 3, '<=', 1.7), (1, 3, '<=', 0.75), (2, -2, '<=', -2.0))}\n",
      " \n",
      "Simplified Rules= \n",
      "(1, 3, '<=', 0.75) & (0, 3, '<=', 1.7)\n",
      " \n",
      "Redundant conditions removed paths= \n",
      "{((0, 3, '<=', 0.75), (2, -2, '<=', -2.0))}\n",
      " \n",
      "Simplified after redudancy rules= \n",
      "(0, 3, '<=', 0.75)\n"
     ]
    }
   ],
   "source": [
    "lst = []\n",
    "t1_paths = set()\n",
    "get_paths_for(\"Iris-setosa\", rfclf.estimators_[0].tree_, 0, lst, t1_paths, '<=')\n",
    "print(\"Paths= \")\n",
    "print(t1_paths)\n",
    "\n",
    "\n",
    "rule_dict = {}\n",
    "var_dict = {}\n",
    "\n",
    "# Simplify rule sets for this rf tree\n",
    "print(\" \")\n",
    "print(\"Simplified Rules= \")\n",
    "print(print_final_rule(simplify_logic(sympify(create_big_or_rule(t1_paths), evaluate=False))))\n",
    "\n",
    "\n",
    "# ------- Redundancy removal ------- #\n",
    "t1_paths = redundancy_condition_removal(t1_paths)\n",
    "print(\" \")\n",
    "print(\"Redundant conditions removed paths= \")\n",
    "print(t1_paths)\n",
    "\n",
    "\n",
    "rule_dict = {}\n",
    "var_dict = {}\n",
    "\n",
    "# Simplify rule sets for this rf tree\n",
    "print(\" \")\n",
    "print(\"Simplified after redudancy rules= \")\n",
    "print(print_final_rule(simplify_logic(sympify(create_big_or_rule(t1_paths), evaluate=False))))"
   ]
  },
  {
   "cell_type": "markdown",
   "metadata": {},
   "source": [
    "##### Subtree 2"
   ]
  },
  {
   "cell_type": "code",
   "execution_count": 99,
   "metadata": {},
   "outputs": [
    {
     "data": {
      "image/svg+xml": [
       "<?xml version=\"1.0\" encoding=\"UTF-8\" standalone=\"no\"?>\n",
       "<!DOCTYPE svg PUBLIC \"-//W3C//DTD SVG 1.1//EN\"\n",
       " \"http://www.w3.org/Graphics/SVG/1.1/DTD/svg11.dtd\">\n",
       "<!-- Generated by graphviz version 2.40.1 (20161225.0304)\n",
       " -->\n",
       "<!-- Title: Tree Pages: 1 -->\n",
       "<svg width=\"406pt\" height=\"433pt\"\n",
       " viewBox=\"0.00 0.00 405.50 433.00\" xmlns=\"http://www.w3.org/2000/svg\" xmlns:xlink=\"http://www.w3.org/1999/xlink\">\n",
       "<g id=\"graph0\" class=\"graph\" transform=\"scale(1 1) rotate(0) translate(4 429)\">\n",
       "<title>Tree</title>\n",
       "<polygon fill=\"#ffffff\" stroke=\"transparent\" points=\"-4,4 -4,-429 401.5,-429 401.5,4 -4,4\"/>\n",
       "<!-- 0 -->\n",
       "<g id=\"node1\" class=\"node\">\n",
       "<title>0</title>\n",
       "<path fill=\"transparent\" stroke=\"#000000\" d=\"M233.5,-425C233.5,-425 86.5,-425 86.5,-425 80.5,-425 74.5,-419 74.5,-413 74.5,-413 74.5,-354 74.5,-354 74.5,-348 80.5,-342 86.5,-342 86.5,-342 233.5,-342 233.5,-342 239.5,-342 245.5,-348 245.5,-354 245.5,-354 245.5,-413 245.5,-413 245.5,-419 239.5,-425 233.5,-425\"/>\n",
       "<text text-anchor=\"middle\" x=\"160\" y=\"-409.8\" font-family=\"Helvetica,sans-Serif\" font-size=\"14.00\" fill=\"#000000\">petal_length_cm &lt;= 2.45</text>\n",
       "<text text-anchor=\"middle\" x=\"160\" y=\"-394.8\" font-family=\"Helvetica,sans-Serif\" font-size=\"14.00\" fill=\"#000000\">gini = 0.667</text>\n",
       "<text text-anchor=\"middle\" x=\"160\" y=\"-379.8\" font-family=\"Helvetica,sans-Serif\" font-size=\"14.00\" fill=\"#000000\">samples = 78</text>\n",
       "<text text-anchor=\"middle\" x=\"160\" y=\"-364.8\" font-family=\"Helvetica,sans-Serif\" font-size=\"14.00\" fill=\"#000000\">value = [40, 40, 40]</text>\n",
       "<text text-anchor=\"middle\" x=\"160\" y=\"-349.8\" font-family=\"Helvetica,sans-Serif\" font-size=\"14.00\" fill=\"#000000\">class = Iris&#45;setosa</text>\n",
       "</g>\n",
       "<!-- 1 -->\n",
       "<g id=\"node2\" class=\"node\">\n",
       "<title>1</title>\n",
       "<path fill=\"#e58139\" stroke=\"#000000\" d=\"M132.5,-298.5C132.5,-298.5 27.5,-298.5 27.5,-298.5 21.5,-298.5 15.5,-292.5 15.5,-286.5 15.5,-286.5 15.5,-242.5 15.5,-242.5 15.5,-236.5 21.5,-230.5 27.5,-230.5 27.5,-230.5 132.5,-230.5 132.5,-230.5 138.5,-230.5 144.5,-236.5 144.5,-242.5 144.5,-242.5 144.5,-286.5 144.5,-286.5 144.5,-292.5 138.5,-298.5 132.5,-298.5\"/>\n",
       "<text text-anchor=\"middle\" x=\"80\" y=\"-283.3\" font-family=\"Helvetica,sans-Serif\" font-size=\"14.00\" fill=\"#000000\">gini = 0.0</text>\n",
       "<text text-anchor=\"middle\" x=\"80\" y=\"-268.3\" font-family=\"Helvetica,sans-Serif\" font-size=\"14.00\" fill=\"#000000\">samples = 24</text>\n",
       "<text text-anchor=\"middle\" x=\"80\" y=\"-253.3\" font-family=\"Helvetica,sans-Serif\" font-size=\"14.00\" fill=\"#000000\">value = [40, 0, 0]</text>\n",
       "<text text-anchor=\"middle\" x=\"80\" y=\"-238.3\" font-family=\"Helvetica,sans-Serif\" font-size=\"14.00\" fill=\"#000000\">class = Iris&#45;setosa</text>\n",
       "</g>\n",
       "<!-- 0&#45;&gt;1 -->\n",
       "<g id=\"edge1\" class=\"edge\">\n",
       "<title>0&#45;&gt;1</title>\n",
       "<path fill=\"none\" stroke=\"#000000\" d=\"M132.0199,-341.8796C124.4797,-330.6636 116.3113,-318.5131 108.7309,-307.2372\"/>\n",
       "<polygon fill=\"#000000\" stroke=\"#000000\" points=\"111.5527,-305.1612 103.0689,-298.8149 105.7434,-309.0667 111.5527,-305.1612\"/>\n",
       "<text text-anchor=\"middle\" x=\"98.2608\" y=\"-319.6482\" font-family=\"Helvetica,sans-Serif\" font-size=\"14.00\" fill=\"#000000\">True</text>\n",
       "</g>\n",
       "<!-- 2 -->\n",
       "<g id=\"node3\" class=\"node\">\n",
       "<title>2</title>\n",
       "<path fill=\"transparent\" stroke=\"#000000\" d=\"M307.5,-306C307.5,-306 174.5,-306 174.5,-306 168.5,-306 162.5,-300 162.5,-294 162.5,-294 162.5,-235 162.5,-235 162.5,-229 168.5,-223 174.5,-223 174.5,-223 307.5,-223 307.5,-223 313.5,-223 319.5,-229 319.5,-235 319.5,-235 319.5,-294 319.5,-294 319.5,-300 313.5,-306 307.5,-306\"/>\n",
       "<text text-anchor=\"middle\" x=\"241\" y=\"-290.8\" font-family=\"Helvetica,sans-Serif\" font-size=\"14.00\" fill=\"#000000\">petal_width_cm &lt;= 1.7</text>\n",
       "<text text-anchor=\"middle\" x=\"241\" y=\"-275.8\" font-family=\"Helvetica,sans-Serif\" font-size=\"14.00\" fill=\"#000000\">gini = 0.5</text>\n",
       "<text text-anchor=\"middle\" x=\"241\" y=\"-260.8\" font-family=\"Helvetica,sans-Serif\" font-size=\"14.00\" fill=\"#000000\">samples = 54</text>\n",
       "<text text-anchor=\"middle\" x=\"241\" y=\"-245.8\" font-family=\"Helvetica,sans-Serif\" font-size=\"14.00\" fill=\"#000000\">value = [0, 40, 40]</text>\n",
       "<text text-anchor=\"middle\" x=\"241\" y=\"-230.8\" font-family=\"Helvetica,sans-Serif\" font-size=\"14.00\" fill=\"#000000\">class = Iris&#45;versicolor</text>\n",
       "</g>\n",
       "<!-- 0&#45;&gt;2 -->\n",
       "<g id=\"edge2\" class=\"edge\">\n",
       "<title>0&#45;&gt;2</title>\n",
       "<path fill=\"none\" stroke=\"#000000\" d=\"M188.3299,-341.8796C194.2763,-333.1434 200.6086,-323.8404 206.745,-314.8253\"/>\n",
       "<polygon fill=\"#000000\" stroke=\"#000000\" points=\"209.8156,-316.5342 212.5492,-306.2981 204.0289,-312.5953 209.8156,-316.5342\"/>\n",
       "<text text-anchor=\"middle\" x=\"217.2157\" y=\"-327.1587\" font-family=\"Helvetica,sans-Serif\" font-size=\"14.00\" fill=\"#000000\">False</text>\n",
       "</g>\n",
       "<!-- 3 -->\n",
       "<g id=\"node4\" class=\"node\">\n",
       "<title>3</title>\n",
       "<path fill=\"#39e581\" fill-opacity=\"0.925490\" stroke=\"#000000\" d=\"M228.5,-187C228.5,-187 81.5,-187 81.5,-187 75.5,-187 69.5,-181 69.5,-175 69.5,-175 69.5,-116 69.5,-116 69.5,-110 75.5,-104 81.5,-104 81.5,-104 228.5,-104 228.5,-104 234.5,-104 240.5,-110 240.5,-116 240.5,-116 240.5,-175 240.5,-175 240.5,-181 234.5,-187 228.5,-187\"/>\n",
       "<text text-anchor=\"middle\" x=\"155\" y=\"-171.8\" font-family=\"Helvetica,sans-Serif\" font-size=\"14.00\" fill=\"#000000\">petal_length_cm &lt;= 4.95</text>\n",
       "<text text-anchor=\"middle\" x=\"155\" y=\"-156.8\" font-family=\"Helvetica,sans-Serif\" font-size=\"14.00\" fill=\"#000000\">gini = 0.13</text>\n",
       "<text text-anchor=\"middle\" x=\"155\" y=\"-141.8\" font-family=\"Helvetica,sans-Serif\" font-size=\"14.00\" fill=\"#000000\">samples = 27</text>\n",
       "<text text-anchor=\"middle\" x=\"155\" y=\"-126.8\" font-family=\"Helvetica,sans-Serif\" font-size=\"14.00\" fill=\"#000000\">value = [0, 40, 3]</text>\n",
       "<text text-anchor=\"middle\" x=\"155\" y=\"-111.8\" font-family=\"Helvetica,sans-Serif\" font-size=\"14.00\" fill=\"#000000\">class = Iris&#45;versicolor</text>\n",
       "</g>\n",
       "<!-- 2&#45;&gt;3 -->\n",
       "<g id=\"edge3\" class=\"edge\">\n",
       "<title>2&#45;&gt;3</title>\n",
       "<path fill=\"none\" stroke=\"#000000\" d=\"M210.9214,-222.8796C204.5428,-214.0534 197.746,-204.6485 191.1681,-195.5466\"/>\n",
       "<polygon fill=\"#000000\" stroke=\"#000000\" points=\"193.9012,-193.353 185.207,-187.2981 188.2277,-197.4532 193.9012,-193.353\"/>\n",
       "</g>\n",
       "<!-- 6 -->\n",
       "<g id=\"node7\" class=\"node\">\n",
       "<title>6</title>\n",
       "<path fill=\"#8139e5\" stroke=\"#000000\" d=\"M385.5,-179.5C385.5,-179.5 270.5,-179.5 270.5,-179.5 264.5,-179.5 258.5,-173.5 258.5,-167.5 258.5,-167.5 258.5,-123.5 258.5,-123.5 258.5,-117.5 264.5,-111.5 270.5,-111.5 270.5,-111.5 385.5,-111.5 385.5,-111.5 391.5,-111.5 397.5,-117.5 397.5,-123.5 397.5,-123.5 397.5,-167.5 397.5,-167.5 397.5,-173.5 391.5,-179.5 385.5,-179.5\"/>\n",
       "<text text-anchor=\"middle\" x=\"328\" y=\"-164.3\" font-family=\"Helvetica,sans-Serif\" font-size=\"14.00\" fill=\"#000000\">gini = 0.0</text>\n",
       "<text text-anchor=\"middle\" x=\"328\" y=\"-149.3\" font-family=\"Helvetica,sans-Serif\" font-size=\"14.00\" fill=\"#000000\">samples = 27</text>\n",
       "<text text-anchor=\"middle\" x=\"328\" y=\"-134.3\" font-family=\"Helvetica,sans-Serif\" font-size=\"14.00\" fill=\"#000000\">value = [0, 0, 37]</text>\n",
       "<text text-anchor=\"middle\" x=\"328\" y=\"-119.3\" font-family=\"Helvetica,sans-Serif\" font-size=\"14.00\" fill=\"#000000\">class = Iris&#45;virginica</text>\n",
       "</g>\n",
       "<!-- 2&#45;&gt;6 -->\n",
       "<g id=\"edge6\" class=\"edge\">\n",
       "<title>2&#45;&gt;6</title>\n",
       "<path fill=\"none\" stroke=\"#000000\" d=\"M271.4284,-222.8796C279.7087,-211.5536 288.6857,-199.2748 296.9974,-187.9058\"/>\n",
       "<polygon fill=\"#000000\" stroke=\"#000000\" points=\"299.8361,-189.9533 302.9126,-179.8149 294.1853,-185.822 299.8361,-189.9533\"/>\n",
       "</g>\n",
       "<!-- 4 -->\n",
       "<g id=\"node5\" class=\"node\">\n",
       "<title>4</title>\n",
       "<path fill=\"#39e581\" stroke=\"#000000\" d=\"M136,-68C136,-68 12,-68 12,-68 6,-68 0,-62 0,-56 0,-56 0,-12 0,-12 0,-6 6,0 12,0 12,0 136,0 136,0 142,0 148,-6 148,-12 148,-12 148,-56 148,-56 148,-62 142,-68 136,-68\"/>\n",
       "<text text-anchor=\"middle\" x=\"74\" y=\"-52.8\" font-family=\"Helvetica,sans-Serif\" font-size=\"14.00\" fill=\"#000000\">gini = 0.0</text>\n",
       "<text text-anchor=\"middle\" x=\"74\" y=\"-37.8\" font-family=\"Helvetica,sans-Serif\" font-size=\"14.00\" fill=\"#000000\">samples = 26</text>\n",
       "<text text-anchor=\"middle\" x=\"74\" y=\"-22.8\" font-family=\"Helvetica,sans-Serif\" font-size=\"14.00\" fill=\"#000000\">value = [0, 40, 0]</text>\n",
       "<text text-anchor=\"middle\" x=\"74\" y=\"-7.8\" font-family=\"Helvetica,sans-Serif\" font-size=\"14.00\" fill=\"#000000\">class = Iris&#45;versicolor</text>\n",
       "</g>\n",
       "<!-- 3&#45;&gt;4 -->\n",
       "<g id=\"edge4\" class=\"edge\">\n",
       "<title>3&#45;&gt;4</title>\n",
       "<path fill=\"none\" stroke=\"#000000\" d=\"M124.8386,-103.9815C118.2955,-94.9747 111.3666,-85.4367 104.7992,-76.3965\"/>\n",
       "<polygon fill=\"#000000\" stroke=\"#000000\" points=\"107.6002,-74.2971 98.8911,-68.2637 101.9369,-78.4113 107.6002,-74.2971\"/>\n",
       "</g>\n",
       "<!-- 5 -->\n",
       "<g id=\"node6\" class=\"node\">\n",
       "<title>5</title>\n",
       "<path fill=\"#8139e5\" stroke=\"#000000\" d=\"M293.5,-68C293.5,-68 178.5,-68 178.5,-68 172.5,-68 166.5,-62 166.5,-56 166.5,-56 166.5,-12 166.5,-12 166.5,-6 172.5,0 178.5,0 178.5,0 293.5,0 293.5,0 299.5,0 305.5,-6 305.5,-12 305.5,-12 305.5,-56 305.5,-56 305.5,-62 299.5,-68 293.5,-68\"/>\n",
       "<text text-anchor=\"middle\" x=\"236\" y=\"-52.8\" font-family=\"Helvetica,sans-Serif\" font-size=\"14.00\" fill=\"#000000\">gini = 0.0</text>\n",
       "<text text-anchor=\"middle\" x=\"236\" y=\"-37.8\" font-family=\"Helvetica,sans-Serif\" font-size=\"14.00\" fill=\"#000000\">samples = 1</text>\n",
       "<text text-anchor=\"middle\" x=\"236\" y=\"-22.8\" font-family=\"Helvetica,sans-Serif\" font-size=\"14.00\" fill=\"#000000\">value = [0, 0, 3]</text>\n",
       "<text text-anchor=\"middle\" x=\"236\" y=\"-7.8\" font-family=\"Helvetica,sans-Serif\" font-size=\"14.00\" fill=\"#000000\">class = Iris&#45;virginica</text>\n",
       "</g>\n",
       "<!-- 3&#45;&gt;5 -->\n",
       "<g id=\"edge5\" class=\"edge\">\n",
       "<title>3&#45;&gt;5</title>\n",
       "<path fill=\"none\" stroke=\"#000000\" d=\"M185.1614,-103.9815C191.7045,-94.9747 198.6334,-85.4367 205.2008,-76.3965\"/>\n",
       "<polygon fill=\"#000000\" stroke=\"#000000\" points=\"208.0631,-78.4113 211.1089,-68.2637 202.3998,-74.2971 208.0631,-78.4113\"/>\n",
       "</g>\n",
       "</g>\n",
       "</svg>\n"
      ],
      "text/plain": [
       "<graphviz.files.Source at 0x1a1f1d3a58>"
      ]
     },
     "execution_count": 99,
     "metadata": {},
     "output_type": "execute_result"
    }
   ],
   "source": [
    "viz_tree(rfclf.estimators_[1], data['class'].unique(), feature_names_array)"
   ]
  },
  {
   "cell_type": "code",
   "execution_count": 101,
   "metadata": {},
   "outputs": [
    {
     "name": "stdout",
     "output_type": "stream",
     "text": [
      "Paths= \n",
      "{((0, 2, '<=', 2.45), (1, -2, '<=', -2.0))}\n",
      " \n",
      "Simplified Rules= \n",
      "(0, 2, '<=', 2.45)\n",
      " \n",
      "Redundant conditions removed paths= \n",
      "{((0, 2, '<=', 2.45), (1, -2, '<=', -2.0))}\n",
      " \n",
      "Simplified after redudancy rules= \n",
      "(0, 2, '<=', 2.45)\n"
     ]
    }
   ],
   "source": [
    "lst = []\n",
    "t1_paths = set()\n",
    "get_paths_for(\"Iris-setosa\", rfclf.estimators_[1].tree_, 0, lst, t1_paths, '<=')\n",
    "print(\"Paths= \")\n",
    "print(t1_paths)\n",
    "\n",
    "\n",
    "rule_dict = {}\n",
    "var_dict = {}\n",
    "\n",
    "# Simplify rule sets for this rf tree\n",
    "print(\" \")\n",
    "print(\"Simplified Rules= \")\n",
    "print(print_final_rule(simplify_logic(sympify(create_big_or_rule(t1_paths), evaluate=False))))\n",
    "\n",
    "\n",
    "# ------- Redundancy removal ------- #\n",
    "t1_paths = redundancy_condition_removal(t1_paths)\n",
    "print(\" \")\n",
    "print(\"Redundant conditions removed paths= \")\n",
    "print(t1_paths)\n",
    "\n",
    "\n",
    "rule_dict = {}\n",
    "var_dict = {}\n",
    "\n",
    "# Simplify rule sets for this rf tree\n",
    "print(\" \")\n",
    "print(\"Simplified after redudancy rules= \")\n",
    "print(print_final_rule(simplify_logic(sympify(create_big_or_rule(t1_paths), evaluate=False))))"
   ]
  },
  {
   "cell_type": "markdown",
   "metadata": {},
   "source": [
    "##### Subtree 3"
   ]
  },
  {
   "cell_type": "code",
   "execution_count": 102,
   "metadata": {},
   "outputs": [
    {
     "data": {
      "image/svg+xml": [
       "<?xml version=\"1.0\" encoding=\"UTF-8\" standalone=\"no\"?>\n",
       "<!DOCTYPE svg PUBLIC \"-//W3C//DTD SVG 1.1//EN\"\n",
       " \"http://www.w3.org/Graphics/SVG/1.1/DTD/svg11.dtd\">\n",
       "<!-- Generated by graphviz version 2.40.1 (20161225.0304)\n",
       " -->\n",
       "<!-- Title: Tree Pages: 1 -->\n",
       "<svg width=\"734pt\" height=\"552pt\"\n",
       " viewBox=\"0.00 0.00 733.50 552.00\" xmlns=\"http://www.w3.org/2000/svg\" xmlns:xlink=\"http://www.w3.org/1999/xlink\">\n",
       "<g id=\"graph0\" class=\"graph\" transform=\"scale(1 1) rotate(0) translate(4 548)\">\n",
       "<title>Tree</title>\n",
       "<polygon fill=\"#ffffff\" stroke=\"transparent\" points=\"-4,4 -4,-548 729.5,-548 729.5,4 -4,4\"/>\n",
       "<!-- 0 -->\n",
       "<g id=\"node1\" class=\"node\">\n",
       "<title>0</title>\n",
       "<path fill=\"#8139e5\" fill-opacity=\"0.027451\" stroke=\"#000000\" d=\"M560,-544C560,-544 427,-544 427,-544 421,-544 415,-538 415,-532 415,-532 415,-473 415,-473 415,-467 421,-461 427,-461 427,-461 560,-461 560,-461 566,-461 572,-467 572,-473 572,-473 572,-532 572,-532 572,-538 566,-544 560,-544\"/>\n",
       "<text text-anchor=\"middle\" x=\"493.5\" y=\"-528.8\" font-family=\"Helvetica,sans-Serif\" font-size=\"14.00\" fill=\"#000000\">petal_width_cm &lt;= 1.7</text>\n",
       "<text text-anchor=\"middle\" x=\"493.5\" y=\"-513.8\" font-family=\"Helvetica,sans-Serif\" font-size=\"14.00\" fill=\"#000000\">gini = 0.66</text>\n",
       "<text text-anchor=\"middle\" x=\"493.5\" y=\"-498.8\" font-family=\"Helvetica,sans-Serif\" font-size=\"14.00\" fill=\"#000000\">samples = 74</text>\n",
       "<text text-anchor=\"middle\" x=\"493.5\" y=\"-483.8\" font-family=\"Helvetica,sans-Serif\" font-size=\"14.00\" fill=\"#000000\">value = [32, 43, 45]</text>\n",
       "<text text-anchor=\"middle\" x=\"493.5\" y=\"-468.8\" font-family=\"Helvetica,sans-Serif\" font-size=\"14.00\" fill=\"#000000\">class = Iris&#45;virginica</text>\n",
       "</g>\n",
       "<!-- 1 -->\n",
       "<g id=\"node2\" class=\"node\">\n",
       "<title>1</title>\n",
       "<path fill=\"#39e581\" fill-opacity=\"0.254902\" stroke=\"#000000\" d=\"M479.5,-425C479.5,-425 335.5,-425 335.5,-425 329.5,-425 323.5,-419 323.5,-413 323.5,-413 323.5,-354 323.5,-354 323.5,-348 329.5,-342 335.5,-342 335.5,-342 479.5,-342 479.5,-342 485.5,-342 491.5,-348 491.5,-354 491.5,-354 491.5,-413 491.5,-413 491.5,-419 485.5,-425 479.5,-425\"/>\n",
       "<text text-anchor=\"middle\" x=\"407.5\" y=\"-409.8\" font-family=\"Helvetica,sans-Serif\" font-size=\"14.00\" fill=\"#000000\">sepal_width_cm &lt;= 3.05</text>\n",
       "<text text-anchor=\"middle\" x=\"407.5\" y=\"-394.8\" font-family=\"Helvetica,sans-Serif\" font-size=\"14.00\" fill=\"#000000\">gini = 0.489</text>\n",
       "<text text-anchor=\"middle\" x=\"407.5\" y=\"-379.8\" font-family=\"Helvetica,sans-Serif\" font-size=\"14.00\" fill=\"#000000\">samples = 48</text>\n",
       "<text text-anchor=\"middle\" x=\"407.5\" y=\"-364.8\" font-family=\"Helvetica,sans-Serif\" font-size=\"14.00\" fill=\"#000000\">value = [32, 43, 0]</text>\n",
       "<text text-anchor=\"middle\" x=\"407.5\" y=\"-349.8\" font-family=\"Helvetica,sans-Serif\" font-size=\"14.00\" fill=\"#000000\">class = Iris&#45;versicolor</text>\n",
       "</g>\n",
       "<!-- 0&#45;&gt;1 -->\n",
       "<g id=\"edge1\" class=\"edge\">\n",
       "<title>0&#45;&gt;1</title>\n",
       "<path fill=\"none\" stroke=\"#000000\" d=\"M463.4214,-460.8796C457.0428,-452.0534 450.246,-442.6485 443.6681,-433.5466\"/>\n",
       "<polygon fill=\"#000000\" stroke=\"#000000\" points=\"446.4012,-431.353 437.707,-425.2981 440.7277,-435.4532 446.4012,-431.353\"/>\n",
       "<text text-anchor=\"middle\" x=\"433.7338\" y=\"-446.2803\" font-family=\"Helvetica,sans-Serif\" font-size=\"14.00\" fill=\"#000000\">True</text>\n",
       "</g>\n",
       "<!-- 10 -->\n",
       "<g id=\"node11\" class=\"node\">\n",
       "<title>10</title>\n",
       "<path fill=\"#8139e5\" stroke=\"#000000\" d=\"M637,-417.5C637,-417.5 522,-417.5 522,-417.5 516,-417.5 510,-411.5 510,-405.5 510,-405.5 510,-361.5 510,-361.5 510,-355.5 516,-349.5 522,-349.5 522,-349.5 637,-349.5 637,-349.5 643,-349.5 649,-355.5 649,-361.5 649,-361.5 649,-405.5 649,-405.5 649,-411.5 643,-417.5 637,-417.5\"/>\n",
       "<text text-anchor=\"middle\" x=\"579.5\" y=\"-402.3\" font-family=\"Helvetica,sans-Serif\" font-size=\"14.00\" fill=\"#000000\">gini = 0.0</text>\n",
       "<text text-anchor=\"middle\" x=\"579.5\" y=\"-387.3\" font-family=\"Helvetica,sans-Serif\" font-size=\"14.00\" fill=\"#000000\">samples = 26</text>\n",
       "<text text-anchor=\"middle\" x=\"579.5\" y=\"-372.3\" font-family=\"Helvetica,sans-Serif\" font-size=\"14.00\" fill=\"#000000\">value = [0, 0, 45]</text>\n",
       "<text text-anchor=\"middle\" x=\"579.5\" y=\"-357.3\" font-family=\"Helvetica,sans-Serif\" font-size=\"14.00\" fill=\"#000000\">class = Iris&#45;virginica</text>\n",
       "</g>\n",
       "<!-- 0&#45;&gt;10 -->\n",
       "<g id=\"edge10\" class=\"edge\">\n",
       "<title>0&#45;&gt;10</title>\n",
       "<path fill=\"none\" stroke=\"#000000\" d=\"M523.5786,-460.8796C531.6843,-449.6636 540.4653,-437.5131 548.6143,-426.2372\"/>\n",
       "<polygon fill=\"#000000\" stroke=\"#000000\" points=\"551.6803,-427.9701 554.701,-417.8149 546.0068,-423.8698 551.6803,-427.9701\"/>\n",
       "<text text-anchor=\"middle\" x=\"558.6742\" y=\"-438.7972\" font-family=\"Helvetica,sans-Serif\" font-size=\"14.00\" fill=\"#000000\">False</text>\n",
       "</g>\n",
       "<!-- 2 -->\n",
       "<g id=\"node3\" class=\"node\">\n",
       "<title>2</title>\n",
       "<path fill=\"#39e581\" fill-opacity=\"0.901961\" stroke=\"#000000\" d=\"M386.5,-306C386.5,-306 236.5,-306 236.5,-306 230.5,-306 224.5,-300 224.5,-294 224.5,-294 224.5,-235 224.5,-235 224.5,-229 230.5,-223 236.5,-223 236.5,-223 386.5,-223 386.5,-223 392.5,-223 398.5,-229 398.5,-235 398.5,-235 398.5,-294 398.5,-294 398.5,-300 392.5,-306 386.5,-306\"/>\n",
       "<text text-anchor=\"middle\" x=\"311.5\" y=\"-290.8\" font-family=\"Helvetica,sans-Serif\" font-size=\"14.00\" fill=\"#000000\">sepal_length_cm &lt;= 4.85</text>\n",
       "<text text-anchor=\"middle\" x=\"311.5\" y=\"-275.8\" font-family=\"Helvetica,sans-Serif\" font-size=\"14.00\" fill=\"#000000\">gini = 0.165</text>\n",
       "<text text-anchor=\"middle\" x=\"311.5\" y=\"-260.8\" font-family=\"Helvetica,sans-Serif\" font-size=\"14.00\" fill=\"#000000\">samples = 26</text>\n",
       "<text text-anchor=\"middle\" x=\"311.5\" y=\"-245.8\" font-family=\"Helvetica,sans-Serif\" font-size=\"14.00\" fill=\"#000000\">value = [4, 40, 0]</text>\n",
       "<text text-anchor=\"middle\" x=\"311.5\" y=\"-230.8\" font-family=\"Helvetica,sans-Serif\" font-size=\"14.00\" fill=\"#000000\">class = Iris&#45;versicolor</text>\n",
       "</g>\n",
       "<!-- 1&#45;&gt;2 -->\n",
       "<g id=\"edge2\" class=\"edge\">\n",
       "<title>1&#45;&gt;2</title>\n",
       "<path fill=\"none\" stroke=\"#000000\" d=\"M373.9239,-341.8796C366.7309,-332.9633 359.0616,-323.4565 351.649,-314.268\"/>\n",
       "<polygon fill=\"#000000\" stroke=\"#000000\" points=\"354.2224,-311.8836 345.2195,-306.2981 348.7742,-316.2788 354.2224,-311.8836\"/>\n",
       "</g>\n",
       "<!-- 7 -->\n",
       "<g id=\"node8\" class=\"node\">\n",
       "<title>7</title>\n",
       "<path fill=\"#e58139\" fill-opacity=\"0.894118\" stroke=\"#000000\" d=\"M578.5,-306C578.5,-306 428.5,-306 428.5,-306 422.5,-306 416.5,-300 416.5,-294 416.5,-294 416.5,-235 416.5,-235 416.5,-229 422.5,-223 428.5,-223 428.5,-223 578.5,-223 578.5,-223 584.5,-223 590.5,-229 590.5,-235 590.5,-235 590.5,-294 590.5,-294 590.5,-300 584.5,-306 578.5,-306\"/>\n",
       "<text text-anchor=\"middle\" x=\"503.5\" y=\"-290.8\" font-family=\"Helvetica,sans-Serif\" font-size=\"14.00\" fill=\"#000000\">sepal_length_cm &lt;= 5.85</text>\n",
       "<text text-anchor=\"middle\" x=\"503.5\" y=\"-275.8\" font-family=\"Helvetica,sans-Serif\" font-size=\"14.00\" fill=\"#000000\">gini = 0.175</text>\n",
       "<text text-anchor=\"middle\" x=\"503.5\" y=\"-260.8\" font-family=\"Helvetica,sans-Serif\" font-size=\"14.00\" fill=\"#000000\">samples = 22</text>\n",
       "<text text-anchor=\"middle\" x=\"503.5\" y=\"-245.8\" font-family=\"Helvetica,sans-Serif\" font-size=\"14.00\" fill=\"#000000\">value = [28, 3, 0]</text>\n",
       "<text text-anchor=\"middle\" x=\"503.5\" y=\"-230.8\" font-family=\"Helvetica,sans-Serif\" font-size=\"14.00\" fill=\"#000000\">class = Iris&#45;setosa</text>\n",
       "</g>\n",
       "<!-- 1&#45;&gt;7 -->\n",
       "<g id=\"edge7\" class=\"edge\">\n",
       "<title>1&#45;&gt;7</title>\n",
       "<path fill=\"none\" stroke=\"#000000\" d=\"M441.0761,-341.8796C448.2691,-332.9633 455.9384,-323.4565 463.351,-314.268\"/>\n",
       "<polygon fill=\"#000000\" stroke=\"#000000\" points=\"466.2258,-316.2788 469.7805,-306.2981 460.7776,-311.8836 466.2258,-316.2788\"/>\n",
       "</g>\n",
       "<!-- 3 -->\n",
       "<g id=\"node4\" class=\"node\">\n",
       "<title>3</title>\n",
       "<path fill=\"#e58139\" fill-opacity=\"0.749020\" stroke=\"#000000\" d=\"M216,-187C216,-187 69,-187 69,-187 63,-187 57,-181 57,-175 57,-175 57,-116 57,-116 57,-110 63,-104 69,-104 69,-104 216,-104 216,-104 222,-104 228,-110 228,-116 228,-116 228,-175 228,-175 228,-181 222,-187 216,-187\"/>\n",
       "<text text-anchor=\"middle\" x=\"142.5\" y=\"-171.8\" font-family=\"Helvetica,sans-Serif\" font-size=\"14.00\" fill=\"#000000\">petal_length_cm &lt;= 2.95</text>\n",
       "<text text-anchor=\"middle\" x=\"142.5\" y=\"-156.8\" font-family=\"Helvetica,sans-Serif\" font-size=\"14.00\" fill=\"#000000\">gini = 0.32</text>\n",
       "<text text-anchor=\"middle\" x=\"142.5\" y=\"-141.8\" font-family=\"Helvetica,sans-Serif\" font-size=\"14.00\" fill=\"#000000\">samples = 3</text>\n",
       "<text text-anchor=\"middle\" x=\"142.5\" y=\"-126.8\" font-family=\"Helvetica,sans-Serif\" font-size=\"14.00\" fill=\"#000000\">value = [4, 1, 0]</text>\n",
       "<text text-anchor=\"middle\" x=\"142.5\" y=\"-111.8\" font-family=\"Helvetica,sans-Serif\" font-size=\"14.00\" fill=\"#000000\">class = Iris&#45;setosa</text>\n",
       "</g>\n",
       "<!-- 2&#45;&gt;3 -->\n",
       "<g id=\"edge3\" class=\"edge\">\n",
       "<title>2&#45;&gt;3</title>\n",
       "<path fill=\"none\" stroke=\"#000000\" d=\"M252.392,-222.8796C238.6266,-213.1868 223.8701,-202.7961 209.7807,-192.8752\"/>\n",
       "<polygon fill=\"#000000\" stroke=\"#000000\" points=\"211.7661,-189.9926 201.5746,-187.0969 207.7359,-195.716 211.7661,-189.9926\"/>\n",
       "</g>\n",
       "<!-- 6 -->\n",
       "<g id=\"node7\" class=\"node\">\n",
       "<title>6</title>\n",
       "<path fill=\"#39e581\" stroke=\"#000000\" d=\"M382.5,-179.5C382.5,-179.5 258.5,-179.5 258.5,-179.5 252.5,-179.5 246.5,-173.5 246.5,-167.5 246.5,-167.5 246.5,-123.5 246.5,-123.5 246.5,-117.5 252.5,-111.5 258.5,-111.5 258.5,-111.5 382.5,-111.5 382.5,-111.5 388.5,-111.5 394.5,-117.5 394.5,-123.5 394.5,-123.5 394.5,-167.5 394.5,-167.5 394.5,-173.5 388.5,-179.5 382.5,-179.5\"/>\n",
       "<text text-anchor=\"middle\" x=\"320.5\" y=\"-164.3\" font-family=\"Helvetica,sans-Serif\" font-size=\"14.00\" fill=\"#000000\">gini = 0.0</text>\n",
       "<text text-anchor=\"middle\" x=\"320.5\" y=\"-149.3\" font-family=\"Helvetica,sans-Serif\" font-size=\"14.00\" fill=\"#000000\">samples = 23</text>\n",
       "<text text-anchor=\"middle\" x=\"320.5\" y=\"-134.3\" font-family=\"Helvetica,sans-Serif\" font-size=\"14.00\" fill=\"#000000\">value = [0, 39, 0]</text>\n",
       "<text text-anchor=\"middle\" x=\"320.5\" y=\"-119.3\" font-family=\"Helvetica,sans-Serif\" font-size=\"14.00\" fill=\"#000000\">class = Iris&#45;versicolor</text>\n",
       "</g>\n",
       "<!-- 2&#45;&gt;6 -->\n",
       "<g id=\"edge6\" class=\"edge\">\n",
       "<title>2&#45;&gt;6</title>\n",
       "<path fill=\"none\" stroke=\"#000000\" d=\"M314.6478,-222.8796C315.4545,-212.2134 316.3251,-200.7021 317.1419,-189.9015\"/>\n",
       "<polygon fill=\"#000000\" stroke=\"#000000\" points=\"320.6405,-190.0504 317.9048,-179.8149 313.6605,-189.5225 320.6405,-190.0504\"/>\n",
       "</g>\n",
       "<!-- 4 -->\n",
       "<g id=\"node5\" class=\"node\">\n",
       "<title>4</title>\n",
       "<path fill=\"#e58139\" stroke=\"#000000\" d=\"M117,-68C117,-68 12,-68 12,-68 6,-68 0,-62 0,-56 0,-56 0,-12 0,-12 0,-6 6,0 12,0 12,0 117,0 117,0 123,0 129,-6 129,-12 129,-12 129,-56 129,-56 129,-62 123,-68 117,-68\"/>\n",
       "<text text-anchor=\"middle\" x=\"64.5\" y=\"-52.8\" font-family=\"Helvetica,sans-Serif\" font-size=\"14.00\" fill=\"#000000\">gini = 0.0</text>\n",
       "<text text-anchor=\"middle\" x=\"64.5\" y=\"-37.8\" font-family=\"Helvetica,sans-Serif\" font-size=\"14.00\" fill=\"#000000\">samples = 2</text>\n",
       "<text text-anchor=\"middle\" x=\"64.5\" y=\"-22.8\" font-family=\"Helvetica,sans-Serif\" font-size=\"14.00\" fill=\"#000000\">value = [4, 0, 0]</text>\n",
       "<text text-anchor=\"middle\" x=\"64.5\" y=\"-7.8\" font-family=\"Helvetica,sans-Serif\" font-size=\"14.00\" fill=\"#000000\">class = Iris&#45;setosa</text>\n",
       "</g>\n",
       "<!-- 3&#45;&gt;4 -->\n",
       "<g id=\"edge4\" class=\"edge\">\n",
       "<title>3&#45;&gt;4</title>\n",
       "<path fill=\"none\" stroke=\"#000000\" d=\"M113.4557,-103.9815C107.2192,-95.0666 100.6187,-85.6313 94.3522,-76.6734\"/>\n",
       "<polygon fill=\"#000000\" stroke=\"#000000\" points=\"97.0693,-74.4515 88.4692,-68.2637 91.3335,-78.464 97.0693,-74.4515\"/>\n",
       "</g>\n",
       "<!-- 5 -->\n",
       "<g id=\"node6\" class=\"node\">\n",
       "<title>5</title>\n",
       "<path fill=\"#39e581\" stroke=\"#000000\" d=\"M283.5,-68C283.5,-68 159.5,-68 159.5,-68 153.5,-68 147.5,-62 147.5,-56 147.5,-56 147.5,-12 147.5,-12 147.5,-6 153.5,0 159.5,0 159.5,0 283.5,0 283.5,0 289.5,0 295.5,-6 295.5,-12 295.5,-12 295.5,-56 295.5,-56 295.5,-62 289.5,-68 283.5,-68\"/>\n",
       "<text text-anchor=\"middle\" x=\"221.5\" y=\"-52.8\" font-family=\"Helvetica,sans-Serif\" font-size=\"14.00\" fill=\"#000000\">gini = 0.0</text>\n",
       "<text text-anchor=\"middle\" x=\"221.5\" y=\"-37.8\" font-family=\"Helvetica,sans-Serif\" font-size=\"14.00\" fill=\"#000000\">samples = 1</text>\n",
       "<text text-anchor=\"middle\" x=\"221.5\" y=\"-22.8\" font-family=\"Helvetica,sans-Serif\" font-size=\"14.00\" fill=\"#000000\">value = [0, 1, 0]</text>\n",
       "<text text-anchor=\"middle\" x=\"221.5\" y=\"-7.8\" font-family=\"Helvetica,sans-Serif\" font-size=\"14.00\" fill=\"#000000\">class = Iris&#45;versicolor</text>\n",
       "</g>\n",
       "<!-- 3&#45;&gt;5 -->\n",
       "<g id=\"edge5\" class=\"edge\">\n",
       "<title>3&#45;&gt;5</title>\n",
       "<path fill=\"none\" stroke=\"#000000\" d=\"M171.9167,-103.9815C178.2331,-95.0666 184.9182,-85.6313 191.2651,-76.6734\"/>\n",
       "<polygon fill=\"#000000\" stroke=\"#000000\" points=\"194.2981,-78.4466 197.2235,-68.2637 188.5864,-74.3998 194.2981,-78.4466\"/>\n",
       "</g>\n",
       "<!-- 8 -->\n",
       "<g id=\"node9\" class=\"node\">\n",
       "<title>8</title>\n",
       "<path fill=\"#e58139\" stroke=\"#000000\" d=\"M547,-179.5C547,-179.5 442,-179.5 442,-179.5 436,-179.5 430,-173.5 430,-167.5 430,-167.5 430,-123.5 430,-123.5 430,-117.5 436,-111.5 442,-111.5 442,-111.5 547,-111.5 547,-111.5 553,-111.5 559,-117.5 559,-123.5 559,-123.5 559,-167.5 559,-167.5 559,-173.5 553,-179.5 547,-179.5\"/>\n",
       "<text text-anchor=\"middle\" x=\"494.5\" y=\"-164.3\" font-family=\"Helvetica,sans-Serif\" font-size=\"14.00\" fill=\"#000000\">gini = 0.0</text>\n",
       "<text text-anchor=\"middle\" x=\"494.5\" y=\"-149.3\" font-family=\"Helvetica,sans-Serif\" font-size=\"14.00\" fill=\"#000000\">samples = 19</text>\n",
       "<text text-anchor=\"middle\" x=\"494.5\" y=\"-134.3\" font-family=\"Helvetica,sans-Serif\" font-size=\"14.00\" fill=\"#000000\">value = [28, 0, 0]</text>\n",
       "<text text-anchor=\"middle\" x=\"494.5\" y=\"-119.3\" font-family=\"Helvetica,sans-Serif\" font-size=\"14.00\" fill=\"#000000\">class = Iris&#45;setosa</text>\n",
       "</g>\n",
       "<!-- 7&#45;&gt;8 -->\n",
       "<g id=\"edge8\" class=\"edge\">\n",
       "<title>7&#45;&gt;8</title>\n",
       "<path fill=\"none\" stroke=\"#000000\" d=\"M500.3522,-222.8796C499.5455,-212.2134 498.6749,-200.7021 497.8581,-189.9015\"/>\n",
       "<polygon fill=\"#000000\" stroke=\"#000000\" points=\"501.3395,-189.5225 497.0952,-179.8149 494.3595,-190.0504 501.3395,-189.5225\"/>\n",
       "</g>\n",
       "<!-- 9 -->\n",
       "<g id=\"node10\" class=\"node\">\n",
       "<title>9</title>\n",
       "<path fill=\"#39e581\" stroke=\"#000000\" d=\"M713.5,-179.5C713.5,-179.5 589.5,-179.5 589.5,-179.5 583.5,-179.5 577.5,-173.5 577.5,-167.5 577.5,-167.5 577.5,-123.5 577.5,-123.5 577.5,-117.5 583.5,-111.5 589.5,-111.5 589.5,-111.5 713.5,-111.5 713.5,-111.5 719.5,-111.5 725.5,-117.5 725.5,-123.5 725.5,-123.5 725.5,-167.5 725.5,-167.5 725.5,-173.5 719.5,-179.5 713.5,-179.5\"/>\n",
       "<text text-anchor=\"middle\" x=\"651.5\" y=\"-164.3\" font-family=\"Helvetica,sans-Serif\" font-size=\"14.00\" fill=\"#000000\">gini = 0.0</text>\n",
       "<text text-anchor=\"middle\" x=\"651.5\" y=\"-149.3\" font-family=\"Helvetica,sans-Serif\" font-size=\"14.00\" fill=\"#000000\">samples = 3</text>\n",
       "<text text-anchor=\"middle\" x=\"651.5\" y=\"-134.3\" font-family=\"Helvetica,sans-Serif\" font-size=\"14.00\" fill=\"#000000\">value = [0, 3, 0]</text>\n",
       "<text text-anchor=\"middle\" x=\"651.5\" y=\"-119.3\" font-family=\"Helvetica,sans-Serif\" font-size=\"14.00\" fill=\"#000000\">class = Iris&#45;versicolor</text>\n",
       "</g>\n",
       "<!-- 7&#45;&gt;9 -->\n",
       "<g id=\"edge9\" class=\"edge\">\n",
       "<title>7&#45;&gt;9</title>\n",
       "<path fill=\"none\" stroke=\"#000000\" d=\"M555.2632,-222.8796C570.0331,-211.0038 586.1059,-198.0804 600.8108,-186.2568\"/>\n",
       "<polygon fill=\"#000000\" stroke=\"#000000\" points=\"603.2225,-188.8088 608.8226,-179.8149 598.8361,-183.3535 603.2225,-188.8088\"/>\n",
       "</g>\n",
       "</g>\n",
       "</svg>\n"
      ],
      "text/plain": [
       "<graphviz.files.Source at 0x1a1f0a3550>"
      ]
     },
     "execution_count": 102,
     "metadata": {},
     "output_type": "execute_result"
    }
   ],
   "source": [
    "viz_tree(rfclf.estimators_[2], data['class'].unique(), feature_names_array)"
   ]
  },
  {
   "cell_type": "code",
   "execution_count": 103,
   "metadata": {},
   "outputs": [
    {
     "name": "stdout",
     "output_type": "stream",
     "text": [
      "Paths= \n",
      "{((0, 3, '<=', 1.7), (1, 1, '>', 3.05), (7, 0, '<=', 5.85), (8, -2, '<=', -2.0)), ((0, 3, '<=', 1.7), (1, 1, '<=', 3.05), (2, 0, '<=', 4.85), (3, 2, '<=', 2.95), (4, -2, '<=', -2.0))}\n",
      " \n",
      "Simplified Rules= \n",
      "(0, 3, '<=', 1.7) & ((1, 1, '>', 3.05) | (2, 0, '<=', 4.85)) & ((1, 1, '>', 3.05) | (3, 2, '<=', 2.95)) & ((7, 0, '<=', 5.85) | (1, 1, '<=', 3.05))\n",
      " \n",
      "Redundant conditions removed paths= \n",
      "{((0, 3, '<=', 1.7), (1, 1, '>', 3.05), (7, 0, '<=', 5.85), (8, -2, '<=', -2.0)), ((0, 3, '<=', 1.7), (1, 1, '<=', 3.05), (2, 0, '<=', 4.85), (3, 2, '<=', 2.95), (4, -2, '<=', -2.0))}\n",
      " \n",
      "Simplified after redudancy rules= \n",
      "(0, 3, '<=', 1.7) & ((1, 1, '>', 3.05) | (2, 0, '<=', 4.85)) & ((1, 1, '>', 3.05) | (3, 2, '<=', 2.95)) & ((7, 0, '<=', 5.85) | (1, 1, '<=', 3.05))\n"
     ]
    }
   ],
   "source": [
    "lst = []\n",
    "t1_paths = set()\n",
    "get_paths_for(\"Iris-setosa\", rfclf.estimators_[2].tree_, 0, lst, t1_paths, '<=')\n",
    "print(\"Paths= \")\n",
    "print(t1_paths)\n",
    "\n",
    "\n",
    "rule_dict = {}\n",
    "var_dict = {}\n",
    "\n",
    "# Simplify rule sets for this rf tree\n",
    "print(\" \")\n",
    "print(\"Simplified Rules= \")\n",
    "print(print_final_rule(simplify_logic(sympify(create_big_or_rule(t1_paths), evaluate=False))))\n",
    "\n",
    "\n",
    "# ------- Redundancy removal ------- #\n",
    "t1_paths = redundancy_condition_removal(t1_paths)\n",
    "print(\" \")\n",
    "print(\"Redundant conditions removed paths= \")\n",
    "print(t1_paths)\n",
    "\n",
    "\n",
    "rule_dict = {}\n",
    "var_dict = {}\n",
    "\n",
    "# Simplify rule sets for this rf tree\n",
    "print(\" \")\n",
    "print(\"Simplified after redudancy rules= \")\n",
    "print(print_final_rule(simplify_logic(sympify(create_big_or_rule(t1_paths), evaluate=False))))"
   ]
  },
  {
   "cell_type": "markdown",
   "metadata": {},
   "source": [
    "##### Subtree 4"
   ]
  },
  {
   "cell_type": "code",
   "execution_count": 104,
   "metadata": {},
   "outputs": [
    {
     "data": {
      "image/svg+xml": [
       "<?xml version=\"1.0\" encoding=\"UTF-8\" standalone=\"no\"?>\n",
       "<!DOCTYPE svg PUBLIC \"-//W3C//DTD SVG 1.1//EN\"\n",
       " \"http://www.w3.org/Graphics/SVG/1.1/DTD/svg11.dtd\">\n",
       "<!-- Generated by graphviz version 2.40.1 (20161225.0304)\n",
       " -->\n",
       "<!-- Title: Tree Pages: 1 -->\n",
       "<svg width=\"645pt\" height=\"552pt\"\n",
       " viewBox=\"0.00 0.00 644.50 552.00\" xmlns=\"http://www.w3.org/2000/svg\" xmlns:xlink=\"http://www.w3.org/1999/xlink\">\n",
       "<g id=\"graph0\" class=\"graph\" transform=\"scale(1 1) rotate(0) translate(4 548)\">\n",
       "<title>Tree</title>\n",
       "<polygon fill=\"#ffffff\" stroke=\"transparent\" points=\"-4,4 -4,-548 640.5,-548 640.5,4 -4,4\"/>\n",
       "<!-- 0 -->\n",
       "<g id=\"node1\" class=\"node\">\n",
       "<title>0</title>\n",
       "<path fill=\"#e58139\" fill-opacity=\"0.152941\" stroke=\"#000000\" d=\"M384.5,-544C384.5,-544 234.5,-544 234.5,-544 228.5,-544 222.5,-538 222.5,-532 222.5,-532 222.5,-473 222.5,-473 222.5,-467 228.5,-461 234.5,-461 234.5,-461 384.5,-461 384.5,-461 390.5,-461 396.5,-467 396.5,-473 396.5,-473 396.5,-532 396.5,-532 396.5,-538 390.5,-544 384.5,-544\"/>\n",
       "<text text-anchor=\"middle\" x=\"309.5\" y=\"-528.8\" font-family=\"Helvetica,sans-Serif\" font-size=\"14.00\" fill=\"#000000\">sepal_length_cm &lt;= 5.55</text>\n",
       "<text text-anchor=\"middle\" x=\"309.5\" y=\"-513.8\" font-family=\"Helvetica,sans-Serif\" font-size=\"14.00\" fill=\"#000000\">gini = 0.658</text>\n",
       "<text text-anchor=\"middle\" x=\"309.5\" y=\"-498.8\" font-family=\"Helvetica,sans-Serif\" font-size=\"14.00\" fill=\"#000000\">samples = 71</text>\n",
       "<text text-anchor=\"middle\" x=\"309.5\" y=\"-483.8\" font-family=\"Helvetica,sans-Serif\" font-size=\"14.00\" fill=\"#000000\">value = [49, 35, 36]</text>\n",
       "<text text-anchor=\"middle\" x=\"309.5\" y=\"-468.8\" font-family=\"Helvetica,sans-Serif\" font-size=\"14.00\" fill=\"#000000\">class = Iris&#45;setosa</text>\n",
       "</g>\n",
       "<!-- 1 -->\n",
       "<g id=\"node2\" class=\"node\">\n",
       "<title>1</title>\n",
       "<path fill=\"#e58139\" fill-opacity=\"0.705882\" stroke=\"#000000\" d=\"M292,-425C292,-425 145,-425 145,-425 139,-425 133,-419 133,-413 133,-413 133,-354 133,-354 133,-348 139,-342 145,-342 145,-342 292,-342 292,-342 298,-342 304,-348 304,-354 304,-354 304,-413 304,-413 304,-419 298,-425 292,-425\"/>\n",
       "<text text-anchor=\"middle\" x=\"218.5\" y=\"-409.8\" font-family=\"Helvetica,sans-Serif\" font-size=\"14.00\" fill=\"#000000\">petal_length_cm &lt;= 2.45</text>\n",
       "<text text-anchor=\"middle\" x=\"218.5\" y=\"-394.8\" font-family=\"Helvetica,sans-Serif\" font-size=\"14.00\" fill=\"#000000\">gini = 0.35</text>\n",
       "<text text-anchor=\"middle\" x=\"218.5\" y=\"-379.8\" font-family=\"Helvetica,sans-Serif\" font-size=\"14.00\" fill=\"#000000\">samples = 32</text>\n",
       "<text text-anchor=\"middle\" x=\"218.5\" y=\"-364.8\" font-family=\"Helvetica,sans-Serif\" font-size=\"14.00\" fill=\"#000000\">value = [41, 12, 0]</text>\n",
       "<text text-anchor=\"middle\" x=\"218.5\" y=\"-349.8\" font-family=\"Helvetica,sans-Serif\" font-size=\"14.00\" fill=\"#000000\">class = Iris&#45;setosa</text>\n",
       "</g>\n",
       "<!-- 0&#45;&gt;1 -->\n",
       "<g id=\"edge1\" class=\"edge\">\n",
       "<title>0&#45;&gt;1</title>\n",
       "<path fill=\"none\" stroke=\"#000000\" d=\"M277.6726,-460.8796C270.8543,-451.9633 263.5844,-442.4565 256.5579,-433.268\"/>\n",
       "<polygon fill=\"#000000\" stroke=\"#000000\" points=\"259.318,-431.1156 250.4632,-425.2981 253.7575,-435.3678 259.318,-431.1156\"/>\n",
       "<text text-anchor=\"middle\" x=\"247.1591\" y=\"-446.3788\" font-family=\"Helvetica,sans-Serif\" font-size=\"14.00\" fill=\"#000000\">True</text>\n",
       "</g>\n",
       "<!-- 4 -->\n",
       "<g id=\"node5\" class=\"node\">\n",
       "<title>4</title>\n",
       "<path fill=\"#8139e5\" fill-opacity=\"0.294118\" stroke=\"#000000\" d=\"M467,-425C467,-425 334,-425 334,-425 328,-425 322,-419 322,-413 322,-413 322,-354 322,-354 322,-348 328,-342 334,-342 334,-342 467,-342 467,-342 473,-342 479,-348 479,-354 479,-354 479,-413 479,-413 479,-419 473,-425 467,-425\"/>\n",
       "<text text-anchor=\"middle\" x=\"400.5\" y=\"-409.8\" font-family=\"Helvetica,sans-Serif\" font-size=\"14.00\" fill=\"#000000\">petal_width_cm &lt;= 1.7</text>\n",
       "<text text-anchor=\"middle\" x=\"400.5\" y=\"-394.8\" font-family=\"Helvetica,sans-Serif\" font-size=\"14.00\" fill=\"#000000\">gini = 0.579</text>\n",
       "<text text-anchor=\"middle\" x=\"400.5\" y=\"-379.8\" font-family=\"Helvetica,sans-Serif\" font-size=\"14.00\" fill=\"#000000\">samples = 39</text>\n",
       "<text text-anchor=\"middle\" x=\"400.5\" y=\"-364.8\" font-family=\"Helvetica,sans-Serif\" font-size=\"14.00\" fill=\"#000000\">value = [8, 23, 36]</text>\n",
       "<text text-anchor=\"middle\" x=\"400.5\" y=\"-349.8\" font-family=\"Helvetica,sans-Serif\" font-size=\"14.00\" fill=\"#000000\">class = Iris&#45;virginica</text>\n",
       "</g>\n",
       "<!-- 0&#45;&gt;4 -->\n",
       "<g id=\"edge4\" class=\"edge\">\n",
       "<title>0&#45;&gt;4</title>\n",
       "<path fill=\"none\" stroke=\"#000000\" d=\"M341.3274,-460.8796C348.1457,-451.9633 355.4156,-442.4565 362.4421,-433.268\"/>\n",
       "<polygon fill=\"#000000\" stroke=\"#000000\" points=\"365.2425,-435.3678 368.5368,-425.2981 359.682,-431.1156 365.2425,-435.3678\"/>\n",
       "<text text-anchor=\"middle\" x=\"371.8409\" y=\"-446.3788\" font-family=\"Helvetica,sans-Serif\" font-size=\"14.00\" fill=\"#000000\">False</text>\n",
       "</g>\n",
       "<!-- 2 -->\n",
       "<g id=\"node3\" class=\"node\">\n",
       "<title>2</title>\n",
       "<path fill=\"#e58139\" stroke=\"#000000\" d=\"M117,-298.5C117,-298.5 12,-298.5 12,-298.5 6,-298.5 0,-292.5 0,-286.5 0,-286.5 0,-242.5 0,-242.5 0,-236.5 6,-230.5 12,-230.5 12,-230.5 117,-230.5 117,-230.5 123,-230.5 129,-236.5 129,-242.5 129,-242.5 129,-286.5 129,-286.5 129,-292.5 123,-298.5 117,-298.5\"/>\n",
       "<text text-anchor=\"middle\" x=\"64.5\" y=\"-283.3\" font-family=\"Helvetica,sans-Serif\" font-size=\"14.00\" fill=\"#000000\">gini = 0.0</text>\n",
       "<text text-anchor=\"middle\" x=\"64.5\" y=\"-268.3\" font-family=\"Helvetica,sans-Serif\" font-size=\"14.00\" fill=\"#000000\">samples = 22</text>\n",
       "<text text-anchor=\"middle\" x=\"64.5\" y=\"-253.3\" font-family=\"Helvetica,sans-Serif\" font-size=\"14.00\" fill=\"#000000\">value = [41, 0, 0]</text>\n",
       "<text text-anchor=\"middle\" x=\"64.5\" y=\"-238.3\" font-family=\"Helvetica,sans-Serif\" font-size=\"14.00\" fill=\"#000000\">class = Iris&#45;setosa</text>\n",
       "</g>\n",
       "<!-- 1&#45;&gt;2 -->\n",
       "<g id=\"edge2\" class=\"edge\">\n",
       "<title>1&#45;&gt;2</title>\n",
       "<path fill=\"none\" stroke=\"#000000\" d=\"M164.6383,-341.8796C149.2696,-330.0038 132.5453,-317.0804 117.2441,-305.2568\"/>\n",
       "<polygon fill=\"#000000\" stroke=\"#000000\" points=\"118.9605,-302.1599 108.9076,-298.8149 114.6804,-307.699 118.9605,-302.1599\"/>\n",
       "</g>\n",
       "<!-- 3 -->\n",
       "<g id=\"node4\" class=\"node\">\n",
       "<title>3</title>\n",
       "<path fill=\"#39e581\" stroke=\"#000000\" d=\"M283.5,-298.5C283.5,-298.5 159.5,-298.5 159.5,-298.5 153.5,-298.5 147.5,-292.5 147.5,-286.5 147.5,-286.5 147.5,-242.5 147.5,-242.5 147.5,-236.5 153.5,-230.5 159.5,-230.5 159.5,-230.5 283.5,-230.5 283.5,-230.5 289.5,-230.5 295.5,-236.5 295.5,-242.5 295.5,-242.5 295.5,-286.5 295.5,-286.5 295.5,-292.5 289.5,-298.5 283.5,-298.5\"/>\n",
       "<text text-anchor=\"middle\" x=\"221.5\" y=\"-283.3\" font-family=\"Helvetica,sans-Serif\" font-size=\"14.00\" fill=\"#000000\">gini = 0.0</text>\n",
       "<text text-anchor=\"middle\" x=\"221.5\" y=\"-268.3\" font-family=\"Helvetica,sans-Serif\" font-size=\"14.00\" fill=\"#000000\">samples = 10</text>\n",
       "<text text-anchor=\"middle\" x=\"221.5\" y=\"-253.3\" font-family=\"Helvetica,sans-Serif\" font-size=\"14.00\" fill=\"#000000\">value = [0, 12, 0]</text>\n",
       "<text text-anchor=\"middle\" x=\"221.5\" y=\"-238.3\" font-family=\"Helvetica,sans-Serif\" font-size=\"14.00\" fill=\"#000000\">class = Iris&#45;versicolor</text>\n",
       "</g>\n",
       "<!-- 1&#45;&gt;3 -->\n",
       "<g id=\"edge3\" class=\"edge\">\n",
       "<title>1&#45;&gt;3</title>\n",
       "<path fill=\"none\" stroke=\"#000000\" d=\"M219.5493,-341.8796C219.8182,-331.2134 220.1084,-319.7021 220.3806,-308.9015\"/>\n",
       "<polygon fill=\"#000000\" stroke=\"#000000\" points=\"223.8817,-308.9 220.6349,-298.8149 216.8839,-308.7235 223.8817,-308.9\"/>\n",
       "</g>\n",
       "<!-- 5 -->\n",
       "<g id=\"node6\" class=\"node\">\n",
       "<title>5</title>\n",
       "<path fill=\"#39e581\" fill-opacity=\"0.623529\" stroke=\"#000000\" d=\"M464,-306C464,-306 331,-306 331,-306 325,-306 319,-300 319,-294 319,-294 319,-235 319,-235 319,-229 325,-223 331,-223 331,-223 464,-223 464,-223 470,-223 476,-229 476,-235 476,-235 476,-294 476,-294 476,-300 470,-306 464,-306\"/>\n",
       "<text text-anchor=\"middle\" x=\"397.5\" y=\"-290.8\" font-family=\"Helvetica,sans-Serif\" font-size=\"14.00\" fill=\"#000000\">petal_width_cm &lt;= 0.7</text>\n",
       "<text text-anchor=\"middle\" x=\"397.5\" y=\"-275.8\" font-family=\"Helvetica,sans-Serif\" font-size=\"14.00\" fill=\"#000000\">gini = 0.42</text>\n",
       "<text text-anchor=\"middle\" x=\"397.5\" y=\"-260.8\" font-family=\"Helvetica,sans-Serif\" font-size=\"14.00\" fill=\"#000000\">samples = 20</text>\n",
       "<text text-anchor=\"middle\" x=\"397.5\" y=\"-245.8\" font-family=\"Helvetica,sans-Serif\" font-size=\"14.00\" fill=\"#000000\">value = [8, 23, 1]</text>\n",
       "<text text-anchor=\"middle\" x=\"397.5\" y=\"-230.8\" font-family=\"Helvetica,sans-Serif\" font-size=\"14.00\" fill=\"#000000\">class = Iris&#45;versicolor</text>\n",
       "</g>\n",
       "<!-- 4&#45;&gt;5 -->\n",
       "<g id=\"edge5\" class=\"edge\">\n",
       "<title>4&#45;&gt;5</title>\n",
       "<path fill=\"none\" stroke=\"#000000\" d=\"M399.4507,-341.8796C399.2441,-333.6838 399.0249,-324.9891 398.811,-316.5013\"/>\n",
       "<polygon fill=\"#000000\" stroke=\"#000000\" points=\"402.3047,-316.2067 398.5537,-306.2981 395.307,-316.3831 402.3047,-316.2067\"/>\n",
       "</g>\n",
       "<!-- 10 -->\n",
       "<g id=\"node11\" class=\"node\">\n",
       "<title>10</title>\n",
       "<path fill=\"#8139e5\" stroke=\"#000000\" d=\"M621,-298.5C621,-298.5 506,-298.5 506,-298.5 500,-298.5 494,-292.5 494,-286.5 494,-286.5 494,-242.5 494,-242.5 494,-236.5 500,-230.5 506,-230.5 506,-230.5 621,-230.5 621,-230.5 627,-230.5 633,-236.5 633,-242.5 633,-242.5 633,-286.5 633,-286.5 633,-292.5 627,-298.5 621,-298.5\"/>\n",
       "<text text-anchor=\"middle\" x=\"563.5\" y=\"-283.3\" font-family=\"Helvetica,sans-Serif\" font-size=\"14.00\" fill=\"#000000\">gini = 0.0</text>\n",
       "<text text-anchor=\"middle\" x=\"563.5\" y=\"-268.3\" font-family=\"Helvetica,sans-Serif\" font-size=\"14.00\" fill=\"#000000\">samples = 19</text>\n",
       "<text text-anchor=\"middle\" x=\"563.5\" y=\"-253.3\" font-family=\"Helvetica,sans-Serif\" font-size=\"14.00\" fill=\"#000000\">value = [0, 0, 35]</text>\n",
       "<text text-anchor=\"middle\" x=\"563.5\" y=\"-238.3\" font-family=\"Helvetica,sans-Serif\" font-size=\"14.00\" fill=\"#000000\">class = Iris&#45;virginica</text>\n",
       "</g>\n",
       "<!-- 4&#45;&gt;10 -->\n",
       "<g id=\"edge10\" class=\"edge\">\n",
       "<title>4&#45;&gt;10</title>\n",
       "<path fill=\"none\" stroke=\"#000000\" d=\"M457.5095,-341.8796C474.0051,-329.8368 491.9763,-316.7167 508.3559,-304.7586\"/>\n",
       "<polygon fill=\"#000000\" stroke=\"#000000\" points=\"510.7472,-307.3463 516.76,-298.623 506.6196,-301.6927 510.7472,-307.3463\"/>\n",
       "</g>\n",
       "<!-- 6 -->\n",
       "<g id=\"node7\" class=\"node\">\n",
       "<title>6</title>\n",
       "<path fill=\"#e58139\" stroke=\"#000000\" d=\"M368,-179.5C368,-179.5 263,-179.5 263,-179.5 257,-179.5 251,-173.5 251,-167.5 251,-167.5 251,-123.5 251,-123.5 251,-117.5 257,-111.5 263,-111.5 263,-111.5 368,-111.5 368,-111.5 374,-111.5 380,-117.5 380,-123.5 380,-123.5 380,-167.5 380,-167.5 380,-173.5 374,-179.5 368,-179.5\"/>\n",
       "<text text-anchor=\"middle\" x=\"315.5\" y=\"-164.3\" font-family=\"Helvetica,sans-Serif\" font-size=\"14.00\" fill=\"#000000\">gini = 0.0</text>\n",
       "<text text-anchor=\"middle\" x=\"315.5\" y=\"-149.3\" font-family=\"Helvetica,sans-Serif\" font-size=\"14.00\" fill=\"#000000\">samples = 4</text>\n",
       "<text text-anchor=\"middle\" x=\"315.5\" y=\"-134.3\" font-family=\"Helvetica,sans-Serif\" font-size=\"14.00\" fill=\"#000000\">value = [8, 0, 0]</text>\n",
       "<text text-anchor=\"middle\" x=\"315.5\" y=\"-119.3\" font-family=\"Helvetica,sans-Serif\" font-size=\"14.00\" fill=\"#000000\">class = Iris&#45;setosa</text>\n",
       "</g>\n",
       "<!-- 5&#45;&gt;6 -->\n",
       "<g id=\"edge6\" class=\"edge\">\n",
       "<title>5&#45;&gt;6</title>\n",
       "<path fill=\"none\" stroke=\"#000000\" d=\"M368.8204,-222.8796C361.0917,-211.6636 352.7191,-199.5131 344.9492,-188.2372\"/>\n",
       "<polygon fill=\"#000000\" stroke=\"#000000\" points=\"347.7018,-186.0634 339.1456,-179.8149 341.9377,-190.0353 347.7018,-186.0634\"/>\n",
       "</g>\n",
       "<!-- 7 -->\n",
       "<g id=\"node8\" class=\"node\">\n",
       "<title>7</title>\n",
       "<path fill=\"#39e581\" fill-opacity=\"0.956863\" stroke=\"#000000\" d=\"M549,-187C549,-187 410,-187 410,-187 404,-187 398,-181 398,-175 398,-175 398,-116 398,-116 398,-110 404,-104 410,-104 410,-104 549,-104 549,-104 555,-104 561,-110 561,-116 561,-116 561,-175 561,-175 561,-181 555,-187 549,-187\"/>\n",
       "<text text-anchor=\"middle\" x=\"479.5\" y=\"-171.8\" font-family=\"Helvetica,sans-Serif\" font-size=\"14.00\" fill=\"#000000\">petal_length_cm &lt;= 4.9</text>\n",
       "<text text-anchor=\"middle\" x=\"479.5\" y=\"-156.8\" font-family=\"Helvetica,sans-Serif\" font-size=\"14.00\" fill=\"#000000\">gini = 0.08</text>\n",
       "<text text-anchor=\"middle\" x=\"479.5\" y=\"-141.8\" font-family=\"Helvetica,sans-Serif\" font-size=\"14.00\" fill=\"#000000\">samples = 16</text>\n",
       "<text text-anchor=\"middle\" x=\"479.5\" y=\"-126.8\" font-family=\"Helvetica,sans-Serif\" font-size=\"14.00\" fill=\"#000000\">value = [0, 23, 1]</text>\n",
       "<text text-anchor=\"middle\" x=\"479.5\" y=\"-111.8\" font-family=\"Helvetica,sans-Serif\" font-size=\"14.00\" fill=\"#000000\">class = Iris&#45;versicolor</text>\n",
       "</g>\n",
       "<!-- 5&#45;&gt;7 -->\n",
       "<g id=\"edge7\" class=\"edge\">\n",
       "<title>5&#45;&gt;7</title>\n",
       "<path fill=\"none\" stroke=\"#000000\" d=\"M426.1796,-222.8796C432.2615,-214.0534 438.7422,-204.6485 445.0141,-195.5466\"/>\n",
       "<polygon fill=\"#000000\" stroke=\"#000000\" points=\"447.9059,-197.5184 450.698,-187.2981 442.1418,-193.5465 447.9059,-197.5184\"/>\n",
       "</g>\n",
       "<!-- 8 -->\n",
       "<g id=\"node9\" class=\"node\">\n",
       "<title>8</title>\n",
       "<path fill=\"#39e581\" stroke=\"#000000\" d=\"M458.5,-68C458.5,-68 334.5,-68 334.5,-68 328.5,-68 322.5,-62 322.5,-56 322.5,-56 322.5,-12 322.5,-12 322.5,-6 328.5,0 334.5,0 334.5,0 458.5,0 458.5,0 464.5,0 470.5,-6 470.5,-12 470.5,-12 470.5,-56 470.5,-56 470.5,-62 464.5,-68 458.5,-68\"/>\n",
       "<text text-anchor=\"middle\" x=\"396.5\" y=\"-52.8\" font-family=\"Helvetica,sans-Serif\" font-size=\"14.00\" fill=\"#000000\">gini = 0.0</text>\n",
       "<text text-anchor=\"middle\" x=\"396.5\" y=\"-37.8\" font-family=\"Helvetica,sans-Serif\" font-size=\"14.00\" fill=\"#000000\">samples = 14</text>\n",
       "<text text-anchor=\"middle\" x=\"396.5\" y=\"-22.8\" font-family=\"Helvetica,sans-Serif\" font-size=\"14.00\" fill=\"#000000\">value = [0, 21, 0]</text>\n",
       "<text text-anchor=\"middle\" x=\"396.5\" y=\"-7.8\" font-family=\"Helvetica,sans-Serif\" font-size=\"14.00\" fill=\"#000000\">class = Iris&#45;versicolor</text>\n",
       "</g>\n",
       "<!-- 7&#45;&gt;8 -->\n",
       "<g id=\"edge8\" class=\"edge\">\n",
       "<title>7&#45;&gt;8</title>\n",
       "<path fill=\"none\" stroke=\"#000000\" d=\"M448.5939,-103.9815C441.8892,-94.9747 434.7892,-85.4367 428.0597,-76.3965\"/>\n",
       "<polygon fill=\"#000000\" stroke=\"#000000\" points=\"430.7845,-74.1953 422.0057,-68.2637 425.1694,-78.3752 430.7845,-74.1953\"/>\n",
       "</g>\n",
       "<!-- 9 -->\n",
       "<g id=\"node10\" class=\"node\">\n",
       "<title>9</title>\n",
       "<path fill=\"#39e581\" fill-opacity=\"0.498039\" stroke=\"#000000\" d=\"M624.5,-68C624.5,-68 500.5,-68 500.5,-68 494.5,-68 488.5,-62 488.5,-56 488.5,-56 488.5,-12 488.5,-12 488.5,-6 494.5,0 500.5,0 500.5,0 624.5,0 624.5,0 630.5,0 636.5,-6 636.5,-12 636.5,-12 636.5,-56 636.5,-56 636.5,-62 630.5,-68 624.5,-68\"/>\n",
       "<text text-anchor=\"middle\" x=\"562.5\" y=\"-52.8\" font-family=\"Helvetica,sans-Serif\" font-size=\"14.00\" fill=\"#000000\">gini = 0.444</text>\n",
       "<text text-anchor=\"middle\" x=\"562.5\" y=\"-37.8\" font-family=\"Helvetica,sans-Serif\" font-size=\"14.00\" fill=\"#000000\">samples = 2</text>\n",
       "<text text-anchor=\"middle\" x=\"562.5\" y=\"-22.8\" font-family=\"Helvetica,sans-Serif\" font-size=\"14.00\" fill=\"#000000\">value = [0, 2, 1]</text>\n",
       "<text text-anchor=\"middle\" x=\"562.5\" y=\"-7.8\" font-family=\"Helvetica,sans-Serif\" font-size=\"14.00\" fill=\"#000000\">class = Iris&#45;versicolor</text>\n",
       "</g>\n",
       "<!-- 7&#45;&gt;9 -->\n",
       "<g id=\"edge9\" class=\"edge\">\n",
       "<title>7&#45;&gt;9</title>\n",
       "<path fill=\"none\" stroke=\"#000000\" d=\"M510.4061,-103.9815C517.1108,-94.9747 524.2108,-85.4367 530.9403,-76.3965\"/>\n",
       "<polygon fill=\"#000000\" stroke=\"#000000\" points=\"533.8306,-78.3752 536.9943,-68.2637 528.2155,-74.1953 533.8306,-78.3752\"/>\n",
       "</g>\n",
       "</g>\n",
       "</svg>\n"
      ],
      "text/plain": [
       "<graphviz.files.Source at 0x1a1f1d3320>"
      ]
     },
     "execution_count": 104,
     "metadata": {},
     "output_type": "execute_result"
    }
   ],
   "source": [
    "viz_tree(rfclf.estimators_[3], data['class'].unique(), feature_names_array)"
   ]
  },
  {
   "cell_type": "code",
   "execution_count": 106,
   "metadata": {},
   "outputs": [
    {
     "name": "stdout",
     "output_type": "stream",
     "text": [
      "Paths= \n",
      "{((0, 0, '<=', 5.55), (1, 2, '<=', 2.45), (2, -2, '<=', -2.0)), ((0, 0, '>', 5.55), (4, 3, '<=', 1.7), (5, 3, '<=', 0.7), (6, -2, '<=', -2.0))}\n",
      " \n",
      "Simplified Rules= \n",
      "((4, 3, '<=', 1.7) | (0, 0, '<=', 5.55)) & ((5, 3, '<=', 0.7) | (0, 0, '<=', 5.55)) & ((1, 2, '<=', 2.45) | (0, 0, '>', 5.55))\n",
      " \n",
      "Redundant conditions removed paths= \n",
      "{((0, 0, '<=', 5.55), (1, 2, '<=', 2.45), (2, -2, '<=', -2.0)), ((0, 0, '>', 5.55), (4, 3, '<=', 0.7), (6, -2, '<=', -2.0))}\n",
      " \n",
      "Simplified after redudancy rules= \n",
      "((0, 0, '<=', 5.55) & (1, 2, '<=', 2.45)) | ((4, 3, '<=', 0.7) & (0, 0, '>', 5.55))\n"
     ]
    }
   ],
   "source": [
    "lst = []\n",
    "t1_paths = set()\n",
    "get_paths_for(\"Iris-setosa\", rfclf.estimators_[3].tree_, 0, lst, t1_paths, '<=')\n",
    "print(\"Paths= \")\n",
    "print(t1_paths)\n",
    "\n",
    "\n",
    "rule_dict = {}\n",
    "var_dict = {}\n",
    "\n",
    "# Simplify rule sets for this rf tree\n",
    "print(\" \")\n",
    "print(\"Simplified Rules= \")\n",
    "print(print_final_rule(simplify_logic(sympify(create_big_or_rule(t1_paths), evaluate=False))))\n",
    "\n",
    "\n",
    "# ------- Redundancy removal ------- #\n",
    "t1_paths = redundancy_condition_removal(t1_paths)\n",
    "print(\" \")\n",
    "print(\"Redundant conditions removed paths= \")\n",
    "print(t1_paths)\n",
    "\n",
    "\n",
    "rule_dict = {}\n",
    "var_dict = {}\n",
    "\n",
    "# Simplify rule sets for this rf tree\n",
    "print(\" \")\n",
    "print(\"Simplified after redudancy rules= \")\n",
    "print(print_final_rule(simplify_logic(sympify(create_big_or_rule(t1_paths), evaluate=False))))"
   ]
  },
  {
   "cell_type": "markdown",
   "metadata": {},
   "source": [
    "##### Subtree 5"
   ]
  },
  {
   "cell_type": "code",
   "execution_count": 105,
   "metadata": {},
   "outputs": [
    {
     "data": {
      "image/svg+xml": [
       "<?xml version=\"1.0\" encoding=\"UTF-8\" standalone=\"no\"?>\n",
       "<!DOCTYPE svg PUBLIC \"-//W3C//DTD SVG 1.1//EN\"\n",
       " \"http://www.w3.org/Graphics/SVG/1.1/DTD/svg11.dtd\">\n",
       "<!-- Generated by graphviz version 2.40.1 (20161225.0304)\n",
       " -->\n",
       "<!-- Title: Tree Pages: 1 -->\n",
       "<svg width=\"415pt\" height=\"552pt\"\n",
       " viewBox=\"0.00 0.00 415.00 552.00\" xmlns=\"http://www.w3.org/2000/svg\" xmlns:xlink=\"http://www.w3.org/1999/xlink\">\n",
       "<g id=\"graph0\" class=\"graph\" transform=\"scale(1 1) rotate(0) translate(4 548)\">\n",
       "<title>Tree</title>\n",
       "<polygon fill=\"#ffffff\" stroke=\"transparent\" points=\"-4,4 -4,-548 411,-548 411,4 -4,4\"/>\n",
       "<!-- 0 -->\n",
       "<g id=\"node1\" class=\"node\">\n",
       "<title>0</title>\n",
       "<path fill=\"#8139e5\" fill-opacity=\"0.039216\" stroke=\"#000000\" d=\"M238.5,-544C238.5,-544 97.5,-544 97.5,-544 91.5,-544 85.5,-538 85.5,-532 85.5,-532 85.5,-473 85.5,-473 85.5,-467 91.5,-461 97.5,-461 97.5,-461 238.5,-461 238.5,-461 244.5,-461 250.5,-467 250.5,-473 250.5,-473 250.5,-532 250.5,-532 250.5,-538 244.5,-544 238.5,-544\"/>\n",
       "<text text-anchor=\"middle\" x=\"168\" y=\"-528.8\" font-family=\"Helvetica,sans-Serif\" font-size=\"14.00\" fill=\"#000000\">petal_width_cm &lt;= 0.75</text>\n",
       "<text text-anchor=\"middle\" x=\"168\" y=\"-513.8\" font-family=\"Helvetica,sans-Serif\" font-size=\"14.00\" fill=\"#000000\">gini = 0.664</text>\n",
       "<text text-anchor=\"middle\" x=\"168\" y=\"-498.8\" font-family=\"Helvetica,sans-Serif\" font-size=\"14.00\" fill=\"#000000\">samples = 71</text>\n",
       "<text text-anchor=\"middle\" x=\"168\" y=\"-483.8\" font-family=\"Helvetica,sans-Serif\" font-size=\"14.00\" fill=\"#000000\">value = [41, 35, 44]</text>\n",
       "<text text-anchor=\"middle\" x=\"168\" y=\"-468.8\" font-family=\"Helvetica,sans-Serif\" font-size=\"14.00\" fill=\"#000000\">class = Iris&#45;virginica</text>\n",
       "</g>\n",
       "<!-- 1 -->\n",
       "<g id=\"node2\" class=\"node\">\n",
       "<title>1</title>\n",
       "<path fill=\"#e58139\" stroke=\"#000000\" d=\"M140.5,-417.5C140.5,-417.5 35.5,-417.5 35.5,-417.5 29.5,-417.5 23.5,-411.5 23.5,-405.5 23.5,-405.5 23.5,-361.5 23.5,-361.5 23.5,-355.5 29.5,-349.5 35.5,-349.5 35.5,-349.5 140.5,-349.5 140.5,-349.5 146.5,-349.5 152.5,-355.5 152.5,-361.5 152.5,-361.5 152.5,-405.5 152.5,-405.5 152.5,-411.5 146.5,-417.5 140.5,-417.5\"/>\n",
       "<text text-anchor=\"middle\" x=\"88\" y=\"-402.3\" font-family=\"Helvetica,sans-Serif\" font-size=\"14.00\" fill=\"#000000\">gini = 0.0</text>\n",
       "<text text-anchor=\"middle\" x=\"88\" y=\"-387.3\" font-family=\"Helvetica,sans-Serif\" font-size=\"14.00\" fill=\"#000000\">samples = 26</text>\n",
       "<text text-anchor=\"middle\" x=\"88\" y=\"-372.3\" font-family=\"Helvetica,sans-Serif\" font-size=\"14.00\" fill=\"#000000\">value = [41, 0, 0]</text>\n",
       "<text text-anchor=\"middle\" x=\"88\" y=\"-357.3\" font-family=\"Helvetica,sans-Serif\" font-size=\"14.00\" fill=\"#000000\">class = Iris&#45;setosa</text>\n",
       "</g>\n",
       "<!-- 0&#45;&gt;1 -->\n",
       "<g id=\"edge1\" class=\"edge\">\n",
       "<title>0&#45;&gt;1</title>\n",
       "<path fill=\"none\" stroke=\"#000000\" d=\"M140.0199,-460.8796C132.4797,-449.6636 124.3113,-437.5131 116.7309,-426.2372\"/>\n",
       "<polygon fill=\"#000000\" stroke=\"#000000\" points=\"119.5527,-424.1612 111.0689,-417.8149 113.7434,-428.0667 119.5527,-424.1612\"/>\n",
       "<text text-anchor=\"middle\" x=\"106.2608\" y=\"-438.6482\" font-family=\"Helvetica,sans-Serif\" font-size=\"14.00\" fill=\"#000000\">True</text>\n",
       "</g>\n",
       "<!-- 2 -->\n",
       "<g id=\"node3\" class=\"node\">\n",
       "<title>2</title>\n",
       "<path fill=\"#8139e5\" fill-opacity=\"0.203922\" stroke=\"#000000\" d=\"M315.5,-425C315.5,-425 182.5,-425 182.5,-425 176.5,-425 170.5,-419 170.5,-413 170.5,-413 170.5,-354 170.5,-354 170.5,-348 176.5,-342 182.5,-342 182.5,-342 315.5,-342 315.5,-342 321.5,-342 327.5,-348 327.5,-354 327.5,-354 327.5,-413 327.5,-413 327.5,-419 321.5,-425 315.5,-425\"/>\n",
       "<text text-anchor=\"middle\" x=\"249\" y=\"-409.8\" font-family=\"Helvetica,sans-Serif\" font-size=\"14.00\" fill=\"#000000\">petal_width_cm &lt;= 1.7</text>\n",
       "<text text-anchor=\"middle\" x=\"249\" y=\"-394.8\" font-family=\"Helvetica,sans-Serif\" font-size=\"14.00\" fill=\"#000000\">gini = 0.494</text>\n",
       "<text text-anchor=\"middle\" x=\"249\" y=\"-379.8\" font-family=\"Helvetica,sans-Serif\" font-size=\"14.00\" fill=\"#000000\">samples = 45</text>\n",
       "<text text-anchor=\"middle\" x=\"249\" y=\"-364.8\" font-family=\"Helvetica,sans-Serif\" font-size=\"14.00\" fill=\"#000000\">value = [0, 35, 44]</text>\n",
       "<text text-anchor=\"middle\" x=\"249\" y=\"-349.8\" font-family=\"Helvetica,sans-Serif\" font-size=\"14.00\" fill=\"#000000\">class = Iris&#45;virginica</text>\n",
       "</g>\n",
       "<!-- 0&#45;&gt;2 -->\n",
       "<g id=\"edge2\" class=\"edge\">\n",
       "<title>0&#45;&gt;2</title>\n",
       "<path fill=\"none\" stroke=\"#000000\" d=\"M196.3299,-460.8796C202.2763,-452.1434 208.6086,-442.8404 214.745,-433.8253\"/>\n",
       "<polygon fill=\"#000000\" stroke=\"#000000\" points=\"217.8156,-435.5342 220.5492,-425.2981 212.0289,-431.5953 217.8156,-435.5342\"/>\n",
       "<text text-anchor=\"middle\" x=\"225.2157\" y=\"-446.1587\" font-family=\"Helvetica,sans-Serif\" font-size=\"14.00\" fill=\"#000000\">False</text>\n",
       "</g>\n",
       "<!-- 3 -->\n",
       "<g id=\"node4\" class=\"node\">\n",
       "<title>3</title>\n",
       "<path fill=\"#39e581\" fill-opacity=\"0.972549\" stroke=\"#000000\" d=\"M237,-306C237,-306 87,-306 87,-306 81,-306 75,-300 75,-294 75,-294 75,-235 75,-235 75,-229 81,-223 87,-223 87,-223 237,-223 237,-223 243,-223 249,-229 249,-235 249,-235 249,-294 249,-294 249,-300 243,-306 237,-306\"/>\n",
       "<text text-anchor=\"middle\" x=\"162\" y=\"-290.8\" font-family=\"Helvetica,sans-Serif\" font-size=\"14.00\" fill=\"#000000\">sepal_length_cm &lt;= 6.25</text>\n",
       "<text text-anchor=\"middle\" x=\"162\" y=\"-275.8\" font-family=\"Helvetica,sans-Serif\" font-size=\"14.00\" fill=\"#000000\">gini = 0.054</text>\n",
       "<text text-anchor=\"middle\" x=\"162\" y=\"-260.8\" font-family=\"Helvetica,sans-Serif\" font-size=\"14.00\" fill=\"#000000\">samples = 23</text>\n",
       "<text text-anchor=\"middle\" x=\"162\" y=\"-245.8\" font-family=\"Helvetica,sans-Serif\" font-size=\"14.00\" fill=\"#000000\">value = [0, 35, 1]</text>\n",
       "<text text-anchor=\"middle\" x=\"162\" y=\"-230.8\" font-family=\"Helvetica,sans-Serif\" font-size=\"14.00\" fill=\"#000000\">class = Iris&#45;versicolor</text>\n",
       "</g>\n",
       "<!-- 2&#45;&gt;3 -->\n",
       "<g id=\"edge3\" class=\"edge\">\n",
       "<title>2&#45;&gt;3</title>\n",
       "<path fill=\"none\" stroke=\"#000000\" d=\"M218.5716,-341.8796C212.1189,-333.0534 205.243,-323.6485 198.5887,-314.5466\"/>\n",
       "<polygon fill=\"#000000\" stroke=\"#000000\" points=\"201.2856,-312.3051 192.5583,-306.2981 195.6347,-316.4364 201.2856,-312.3051\"/>\n",
       "</g>\n",
       "<!-- 8 -->\n",
       "<g id=\"node9\" class=\"node\">\n",
       "<title>8</title>\n",
       "<path fill=\"#8139e5\" stroke=\"#000000\" d=\"M394.5,-298.5C394.5,-298.5 279.5,-298.5 279.5,-298.5 273.5,-298.5 267.5,-292.5 267.5,-286.5 267.5,-286.5 267.5,-242.5 267.5,-242.5 267.5,-236.5 273.5,-230.5 279.5,-230.5 279.5,-230.5 394.5,-230.5 394.5,-230.5 400.5,-230.5 406.5,-236.5 406.5,-242.5 406.5,-242.5 406.5,-286.5 406.5,-286.5 406.5,-292.5 400.5,-298.5 394.5,-298.5\"/>\n",
       "<text text-anchor=\"middle\" x=\"337\" y=\"-283.3\" font-family=\"Helvetica,sans-Serif\" font-size=\"14.00\" fill=\"#000000\">gini = 0.0</text>\n",
       "<text text-anchor=\"middle\" x=\"337\" y=\"-268.3\" font-family=\"Helvetica,sans-Serif\" font-size=\"14.00\" fill=\"#000000\">samples = 22</text>\n",
       "<text text-anchor=\"middle\" x=\"337\" y=\"-253.3\" font-family=\"Helvetica,sans-Serif\" font-size=\"14.00\" fill=\"#000000\">value = [0, 0, 43]</text>\n",
       "<text text-anchor=\"middle\" x=\"337\" y=\"-238.3\" font-family=\"Helvetica,sans-Serif\" font-size=\"14.00\" fill=\"#000000\">class = Iris&#45;virginica</text>\n",
       "</g>\n",
       "<!-- 2&#45;&gt;8 -->\n",
       "<g id=\"edge8\" class=\"edge\">\n",
       "<title>2&#45;&gt;8</title>\n",
       "<path fill=\"none\" stroke=\"#000000\" d=\"M279.7781,-341.8796C288.1536,-330.5536 297.2338,-318.2748 305.6411,-306.9058\"/>\n",
       "<polygon fill=\"#000000\" stroke=\"#000000\" points=\"308.4925,-308.9364 311.6242,-298.8149 302.8643,-304.7743 308.4925,-308.9364\"/>\n",
       "</g>\n",
       "<!-- 4 -->\n",
       "<g id=\"node5\" class=\"node\">\n",
       "<title>4</title>\n",
       "<path fill=\"#39e581\" stroke=\"#000000\" d=\"M136,-179.5C136,-179.5 12,-179.5 12,-179.5 6,-179.5 0,-173.5 0,-167.5 0,-167.5 0,-123.5 0,-123.5 0,-117.5 6,-111.5 12,-111.5 12,-111.5 136,-111.5 136,-111.5 142,-111.5 148,-117.5 148,-123.5 148,-123.5 148,-167.5 148,-167.5 148,-173.5 142,-179.5 136,-179.5\"/>\n",
       "<text text-anchor=\"middle\" x=\"74\" y=\"-164.3\" font-family=\"Helvetica,sans-Serif\" font-size=\"14.00\" fill=\"#000000\">gini = 0.0</text>\n",
       "<text text-anchor=\"middle\" x=\"74\" y=\"-149.3\" font-family=\"Helvetica,sans-Serif\" font-size=\"14.00\" fill=\"#000000\">samples = 17</text>\n",
       "<text text-anchor=\"middle\" x=\"74\" y=\"-134.3\" font-family=\"Helvetica,sans-Serif\" font-size=\"14.00\" fill=\"#000000\">value = [0, 23, 0]</text>\n",
       "<text text-anchor=\"middle\" x=\"74\" y=\"-119.3\" font-family=\"Helvetica,sans-Serif\" font-size=\"14.00\" fill=\"#000000\">class = Iris&#45;versicolor</text>\n",
       "</g>\n",
       "<!-- 3&#45;&gt;4 -->\n",
       "<g id=\"edge4\" class=\"edge\">\n",
       "<title>3&#45;&gt;4</title>\n",
       "<path fill=\"none\" stroke=\"#000000\" d=\"M131.2219,-222.8796C122.8464,-211.5536 113.7662,-199.2748 105.3589,-187.9058\"/>\n",
       "<polygon fill=\"#000000\" stroke=\"#000000\" points=\"108.1357,-185.7743 99.3758,-179.8149 102.5075,-189.9364 108.1357,-185.7743\"/>\n",
       "</g>\n",
       "<!-- 5 -->\n",
       "<g id=\"node6\" class=\"node\">\n",
       "<title>5</title>\n",
       "<path fill=\"#39e581\" fill-opacity=\"0.917647\" stroke=\"#000000\" d=\"M322,-187C322,-187 178,-187 178,-187 172,-187 166,-181 166,-175 166,-175 166,-116 166,-116 166,-110 172,-104 178,-104 178,-104 322,-104 322,-104 328,-104 334,-110 334,-116 334,-116 334,-175 334,-175 334,-181 328,-187 322,-187\"/>\n",
       "<text text-anchor=\"middle\" x=\"250\" y=\"-171.8\" font-family=\"Helvetica,sans-Serif\" font-size=\"14.00\" fill=\"#000000\">sepal_width_cm &lt;= 2.85</text>\n",
       "<text text-anchor=\"middle\" x=\"250\" y=\"-156.8\" font-family=\"Helvetica,sans-Serif\" font-size=\"14.00\" fill=\"#000000\">gini = 0.142</text>\n",
       "<text text-anchor=\"middle\" x=\"250\" y=\"-141.8\" font-family=\"Helvetica,sans-Serif\" font-size=\"14.00\" fill=\"#000000\">samples = 6</text>\n",
       "<text text-anchor=\"middle\" x=\"250\" y=\"-126.8\" font-family=\"Helvetica,sans-Serif\" font-size=\"14.00\" fill=\"#000000\">value = [0, 12, 1]</text>\n",
       "<text text-anchor=\"middle\" x=\"250\" y=\"-111.8\" font-family=\"Helvetica,sans-Serif\" font-size=\"14.00\" fill=\"#000000\">class = Iris&#45;versicolor</text>\n",
       "</g>\n",
       "<!-- 3&#45;&gt;5 -->\n",
       "<g id=\"edge5\" class=\"edge\">\n",
       "<title>3&#45;&gt;5</title>\n",
       "<path fill=\"none\" stroke=\"#000000\" d=\"M192.7781,-222.8796C199.3051,-214.0534 206.2599,-204.6485 212.9908,-195.5466\"/>\n",
       "<polygon fill=\"#000000\" stroke=\"#000000\" points=\"215.9588,-197.4195 219.0905,-187.2981 210.3305,-193.2574 215.9588,-197.4195\"/>\n",
       "</g>\n",
       "<!-- 6 -->\n",
       "<g id=\"node7\" class=\"node\">\n",
       "<title>6</title>\n",
       "<path fill=\"#39e581\" fill-opacity=\"0.749020\" stroke=\"#000000\" d=\"M229,-68C229,-68 105,-68 105,-68 99,-68 93,-62 93,-56 93,-56 93,-12 93,-12 93,-6 99,0 105,0 105,0 229,0 229,0 235,0 241,-6 241,-12 241,-12 241,-56 241,-56 241,-62 235,-68 229,-68\"/>\n",
       "<text text-anchor=\"middle\" x=\"167\" y=\"-52.8\" font-family=\"Helvetica,sans-Serif\" font-size=\"14.00\" fill=\"#000000\">gini = 0.32</text>\n",
       "<text text-anchor=\"middle\" x=\"167\" y=\"-37.8\" font-family=\"Helvetica,sans-Serif\" font-size=\"14.00\" fill=\"#000000\">samples = 3</text>\n",
       "<text text-anchor=\"middle\" x=\"167\" y=\"-22.8\" font-family=\"Helvetica,sans-Serif\" font-size=\"14.00\" fill=\"#000000\">value = [0, 4, 1]</text>\n",
       "<text text-anchor=\"middle\" x=\"167\" y=\"-7.8\" font-family=\"Helvetica,sans-Serif\" font-size=\"14.00\" fill=\"#000000\">class = Iris&#45;versicolor</text>\n",
       "</g>\n",
       "<!-- 5&#45;&gt;6 -->\n",
       "<g id=\"edge6\" class=\"edge\">\n",
       "<title>5&#45;&gt;6</title>\n",
       "<path fill=\"none\" stroke=\"#000000\" d=\"M219.0939,-103.9815C212.3892,-94.9747 205.2892,-85.4367 198.5597,-76.3965\"/>\n",
       "<polygon fill=\"#000000\" stroke=\"#000000\" points=\"201.2845,-74.1953 192.5057,-68.2637 195.6694,-78.3752 201.2845,-74.1953\"/>\n",
       "</g>\n",
       "<!-- 7 -->\n",
       "<g id=\"node8\" class=\"node\">\n",
       "<title>7</title>\n",
       "<path fill=\"#39e581\" stroke=\"#000000\" d=\"M395,-68C395,-68 271,-68 271,-68 265,-68 259,-62 259,-56 259,-56 259,-12 259,-12 259,-6 265,0 271,0 271,0 395,0 395,0 401,0 407,-6 407,-12 407,-12 407,-56 407,-56 407,-62 401,-68 395,-68\"/>\n",
       "<text text-anchor=\"middle\" x=\"333\" y=\"-52.8\" font-family=\"Helvetica,sans-Serif\" font-size=\"14.00\" fill=\"#000000\">gini = 0.0</text>\n",
       "<text text-anchor=\"middle\" x=\"333\" y=\"-37.8\" font-family=\"Helvetica,sans-Serif\" font-size=\"14.00\" fill=\"#000000\">samples = 3</text>\n",
       "<text text-anchor=\"middle\" x=\"333\" y=\"-22.8\" font-family=\"Helvetica,sans-Serif\" font-size=\"14.00\" fill=\"#000000\">value = [0, 8, 0]</text>\n",
       "<text text-anchor=\"middle\" x=\"333\" y=\"-7.8\" font-family=\"Helvetica,sans-Serif\" font-size=\"14.00\" fill=\"#000000\">class = Iris&#45;versicolor</text>\n",
       "</g>\n",
       "<!-- 5&#45;&gt;7 -->\n",
       "<g id=\"edge7\" class=\"edge\">\n",
       "<title>5&#45;&gt;7</title>\n",
       "<path fill=\"none\" stroke=\"#000000\" d=\"M280.9061,-103.9815C287.6108,-94.9747 294.7108,-85.4367 301.4403,-76.3965\"/>\n",
       "<polygon fill=\"#000000\" stroke=\"#000000\" points=\"304.3306,-78.3752 307.4943,-68.2637 298.7155,-74.1953 304.3306,-78.3752\"/>\n",
       "</g>\n",
       "</g>\n",
       "</svg>\n"
      ],
      "text/plain": [
       "<graphviz.files.Source at 0x1a1f1d3400>"
      ]
     },
     "execution_count": 105,
     "metadata": {},
     "output_type": "execute_result"
    }
   ],
   "source": [
    "viz_tree(rfclf.estimators_[4], data['class'].unique(), feature_names_array)"
   ]
  },
  {
   "cell_type": "code",
   "execution_count": 108,
   "metadata": {},
   "outputs": [
    {
     "name": "stdout",
     "output_type": "stream",
     "text": [
      "Paths= \n",
      "{((0, 3, '<=', 0.75), (1, -2, '<=', -2.0))}\n",
      " \n",
      "Simplified Rules= \n",
      "(0, 3, '<=', 0.75)\n",
      " \n",
      "Redundant conditions removed paths= \n",
      "{((0, 3, '<=', 0.75), (1, -2, '<=', -2.0))}\n",
      " \n",
      "Simplified after redudancy rules= \n",
      "(0, 3, '<=', 0.75)\n"
     ]
    }
   ],
   "source": [
    "lst = []\n",
    "t1_paths = set()\n",
    "get_paths_for(\"Iris-setosa\", rfclf.estimators_[4].tree_, 0, lst, t1_paths, '<=')\n",
    "print(\"Paths= \")\n",
    "print(t1_paths)\n",
    "\n",
    "\n",
    "rule_dict = {}\n",
    "var_dict = {}\n",
    "\n",
    "# Simplify rule sets for this rf tree\n",
    "print(\" \")\n",
    "print(\"Simplified Rules= \")\n",
    "print(print_final_rule(simplify_logic(sympify(create_big_or_rule(t1_paths), evaluate=False))))\n",
    "\n",
    "\n",
    "# ------- Redundancy removal ------- #\n",
    "t1_paths = redundancy_condition_removal(t1_paths)\n",
    "print(\" \")\n",
    "print(\"Redundant conditions removed paths= \")\n",
    "print(t1_paths)\n",
    "\n",
    "\n",
    "rule_dict = {}\n",
    "var_dict = {}\n",
    "\n",
    "# Simplify rule sets for this rf tree\n",
    "print(\" \")\n",
    "print(\"Simplified after redudancy rules= \")\n",
    "print(print_final_rule(simplify_logic(sympify(create_big_or_rule(t1_paths), evaluate=False))))"
   ]
  },
  {
   "cell_type": "markdown",
   "metadata": {},
   "source": [
    "## TODO: Skusit urobit funkciu ktoru bude mozno hodit do sympify\n",
    "- Tato funkcia bude brat ako parametre simplified rules a redundancy simplified rules s ktorych urobi dalsi simplify"
   ]
  },
  {
   "cell_type": "code",
   "execution_count": 110,
   "metadata": {},
   "outputs": [
    {
     "data": {
      "text/plain": [
       "{((0, 0, '<=', 5.55), (1, 2, '<=', 2.45), (2, -2, '<=', -2.0)),\n",
       " ((0, 0, '>', 5.55),\n",
       "  (4, 3, '<=', 1.7),\n",
       "  (5, 3, '<=', 0.7),\n",
       "  (6, -2, '<=', -2.0)),\n",
       " ((0, 2, '<=', 2.45), (1, -2, '<=', -2.0)),\n",
       " ((0, 3, '<=', 0.75), (1, -2, '<=', -2.0)),\n",
       " ((0, 3, '<=', 1.7),\n",
       "  (1, 1, '<=', 3.05),\n",
       "  (2, 0, '<=', 4.85),\n",
       "  (3, 2, '<=', 2.95),\n",
       "  (4, -2, '<=', -2.0)),\n",
       " ((0, 3, '<=', 1.7),\n",
       "  (1, 1, '>', 3.05),\n",
       "  (7, 0, '<=', 5.85),\n",
       "  (8, -2, '<=', -2.0)),\n",
       " ((0, 3, '<=', 1.7), (1, 3, '<=', 0.75), (2, -2, '<=', -2.0))}"
      ]
     },
     "execution_count": 110,
     "metadata": {},
     "output_type": "execute_result"
    }
   ],
   "source": [
    "rf_rules_set = combine_rules(\"Iris-setosa\", rfclf)\n",
    "rf_rules_set"
   ]
  },
  {
   "cell_type": "markdown",
   "metadata": {},
   "source": [
    "### Try to get one big rule from all generated rules"
   ]
  },
  {
   "cell_type": "code",
   "execution_count": 111,
   "metadata": {},
   "outputs": [
    {
     "data": {
      "text/plain": [
       "\"(1, 3, '<=', 0.75) | (0, 2, '<=', 2.45) | ((5, 3, '<=', 0.7) & (0, 3, '<=', 1.7) & (0, 0, '>', 5.55)) | ((0, 3, '<=', 1.7) & (7, 0, '<=', 5.85) & (1, 1, '>', 3.05)) | ((3, 2, '<=', 2.95) & (0, 3, '<=', 1.7) & (1, 1, '>', 3.05) & (2, 0, '<=', 4.85))\""
      ]
     },
     "execution_count": 111,
     "metadata": {},
     "output_type": "execute_result"
    }
   ],
   "source": [
    "rule_dict = {}\n",
    "var_dict = {}\n",
    "\n",
    "# First create one big expression from all rules\n",
    "simplified = sympify(create_big_or_rule(rf_rules_set), evaluate=False)\n",
    "\n",
    "# Then, apply simplification function to it.\n",
    "l = simplify_logic(simplified)\n",
    "\n",
    "print_final_rule(l)"
   ]
  },
  {
   "cell_type": "markdown",
   "metadata": {},
   "source": [
    "## Redundancy remove"
   ]
  },
  {
   "cell_type": "code",
   "execution_count": 113,
   "metadata": {},
   "outputs": [
    {
     "data": {
      "text/plain": [
       "{((0, 0, '<=', 5.55), (1, 2, '<=', 2.45), (2, -2, '<=', -2.0)),\n",
       " ((0, 0, '>', 5.55), (4, 3, '<=', 0.7), (6, -2, '<=', -2.0)),\n",
       " ((0, 2, '<=', 2.45), (1, -2, '<=', -2.0)),\n",
       " ((0, 3, '<=', 0.75), (1, -2, '<=', -2.0)),\n",
       " ((0, 3, '<=', 0.75), (2, -2, '<=', -2.0)),\n",
       " ((0, 3, '<=', 1.7),\n",
       "  (1, 1, '<=', 3.05),\n",
       "  (2, 0, '<=', 4.85),\n",
       "  (3, 2, '<=', 2.95),\n",
       "  (4, -2, '<=', -2.0)),\n",
       " ((0, 3, '<=', 1.7),\n",
       "  (1, 1, '>', 3.05),\n",
       "  (7, 0, '<=', 5.85),\n",
       "  (8, -2, '<=', -2.0))}"
      ]
     },
     "execution_count": 113,
     "metadata": {},
     "output_type": "execute_result"
    }
   ],
   "source": [
    "_rf_rules_set = redundancy_condition_removal(rf_rules_set)\n",
    "_rf_rules_set"
   ]
  },
  {
   "cell_type": "markdown",
   "metadata": {},
   "source": [
    "### Try to get one big rule from all redudancy removed rules"
   ]
  },
  {
   "cell_type": "code",
   "execution_count": 114,
   "metadata": {},
   "outputs": [
    {
     "data": {
      "text/plain": [
       "\"(0, 2, '<=', 2.45) | (0, 3, '<=', 0.75) | ((4, 3, '<=', 0.7) & (0, 0, '>', 5.55)) | ((0, 3, '<=', 1.7) & (7, 0, '<=', 5.85) & (1, 1, '>', 3.05)) | ((1, 1, '>', 3.05) & (0, 3, '<=', 1.7) & (2, 0, '<=', 4.85) & (3, 2, '<=', 2.95))\""
      ]
     },
     "execution_count": 114,
     "metadata": {},
     "output_type": "execute_result"
    }
   ],
   "source": [
    "rule_dict = {}\n",
    "var_dict = {}\n",
    "\n",
    "# First create one big expression from all rules\n",
    "simplified = sympify(create_big_or_rule(_rf_rules_set), evaluate=False)\n",
    "\n",
    "# Then, apply simplification function to it.\n",
    "l = simplify_logic(simplified)\n",
    "\n",
    "print_final_rule(l)"
   ]
  },
  {
   "cell_type": "code",
   "execution_count": null,
   "metadata": {},
   "outputs": [],
   "source": []
  },
  {
   "cell_type": "code",
   "execution_count": null,
   "metadata": {},
   "outputs": [],
   "source": []
  },
  {
   "cell_type": "code",
   "execution_count": null,
   "metadata": {},
   "outputs": [],
   "source": []
  },
  {
   "cell_type": "markdown",
   "metadata": {},
   "source": [
    "# Problems\n",
    "1. Extremne pomale\n",
    "2. Nie vzdy po urobeni redundancy removal je redukoanie vyrazu optimalne\n",
    "3. Da sa nieco robit s tym post-rule-prunning\n",
    "4. Hypoteza?\n",
    "5. Redudancy removal z finalenho vyrazu\n",
    "6. Zlucovat podobne vyrazy medzi sebou?\n",
    "    a) (2 <= 5.6) & (1 > 1.5)\n",
    "    b) (2 <= 1.4) & (1 > 1.8)"
   ]
  },
  {
   "cell_type": "markdown",
   "metadata": {},
   "source": [
    "----\n",
    "# Experiment 2"
   ]
  },
  {
   "cell_type": "code",
   "execution_count": null,
   "metadata": {},
   "outputs": [],
   "source": []
  },
  {
   "cell_type": "code",
   "execution_count": null,
   "metadata": {},
   "outputs": [],
   "source": [
    "def test():\n",
    "    pred = []\n",
    "    for el in X[:,2]:\n",
    "        if el <= 2.5:\n",
    "            pred.append(0)\n",
    "        elif el > 2.5 and el <= 4.8:\n",
    "            pred.append(1)\n",
    "        else:\n",
    "            pred.append(2)\n",
    "            \n",
    "    return pred"
   ]
  },
  {
   "cell_type": "code",
   "execution_count": null,
   "metadata": {},
   "outputs": [],
   "source": [
    "test()"
   ]
  },
  {
   "cell_type": "code",
   "execution_count": null,
   "metadata": {},
   "outputs": [],
   "source": [
    "print(accuracy_score(Y_validation, test()))"
   ]
  },
  {
   "cell_type": "code",
   "execution_count": null,
   "metadata": {},
   "outputs": [],
   "source": []
  },
  {
   "cell_type": "code",
   "execution_count": null,
   "metadata": {},
   "outputs": [],
   "source": [
    "# as the depth of each node and whether or not it is a leaf.\n",
    "node_depth = np.zeros(shape=n_nodes, dtype=np.int64)\n",
    "is_leaves = np.zeros(shape=n_nodes, dtype=bool)\n",
    "stack = [(0, -1)]  # seed is the root node id and its parent depth\n",
    "\n",
    "while len(stack) > 0:\n",
    "    node_id, parent_depth = stack.pop()\n",
    "    node_depth[node_id] = parent_depth + 1\n",
    "\n",
    "    # If we have a test node\n",
    "    if (children_left[node_id] != children_right[node_id]):\n",
    "        stack.append((children_left[node_id], parent_depth + 1))\n",
    "        stack.append((children_right[node_id], parent_depth + 1))\n",
    "    else:\n",
    "        is_leaves[node_id] = True\n",
    "\n",
    "        \n",
    "print(\"The binary tree structure has %s nodes and has \"\n",
    "      \"the following tree structure:\"\n",
    "      % n_nodes)\n",
    "for i in range(n_nodes):\n",
    "    if is_leaves[i]:\n",
    "        print(\"%snode=%s leaf node.\" % (\"\\t\", i))\n",
    "    else:\n",
    "        print(\"%snode=%s test node: go to node %s if %s <= %s else to \"\n",
    "              \"node %s.\"\n",
    "              % (\"\\t\",\n",
    "                 i,\n",
    "                 children_left[i],\n",
    "                 feature_names_array[feature[i]],\n",
    "                 threshold[i],\n",
    "                 children_right[i],\n",
    "                 ))\n",
    "print()\n"
   ]
  },
  {
   "cell_type": "code",
   "execution_count": null,
   "metadata": {},
   "outputs": [],
   "source": [
    "node_indicator = clf.decision_path(X_validation)\n",
    "\n",
    "# Similarly, we can also have the leaves ids reached by each sample.\n",
    "\n",
    "leave_id = clf.apply(X_validation)\n",
    "\n",
    "# Now, it's possible to get the tests that were used to predict a sample or\n",
    "# a group of samples. First, let's make it for the sample.\n",
    "\n",
    "sample_id = 3\n",
    "node_index = node_indicator.indices[node_indicator.indptr[sample_id]:\n",
    "                                    node_indicator.indptr[sample_id + 1]]\n",
    "\n",
    "print('Rules used to predict sample %s: ' % sample_id)\n",
    "for node_id in node_index:\n",
    "    if leave_id[sample_id] == node_id:\n",
    "        continue\n",
    "\n",
    "    if (X_validation[sample_id, feature[node_id]] <= threshold[node_id]):\n",
    "        threshold_sign = \"<=\"\n",
    "    else:\n",
    "        threshold_sign = \">\"\n",
    "\n",
    "    print(\"decision id node %s : (X_test[%s, %s] (= %s) %s %s)\"\n",
    "          % (node_id,\n",
    "             sample_id,\n",
    "             feature[node_id],\n",
    "             X_validation[sample_id, feature[node_id]],\n",
    "             threshold_sign,\n",
    "             threshold[node_id]))\n",
    "\n",
    "# For a group of samples, we have the following common node.\n",
    "sample_ids = [0, 1]\n",
    "common_nodes = (node_indicator.toarray()[sample_ids].sum(axis=0) ==\n",
    "                len(sample_ids))\n",
    "\n",
    "common_node_id = np.arange(n_nodes)[common_nodes]\n",
    "\n",
    "print(\"\\nThe following samples %s share the node %s in the tree\"\n",
    "      % (sample_ids, common_node_id))\n",
    "print(\"It is %s %% of all nodes.\" % (100 * len(common_node_id) / n_nodes,))"
   ]
  },
  {
   "cell_type": "code",
   "execution_count": null,
   "metadata": {},
   "outputs": [],
   "source": [
    "7) Diamant dataset."
   ]
  },
  {
   "cell_type": "code",
   "execution_count": null,
   "metadata": {},
   "outputs": [],
   "source": []
  },
  {
   "cell_type": "code",
   "execution_count": 319,
   "metadata": {},
   "outputs": [
    {
     "ename": "SyntaxError",
     "evalue": "invalid syntax (<ipython-input-319-8a4f4dbccb34>, line 1)",
     "output_type": "error",
     "traceback": [
      "\u001b[0;36m  File \u001b[0;32m\"<ipython-input-319-8a4f4dbccb34>\"\u001b[0;36m, line \u001b[0;32m1\u001b[0m\n\u001b[0;31m    ------\u001b[0m\n\u001b[0m          ^\u001b[0m\n\u001b[0;31mSyntaxError\u001b[0m\u001b[0;31m:\u001b[0m invalid syntax\n"
     ]
    }
   ],
   "source": [
    "------\n",
    "1) Co v pripade ked pouzijem AND aby som spojil do jedneho velkeho pravidla, a vznikne negacia? A > 1.7 & A <= 1.7\n",
    "2) Ako vizualizovat viacero atributov (mozno nieco s PCA)? (Answer: data generators - datasets)\n",
    "3) Mal by vizualizovat tie vygenerovane pravidla, alebo predikcie ktore tieto davaju? (2 obrazky cez, alpha)\n",
    "4) Co s vygenerovanymi vizualizaciami?\n",
    "5) Ako skombinovat vsetko (prunning, redundacny removal, ohodnotenie pravidiel) (vizualizacie?)\n",
    "6) Zavisi dolezitost atributu od hlbky kde je pouzity v strome? (dobry napad pre buducnost)\n",
    "7) Diamonds: https://www.kaggle.com/shivam2503/diamonds ?\n",
    "8) Ked mam A * !A tak toto mozem vyhodit?"
   ]
  },
  {
   "cell_type": "code",
   "execution_count": null,
   "metadata": {},
   "outputs": [],
   "source": []
  }
 ],
 "metadata": {
  "kernelspec": {
   "display_name": "Python 3",
   "language": "python",
   "name": "python3"
  },
  "language_info": {
   "codemirror_mode": {
    "name": "ipython",
    "version": 3
   },
   "file_extension": ".py",
   "mimetype": "text/x-python",
   "name": "python",
   "nbconvert_exporter": "python",
   "pygments_lexer": "ipython3",
   "version": "3.7.1"
  }
 },
 "nbformat": 4,
 "nbformat_minor": 2
}
